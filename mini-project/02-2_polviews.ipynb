{
 "cells": [
  {
   "cell_type": "markdown",
   "metadata": {
    "colab_type": "text",
    "id": "Q1ti6gBf2AJo"
   },
   "source": [
    "# Political Alignment Case Study\n",
    "\n",
    "Allen Downey\n",
    "\n",
    "[MIT License](https://en.wikipedia.org/wiki/MIT_License)"
   ]
  },
  {
   "cell_type": "markdown",
   "metadata": {
    "colab_type": "text",
    "id": "TWwZqERg2AJs"
   },
   "source": [
    "### Introduction\n",
    "\n",
    "This is the second in a series of notebooks that make up a case study in exploratory data analysis.\n",
    "\n",
    "In this notebook, we:\n",
    "\n",
    "1. Look at responses to the variable `partyid`, which represent political alignment on a 7-point scale from liberal to conservative.\n",
    "\n",
    "2. Compare the distribution of responses in 1974 and 1990.\n",
    "\n",
    "3. Plot the mean and standard deviation of responses over time as a way of quantifying changes in political alignment and polarization.\n",
    "\n",
    "4. Use local regression to plot a smooth line through noisy data.\n",
    "\n",
    "5. Use cross tabulation to compute the fraction of respondents in each category over time.\n",
    "\n",
    "6. Plot the results using a custom color palette.\n",
    "\n",
    "As an exercise, you will look at changes in political party affiliation over the same period."
   ]
  },
  {
   "cell_type": "markdown",
   "metadata": {
    "colab_type": "text",
    "id": "wUGcUuNf2AJw"
   },
   "source": [
    "### Setup\n",
    "\n",
    "If you are running this notebook in Colab, the following cell downloads the `empiricaldist` library.\n",
    "\n",
    "If you are running in another environment, you will need to install it yourself."
   ]
  },
  {
   "cell_type": "code",
   "execution_count": 30,
   "metadata": {
    "colab": {
     "base_uri": "https://localhost:8080/",
     "height": 54
    },
    "colab_type": "code",
    "executionInfo": {
     "elapsed": 4889,
     "status": "ok",
     "timestamp": 1581569045615,
     "user": {
      "displayName": "Maeve Stites",
      "photoUrl": "https://lh3.googleusercontent.com/a-/AAuE7mCTpLCx642SdWwDWVYliC35_qT41YEhU8YAKFfj=s64",
      "userId": "04581142099517383196"
     },
     "user_tz": 300
    },
    "id": "IycqhIe_2AJx",
    "outputId": "0d118b8b-b609-4621-fdeb-b99c5ba7fb85"
   },
   "outputs": [
    {
     "name": "stdout",
     "output_type": "stream",
     "text": [
      "Requirement already satisfied: empiricaldist in /usr/local/lib/python3.6/dist-packages (0.3.4)\n"
     ]
    }
   ],
   "source": [
    "# If we're running in Colab, set up the environment\n",
    "\n",
    "import sys\n",
    "IN_COLAB = 'google.colab' in sys.modules\n",
    "\n",
    "if IN_COLAB:\n",
    "    !pip install empiricaldist"
   ]
  },
  {
   "cell_type": "markdown",
   "metadata": {
    "colab_type": "text",
    "id": "b2i-3Xtm2AJ7"
   },
   "source": [
    "If everything we need is installed, the following cell should run without error."
   ]
  },
  {
   "cell_type": "code",
   "execution_count": null,
   "metadata": {
    "colab": {},
    "colab_type": "code",
    "id": "SfJU-_qT2AJ_"
   },
   "outputs": [],
   "source": [
    "import pandas as pd\n",
    "import numpy as np\n",
    "import matplotlib.pyplot as plt\n",
    "import seaborn as sns\n",
    "\n",
    "from empiricaldist import Pmf"
   ]
  },
  {
   "cell_type": "markdown",
   "metadata": {
    "colab_type": "text",
    "id": "qIXR8ET82AKF"
   },
   "source": [
    "The following cell defines a function I use to decorate the axes in plots."
   ]
  },
  {
   "cell_type": "code",
   "execution_count": null,
   "metadata": {
    "colab": {},
    "colab_type": "code",
    "id": "R2A3kiFF2AKH"
   },
   "outputs": [],
   "source": [
    "def decorate(**options):\n",
    "    \"\"\"Decorate the current axes.\n",
    "    Call decorate with keyword arguments like\n",
    "    decorate(title='Title',\n",
    "             xlabel='x',\n",
    "             ylabel='y')\n",
    "    The keyword arguments can be any of the axis properties\n",
    "    https://matplotlib.org/api/axes_api.html\n",
    "    \"\"\"\n",
    "    plt.gca().set(**options)\n",
    "    plt.tight_layout()"
   ]
  },
  {
   "cell_type": "markdown",
   "metadata": {
    "colab_type": "text",
    "id": "jI8pI44p2AKN"
   },
   "source": [
    "### Loading the data\n",
    "\n",
    "In the previous notebook, we downloaded GSS data, loaded and cleaned it, resampled it to correct for stratified sampling, and then saved the data in an HDF5 file, which is much faster to load.  In this and the following notebooks, we'll download the HDF5 file and load it.\n",
    "\n",
    "The following cell downloads the file."
   ]
  },
  {
   "cell_type": "code",
   "execution_count": null,
   "metadata": {
    "colab": {},
    "colab_type": "code",
    "id": "26iJY_F72AKQ"
   },
   "outputs": [],
   "source": [
    "# Load the data file\n",
    "\n",
    "import os\n",
    "\n",
    "datafile = 'gss_eda.3.hdf5'\n",
    "if not os.path.exists(datafile):\n",
    "    !wget https://github.com/AllenDowney/PoliticalAlignmentCaseStudy/raw/master/gss_eda.3.hdf5\n"
   ]
  },
  {
   "cell_type": "markdown",
   "metadata": {
    "colab_type": "text",
    "id": "Gr2s7A4W2AKV"
   },
   "source": [
    "This file contains three DataFrames containing resamples of the GSS data.  We'll work with the first resampling, `gss0`, to get started; at the end of this notebook, we'll see the other two as well."
   ]
  },
  {
   "cell_type": "code",
   "execution_count": 34,
   "metadata": {
    "colab": {
     "base_uri": "https://localhost:8080/",
     "height": 34
    },
    "colab_type": "code",
    "executionInfo": {
     "elapsed": 2322,
     "status": "ok",
     "timestamp": 1581569046315,
     "user": {
      "displayName": "Maeve Stites",
      "photoUrl": "https://lh3.googleusercontent.com/a-/AAuE7mCTpLCx642SdWwDWVYliC35_qT41YEhU8YAKFfj=s64",
      "userId": "04581142099517383196"
     },
     "user_tz": 300
    },
    "id": "FCL4T1ea2AKY",
    "outputId": "60138bcc-c528-4d31-dd2d-c3c866013fba"
   },
   "outputs": [
    {
     "data": {
      "text/plain": [
       "(64814, 165)"
      ]
     },
     "execution_count": 34,
     "metadata": {
      "tags": []
     },
     "output_type": "execute_result"
    }
   ],
   "source": [
    "gss = pd.read_hdf(datafile, 'gss0')\n",
    "gss.shape"
   ]
  },
  {
   "cell_type": "markdown",
   "metadata": {
    "colab_type": "text",
    "id": "V9JPkn6c2AKd"
   },
   "source": [
    "## Political alignment\n",
    "\n",
    "The people surveyed as part of the GSS were asked about their \"political alignment\", which is where they place themselves on a spectrum from liberal to conservative.\n",
    "\n",
    "The variable `partyid` contains responses to the [following question](https://gssdataexplorer.norc.org/projects/52787/variables/178/vshow):\n",
    "\n",
    "> We hear a lot of talk these days about liberals and conservatives. \n",
    "I'm going to show you a seven-point scale on which the political views that people might hold are arranged from extremely liberal--point 1--to extremely conservative--point 7. Where would you place yourself on this scale?"
   ]
  },
  {
   "cell_type": "markdown",
   "metadata": {
    "colab_type": "text",
    "id": "PSUGxsTm2AKf"
   },
   "source": [
    "Here are the valid responses:\n",
    "\n",
    "```\n",
    "![image.png](data:image/png;base64,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)1\tExtremely liberal\n",
    "2\tLiberal\n",
    "3\tSlightly liberal\n",
    "4\tModerate\n",
    "5\tSlightly conservative\n",
    "6\tConservative\n",
    "7\tExtremely conservative\n",
    "```\n",
    "\n",
    "To see how the responses have changed over time, we'll inspect them at the beginning and end of the observation period.\n",
    "\n",
    "First I'll select the column."
   ]
  },
  {
   "cell_type": "code",
   "execution_count": null,
   "metadata": {
    "colab": {},
    "colab_type": "code",
    "id": "1nHrVArJ2AKh"
   },
   "outputs": [],
   "source": [
    "partyid = gss['partyid']"
   ]
  },
  {
   "cell_type": "markdown",
   "metadata": {
    "colab_type": "text",
    "id": "RCAR4eRS2AKn"
   },
   "source": [
    "Then compute a Boolean Series that's `True` for responses from 1974."
   ]
  },
  {
   "cell_type": "code",
   "execution_count": null,
   "metadata": {
    "colab": {},
    "colab_type": "code",
    "id": "iP9U8hGh2AKo"
   },
   "outputs": [],
   "source": [
    "year74 = (gss['year'] == 1974)"
   ]
  },
  {
   "cell_type": "markdown",
   "metadata": {
    "colab_type": "text",
    "id": "32UYig922AKu"
   },
   "source": [
    "Now we can select the responses from 1974."
   ]
  },
  {
   "cell_type": "code",
   "execution_count": null,
   "metadata": {
    "colab": {},
    "colab_type": "code",
    "id": "tzEdBOfv2AKw"
   },
   "outputs": [],
   "source": [
    "partyid74 = partyid[year74]"
   ]
  },
  {
   "cell_type": "markdown",
   "metadata": {
    "colab_type": "text",
    "id": "YropHgfO2AK2"
   },
   "source": [
    "As in the previous notebook, we'll use `values` to plot the values in the series and their frequencies."
   ]
  },
  {
   "cell_type": "code",
   "execution_count": null,
   "metadata": {
    "colab": {},
    "colab_type": "code",
    "id": "rN9KkdpO2AK4"
   },
   "outputs": [],
   "source": [
    "def values(series):\n",
    "    \"\"\"Count the values and sort.\n",
    "    \n",
    "    series: pd.Series\n",
    "    \n",
    "    returns: series mapping from values to frequencies\n",
    "    \"\"\"\n",
    "    return series.value_counts().sort_index()"
   ]
  },
  {
   "cell_type": "markdown",
   "metadata": {
    "colab_type": "text",
    "id": "BWT8rIsA2AK_"
   },
   "source": [
    "Here are the responses from 1974."
   ]
  },
  {
   "cell_type": "code",
   "execution_count": 39,
   "metadata": {
    "colab": {
     "base_uri": "https://localhost:8080/",
     "height": 173
    },
    "colab_type": "code",
    "executionInfo": {
     "elapsed": 1548,
     "status": "ok",
     "timestamp": 1581569047590,
     "user": {
      "displayName": "Maeve Stites",
      "photoUrl": "https://lh3.googleusercontent.com/a-/AAuE7mCTpLCx642SdWwDWVYliC35_qT41YEhU8YAKFfj=s64",
      "userId": "04581142099517383196"
     },
     "user_tz": 300
    },
    "id": "eW3o5fb72ALA",
    "outputId": "9661570d-cadf-46e4-fc13-3b09348aa23f"
   },
   "outputs": [
    {
     "data": {
      "text/plain": [
       "0.0    273\n",
       "1.0    394\n",
       "2.0    173\n",
       "3.0    130\n",
       "4.0    102\n",
       "5.0    203\n",
       "6.0    112\n",
       "7.0     68\n",
       "Name: partyid, dtype: int64"
      ]
     },
     "execution_count": 39,
     "metadata": {
      "tags": []
     },
     "output_type": "execute_result"
    }
   ],
   "source": [
    "values(partyid74)"
   ]
  },
  {
   "cell_type": "markdown",
   "metadata": {
    "colab_type": "text",
    "id": "ewFYeKBw2ALE"
   },
   "source": [
    "And here are the responses from 2018."
   ]
  },
  {
   "cell_type": "code",
   "execution_count": 40,
   "metadata": {
    "colab": {
     "base_uri": "https://localhost:8080/",
     "height": 173
    },
    "colab_type": "code",
    "executionInfo": {
     "elapsed": 1446,
     "status": "ok",
     "timestamp": 1581569047591,
     "user": {
      "displayName": "Maeve Stites",
      "photoUrl": "https://lh3.googleusercontent.com/a-/AAuE7mCTpLCx642SdWwDWVYliC35_qT41YEhU8YAKFfj=s64",
      "userId": "04581142099517383196"
     },
     "user_tz": 300
    },
    "id": "FRlyyLzq2ALH",
    "outputId": "5ffff7e7-7182-4f04-a367-3fa734a34bb7"
   },
   "outputs": [
    {
     "data": {
      "text/plain": [
       "0.0    318\n",
       "1.0    367\n",
       "2.0    313\n",
       "3.0    408\n",
       "4.0    290\n",
       "5.0    276\n",
       "6.0    249\n",
       "7.0     89\n",
       "Name: partyid, dtype: int64"
      ]
     },
     "execution_count": 40,
     "metadata": {
      "tags": []
     },
     "output_type": "execute_result"
    }
   ],
   "source": [
    "year18 = (gss['year'] == 2018)\n",
    "partyid18 = partyid[year18]\n",
    "values(partyid18)"
   ]
  },
  {
   "cell_type": "markdown",
   "metadata": {
    "colab_type": "text",
    "id": "PPV0Q1Vb2ALL"
   },
   "source": [
    "## PMFs\n",
    "\n",
    "To visualize these distributions, we'll use the Probability Mass Function (PMF), which is similar to a histogram.  The difference is that the PMF is \"normalized\", which means that it shows the percentage of people who gave each response, rather than the number.\n",
    "\n",
    "I use the `Pmf` class from `empiricaldist` to compute them."
   ]
  },
  {
   "cell_type": "code",
   "execution_count": null,
   "metadata": {
    "colab": {},
    "colab_type": "code",
    "id": "MdN8JZtI2ALM"
   },
   "outputs": [],
   "source": [
    "from empiricaldist import Pmf"
   ]
  },
  {
   "cell_type": "markdown",
   "metadata": {
    "colab_type": "text",
    "id": "ySGWKyPN2ALT"
   },
   "source": [
    "Here's the distribution from 1974:"
   ]
  },
  {
   "cell_type": "code",
   "execution_count": 42,
   "metadata": {
    "colab": {
     "base_uri": "https://localhost:8080/",
     "height": 297
    },
    "colab_type": "code",
    "executionInfo": {
     "elapsed": 2491,
     "status": "ok",
     "timestamp": 1581569048954,
     "user": {
      "displayName": "Maeve Stites",
      "photoUrl": "https://lh3.googleusercontent.com/a-/AAuE7mCTpLCx642SdWwDWVYliC35_qT41YEhU8YAKFfj=s64",
      "userId": "04581142099517383196"
     },
     "user_tz": 300
    },
    "id": "vy8CNexj2ALV",
    "outputId": "4e7c933c-6852-4f24-e18c-39ef40e0b1e5"
   },
   "outputs": [
    {
     "data": {
      "image/png": "[encoded data removed]",
      "text/plain": [
       "<Figure size 432x288 with 1 Axes>"
      ]
     },
     "metadata": {
      "tags": []
     },
     "output_type": "display_data"
    }
   ],
   "source": [
    "pmf74 = Pmf.from_seq(partyid74)\n",
    "pmf74.bar(label='1974', color='C0', alpha=0.7)\n",
    "\n",
    "decorate(xlabel='Political view on a 7-point scale',\n",
    "         ylabel='Fraction of population',\n",
    "         title='Distribution of political views')\n",
    "\n",
    "plt.legend();"
   ]
  },
  {
   "cell_type": "markdown",
   "metadata": {
    "colab_type": "text",
    "id": "EefGnpQ92ALY"
   },
   "source": [
    "Here's the distribution from 1974:"
   ]
  },
  {
   "cell_type": "code",
   "execution_count": 43,
   "metadata": {
    "colab": {
     "base_uri": "https://localhost:8080/",
     "height": 297
    },
    "colab_type": "code",
    "executionInfo": {
     "elapsed": 3404,
     "status": "ok",
     "timestamp": 1581569050131,
     "user": {
      "displayName": "Maeve Stites",
      "photoUrl": "https://lh3.googleusercontent.com/a-/AAuE7mCTpLCx642SdWwDWVYliC35_qT41YEhU8YAKFfj=s64",
      "userId": "04581142099517383196"
     },
     "user_tz": 300
    },
    "id": "CrkWPhxJ2ALZ",
    "outputId": "a55de7c4-8ec1-44de-9928-d29e3ef1baf4"
   },
   "outputs": [
    {
     "data": {
      "image/png": "[encoded data removed]",
      "text/plain": [
       "<Figure size 432x288 with 1 Axes>"
      ]
     },
     "metadata": {
      "tags": []
     },
     "output_type": "display_data"
    }
   ],
   "source": [
    "pmf18 = Pmf.from_seq(partyid18)\n",
    "pmf18.bar(label='2018', color='C1', alpha=0.7)\n",
    "\n",
    "decorate(xlabel='Political view on a 7-point scale',\n",
    "         ylabel='Fraction of population',\n",
    "         title='Distribution of political views')\n",
    "\n",
    "plt.legend();"
   ]
  },
  {
   "cell_type": "markdown",
   "metadata": {
    "colab_type": "text",
    "id": "QabcoCN92ALd"
   },
   "source": [
    "In both cases, the most common response is `4`, which is the code for \"moderate\".  And few respondents describe themselves as \"extremely\" liberal or conservative.\n",
    "\n",
    "So maybe we're not so polarized after all.\n",
    "\n",
    "To make it easier to compare the distributions, I'll plot them side by side.  "
   ]
  },
  {
   "cell_type": "code",
   "execution_count": 44,
   "metadata": {
    "colab": {
     "base_uri": "https://localhost:8080/",
     "height": 297
    },
    "colab_type": "code",
    "executionInfo": {
     "elapsed": 3270,
     "status": "ok",
     "timestamp": 1581569050133,
     "user": {
      "displayName": "Maeve Stites",
      "photoUrl": "https://lh3.googleusercontent.com/a-/AAuE7mCTpLCx642SdWwDWVYliC35_qT41YEhU8YAKFfj=s64",
      "userId": "04581142099517383196"
     },
     "user_tz": 300
    },
    "id": "GSLj0DQB2ALe",
    "outputId": "4c403d66-39d1-4c6a-93df-2efe13445685"
   },
   "outputs": [
    {
     "data": {
      "image/png": "[encoded data removed]",
      "text/plain": [
       "<Figure size 432x288 with 1 Axes>"
      ]
     },
     "metadata": {
      "tags": []
     },
     "output_type": "display_data"
    }
   ],
   "source": [
    "pmf74.bar(label='1974', width=-0.45, align='edge', alpha=0.7)\n",
    "\n",
    "pmf18.bar(label='2018', width=0.45, align='edge', alpha=0.7)\n",
    "\n",
    "decorate(xlabel='Party Association',\n",
    "         ylabel='Fraction of population',\n",
    "         title='Distribution of Political Party')\n",
    "\n",
    "plt.legend();"
   ]
  },
  {
   "cell_type": "markdown",
   "metadata": {
    "colab_type": "text",
    "id": "XloXC8uC2ALh"
   },
   "source": [
    "Now we can see the changes in the distribution more clearly.  It looks like the number of people at the extremes (1 and 7) has increased, and the fraction of liberal (2) and slightly liberal (3) has decreased."
   ]
  },
  {
   "cell_type": "markdown",
   "metadata": {
    "colab_type": "text",
    "id": "NGH2YE9y2ALk"
   },
   "source": [
    "**Exercise:** To summarize these changes, we can compare the mean and standard deviation of `partyid` in 1974 and 2018.\n",
    "\n",
    "The mean of the responses measures the balance of people in the population with liberal or conservative leanings.  If the mean increases over time, that might indicate a shift in the population toward conservatism.\n",
    "\n",
    "The standard deviation measures the dispersion of views in the population; if it increases over time, that might indicate an increase in polarization.\n",
    "\n",
    "Compute the mean and standard deviation of `partyid74` and `partyid18`.\n",
    "\n",
    "What do they indicate about changes over this interval?"
   ]
  },
  {
   "cell_type": "code",
   "execution_count": 45,
   "metadata": {
    "colab": {
     "base_uri": "https://localhost:8080/",
     "height": 34
    },
    "colab_type": "code",
    "executionInfo": {
     "elapsed": 3096,
     "status": "ok",
     "timestamp": 1581569050133,
     "user": {
      "displayName": "Maeve Stites",
      "photoUrl": "https://lh3.googleusercontent.com/a-/AAuE7mCTpLCx642SdWwDWVYliC35_qT41YEhU8YAKFfj=s64",
      "userId": "04581142099517383196"
     },
     "user_tz": 300
    },
    "id": "10zMekdV2ALl",
    "outputId": "cb957cbd-1fad-45da-f87b-9cb1e10eebc2"
   },
   "outputs": [
    {
     "data": {
      "text/plain": [
       "2.543642520904541"
      ]
     },
     "execution_count": 45,
     "metadata": {
      "tags": []
     },
     "output_type": "execute_result"
    }
   ],
   "source": [
    "partyid74.mean()"
   ]
  },
  {
   "cell_type": "code",
   "execution_count": 46,
   "metadata": {
    "colab": {
     "base_uri": "https://localhost:8080/",
     "height": 34
    },
    "colab_type": "code",
    "executionInfo": {
     "elapsed": 3020,
     "status": "ok",
     "timestamp": 1581569050134,
     "user": {
      "displayName": "Maeve Stites",
      "photoUrl": "https://lh3.googleusercontent.com/a-/AAuE7mCTpLCx642SdWwDWVYliC35_qT41YEhU8YAKFfj=s64",
      "userId": "04581142099517383196"
     },
     "user_tz": 300
    },
    "id": "JKPbTbnuyWWx",
    "outputId": "7b9872e5-db3a-4ad8-ea33-9467df65d7d3"
   },
   "outputs": [
    {
     "data": {
      "text/plain": [
       "2.975757598876953"
      ]
     },
     "execution_count": 46,
     "metadata": {
      "tags": []
     },
     "output_type": "execute_result"
    }
   ],
   "source": [
    "partyid18.mean()"
   ]
  },
  {
   "cell_type": "code",
   "execution_count": 47,
   "metadata": {
    "colab": {
     "base_uri": "https://localhost:8080/",
     "height": 34
    },
    "colab_type": "code",
    "executionInfo": {
     "elapsed": 2927,
     "status": "ok",
     "timestamp": 1581569050134,
     "user": {
      "displayName": "Maeve Stites",
      "photoUrl": "https://lh3.googleusercontent.com/a-/AAuE7mCTpLCx642SdWwDWVYliC35_qT41YEhU8YAKFfj=s64",
      "userId": "04581142099517383196"
     },
     "user_tz": 300
    },
    "id": "MqMiFCS-2ALs",
    "outputId": "fd725130-186d-4e52-a6dd-f9c8f71ab091"
   },
   "outputs": [
    {
     "data": {
      "text/plain": [
       "2.1804733276367188"
      ]
     },
     "execution_count": 47,
     "metadata": {
      "tags": []
     },
     "output_type": "execute_result"
    }
   ],
   "source": [
    "partyid74.std()"
   ]
  },
  {
   "cell_type": "code",
   "execution_count": 48,
   "metadata": {
    "colab": {
     "base_uri": "https://localhost:8080/",
     "height": 34
    },
    "colab_type": "code",
    "executionInfo": {
     "elapsed": 2874,
     "status": "ok",
     "timestamp": 1581569050135,
     "user": {
      "displayName": "Maeve Stites",
      "photoUrl": "https://lh3.googleusercontent.com/a-/AAuE7mCTpLCx642SdWwDWVYliC35_qT41YEhU8YAKFfj=s64",
      "userId": "04581142099517383196"
     },
     "user_tz": 300
    },
    "id": "1cv3pUGkyL0B",
    "outputId": "5017a245-a6d6-484d-9a73-19821f60265d"
   },
   "outputs": [
    {
     "data": {
      "text/plain": [
       "2.049697160720825"
      ]
     },
     "execution_count": 48,
     "metadata": {
      "tags": []
     },
     "output_type": "execute_result"
    }
   ],
   "source": [
    "partyid18.std()"
   ]
  },
  {
   "cell_type": "markdown",
   "metadata": {
    "colab_type": "text",
    "id": "ddY92Mo5ypEJ"
   },
   "source": [
    "The population, on average (by mean) are more conservative identifying. The standard deviation has gotten larger, suggesting an increase in polarization."
   ]
  },
  {
   "cell_type": "markdown",
   "metadata": {
    "colab_type": "text",
    "id": "2-xjK1212ALw"
   },
   "source": [
    "## Time series\n",
    "\n",
    "At this point we have looked at the endpoints, 1974 and 2018, but we don't know what happened in between.\n",
    "\n",
    "To see how the distribution changes over time, we can group by year and compute the mean of `partyid` during each year.\n",
    "\n",
    "First I'll use `groupby` to group the respondents by year."
   ]
  },
  {
   "cell_type": "code",
   "execution_count": 49,
   "metadata": {
    "colab": {
     "base_uri": "https://localhost:8080/",
     "height": 34
    },
    "colab_type": "code",
    "executionInfo": {
     "elapsed": 2556,
     "status": "ok",
     "timestamp": 1581569050135,
     "user": {
      "displayName": "Maeve Stites",
      "photoUrl": "https://lh3.googleusercontent.com/a-/AAuE7mCTpLCx642SdWwDWVYliC35_qT41YEhU8YAKFfj=s64",
      "userId": "04581142099517383196"
     },
     "user_tz": 300
    },
    "id": "rXE18YvK2ALx",
    "outputId": "d296ca71-77a4-4500-b4e1-04affa410d11"
   },
   "outputs": [
    {
     "data": {
      "text/plain": [
       "<pandas.core.groupby.generic.DataFrameGroupBy object at 0x7fb78f2f09b0>"
      ]
     },
     "execution_count": 49,
     "metadata": {
      "tags": []
     },
     "output_type": "execute_result"
    }
   ],
   "source": [
    "gss_by_year = gss.groupby('year')\n",
    "gss_by_year"
   ]
  },
  {
   "cell_type": "markdown",
   "metadata": {
    "colab_type": "text",
    "id": "jCD9JCAc2AL0"
   },
   "source": [
    "The result is a `DataFrameGroupBy` value that represents a collection of groups.  We can loop through the groups and display the number of respondents in each:"
   ]
  },
  {
   "cell_type": "code",
   "execution_count": 50,
   "metadata": {
    "colab": {
     "base_uri": "https://localhost:8080/",
     "height": 573
    },
    "colab_type": "code",
    "executionInfo": {
     "elapsed": 2389,
     "status": "ok",
     "timestamp": 1581569050136,
     "user": {
      "displayName": "Maeve Stites",
      "photoUrl": "https://lh3.googleusercontent.com/a-/AAuE7mCTpLCx642SdWwDWVYliC35_qT41YEhU8YAKFfj=s64",
      "userId": "04581142099517383196"
     },
     "user_tz": 300
    },
    "id": "jzXbvGGE2AL1",
    "outputId": "c1d524f0-f6f2-4796-9ec3-de41d3c000a2"
   },
   "outputs": [
    {
     "name": "stdout",
     "output_type": "stream",
     "text": [
      "1972 1613\n",
      "1973 1504\n",
      "1974 1484\n",
      "1975 1490\n",
      "1976 1499\n",
      "1977 1530\n",
      "1978 1532\n",
      "1980 1468\n",
      "1982 1860\n",
      "1983 1599\n",
      "1984 1473\n",
      "1985 1534\n",
      "1986 1470\n",
      "1987 1819\n",
      "1988 1481\n",
      "1989 1537\n",
      "1990 1372\n",
      "1991 1517\n",
      "1993 1606\n",
      "1994 2992\n",
      "1996 2904\n",
      "1998 2832\n",
      "2000 2817\n",
      "2002 2765\n",
      "2004 2812\n",
      "2006 4510\n",
      "2008 2023\n",
      "2010 2044\n",
      "2012 1974\n",
      "2014 2538\n",
      "2016 2867\n",
      "2018 2348\n"
     ]
    }
   ],
   "source": [
    "for year, group in gss_by_year:\n",
    "    print(year, len(group))"
   ]
  },
  {
   "cell_type": "markdown",
   "metadata": {
    "colab_type": "text",
    "id": "ySHCvxsI2AL4"
   },
   "source": [
    "In many ways the `DataFrameGroupBy` behaves like a DataFrame.  We can use the bracket operator to select a column: "
   ]
  },
  {
   "cell_type": "code",
   "execution_count": 51,
   "metadata": {
    "colab": {
     "base_uri": "https://localhost:8080/",
     "height": 34
    },
    "colab_type": "code",
    "executionInfo": {
     "elapsed": 2235,
     "status": "ok",
     "timestamp": 1581569050137,
     "user": {
      "displayName": "Maeve Stites",
      "photoUrl": "https://lh3.googleusercontent.com/a-/AAuE7mCTpLCx642SdWwDWVYliC35_qT41YEhU8YAKFfj=s64",
      "userId": "04581142099517383196"
     },
     "user_tz": 300
    },
    "id": "PEGEO9Ah2AL5",
    "outputId": "35dc73e9-b0f1-46bb-b3c2-765dd9c727bf"
   },
   "outputs": [
    {
     "data": {
      "text/plain": [
       "<pandas.core.groupby.generic.SeriesGroupBy object at 0x7fb78f1d4080>"
      ]
     },
     "execution_count": 51,
     "metadata": {
      "tags": []
     },
     "output_type": "execute_result"
    }
   ],
   "source": [
    "partyid_by_year = gss_by_year['partyid']\n",
    "partyid_by_year"
   ]
  },
  {
   "cell_type": "markdown",
   "metadata": {
    "colab_type": "text",
    "id": "cnHJebze2AL-"
   },
   "source": [
    "A column from a `DataFrameGroupBy` is a `SeriesGroupBy`.  If we invoke `mean` on it, the results is a series that contains the mean of `partyid` for each year of the survey."
   ]
  },
  {
   "cell_type": "code",
   "execution_count": null,
   "metadata": {
    "colab": {},
    "colab_type": "code",
    "id": "knKPbMWC2AL_"
   },
   "outputs": [],
   "source": [
    "mean_series = partyid_by_year.mean()"
   ]
  },
  {
   "cell_type": "markdown",
   "metadata": {
    "colab_type": "text",
    "id": "aKBTgMFo2AMC"
   },
   "source": [
    "And here's what it looks like."
   ]
  },
  {
   "cell_type": "code",
   "execution_count": 53,
   "metadata": {
    "colab": {
     "base_uri": "https://localhost:8080/",
     "height": 297
    },
    "colab_type": "code",
    "executionInfo": {
     "elapsed": 1930,
     "status": "ok",
     "timestamp": 1581569050138,
     "user": {
      "displayName": "Maeve Stites",
      "photoUrl": "https://lh3.googleusercontent.com/a-/AAuE7mCTpLCx642SdWwDWVYliC35_qT41YEhU8YAKFfj=s64",
      "userId": "04581142099517383196"
     },
     "user_tz": 300
    },
    "id": "1IpOOtK_2AMC",
    "outputId": "b1b9b5a4-2273-4950-8f8f-1d9ee3653354"
   },
   "outputs": [
    {
     "data": {
      "image/png": "[encoded data removed]",
      "text/plain": [
       "<Figure size 432x288 with 1 Axes>"
      ]
     },
     "metadata": {
      "tags": []
     },
     "output_type": "display_data"
    }
   ],
   "source": [
    "mean_series.plot(color='C2', label='partyid')\n",
    "decorate(xlabel='Year', \n",
    "         ylabel='Mean (7 point scale)',\n",
    "         title='Mean of partyid')"
   ]
  },
  {
   "cell_type": "markdown",
   "metadata": {
    "colab_type": "text",
    "id": "vqnCzGnK2AMF"
   },
   "source": [
    "**Exercise:** The standard deviation quantifies the spread of the distribution, which is one way to measure polarization.\n",
    "\n",
    "Plot standard deviation of `partyid` for each year of the survey from 1972 to 2018.\n",
    "\n",
    "Does it show evidence of increasing polarization?"
   ]
  },
  {
   "cell_type": "code",
   "execution_count": 54,
   "metadata": {
    "colab": {
     "base_uri": "https://localhost:8080/",
     "height": 297
    },
    "colab_type": "code",
    "executionInfo": {
     "elapsed": 3173,
     "status": "ok",
     "timestamp": 1581569051546,
     "user": {
      "displayName": "Maeve Stites",
      "photoUrl": "https://lh3.googleusercontent.com/a-/AAuE7mCTpLCx642SdWwDWVYliC35_qT41YEhU8YAKFfj=s64",
      "userId": "04581142099517383196"
     },
     "user_tz": 300
    },
    "id": "Dcacs6LP2AMG",
    "outputId": "d7559d30-8503-41f9-811c-cc431ab69e53"
   },
   "outputs": [
    {
     "data": {
      "image/png": "[encoded data removed]",
      "text/plain": [
       "<Figure size 432x288 with 1 Axes>"
      ]
     },
     "metadata": {
      "tags": []
     },
     "output_type": "display_data"
    }
   ],
   "source": [
    "std_series = partyid_by_year.std()\n",
    "std_series.plot(label = 'partyid')\n",
    "decorate(xlabel = 'Year',\n",
    "         ylabel = 'Standard Deviation',\n",
    "         title = 'Standard Deviation of partyid')"
   ]
  },
  {
   "cell_type": "markdown",
   "metadata": {
    "colab_type": "text",
    "id": "r-Y7oI4w2AMK"
   },
   "source": [
    "### Local regression\n",
    "\n",
    "In the previous section we plotted mean and standard deviation of `partyid` over time.  Both plots are quite noisy.\n",
    "\n",
    "We can use [local regression](https://en.wikipedia.org/wiki/Local_regression) to compute a smooth line through these data points.  \n",
    "\n",
    "The following function takes a Pandas Series and uses and algorithm called LOWESS to compute a smooth line.  LOWESS stands for \"locally weighted scatterplot smoothing\"."
   ]
  },
  {
   "cell_type": "code",
   "execution_count": null,
   "metadata": {
    "colab": {},
    "colab_type": "code",
    "id": "979mxhn12AMK"
   },
   "outputs": [],
   "source": [
    "from statsmodels.nonparametric.smoothers_lowess import lowess\n",
    "\n",
    "def make_lowess(series):\n",
    "    \"\"\"Use LOWESS to compute a smooth line.\n",
    "    \n",
    "    series: pd.Series\n",
    "    \n",
    "    returns: pd.Series\n",
    "    \"\"\"\n",
    "    y = series.values\n",
    "    x = series.index.values\n",
    "\n",
    "    smooth = lowess(y, x)\n",
    "    index, data = np.transpose(smooth)\n",
    "\n",
    "    return pd.Series(data, index=index) "
   ]
  },
  {
   "cell_type": "markdown",
   "metadata": {
    "colab_type": "text",
    "id": "_tr1EGv92AMN"
   },
   "source": [
    "We'll use the following function to plot data points and the smoothed line."
   ]
  },
  {
   "cell_type": "code",
   "execution_count": null,
   "metadata": {
    "colab": {},
    "colab_type": "code",
    "id": "ef8Ek_iR2AMN"
   },
   "outputs": [],
   "source": [
    "def plot_series_lowess(series, color):\n",
    "    \"\"\"Plots a series of data points and a smooth line.\n",
    "    \n",
    "    series: pd.Series\n",
    "    color: string or tuple\n",
    "    \"\"\"\n",
    "    series.plot(linewidth=0, marker='o', color=color, alpha=0.5)\n",
    "    smooth = make_lowess(series)\n",
    "    smooth.plot(label='_', color=color)"
   ]
  },
  {
   "cell_type": "markdown",
   "metadata": {
    "colab_type": "text",
    "id": "dsY6AG3x2AMQ"
   },
   "source": [
    "The following figure shows the mean of `partyid` and a smooth line."
   ]
  },
  {
   "cell_type": "code",
   "execution_count": 57,
   "metadata": {
    "colab": {
     "base_uri": "https://localhost:8080/",
     "height": 297
    },
    "colab_type": "code",
    "executionInfo": {
     "elapsed": 4277,
     "status": "ok",
     "timestamp": 1581569053029,
     "user": {
      "displayName": "Maeve Stites",
      "photoUrl": "https://lh3.googleusercontent.com/a-/AAuE7mCTpLCx642SdWwDWVYliC35_qT41YEhU8YAKFfj=s64",
      "userId": "04581142099517383196"
     },
     "user_tz": 300
    },
    "id": "HiV6TmDF2AMR",
    "outputId": "f50caf21-84f7-41c6-8da0-1b2deeb099fc"
   },
   "outputs": [
    {
     "data": {
      "image/png": "[encoded data removed]",
      "text/plain": [
       "<Figure size 432x288 with 1 Axes>"
      ]
     },
     "metadata": {
      "tags": []
     },
     "output_type": "display_data"
    }
   ],
   "source": [
    "mean_series = gss_by_year['partyid'].mean()\n",
    "plot_series_lowess(mean_series, 'C2')\n",
    "decorate(ylabel='Mean (7 point scale)',\n",
    "         title='Mean of partyid',\n",
    "         xlabel='Year',\n",
    "         xlim=[1972, 2020])"
   ]
  },
  {
   "cell_type": "markdown",
   "metadata": {
    "colab_type": "text",
    "id": "_xRvVW8o2AMU"
   },
   "source": [
    "One reason the PMFs for 1974 and 2018 did not look very different is that the mean seems to have gone up (more conservative) and then down again (more liberal).\n",
    "\n",
    "Generally, it looks like the U.S. has been trending toward liberal for the last 20 years, or more, at least in the sense of how people describe themselves."
   ]
  },
  {
   "cell_type": "markdown",
   "metadata": {
    "colab_type": "text",
    "id": "hCd-EhUE2AMU"
   },
   "source": [
    "**Exercise:** Use `plot_series_lowess` to plot the standard deviation of `partyid` with a smooth line."
   ]
  },
  {
   "cell_type": "code",
   "execution_count": 58,
   "metadata": {
    "colab": {
     "base_uri": "https://localhost:8080/",
     "height": 297
    },
    "colab_type": "code",
    "executionInfo": {
     "elapsed": 4084,
     "status": "ok",
     "timestamp": 1581569053030,
     "user": {
      "displayName": "Maeve Stites",
      "photoUrl": "https://lh3.googleusercontent.com/a-/AAuE7mCTpLCx642SdWwDWVYliC35_qT41YEhU8YAKFfj=s64",
      "userId": "04581142099517383196"
     },
     "user_tz": 300
    },
    "id": "QTRTC7vc2AMV",
    "outputId": "87c868e8-7aba-4a71-9b43-669a73d3ec27"
   },
   "outputs": [
    {
     "data": {
      "image/png": "[encoded data removed]",
      "text/plain": [
       "<Figure size 432x288 with 1 Axes>"
      ]
     },
     "metadata": {
      "tags": []
     },
     "output_type": "display_data"
    }
   ],
   "source": [
    "std_series = gss_by_year['partyid'].std()\n",
    "plot_series_lowess(std_series, 'C2')\n",
    "decorate(ylabel='Standard Deviation',\n",
    "         title='Standard Deviation of partyid',\n",
    "         xlabel='Year',\n",
    "         xlim=[1972, 2020])"
   ]
  },
  {
   "cell_type": "markdown",
   "metadata": {
    "colab_type": "text",
    "id": "Acs4hdhS2AMY"
   },
   "source": [
    "## Cross tabulation\n",
    "\n",
    "In the previous sections, we treated `partyid` as a numerical quantity, so we were able to compute means and standard deviations.\n",
    "\n",
    "But the responses are really categorical, which means that each value represents a discrete category, like \"liberal\" or \"conservative\".  \n",
    "\n",
    "In this section, we'll treat `partyid` as a categorical variable.  Specifically, we'll compute the number of respondents in each category for each year, and plot changes over time.\n",
    "\n",
    "Pandas provides a function called `crosstab` that computes a [cross tabulation](https://en.wikipedia.org/wiki/Contingency_table).\n",
    "\n",
    "It takes two Series as arguments and returns a DataFrame."
   ]
  },
  {
   "cell_type": "code",
   "execution_count": null,
   "metadata": {
    "colab": {},
    "colab_type": "code",
    "id": "HgWoG5CC2AMY"
   },
   "outputs": [],
   "source": [
    "year = gss['year']\n",
    "column = gss['partyid']\n",
    "\n",
    "xtab = pd.crosstab(year, column)"
   ]
  },
  {
   "cell_type": "markdown",
   "metadata": {
    "colab_type": "text",
    "id": "p30vy9D72AMa"
   },
   "source": [
    "Here are the first few lines from the result."
   ]
  },
  {
   "cell_type": "code",
   "execution_count": 60,
   "metadata": {
    "colab": {
     "base_uri": "https://localhost:8080/",
     "height": 237
    },
    "colab_type": "code",
    "executionInfo": {
     "elapsed": 3734,
     "status": "ok",
     "timestamp": 1581569053031,
     "user": {
      "displayName": "Maeve Stites",
      "photoUrl": "https://lh3.googleusercontent.com/a-/AAuE7mCTpLCx642SdWwDWVYliC35_qT41YEhU8YAKFfj=s64",
      "userId": "04581142099517383196"
     },
     "user_tz": 300
    },
    "id": "TcmPcrAj2AMb",
    "outputId": "02863be9-0531-40af-8709-ca2faea85492"
   },
   "outputs": [
    {
     "data": {
      "text/html": [
       "<div>\n",
       "<style scoped>\n",
       "    .dataframe tbody tr th:only-of-type {\n",
       "        vertical-align: middle;\n",
       "    }\n",
       "\n",
       "    .dataframe tbody tr th {\n",
       "        vertical-align: top;\n",
       "    }\n",
       "\n",
       "    .dataframe thead th {\n",
       "        text-align: right;\n",
       "    }\n",
       "</style>\n",
       "<table border=\"1\" class=\"dataframe\">\n",
       "  <thead>\n",
       "    <tr style=\"text-align: right;\">\n",
       "      <th>partyid</th>\n",
       "      <th>0.0</th>\n",
       "      <th>1.0</th>\n",
       "      <th>2.0</th>\n",
       "      <th>3.0</th>\n",
       "      <th>4.0</th>\n",
       "      <th>5.0</th>\n",
       "      <th>6.0</th>\n",
       "      <th>7.0</th>\n",
       "    </tr>\n",
       "    <tr>\n",
       "      <th>year</th>\n",
       "      <th></th>\n",
       "      <th></th>\n",
       "      <th></th>\n",
       "      <th></th>\n",
       "      <th></th>\n",
       "      <th></th>\n",
       "      <th></th>\n",
       "      <th></th>\n",
       "    </tr>\n",
       "  </thead>\n",
       "  <tbody>\n",
       "    <tr>\n",
       "      <th>1972</th>\n",
       "      <td>341</td>\n",
       "      <td>448</td>\n",
       "      <td>147</td>\n",
       "      <td>146</td>\n",
       "      <td>84</td>\n",
       "      <td>250</td>\n",
       "      <td>132</td>\n",
       "      <td>59</td>\n",
       "    </tr>\n",
       "    <tr>\n",
       "      <th>1973</th>\n",
       "      <td>226</td>\n",
       "      <td>372</td>\n",
       "      <td>195</td>\n",
       "      <td>140</td>\n",
       "      <td>141</td>\n",
       "      <td>229</td>\n",
       "      <td>101</td>\n",
       "      <td>87</td>\n",
       "    </tr>\n",
       "    <tr>\n",
       "      <th>1974</th>\n",
       "      <td>273</td>\n",
       "      <td>394</td>\n",
       "      <td>173</td>\n",
       "      <td>130</td>\n",
       "      <td>102</td>\n",
       "      <td>203</td>\n",
       "      <td>112</td>\n",
       "      <td>68</td>\n",
       "    </tr>\n",
       "    <tr>\n",
       "      <th>1975</th>\n",
       "      <td>258</td>\n",
       "      <td>353</td>\n",
       "      <td>186</td>\n",
       "      <td>190</td>\n",
       "      <td>117</td>\n",
       "      <td>258</td>\n",
       "      <td>110</td>\n",
       "      <td>10</td>\n",
       "    </tr>\n",
       "    <tr>\n",
       "      <th>1976</th>\n",
       "      <td>205</td>\n",
       "      <td>397</td>\n",
       "      <td>236</td>\n",
       "      <td>241</td>\n",
       "      <td>131</td>\n",
       "      <td>202</td>\n",
       "      <td>81</td>\n",
       "      <td>3</td>\n",
       "    </tr>\n",
       "  </tbody>\n",
       "</table>\n",
       "</div>"
      ],
      "text/plain": [
       "partyid  0.0  1.0  2.0  3.0  4.0  5.0  6.0  7.0\n",
       "year                                           \n",
       "1972     341  448  147  146   84  250  132   59\n",
       "1973     226  372  195  140  141  229  101   87\n",
       "1974     273  394  173  130  102  203  112   68\n",
       "1975     258  353  186  190  117  258  110   10\n",
       "1976     205  397  236  241  131  202   81    3"
      ]
     },
     "execution_count": 60,
     "metadata": {
      "tags": []
     },
     "output_type": "execute_result"
    }
   ],
   "source": [
    "xtab.head()"
   ]
  },
  {
   "cell_type": "markdown",
   "metadata": {
    "colab_type": "text",
    "id": "q-iAtSjt2AMe"
   },
   "source": [
    "It contains one row for each value of `year` and one column for each value of `partyid`.  Reading the first row, we see that in 1974, 31 people gave response 1, \"extremely liberal\", 201 people gave response 2, \"liberal\", and so on.\n",
    "\n",
    "The number of respondents varies from year to year, so we need to \"normalize\" the results, which means computing for each year the *fraction* of respondents in each category, rather than the count.\n",
    "\n",
    "`crosstab` takes an optional argument that normalizes each row."
   ]
  },
  {
   "cell_type": "code",
   "execution_count": null,
   "metadata": {
    "colab": {},
    "colab_type": "code",
    "id": "LsRjndPv2AMg"
   },
   "outputs": [],
   "source": [
    "xtab_norm = pd.crosstab(year, column, normalize='index')"
   ]
  },
  {
   "cell_type": "markdown",
   "metadata": {
    "colab_type": "text",
    "id": "tzQUf05p2AMk"
   },
   "source": [
    "Here's what that looks like for the 7-point scale."
   ]
  },
  {
   "cell_type": "code",
   "execution_count": 62,
   "metadata": {
    "colab": {
     "base_uri": "https://localhost:8080/",
     "height": 237
    },
    "colab_type": "code",
    "executionInfo": {
     "elapsed": 3436,
     "status": "ok",
     "timestamp": 1581569053032,
     "user": {
      "displayName": "Maeve Stites",
      "photoUrl": "https://lh3.googleusercontent.com/a-/AAuE7mCTpLCx642SdWwDWVYliC35_qT41YEhU8YAKFfj=s64",
      "userId": "04581142099517383196"
     },
     "user_tz": 300
    },
    "id": "01_tz-ip2AMm",
    "outputId": "5e04e351-121c-4e85-d322-8eed1163ebff"
   },
   "outputs": [
    {
     "data": {
      "text/html": [
       "<div>\n",
       "<style scoped>\n",
       "    .dataframe tbody tr th:only-of-type {\n",
       "        vertical-align: middle;\n",
       "    }\n",
       "\n",
       "    .dataframe tbody tr th {\n",
       "        vertical-align: top;\n",
       "    }\n",
       "\n",
       "    .dataframe thead th {\n",
       "        text-align: right;\n",
       "    }\n",
       "</style>\n",
       "<table border=\"1\" class=\"dataframe\">\n",
       "  <thead>\n",
       "    <tr style=\"text-align: right;\">\n",
       "      <th>partyid</th>\n",
       "      <th>0.0</th>\n",
       "      <th>1.0</th>\n",
       "      <th>2.0</th>\n",
       "      <th>3.0</th>\n",
       "      <th>4.0</th>\n",
       "      <th>5.0</th>\n",
       "      <th>6.0</th>\n",
       "      <th>7.0</th>\n",
       "    </tr>\n",
       "    <tr>\n",
       "      <th>year</th>\n",
       "      <th></th>\n",
       "      <th></th>\n",
       "      <th></th>\n",
       "      <th></th>\n",
       "      <th></th>\n",
       "      <th></th>\n",
       "      <th></th>\n",
       "      <th></th>\n",
       "    </tr>\n",
       "  </thead>\n",
       "  <tbody>\n",
       "    <tr>\n",
       "      <th>1972</th>\n",
       "      <td>0.212197</td>\n",
       "      <td>0.278780</td>\n",
       "      <td>0.091475</td>\n",
       "      <td>0.090853</td>\n",
       "      <td>0.052271</td>\n",
       "      <td>0.155569</td>\n",
       "      <td>0.082141</td>\n",
       "      <td>0.036714</td>\n",
       "    </tr>\n",
       "    <tr>\n",
       "      <th>1973</th>\n",
       "      <td>0.151576</td>\n",
       "      <td>0.249497</td>\n",
       "      <td>0.130785</td>\n",
       "      <td>0.093897</td>\n",
       "      <td>0.094567</td>\n",
       "      <td>0.153588</td>\n",
       "      <td>0.067740</td>\n",
       "      <td>0.058350</td>\n",
       "    </tr>\n",
       "    <tr>\n",
       "      <th>1974</th>\n",
       "      <td>0.187629</td>\n",
       "      <td>0.270790</td>\n",
       "      <td>0.118900</td>\n",
       "      <td>0.089347</td>\n",
       "      <td>0.070103</td>\n",
       "      <td>0.139519</td>\n",
       "      <td>0.076976</td>\n",
       "      <td>0.046735</td>\n",
       "    </tr>\n",
       "    <tr>\n",
       "      <th>1975</th>\n",
       "      <td>0.174089</td>\n",
       "      <td>0.238192</td>\n",
       "      <td>0.125506</td>\n",
       "      <td>0.128205</td>\n",
       "      <td>0.078947</td>\n",
       "      <td>0.174089</td>\n",
       "      <td>0.074224</td>\n",
       "      <td>0.006748</td>\n",
       "    </tr>\n",
       "    <tr>\n",
       "      <th>1976</th>\n",
       "      <td>0.137032</td>\n",
       "      <td>0.265374</td>\n",
       "      <td>0.157754</td>\n",
       "      <td>0.161096</td>\n",
       "      <td>0.087567</td>\n",
       "      <td>0.135027</td>\n",
       "      <td>0.054144</td>\n",
       "      <td>0.002005</td>\n",
       "    </tr>\n",
       "  </tbody>\n",
       "</table>\n",
       "</div>"
      ],
      "text/plain": [
       "partyid       0.0       1.0       2.0  ...       5.0       6.0       7.0\n",
       "year                                   ...                              \n",
       "1972     0.212197  0.278780  0.091475  ...  0.155569  0.082141  0.036714\n",
       "1973     0.151576  0.249497  0.130785  ...  0.153588  0.067740  0.058350\n",
       "1974     0.187629  0.270790  0.118900  ...  0.139519  0.076976  0.046735\n",
       "1975     0.174089  0.238192  0.125506  ...  0.174089  0.074224  0.006748\n",
       "1976     0.137032  0.265374  0.157754  ...  0.135027  0.054144  0.002005\n",
       "\n",
       "[5 rows x 8 columns]"
      ]
     },
     "execution_count": 62,
     "metadata": {
      "tags": []
     },
     "output_type": "execute_result"
    }
   ],
   "source": [
    "xtab_norm.head()"
   ]
  },
  {
   "cell_type": "markdown",
   "metadata": {
    "colab_type": "text",
    "id": "G9OjNFsM2AMp"
   },
   "source": [
    "To make the results easier to interpret, I'm going to replace the numeric codes 1-7 with strings.  First I'll make a dictionary that maps from numbers to strings:"
   ]
  },
  {
   "cell_type": "code",
   "execution_count": null,
   "metadata": {
    "colab": {},
    "colab_type": "code",
    "id": "4k0Vcqvu2AMr"
   },
   "outputs": [],
   "source": [
    "# recode the 7 point scale with words\n",
    "d7 = {0: 'Strong democrat',\n",
    "      1: 'Not str democrat', \n",
    "      2: 'Ind, near dem', \n",
    "      3: 'Ind', \n",
    "      4: 'Ind, near rep', \n",
    "      5: 'Not str republican', \n",
    "      6: 'Strong republican', \n",
    "      7: 'Other party'}"
   ]
  },
  {
   "cell_type": "markdown",
   "metadata": {
    "colab_type": "text",
    "id": "3U-Te5_e2AM8"
   },
   "source": [
    "Then we can use the `replace` function like this:"
   ]
  },
  {
   "cell_type": "code",
   "execution_count": null,
   "metadata": {
    "colab": {},
    "colab_type": "code",
    "id": "dE_esbDs2AM-"
   },
   "outputs": [],
   "source": [
    "partyid7 = gss['partyid'].replace(d7)"
   ]
  },
  {
   "cell_type": "markdown",
   "metadata": {
    "colab_type": "text",
    "id": "gKclWeL52ANC"
   },
   "source": [
    "We can use `values` to confirm that the values in `partyid7` are strings."
   ]
  },
  {
   "cell_type": "code",
   "execution_count": 114,
   "metadata": {
    "colab": {
     "base_uri": "https://localhost:8080/",
     "height": 173
    },
    "colab_type": "code",
    "executionInfo": {
     "elapsed": 519,
     "status": "ok",
     "timestamp": 1581569514936,
     "user": {
      "displayName": "Maeve Stites",
      "photoUrl": "https://lh3.googleusercontent.com/a-/AAuE7mCTpLCx642SdWwDWVYliC35_qT41YEhU8YAKFfj=s64",
      "userId": "04581142099517383196"
     },
     "user_tz": 300
    },
    "id": "LIhKd3522AND",
    "outputId": "53d2040c-29fb-4da8-ad7e-bc230aac7e9a"
   },
   "outputs": [
    {
     "data": {
      "text/plain": [
       "Ind                    9845\n",
       "Ind, near dem          7565\n",
       "Ind, near rep          5994\n",
       "Not str democrat      13311\n",
       "Not str republican    10156\n",
       "Other party            1064\n",
       "Strong democrat        9997\n",
       "Strong republican      6461\n",
       "Name: partyid, dtype: int64"
      ]
     },
     "execution_count": 114,
     "metadata": {
      "tags": []
     },
     "output_type": "execute_result"
    }
   ],
   "source": [
    "values(partyid7)"
   ]
  },
  {
   "cell_type": "markdown",
   "metadata": {
    "colab_type": "text",
    "id": "TvGiZVHH2ANE"
   },
   "source": [
    "If we make the cross tabulation again, we can see that the column names are strings."
   ]
  },
  {
   "cell_type": "code",
   "execution_count": 115,
   "metadata": {
    "colab": {
     "base_uri": "https://localhost:8080/",
     "height": 292
    },
    "colab_type": "code",
    "executionInfo": {
     "elapsed": 975,
     "status": "ok",
     "timestamp": 1581569515721,
     "user": {
      "displayName": "Maeve Stites",
      "photoUrl": "https://lh3.googleusercontent.com/a-/AAuE7mCTpLCx642SdWwDWVYliC35_qT41YEhU8YAKFfj=s64",
      "userId": "04581142099517383196"
     },
     "user_tz": 300
    },
    "id": "6HErKfVY2ANF",
    "outputId": "0d3a522f-d5f2-4a5d-8821-11e2544d4d72"
   },
   "outputs": [
    {
     "data": {
      "text/html": [
       "<div>\n",
       "<style scoped>\n",
       "    .dataframe tbody tr th:only-of-type {\n",
       "        vertical-align: middle;\n",
       "    }\n",
       "\n",
       "    .dataframe tbody tr th {\n",
       "        vertical-align: top;\n",
       "    }\n",
       "\n",
       "    .dataframe thead th {\n",
       "        text-align: right;\n",
       "    }\n",
       "</style>\n",
       "<table border=\"1\" class=\"dataframe\">\n",
       "  <thead>\n",
       "    <tr style=\"text-align: right;\">\n",
       "      <th>partyid</th>\n",
       "      <th>Ind</th>\n",
       "      <th>Ind, near dem</th>\n",
       "      <th>Ind, near rep</th>\n",
       "      <th>Not str democrat</th>\n",
       "      <th>Not str republican</th>\n",
       "      <th>Other party</th>\n",
       "      <th>Strong democrat</th>\n",
       "      <th>Strong republican</th>\n",
       "    </tr>\n",
       "    <tr>\n",
       "      <th>year</th>\n",
       "      <th></th>\n",
       "      <th></th>\n",
       "      <th></th>\n",
       "      <th></th>\n",
       "      <th></th>\n",
       "      <th></th>\n",
       "      <th></th>\n",
       "      <th></th>\n",
       "    </tr>\n",
       "  </thead>\n",
       "  <tbody>\n",
       "    <tr>\n",
       "      <th>1972</th>\n",
       "      <td>0.090853</td>\n",
       "      <td>0.091475</td>\n",
       "      <td>0.052271</td>\n",
       "      <td>0.278780</td>\n",
       "      <td>0.155569</td>\n",
       "      <td>0.036714</td>\n",
       "      <td>0.212197</td>\n",
       "      <td>0.082141</td>\n",
       "    </tr>\n",
       "    <tr>\n",
       "      <th>1973</th>\n",
       "      <td>0.093897</td>\n",
       "      <td>0.130785</td>\n",
       "      <td>0.094567</td>\n",
       "      <td>0.249497</td>\n",
       "      <td>0.153588</td>\n",
       "      <td>0.058350</td>\n",
       "      <td>0.151576</td>\n",
       "      <td>0.067740</td>\n",
       "    </tr>\n",
       "    <tr>\n",
       "      <th>1974</th>\n",
       "      <td>0.089347</td>\n",
       "      <td>0.118900</td>\n",
       "      <td>0.070103</td>\n",
       "      <td>0.270790</td>\n",
       "      <td>0.139519</td>\n",
       "      <td>0.046735</td>\n",
       "      <td>0.187629</td>\n",
       "      <td>0.076976</td>\n",
       "    </tr>\n",
       "    <tr>\n",
       "      <th>1975</th>\n",
       "      <td>0.128205</td>\n",
       "      <td>0.125506</td>\n",
       "      <td>0.078947</td>\n",
       "      <td>0.238192</td>\n",
       "      <td>0.174089</td>\n",
       "      <td>0.006748</td>\n",
       "      <td>0.174089</td>\n",
       "      <td>0.074224</td>\n",
       "    </tr>\n",
       "    <tr>\n",
       "      <th>1976</th>\n",
       "      <td>0.161096</td>\n",
       "      <td>0.157754</td>\n",
       "      <td>0.087567</td>\n",
       "      <td>0.265374</td>\n",
       "      <td>0.135027</td>\n",
       "      <td>0.002005</td>\n",
       "      <td>0.137032</td>\n",
       "      <td>0.054144</td>\n",
       "    </tr>\n",
       "  </tbody>\n",
       "</table>\n",
       "</div>"
      ],
      "text/plain": [
       "partyid       Ind  Ind, near dem  ...  Strong democrat  Strong republican\n",
       "year                              ...                                    \n",
       "1972     0.090853       0.091475  ...         0.212197           0.082141\n",
       "1973     0.093897       0.130785  ...         0.151576           0.067740\n",
       "1974     0.089347       0.118900  ...         0.187629           0.076976\n",
       "1975     0.128205       0.125506  ...         0.174089           0.074224\n",
       "1976     0.161096       0.157754  ...         0.137032           0.054144\n",
       "\n",
       "[5 rows x 8 columns]"
      ]
     },
     "execution_count": 115,
     "metadata": {
      "tags": []
     },
     "output_type": "execute_result"
    }
   ],
   "source": [
    "xtab_norm = pd.crosstab(year, partyid7, normalize='index')\n",
    "xtab_norm.head()"
   ]
  },
  {
   "cell_type": "markdown",
   "metadata": {
    "colab_type": "text",
    "id": "vYRqY7B52ANH"
   },
   "source": [
    "We are almost ready to plot the results, but first we need some colors."
   ]
  },
  {
   "cell_type": "markdown",
   "metadata": {
    "colab_type": "text",
    "id": "zgbQqSNG2ANJ"
   },
   "source": [
    "## Color palettes\n",
    "\n",
    "Seaborn provides a variety of color palettes,  [which you can read about here](https://seaborn.pydata.org/tutorial/color_palettes.html).\n",
    "\n",
    "To represent political views, I'll use a diverging palette from blue to red."
   ]
  },
  {
   "cell_type": "code",
   "execution_count": 117,
   "metadata": {
    "colab": {
     "base_uri": "https://localhost:8080/",
     "height": 89
    },
    "colab_type": "code",
    "executionInfo": {
     "elapsed": 632,
     "status": "ok",
     "timestamp": 1581569557005,
     "user": {
      "displayName": "Maeve Stites",
      "photoUrl": "https://lh3.googleusercontent.com/a-/AAuE7mCTpLCx642SdWwDWVYliC35_qT41YEhU8YAKFfj=s64",
      "userId": "04581142099517383196"
     },
     "user_tz": 300
    },
    "id": "DxrPv-Bx2ANJ",
    "outputId": "e8add07f-d1e2-4279-cd10-ff79fcebadb7"
   },
   "outputs": [
    {
     "data": {
      "image/png": "[encoded data removed]",
      "text/plain": [
       "<Figure size 576x72 with 1 Axes>"
      ]
     },
     "metadata": {
      "tags": []
     },
     "output_type": "display_data"
    }
   ],
   "source": [
    "palette = sns.color_palette('bright', 8)\n",
    "sns.palplot(palette)"
   ]
  },
  {
   "cell_type": "markdown",
   "metadata": {
    "colab_type": "text",
    "id": "yRmm7Xfl2ANR"
   },
   "source": [
    "Now I'll make a \"color map\", which is a dictionary that maps from the responses to the corresponding colors.\n",
    "\n",
    "```\n",
    "0    Strong democrat\n",
    "1    Not str democrat\n",
    "2    Ind,near dem\n",
    "3    Independent\n",
    "4    Ind,near rep\n",
    "5    Not str republican\n",
    "6    Strong republican\n",
    "7    Other party\n",
    "```\n",
    "\n"
   ]
  },
  {
   "cell_type": "code",
   "execution_count": null,
   "metadata": {
    "colab": {},
    "colab_type": "code",
    "id": "-PPrqCYf2ANS"
   },
   "outputs": [],
   "source": [
    "columns = ['Strong democrat', \n",
    "           'Not str democrat', \n",
    "           'Ind, near dem', \n",
    "           'Ind', \n",
    "           'Ind, near rep', \n",
    "           'Not str republican',\n",
    "           'Strong republican',\n",
    "           'Other party']"
   ]
  },
  {
   "cell_type": "code",
   "execution_count": 119,
   "metadata": {
    "colab": {
     "base_uri": "https://localhost:8080/",
     "height": 156
    },
    "colab_type": "code",
    "executionInfo": {
     "elapsed": 418,
     "status": "ok",
     "timestamp": 1581569559098,
     "user": {
      "displayName": "Maeve Stites",
      "photoUrl": "https://lh3.googleusercontent.com/a-/AAuE7mCTpLCx642SdWwDWVYliC35_qT41YEhU8YAKFfj=s64",
      "userId": "04581142099517383196"
     },
     "user_tz": 300
    },
    "id": "vQ4GuIiJ2ANU",
    "outputId": "d99d0767-9cd3-463d-ade6-b180499d87f3"
   },
   "outputs": [
    {
     "name": "stdout",
     "output_type": "stream",
     "text": [
      "Strong democrat (0.00784313725490196, 0.24313725490196078, 1.0)\n",
      "Not str democrat (1.0, 0.48627450980392156, 0.0)\n",
      "Ind, near dem (0.10196078431372549, 0.788235294117647, 0.2196078431372549)\n",
      "Ind (0.9098039215686274, 0.0, 0.043137254901960784)\n",
      "Ind, near rep (0.5450980392156862, 0.16862745098039217, 0.8862745098039215)\n",
      "Not str republican (0.6235294117647059, 0.2823529411764706, 0.0)\n",
      "Strong republican (0.9450980392156862, 0.2980392156862745, 0.7568627450980392)\n",
      "Other party (0.6392156862745098, 0.6392156862745098, 0.6392156862745098)\n"
     ]
    }
   ],
   "source": [
    "color_map = dict(zip(columns, palette))\n",
    "\n",
    "for key, value in color_map.items():\n",
    "    print(key, value)"
   ]
  },
  {
   "cell_type": "markdown",
   "metadata": {
    "colab_type": "text",
    "id": "M_yyQWUm2ANW"
   },
   "source": [
    "## Plotting\n",
    "\n",
    "To plot the results, I use the following function, which takes a `DataFrame` and plots each column using `plot_series_lowess`."
   ]
  },
  {
   "cell_type": "code",
   "execution_count": null,
   "metadata": {
    "colab": {},
    "colab_type": "code",
    "id": "u3QKz_XE2ANX"
   },
   "outputs": [],
   "source": [
    "def plot_columns_lowess(table, columns, colors):\n",
    "    \"\"\"Plot the columns in a DataFrame.\n",
    "    \n",
    "    table: DataFrame with a cross tabulation\n",
    "    columns: list of column names, in the desired order\n",
    "    colors: mapping from column names to colors\n",
    "    \"\"\"\n",
    "    for col in columns:\n",
    "        series = table[col]\n",
    "        plot_series_lowess(series, colors[col])"
   ]
  },
  {
   "cell_type": "markdown",
   "metadata": {
    "colab_type": "text",
    "id": "TRJraHDt2ANZ"
   },
   "source": [
    "The following function sets the position of the figure legend."
   ]
  },
  {
   "cell_type": "code",
   "execution_count": null,
   "metadata": {
    "colab": {},
    "colab_type": "code",
    "id": "cQxmbKen2ANe"
   },
   "outputs": [],
   "source": [
    "def anchor_legend(x, y):\n",
    "    \"\"\"Place the upper left corner of the legend box.\n",
    "    \n",
    "    x: x coordinate\n",
    "    y: y coordinate\n",
    "    \"\"\"\n",
    "    plt.legend(bbox_to_anchor=(x, y), loc='upper left', ncol=1)"
   ]
  },
  {
   "cell_type": "markdown",
   "metadata": {
    "colab_type": "text",
    "id": "eKtblIRa2ANf"
   },
   "source": [
    "Here are the 7 categories plotted as a function of time."
   ]
  },
  {
   "cell_type": "code",
   "execution_count": 122,
   "metadata": {
    "colab": {
     "base_uri": "https://localhost:8080/",
     "height": 297
    },
    "colab_type": "code",
    "executionInfo": {
     "elapsed": 1202,
     "status": "ok",
     "timestamp": 1581569561061,
     "user": {
      "displayName": "Maeve Stites",
      "photoUrl": "https://lh3.googleusercontent.com/a-/AAuE7mCTpLCx642SdWwDWVYliC35_qT41YEhU8YAKFfj=s64",
      "userId": "04581142099517383196"
     },
     "user_tz": 300
    },
    "id": "9wgmTMWD2ANg",
    "outputId": "6db30c00-4f8d-4962-c1e8-2a4046492766",
    "scrolled": true
   },
   "outputs": [
    {
     "data": {
      "image/png": "[encoded data removed]",
      "text/plain": [
       "<Figure size 432x288 with 1 Axes>"
      ]
     },
     "metadata": {
      "tags": []
     },
     "output_type": "display_data"
    }
   ],
   "source": [
    "plot_columns_lowess(xtab_norm, columns, color_map)\n",
    "decorate(xlabel='Year',\n",
    "         ylabel='Proportion',\n",
    "         title='Fraction of people with each political view',\n",
    "         xlim=[1972, 2020])\n",
    "\n",
    "anchor_legend(1.02, 1.02)"
   ]
  },
  {
   "cell_type": "markdown",
   "metadata": {
    "colab_type": "text",
    "id": "h-7qlc2X2ANi"
   },
   "source": [
    "This way of looking at the results suggests that changes in political alignment during this period have generally been slow and small.\n",
    "\n",
    "The fraction of self-described moderates has not changed substantially.\n",
    "\n",
    "The fraction of conservatives increased, but seems to be decreasing now; the number of liberals seems to be increasing.\n",
    "\n",
    "The fraction of people at the extremes has increased, but it is hard to see clearly in this figure.\n",
    "\n",
    "We can get a better view by plotting just the extremes."
   ]
  },
  {
   "cell_type": "code",
   "execution_count": 124,
   "metadata": {
    "colab": {
     "base_uri": "https://localhost:8080/",
     "height": 297
    },
    "colab_type": "code",
    "executionInfo": {
     "elapsed": 983,
     "status": "ok",
     "timestamp": 1581569595395,
     "user": {
      "displayName": "Maeve Stites",
      "photoUrl": "https://lh3.googleusercontent.com/a-/AAuE7mCTpLCx642SdWwDWVYliC35_qT41YEhU8YAKFfj=s64",
      "userId": "04581142099517383196"
     },
     "user_tz": 300
    },
    "id": "qNWvPLl72ANj",
    "outputId": "e15b1714-945d-4b48-e009-c937c63cedbf"
   },
   "outputs": [
    {
     "data": {
      "image/png": "[encoded data removed]",
      "text/plain": [
       "<Figure size 432x288 with 1 Axes>"
      ]
     },
     "metadata": {
      "tags": []
     },
     "output_type": "display_data"
    }
   ],
   "source": [
    "columns2 = ['Strong democrat', 'Strong republican']\n",
    "\n",
    "plot_columns_lowess(xtab_norm, columns2, color_map)\n",
    "decorate(xlabel='Year',\n",
    "         ylabel='Proportion',\n",
    "         title='Fraction of people with extreme political views',\n",
    "         xlim=[1970, 2020])\n",
    "\n",
    "anchor_legend(1.02, 1.02)"
   ]
  },
  {
   "cell_type": "markdown",
   "metadata": {
    "colab_type": "text",
    "id": "n0jOptiX2ANk"
   },
   "source": [
    "This figure shows that the fraction of people who describe themselves as \"extreme\" has increased from about 2.5% to about 4%.\n",
    "\n",
    "In relative terms, that's a big increase.  But in absolute terms these tails of the distribution are still small."
   ]
  },
  {
   "cell_type": "markdown",
   "metadata": {
    "colab_type": "text",
    "id": "l_GTLPgI2ANl"
   },
   "source": [
    "**Exercise:** Let's do a similar analysis with `partyid`, which encodes responses to the question:\n",
    "\n",
    ">Generally speaking, do you usually think of yourself as a Republican, Democrat, Independent, or what?\n",
    "\n",
    "The valid responses are:\n",
    "\n",
    "```\n",
    "0\tStrong democrat\n",
    "1\tNot str democrat\n",
    "2\tInd,near dem\n",
    "3\tIndependent\n",
    "4\tInd,near rep\n",
    "5\tNot str republican\n",
    "6\tStrong republican\n",
    "7\tOther party\n",
    "```\n",
    "\n",
    "You can [read the codebook for `partyid` here](https://gssdataexplorer.norc.org/projects/52787/variables/141/vshow).\n",
    "\n",
    "Here are the steps I suggest:\n",
    "\n",
    "1) If you have not already saved this notebook, you should do that first.  If you are running on Colab, select \"Save a copy in Drive\" from the File menu.\n",
    "\n",
    "2) Now, before you modify this notebook, make *another* copy and give it an appropriate name.\n",
    "\n",
    "3) Search and replace `p` with `partyid` (use \"Edit->Find and replace\").\n",
    "\n",
    "4) Run the notebook from the beginning and see what other changes you have to make.\n",
    "\n",
    "You will have to make changes in `d7` and `columns`.  Otherwise you might get a message like \n",
    "\n",
    "`TypeError: '<' not supported between instances of 'float' and 'str'`\n",
    "\n",
    "Also, you might have to drop \"Other party\" or change the color palette.\n",
    "\n",
    "And you should change the titles of the figures.\n",
    "\n",
    "\n",
    "What changes in party affiliation do you see over the last 50 years?  Are things going in the directions you expected?\n",
    "\n",
    "Write a headline (or a couple) that describe the most substantial changes you see."
   ]
  },
  {
   "cell_type": "markdown",
   "metadata": {
    "colab_type": "text",
    "id": "5GjD6JkB2ANl"
   },
   "source": [
    "The number of independents has increased over the last 50 years.\n",
    "\n",
    "The number of strong democrats and strong republicans has decreased over the last 50 years.\n",
    "\n",
    "Over the last 50 years, the number of people identifying with other parties has increased."
   ]
  },
  {
   "cell_type": "code",
   "execution_count": null,
   "metadata": {
    "colab": {},
    "colab_type": "code",
    "id": "KUNgINA95bkV"
   },
   "outputs": [],
   "source": []
  }
 ],
 "metadata": {
  "colab": {
   "collapsed_sections": [],
   "name": "Copy of Copy of 02_polviews.ipynb",
   "provenance": [
    {
     "file_id": "13Ir2Nk3XsNbVn7_9guCJc8tvJPCL8UIf",
     "timestamp": 1581568957654
    },
    {
     "file_id": "https://github.com/AllenDowney/PoliticalAlignmentCaseStudy/blob/master/02_polviews.ipynb",
     "timestamp": 1581451322306
    }
   ]
  },
  "kernelspec": {
   "display_name": "Python 3",
   "language": "python",
   "name": "python3"
  },
  "language_info": {
   "codemirror_mode": {
    "name": "ipython",
    "version": 3
   },
   "file_extension": ".py",
   "mimetype": "text/x-python",
   "name": "python",
   "nbconvert_exporter": "python",
   "pygments_lexer": "ipython3",
   "version": "3.8.1"
  }
 },
 "nbformat": 4,
 "nbformat_minor": 4
}
