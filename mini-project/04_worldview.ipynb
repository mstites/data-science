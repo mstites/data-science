{
  "nbformat": 4,
  "nbformat_minor": 0,
  "metadata": {
    "kernelspec": {
      "display_name": "Python 3",
      "language": "python",
      "name": "python3"
    },
    "language_info": {
      "codemirror_mode": {
        "name": "ipython",
        "version": 3
      },
      "file_extension": ".py",
      "mimetype": "text/x-python",
      "name": "python",
      "nbconvert_exporter": "python",
      "pygments_lexer": "ipython3",
      "version": "3.7.6"
    },
    "colab": {
      "name": "Copy of 04_worldview.ipynb",
      "provenance": [],
      "collapsed_sections": [
        "3Z7SXNUaloxw",
        "kXU3ErnployL",
        "NfhgBgLPloyb",
        "Ws8h7uRZloys",
        "cqAbxRSxloyy",
        "QxKOUO3uloy7",
        "BoE2GxaglozC",
        "Yv2nF33xlozD"
      ]
    }
  },
  "cells": [
    {
      "cell_type": "markdown",
      "metadata": {
        "id": "e_SLasHBlovX",
        "colab_type": "text"
      },
      "source": [
        "# Political Alignment Case Study\n",
        "\n",
        "Allen Downey\n",
        "\n",
        "[MIT License](https://en.wikipedia.org/wiki/MIT_License)\n",
        "\n",
        "\n",
        "### Introduction\n",
        "\n",
        "This notebook is a template for a do-it-yourself, choose-your-own-adventure mini-project that explores the relationship between political alignment and other attitudes and beliefs.\n",
        "\n",
        "I will outline the steps and provide sample code.  You can choose which survey question to explore, adapt my code for your data, and write a report presenting the results."
      ]
    },
    {
      "cell_type": "markdown",
      "metadata": {
        "id": "2qla2F2Glovb",
        "colab_type": "text"
      },
      "source": [
        "In previous notebooks, we looked at changes in political alignment over time, and explored the relationship between political alignment and survey questions related to \"outlook\".\n",
        "\n",
        "The analysis in this notebook follows the steps we have seen:\n",
        "\n",
        "1) For your variable of interest, you will read the code book to understand the question and valid responses.\n",
        "\n",
        "2) You will compute and display the distribution (PMF) of responses and the distribution within each political group.\n",
        "\n",
        "3) You will recode the variable on a numerical scale that makes it possible to interpret the mean, and then plot the mean over time.\n",
        "\n",
        "4) You will use a pivot table to compute the mean of your variable over time for each political alignment group (liberal, moderate, and conservative).\n",
        "\n",
        "5) Finally, you will look at results from three resamplings of the data to see whether the patterns you observed might be due to random sampling."
      ]
    },
    {
      "cell_type": "markdown",
      "metadata": {
        "id": "zf2nsZ_dlove",
        "colab_type": "text"
      },
      "source": [
        "### Setup\n",
        "\n",
        "If you are running this notebook in Colab, the following cell installs the `empiricaldist` library.\n",
        "\n",
        "If you are running in another environment, you will need to install it yourself."
      ]
    },
    {
      "cell_type": "code",
      "metadata": {
        "id": "ueYZZ66Olovh",
        "colab_type": "code",
        "outputId": "ffa3509a-cd9f-4601-8aca-1a4ec5158680",
        "colab": {
          "base_uri": "https://localhost:8080/",
          "height": 193
        }
      },
      "source": [
        "# If we're running in Colab, set up the environment\n",
        "\n",
        "import sys\n",
        "IN_COLAB = 'google.colab' in sys.modules\n",
        "\n",
        "if IN_COLAB:\n",
        "    !pip install empiricaldist"
      ],
      "execution_count": 0,
      "outputs": [
        {
          "output_type": "stream",
          "text": [
            "Collecting empiricaldist\n",
            "  Downloading https://files.pythonhosted.org/packages/a1/63/8e53bab30fa4c2ff0ffb741ab354833523e1e16e688ccde63ed6e2dd687a/empiricaldist-0.3.5.tar.gz\n",
            "Building wheels for collected packages: empiricaldist\n",
            "  Building wheel for empiricaldist (setup.py) ... \u001b[?25l\u001b[?25hdone\n",
            "  Created wheel for empiricaldist: filename=empiricaldist-0.3.5-cp36-none-any.whl size=10010 sha256=7feacdf05c20e2e357912f2a5683f7c895f0361a8c9c5e4694ef767a03d10af4\n",
            "  Stored in directory: /root/.cache/pip/wheels/c6/64/7b/b33ca2ad99ceb70d29bce521de4b4d8975ba537882c09c2896\n",
            "Successfully built empiricaldist\n",
            "Installing collected packages: empiricaldist\n",
            "Successfully installed empiricaldist-0.3.5\n"
          ],
          "name": "stdout"
        }
      ]
    },
    {
      "cell_type": "markdown",
      "metadata": {
        "id": "r4OcxksAlovs",
        "colab_type": "text"
      },
      "source": [
        "If everything we need is installed, the following cell should run without error."
      ]
    },
    {
      "cell_type": "code",
      "metadata": {
        "id": "w53oLF_Slovu",
        "colab_type": "code",
        "colab": {}
      },
      "source": [
        "import pandas as pd\n",
        "import numpy as np\n",
        "import matplotlib.pyplot as plt\n",
        "import seaborn as sns\n",
        "\n",
        "from empiricaldist import Pmf"
      ],
      "execution_count": 0,
      "outputs": []
    },
    {
      "cell_type": "markdown",
      "metadata": {
        "id": "M3LGPDUMlov1",
        "colab_type": "text"
      },
      "source": [
        "The following cells define functions from previous notebooks we will use again."
      ]
    },
    {
      "cell_type": "code",
      "metadata": {
        "id": "-lWhkrSrlov3",
        "colab_type": "code",
        "colab": {}
      },
      "source": [
        "def values(series):\n",
        "    \"\"\"Count the values and sort.\n",
        "    \n",
        "    series: pd.Series\n",
        "    \n",
        "    returns: series mapping from values to frequencies\n",
        "    \"\"\"\n",
        "    return series.value_counts().sort_index()"
      ],
      "execution_count": 0,
      "outputs": []
    },
    {
      "cell_type": "code",
      "metadata": {
        "id": "ggCGLK-Blov-",
        "colab_type": "code",
        "colab": {}
      },
      "source": [
        "def decorate(**options):\n",
        "    \"\"\"Decorate the current axes.\n",
        "    Call decorate with keyword arguments like\n",
        "    decorate(title='Title',\n",
        "             xlabel='x',\n",
        "             ylabel='y')\n",
        "    The keyword arguments can be any of the axis properties\n",
        "    https://matplotlib.org/api/axes_api.html\n",
        "    \"\"\"\n",
        "    plt.gca().set(**options)\n",
        "    plt.tight_layout()"
      ],
      "execution_count": 0,
      "outputs": []
    },
    {
      "cell_type": "code",
      "metadata": {
        "id": "0ZIbwoHhlowE",
        "colab_type": "code",
        "colab": {}
      },
      "source": [
        "from statsmodels.nonparametric.smoothers_lowess import lowess\n",
        "\n",
        "def make_lowess(series):\n",
        "    \"\"\"Use LOWESS to compute a smooth line.\n",
        "    \n",
        "    series: pd.Series\n",
        "    \n",
        "    returns: pd.Series\n",
        "    \"\"\"\n",
        "    y = series.values\n",
        "    x = series.index.values\n",
        "\n",
        "    smooth = lowess(y, x)\n",
        "    index, data = np.transpose(smooth)\n",
        "\n",
        "    return pd.Series(data, index=index) "
      ],
      "execution_count": 0,
      "outputs": []
    },
    {
      "cell_type": "code",
      "metadata": {
        "id": "xO55a_4FlowJ",
        "colab_type": "code",
        "colab": {}
      },
      "source": [
        "def plot_series_lowess(series, color):\n",
        "    \"\"\"Plots a series of data points and a smooth line.\n",
        "    \n",
        "    series: pd.Series\n",
        "    color: string or tuple\n",
        "    \"\"\"\n",
        "    series.plot(linewidth=0, marker='o', color=color, alpha=0.5)\n",
        "    smooth = make_lowess(series)\n",
        "    smooth.plot(label='_', color=color)"
      ],
      "execution_count": 0,
      "outputs": []
    },
    {
      "cell_type": "code",
      "metadata": {
        "id": "pxtXl7jGlowP",
        "colab_type": "code",
        "colab": {}
      },
      "source": [
        "def plot_columns_lowess(table, columns, color_map):\n",
        "    \"\"\"Plot the columns in a DataFrame.\n",
        "    \n",
        "    table: DataFrame with a cross tabulation\n",
        "    columns: list of column names, in the desired order\n",
        "    color_map: mapping from column names to color_map\n",
        "    \"\"\"\n",
        "    for col in columns:\n",
        "        series = table[col]\n",
        "        plot_series_lowess(series, color_map[col])"
      ],
      "execution_count": 0,
      "outputs": []
    },
    {
      "cell_type": "markdown",
      "metadata": {
        "id": "Rvch__r-lowU",
        "colab_type": "text"
      },
      "source": [
        "### Loading the data\n",
        "\n",
        "In the first notebook, we downloaded GSS data, loaded and cleaned it, resampled it to correct for stratified sampling, and then saved the data in an HDF5 file, which is much faster to load.\n",
        "\n",
        "The following cells downloads the file."
      ]
    },
    {
      "cell_type": "code",
      "metadata": {
        "id": "tJwCTKdQlowV",
        "colab_type": "code",
        "outputId": "09df61fe-8414-4493-cd97-d3e136a00747",
        "colab": {
          "base_uri": "https://localhost:8080/",
          "height": 315
        }
      },
      "source": [
        "# Load the data file\n",
        "\n",
        "import os\n",
        "\n",
        "datafile = 'gss_eda.3.hdf5'\n",
        "if not os.path.exists(datafile):\n",
        "    !wget https://github.com/AllenDowney/PoliticalAlignmentCaseStudy/raw/master/gss_eda.3.hdf5\n"
      ],
      "execution_count": 0,
      "outputs": [
        {
          "output_type": "stream",
          "text": [
            "--2020-03-01 04:04:45--  https://github.com/AllenDowney/PoliticalAlignmentCaseStudy/raw/master/gss_eda.3.hdf5\n",
            "Resolving github.com (github.com)... 140.82.114.3\n",
            "Connecting to github.com (github.com)|140.82.114.3|:443... connected.\n",
            "HTTP request sent, awaiting response... 302 Found\n",
            "Location: https://raw.githubusercontent.com/AllenDowney/PoliticalAlignmentCaseStudy/master/gss_eda.3.hdf5 [following]\n",
            "--2020-03-01 04:04:45--  https://raw.githubusercontent.com/AllenDowney/PoliticalAlignmentCaseStudy/master/gss_eda.3.hdf5\n",
            "Resolving raw.githubusercontent.com (raw.githubusercontent.com)... 151.101.0.133, 151.101.64.133, 151.101.128.133, ...\n",
            "Connecting to raw.githubusercontent.com (raw.githubusercontent.com)|151.101.0.133|:443... connected.\n",
            "HTTP request sent, awaiting response... 200 OK\n",
            "Length: 19281025 (18M) [application/octet-stream]\n",
            "Saving to: ‘gss_eda.3.hdf5’\n",
            "\n",
            "gss_eda.3.hdf5      100%[===================>]  18.39M  48.9MB/s    in 0.4s    \n",
            "\n",
            "2020-03-01 04:04:46 (48.9 MB/s) - ‘gss_eda.3.hdf5’ saved [19281025/19281025]\n",
            "\n"
          ],
          "name": "stdout"
        }
      ]
    },
    {
      "cell_type": "markdown",
      "metadata": {
        "id": "zTSfNmtjlowa",
        "colab_type": "text"
      },
      "source": [
        "Now I'll load one of the resampled DataFrames."
      ]
    },
    {
      "cell_type": "code",
      "metadata": {
        "id": "6EYSYHYHlowb",
        "colab_type": "code",
        "outputId": "0c103ace-2afc-463c-f1a4-4c9b922d446c",
        "colab": {
          "base_uri": "https://localhost:8080/",
          "height": 34
        }
      },
      "source": [
        "gss = pd.read_hdf(datafile, 'gss0')\n",
        "gss.shape"
      ],
      "execution_count": 0,
      "outputs": [
        {
          "output_type": "execute_result",
          "data": {
            "text/plain": [
              "(64814, 165)"
            ]
          },
          "metadata": {
            "tags": []
          },
          "execution_count": 10
        }
      ]
    },
    {
      "cell_type": "markdown",
      "metadata": {
        "id": "61k4uz2slowi",
        "colab_type": "text"
      },
      "source": [
        "## Changes in social attitudes\n",
        "\n",
        "The General Social Survey includes questions about a variety of social attitudes and beliefs.  We can use this dataset to explore changes in the responses over time and the relationship with political alignment.\n",
        "\n",
        "In my subset of the GSS data, I selected questions that were asked repeatedly over the interval of the survey.  [You can see the variables I chose on the GSS web site](https://gssdataexplorer.norc.org/projects/52787/variables/data_cart).\n",
        "\n",
        "To do the exercises in this notebook, you should choose a variable that you think might be interesting.\n",
        "\n",
        "I will walk you through a process for exploring the variable you choose, but you should feel free to ignore my suggestions if you have a better idea."
      ]
    },
    {
      "cell_type": "markdown",
      "metadata": {
        "id": "_7dOuDA3lowk",
        "colab_type": "text"
      },
      "source": [
        "If you are not sure which variable to explore, here is a [random selection of three that you can choose from](https://en.wikipedia.org/wiki/The_Paradox_of_Choice):"
      ]
    },
    {
      "cell_type": "code",
      "metadata": {
        "id": "IwvGUqSjlowl",
        "colab_type": "code",
        "outputId": "e731cf81-9c2b-4142-a576-f0aa1ad6ba8b",
        "colab": {
          "base_uri": "https://localhost:8080/",
          "height": 69
        }
      },
      "source": [
        "cols = list(gss.columns)\n",
        "for col in ['ballot', 'id_', 'year']:\n",
        "    cols.remove(col)\n",
        "    \n",
        "np.random.shuffle(cols)\n",
        "for col in cols[:3]:\n",
        "    print(col)"
      ],
      "execution_count": 0,
      "outputs": [
        {
          "output_type": "stream",
          "text": [
            "educ\n",
            "satfin\n",
            "natfare\n"
          ],
          "name": "stdout"
        }
      ]
    },
    {
      "cell_type": "markdown",
      "metadata": {
        "id": "6JFqDMv7lowq",
        "colab_type": "text"
      },
      "source": [
        "\n",
        "## Attitudes about spanking\n",
        "\n",
        "> Do you strongly agree, agree, disagree, or strongly disagree that it is sometimes necessary to discipline a child with a good, hard spanking?\n",
        "\n",
        "The valid responses are:\n",
        "\n",
        "```\n",
        "1\tStrongly agree\n",
        "2\tAgree\n",
        "3\tDisagree\n",
        "4\tStrongly Disagree\n",
        "```\n",
        "\n",
        "Here's the distribution of responses:"
      ]
    },
    {
      "cell_type": "code",
      "metadata": {
        "id": "C_PSM6TElowr",
        "colab_type": "code",
        "outputId": "19034bda-a434-484a-c30e-7e7003d24163",
        "colab": {
          "base_uri": "https://localhost:8080/",
          "height": 104
        }
      },
      "source": [
        "values(gss['spanking'])"
      ],
      "execution_count": 0,
      "outputs": [
        {
          "output_type": "execute_result",
          "data": {
            "text/plain": [
              "1.0     6964\n",
              "2.0    12575\n",
              "3.0     5234\n",
              "4.0     1966\n",
              "Name: spanking, dtype: int64"
            ]
          },
          "metadata": {
            "tags": []
          },
          "execution_count": 28
        }
      ]
    },
    {
      "cell_type": "markdown",
      "metadata": {
        "id": "RkB3jI80lowx",
        "colab_type": "text"
      },
      "source": [
        "And here's what the distribution looks like."
      ]
    },
    {
      "cell_type": "code",
      "metadata": {
        "id": "LHd5N20flowz",
        "colab_type": "code",
        "outputId": "5d269971-c585-45ce-cdeb-05175313e91e",
        "colab": {
          "base_uri": "https://localhost:8080/",
          "height": 358
        }
      },
      "source": [
        "pmf = Pmf.from_seq(gss['spanking'])\n",
        "pmf.bar(alpha=0.7)\n",
        "\n",
        "decorate(xlabel='Response',\n",
        "         ylabel='PMF',\n",
        "         title='Distribution of responses')\n",
        "\n",
        "responses = [1, 2, 3, 4]\n",
        "\n",
        "labels = ['Strongly Agree',\n",
        "          'Agree',\n",
        "          'Disagree',\n",
        "          'Strongly Disagree']\n",
        "\n",
        "plt.xticks(responses, labels, rotation=30);\n",
        "pmf.values[0] + pmf.values[1]"
      ],
      "execution_count": 0,
      "outputs": [
        {
          "output_type": "execute_result",
          "data": {
            "text/plain": [
              "0.730730393806799"
            ]
          },
          "metadata": {
            "tags": []
          },
          "execution_count": 33
        },
        {
          "output_type": "display_data",
          "data": {
            "image/png": "[encoded data removed]",
            "text/plain": [
              "<Figure size 432x288 with 1 Axes>"
            ]
          },
          "metadata": {
            "tags": []
          }
        }
      ]
    },
    {
      "cell_type": "markdown",
      "metadata": {
        "id": "KzL6lcnrlow3",
        "colab_type": "text"
      },
      "source": [
        "Over the entire interval of the survey, 73  percent of people agree or strongly agree that it is sometimes necessary to discipline a child with a good, hard sparking. "
      ]
    },
    {
      "cell_type": "markdown",
      "metadata": {
        "id": "DDzwU133low4",
        "colab_type": "text"
      },
      "source": [
        "## Responses over time\n",
        "\n",
        "If we make a cross tabulation of `year` and the variable of interest, we get the distribution of responses over time."
      ]
    },
    {
      "cell_type": "code",
      "metadata": {
        "id": "thHO1GWtlow5",
        "colab_type": "code",
        "outputId": "e91a2093-a0c3-409c-c941-a3051a028e0a",
        "colab": {
          "base_uri": "https://localhost:8080/",
          "height": 238
        }
      },
      "source": [
        "xtab = pd.crosstab(gss['year'], gss['spanking'], normalize='index')\n",
        "xtab.head()"
      ],
      "execution_count": 0,
      "outputs": [
        {
          "output_type": "execute_result",
          "data": {
            "text/html": [
              "<div>\n",
              "<style scoped>\n",
              "    .dataframe tbody tr th:only-of-type {\n",
              "        vertical-align: middle;\n",
              "    }\n",
              "\n",
              "    .dataframe tbody tr th {\n",
              "        vertical-align: top;\n",
              "    }\n",
              "\n",
              "    .dataframe thead th {\n",
              "        text-align: right;\n",
              "    }\n",
              "</style>\n",
              "<table border=\"1\" class=\"dataframe\">\n",
              "  <thead>\n",
              "    <tr style=\"text-align: right;\">\n",
              "      <th>spanking</th>\n",
              "      <th>1.0</th>\n",
              "      <th>2.0</th>\n",
              "      <th>3.0</th>\n",
              "      <th>4.0</th>\n",
              "    </tr>\n",
              "    <tr>\n",
              "      <th>year</th>\n",
              "      <th></th>\n",
              "      <th></th>\n",
              "      <th></th>\n",
              "      <th></th>\n",
              "    </tr>\n",
              "  </thead>\n",
              "  <tbody>\n",
              "    <tr>\n",
              "      <th>1986</th>\n",
              "      <td>0.273785</td>\n",
              "      <td>0.565366</td>\n",
              "      <td>0.132101</td>\n",
              "      <td>0.028747</td>\n",
              "    </tr>\n",
              "    <tr>\n",
              "      <th>1988</th>\n",
              "      <td>0.324841</td>\n",
              "      <td>0.501062</td>\n",
              "      <td>0.125265</td>\n",
              "      <td>0.048832</td>\n",
              "    </tr>\n",
              "    <tr>\n",
              "      <th>1989</th>\n",
              "      <td>0.317194</td>\n",
              "      <td>0.426877</td>\n",
              "      <td>0.178854</td>\n",
              "      <td>0.077075</td>\n",
              "    </tr>\n",
              "    <tr>\n",
              "      <th>1990</th>\n",
              "      <td>0.276619</td>\n",
              "      <td>0.500549</td>\n",
              "      <td>0.177827</td>\n",
              "      <td>0.045005</td>\n",
              "    </tr>\n",
              "    <tr>\n",
              "      <th>1991</th>\n",
              "      <td>0.271642</td>\n",
              "      <td>0.477612</td>\n",
              "      <td>0.203980</td>\n",
              "      <td>0.046766</td>\n",
              "    </tr>\n",
              "  </tbody>\n",
              "</table>\n",
              "</div>"
            ],
            "text/plain": [
              "spanking       1.0       2.0       3.0       4.0\n",
              "year                                            \n",
              "1986      0.273785  0.565366  0.132101  0.028747\n",
              "1988      0.324841  0.501062  0.125265  0.048832\n",
              "1989      0.317194  0.426877  0.178854  0.077075\n",
              "1990      0.276619  0.500549  0.177827  0.045005\n",
              "1991      0.271642  0.477612  0.203980  0.046766"
            ]
          },
          "metadata": {
            "tags": []
          },
          "execution_count": 34
        }
      ]
    },
    {
      "cell_type": "code",
      "metadata": {
        "id": "at9UdUY6low-",
        "colab_type": "code",
        "outputId": "2bc50367-5a6a-4a82-f94b-15e953934788",
        "colab": {
          "base_uri": "https://localhost:8080/",
          "height": 238
        }
      },
      "source": [
        "xtab.tail()"
      ],
      "execution_count": 0,
      "outputs": [
        {
          "output_type": "execute_result",
          "data": {
            "text/html": [
              "<div>\n",
              "<style scoped>\n",
              "    .dataframe tbody tr th:only-of-type {\n",
              "        vertical-align: middle;\n",
              "    }\n",
              "\n",
              "    .dataframe tbody tr th {\n",
              "        vertical-align: top;\n",
              "    }\n",
              "\n",
              "    .dataframe thead th {\n",
              "        text-align: right;\n",
              "    }\n",
              "</style>\n",
              "<table border=\"1\" class=\"dataframe\">\n",
              "  <thead>\n",
              "    <tr style=\"text-align: right;\">\n",
              "      <th>spanking</th>\n",
              "      <th>1.0</th>\n",
              "      <th>2.0</th>\n",
              "      <th>3.0</th>\n",
              "      <th>4.0</th>\n",
              "    </tr>\n",
              "    <tr>\n",
              "      <th>year</th>\n",
              "      <th></th>\n",
              "      <th></th>\n",
              "      <th></th>\n",
              "      <th></th>\n",
              "    </tr>\n",
              "  </thead>\n",
              "  <tbody>\n",
              "    <tr>\n",
              "      <th>2010</th>\n",
              "      <td>0.230095</td>\n",
              "      <td>0.469686</td>\n",
              "      <td>0.229364</td>\n",
              "      <td>0.070855</td>\n",
              "    </tr>\n",
              "    <tr>\n",
              "      <th>2012</th>\n",
              "      <td>0.229547</td>\n",
              "      <td>0.467037</td>\n",
              "      <td>0.209690</td>\n",
              "      <td>0.093725</td>\n",
              "    </tr>\n",
              "    <tr>\n",
              "      <th>2014</th>\n",
              "      <td>0.227300</td>\n",
              "      <td>0.474184</td>\n",
              "      <td>0.213056</td>\n",
              "      <td>0.085460</td>\n",
              "    </tr>\n",
              "    <tr>\n",
              "      <th>2016</th>\n",
              "      <td>0.252006</td>\n",
              "      <td>0.407705</td>\n",
              "      <td>0.250401</td>\n",
              "      <td>0.089888</td>\n",
              "    </tr>\n",
              "    <tr>\n",
              "      <th>2018</th>\n",
              "      <td>0.220408</td>\n",
              "      <td>0.475510</td>\n",
              "      <td>0.230612</td>\n",
              "      <td>0.073469</td>\n",
              "    </tr>\n",
              "  </tbody>\n",
              "</table>\n",
              "</div>"
            ],
            "text/plain": [
              "spanking       1.0       2.0       3.0       4.0\n",
              "year                                            \n",
              "2010      0.230095  0.469686  0.229364  0.070855\n",
              "2012      0.229547  0.467037  0.209690  0.093725\n",
              "2014      0.227300  0.474184  0.213056  0.085460\n",
              "2016      0.252006  0.407705  0.250401  0.089888\n",
              "2018      0.220408  0.475510  0.230612  0.073469"
            ]
          },
          "metadata": {
            "tags": []
          },
          "execution_count": 35
        }
      ]
    },
    {
      "cell_type": "markdown",
      "metadata": {
        "id": "lJcaeAyxloxC",
        "colab_type": "text"
      },
      "source": [
        "Now we can plot the results."
      ]
    },
    {
      "cell_type": "code",
      "metadata": {
        "id": "mdFz6nNwloxE",
        "colab_type": "code",
        "outputId": "63259bbf-3705-4cc0-9d60-e89fe56ec071",
        "colab": {
          "base_uri": "https://localhost:8080/",
          "height": 297
        }
      },
      "source": [
        "for response, label in zip(responses, labels):\n",
        "    xtab[response].plot(label=label)\n",
        "\n",
        "decorate(xlabel='Year',\n",
        "         ylabel='Percentage',\n",
        "         xlim=[1986, 2019],\n",
        "         title='Attitudes about Spanking Children')\n",
        "\n",
        "plt.legend();"
      ],
      "execution_count": 0,
      "outputs": [
        {
          "output_type": "display_data",
          "data": {
            "image/png": "[encoded data removed]",
            "text/plain": [
              "<Figure size 432x288 with 1 Axes>"
            ]
          },
          "metadata": {
            "tags": []
          }
        }
      ]
    },
    {
      "cell_type": "markdown",
      "metadata": {
        "id": "5KEdWRSSloxH",
        "colab_type": "text"
      },
      "source": [
        "Over the time of the survey, the majority of respondents have agreed that it is sometimes necessary to discilpine a child with spanking. There has been a trend towards more people disagreeing with child spanking, particuarly in the early 2000s."
      ]
    },
    {
      "cell_type": "markdown",
      "metadata": {
        "id": "s2BJ5dSrloxJ",
        "colab_type": "text"
      },
      "source": [
        "## Political alignment\n",
        "\n",
        "To explore the relationship between this variable and political alignment, I'll recode political alignment into three groups:"
      ]
    },
    {
      "cell_type": "code",
      "metadata": {
        "id": "n4JCb5XWloxL",
        "colab_type": "code",
        "colab": {}
      },
      "source": [
        "d_polviews = {1: 'Liberal', \n",
        "              2: 'Liberal', \n",
        "              3: 'Liberal', \n",
        "              4: 'Moderate', \n",
        "              5: 'Conservative', \n",
        "              6: 'Conservative', \n",
        "              7: 'Conservative'}"
      ],
      "execution_count": 0,
      "outputs": []
    },
    {
      "cell_type": "markdown",
      "metadata": {
        "id": "kok_u9jyloxO",
        "colab_type": "text"
      },
      "source": [
        "I'll use `replace`, as we've seen before, and store the result as a new column in the DataFrame."
      ]
    },
    {
      "cell_type": "code",
      "metadata": {
        "id": "ZxLXUcrAloxQ",
        "colab_type": "code",
        "colab": {}
      },
      "source": [
        "gss['polviews3'] = gss['polviews'].replace(d_polviews)"
      ],
      "execution_count": 0,
      "outputs": []
    },
    {
      "cell_type": "markdown",
      "metadata": {
        "id": "cVbmfeFMloxT",
        "colab_type": "text"
      },
      "source": [
        "With this scale, there are roughly the same number of people in each group."
      ]
    },
    {
      "cell_type": "code",
      "metadata": {
        "id": "f5JQZj4cloxU",
        "colab_type": "code",
        "outputId": "2539734d-23a9-4149-e15c-c5b6c959a673",
        "colab": {
          "base_uri": "https://localhost:8080/",
          "height": 86
        }
      },
      "source": [
        "values(gss['polviews3'])"
      ],
      "execution_count": 0,
      "outputs": [
        {
          "output_type": "execute_result",
          "data": {
            "text/plain": [
              "Conservative    19129\n",
              "Liberal         14979\n",
              "Moderate        21444\n",
              "Name: polviews3, dtype: int64"
            ]
          },
          "metadata": {
            "tags": []
          },
          "execution_count": 42
        }
      ]
    },
    {
      "cell_type": "code",
      "metadata": {
        "id": "elZ0AgZhZPra",
        "colab_type": "code",
        "colab": {}
      },
      "source": [
        ""
      ],
      "execution_count": 0,
      "outputs": []
    },
    {
      "cell_type": "code",
      "metadata": {
        "id": "Pfg-rrkTloxY",
        "colab_type": "code",
        "outputId": "53976b00-e6b2-4da8-aad5-a72aa6a1cd4a",
        "colab": {
          "base_uri": "https://localhost:8080/",
          "height": 297
        }
      },
      "source": [
        "pmf = Pmf.from_seq(gss['polviews3'])\n",
        "pmf.bar(color='C1', alpha=0.7)\n",
        "\n",
        "decorate(xlabel='Political alignment',\n",
        "         ylabel='PMF',\n",
        "         title='Distribution of political alignment')"
      ],
      "execution_count": 0,
      "outputs": [
        {
          "output_type": "display_data",
          "data": {
            "image/png": "[encoded data removed]",
            "text/plain": [
              "<Figure size 432x288 with 1 Axes>"
            ]
          },
          "metadata": {
            "tags": []
          }
        }
      ]
    },
    {
      "cell_type": "markdown",
      "metadata": {
        "id": "1aHcLIFYloxb",
        "colab_type": "text"
      },
      "source": [
        "## Group by political alignment\n",
        "\n",
        "Now we can use `groupby` to group the respondents by political alignment."
      ]
    },
    {
      "cell_type": "code",
      "metadata": {
        "id": "tPvBxI5Gloxb",
        "colab_type": "code",
        "colab": {}
      },
      "source": [
        "by_polviews = gss.groupby('polviews3')"
      ],
      "execution_count": 0,
      "outputs": []
    },
    {
      "cell_type": "markdown",
      "metadata": {
        "id": "S0_3kul7loxf",
        "colab_type": "text"
      },
      "source": [
        "Next I will plot the distribution of responses in each group.\n",
        "\n",
        "But first I'll make a dictionary that maps from each group to a color."
      ]
    },
    {
      "cell_type": "code",
      "metadata": {
        "id": "iOw6tgmNloxg",
        "colab_type": "code",
        "outputId": "82e8ce59-3176-45bd-d799-19debb42d722",
        "colab": {
          "base_uri": "https://localhost:8080/",
          "height": 89
        }
      },
      "source": [
        "muted = sns.color_palette('muted', 5)\n",
        "sns.palplot(muted)"
      ],
      "execution_count": 0,
      "outputs": [
        {
          "output_type": "display_data",
          "data": {
            "image/png": "[encoded data removed]",
            "text/plain": [
              "<Figure size 360x72 with 1 Axes>"
            ]
          },
          "metadata": {
            "tags": []
          }
        }
      ]
    },
    {
      "cell_type": "code",
      "metadata": {
        "id": "zH4UAMNHloxk",
        "colab_type": "code",
        "colab": {}
      },
      "source": [
        "color_map = {'Conservative': muted[3], \n",
        "              'Moderate': muted[4], \n",
        "               'Liberal': muted[0]}"
      ],
      "execution_count": 0,
      "outputs": []
    },
    {
      "cell_type": "markdown",
      "metadata": {
        "id": "5mffNhM0loxp",
        "colab_type": "text"
      },
      "source": [
        "Now I'll make a PMF of responses for each group."
      ]
    },
    {
      "cell_type": "code",
      "metadata": {
        "id": "6lrtACY9loxr",
        "colab_type": "code",
        "outputId": "28fde644-7c2d-4cab-ffe8-b6b76f935fad",
        "colab": {
          "base_uri": "https://localhost:8080/",
          "height": 857
        }
      },
      "source": [
        "for name in color_map:\n",
        "    group = by_polviews.get_group(name)\n",
        "    \n",
        "    plt.figure()\n",
        "    pmf = Pmf.from_seq(group['spanking'])\n",
        "    pmf.bar(label=name, color=color_map[name], alpha=0.7)\n",
        "    \n",
        "    decorate(xlabel='Response',\n",
        "             ylabel='PMF',\n",
        "             title='Distribution of responses')\n",
        "    \n",
        "    plt.legend()"
      ],
      "execution_count": 0,
      "outputs": [
        {
          "output_type": "display_data",
          "data": {
            "image/png": "[encoded data removed]",
            "text/plain": [
              "<Figure size 432x288 with 1 Axes>"
            ]
          },
          "metadata": {
            "tags": []
          }
        },
        {
          "output_type": "display_data",
          "data": {
            "image/png": "[encoded data removed]",
            "text/plain": [
              "<Figure size 432x288 with 1 Axes>"
            ]
          },
          "metadata": {
            "tags": []
          }
        },
        {
          "output_type": "display_data",
          "data": {
            "image/png": "[encoded data removed]",
            "text/plain": [
              "<Figure size 432x288 with 1 Axes>"
            ]
          },
          "metadata": {
            "tags": []
          }
        }
      ]
    },
    {
      "cell_type": "markdown",
      "metadata": {
        "id": "2fijmODgloxv",
        "colab_type": "text"
      },
      "source": [
        "When you write your report, you should add a few sentences here to interpret the results.\n",
        "\n",
        "But again, the results are an average over the entire interval of the survey, so you should not interpet it as a current condition."
      ]
    },
    {
      "cell_type": "markdown",
      "metadata": {
        "id": "3Z7SXNUaloxw",
        "colab_type": "text"
      },
      "source": [
        "## Recode\n",
        "\n",
        "For each group, we could compute the mean of the responses, but it would be hard to interpret. So we'll recode the variable of interest to make the mean more... meaningful.\n",
        "\n",
        "For the variable I chose, a majority of respondents chose \"always wrong\".  I'll use that as my baseline response with code 1, and lump the other responses with code 0."
      ]
    },
    {
      "cell_type": "code",
      "metadata": {
        "id": "npgXc9xZloxx",
        "colab_type": "code",
        "colab": {}
      },
      "source": [
        "d_recode = {1:1, 2:0, 3:0, 4:0}"
      ],
      "execution_count": 0,
      "outputs": []
    },
    {
      "cell_type": "markdown",
      "metadata": {
        "id": "TKSdI59Tlox0",
        "colab_type": "text"
      },
      "source": [
        "We can use `replace` to recode the values and store the result as a new column in the DataFrame."
      ]
    },
    {
      "cell_type": "code",
      "metadata": {
        "id": "iJcWW2Hrlox1",
        "colab_type": "code",
        "colab": {}
      },
      "source": [
        "gss['recoded'] = gss['homosex'].replace(d_recode)"
      ],
      "execution_count": 0,
      "outputs": []
    },
    {
      "cell_type": "markdown",
      "metadata": {
        "id": "WK2TYd2yloyE",
        "colab_type": "text"
      },
      "source": [
        "And we'll use `values` to check whether it worked."
      ]
    },
    {
      "cell_type": "code",
      "metadata": {
        "id": "0U1Y58YDloyE",
        "colab_type": "code",
        "outputId": "4b05b0ad-a0ae-4754-df5f-19c603850d22",
        "colab": {}
      },
      "source": [
        "values(gss['recoded'])"
      ],
      "execution_count": 0,
      "outputs": [
        {
          "output_type": "execute_result",
          "data": {
            "text/plain": [
              "0.0    14127\n",
              "1.0    23545\n",
              "Name: recoded, dtype: int64"
            ]
          },
          "metadata": {
            "tags": []
          },
          "execution_count": 32
        }
      ]
    },
    {
      "cell_type": "markdown",
      "metadata": {
        "id": "DoJ0zEahloyH",
        "colab_type": "text"
      },
      "source": [
        "Now if we compute the mean, we can interpret it as \"the fraction of respondents who think same-sex sexual relations are always wrong\"."
      ]
    },
    {
      "cell_type": "code",
      "metadata": {
        "id": "bbN5AwLCloyI",
        "colab_type": "code",
        "outputId": "24a7ae57-9bfa-4d77-e729-ac9fc2f9957d",
        "colab": {}
      },
      "source": [
        "gss['recoded'].mean()"
      ],
      "execution_count": 0,
      "outputs": [
        {
          "output_type": "execute_result",
          "data": {
            "text/plain": [
              "0.625"
            ]
          },
          "metadata": {
            "tags": []
          },
          "execution_count": 33
        }
      ]
    },
    {
      "cell_type": "markdown",
      "metadata": {
        "id": "kXU3ErnployL",
        "colab_type": "text"
      },
      "source": [
        "## Average by group\n",
        "\n"
      ]
    },
    {
      "cell_type": "markdown",
      "metadata": {
        "id": "UQ7WrwNOloyM",
        "colab_type": "text"
      },
      "source": [
        "Now we can compute the mean of the recoded variable in each group."
      ]
    },
    {
      "cell_type": "code",
      "metadata": {
        "id": "T9XdPfXhloyM",
        "colab_type": "code",
        "outputId": "1b1d1966-00cf-4dfc-f868-d509ec74f5b9",
        "colab": {}
      },
      "source": [
        "means = by_polviews['recoded'].mean()\n",
        "means"
      ],
      "execution_count": 0,
      "outputs": [
        {
          "output_type": "execute_result",
          "data": {
            "text/plain": [
              "polviews3\n",
              "Conservative    0.740192\n",
              "Liberal         0.435024\n",
              "Moderate        0.629199\n",
              "Name: recoded, dtype: float32"
            ]
          },
          "metadata": {
            "tags": []
          },
          "execution_count": 34
        }
      ]
    },
    {
      "cell_type": "markdown",
      "metadata": {
        "id": "oChkN8SzloyP",
        "colab_type": "text"
      },
      "source": [
        "To get the values in a particular order, we can use the group names as an index:"
      ]
    },
    {
      "cell_type": "code",
      "metadata": {
        "id": "D6luabJzloyR",
        "colab_type": "code",
        "outputId": "201ccdd7-f5f6-41ec-c75b-a7fc985f92fa",
        "colab": {}
      },
      "source": [
        "names = color_map.keys()\n",
        "names"
      ],
      "execution_count": 0,
      "outputs": [
        {
          "output_type": "execute_result",
          "data": {
            "text/plain": [
              "dict_keys(['Conservative', 'Moderate', 'Liberal'])"
            ]
          },
          "metadata": {
            "tags": []
          },
          "execution_count": 35
        }
      ]
    },
    {
      "cell_type": "code",
      "metadata": {
        "id": "XddJI4eUloyU",
        "colab_type": "code",
        "outputId": "72c51f6d-81ec-4627-815c-9d2876fffb00",
        "colab": {}
      },
      "source": [
        "means[names]"
      ],
      "execution_count": 0,
      "outputs": [
        {
          "output_type": "execute_result",
          "data": {
            "text/plain": [
              "polviews3\n",
              "Conservative    0.740192\n",
              "Moderate        0.629199\n",
              "Liberal         0.435024\n",
              "Name: recoded, dtype: float32"
            ]
          },
          "metadata": {
            "tags": []
          },
          "execution_count": 36
        }
      ]
    },
    {
      "cell_type": "markdown",
      "metadata": {
        "id": "YxiAzB_1loyW",
        "colab_type": "text"
      },
      "source": [
        "Now we can make a bar plot with color-coded bars:"
      ]
    },
    {
      "cell_type": "code",
      "metadata": {
        "id": "09oHqYfLloyX",
        "colab_type": "code",
        "outputId": "4f9d3377-7f23-491f-fb7c-67e3bd396598",
        "colab": {}
      },
      "source": [
        "colors = color_map.values()\n",
        "\n",
        "means[names].plot(kind='bar', color=colors, alpha=0.7)\n",
        "\n",
        "decorate(xlabel='Political alignment',\n",
        "         ylabel='Fraction saying yes',\n",
        "         title='Are same-sex sexual relations always wrong?')\n",
        "\n",
        "plt.xticks(rotation='30');"
      ],
      "execution_count": 0,
      "outputs": [
        {
          "output_type": "display_data",
          "data": {
            "image/png": "[encoded data removed]",
            "text/plain": [
              "<Figure size 432x288 with 1 Axes>"
            ]
          },
          "metadata": {
            "tags": [],
            "needs_background": "light"
          }
        }
      ]
    },
    {
      "cell_type": "markdown",
      "metadata": {
        "id": "gdlX2KFMloyZ",
        "colab_type": "text"
      },
      "source": [
        "When you write your report, you should add a few sentences here to interpret the results you get for your variable."
      ]
    },
    {
      "cell_type": "markdown",
      "metadata": {
        "id": "NfhgBgLPloyb",
        "colab_type": "text"
      },
      "source": [
        "## Time series\n",
        "\n",
        "As we saw in previous notebooks, we can use `groupby` to group responses by year."
      ]
    },
    {
      "cell_type": "code",
      "metadata": {
        "id": "5cV4KFfkloyc",
        "colab_type": "code",
        "colab": {}
      },
      "source": [
        "by_year = gss.groupby('year')"
      ],
      "execution_count": 0,
      "outputs": []
    },
    {
      "cell_type": "markdown",
      "metadata": {
        "id": "OPeOoTIoloyf",
        "colab_type": "text"
      },
      "source": [
        "From the result we can select the recoded variable and compute the mean."
      ]
    },
    {
      "cell_type": "code",
      "metadata": {
        "id": "WRa4s2tCloyg",
        "colab_type": "code",
        "colab": {}
      },
      "source": [
        "time_series = by_year['recoded'].mean()"
      ],
      "execution_count": 0,
      "outputs": []
    },
    {
      "cell_type": "markdown",
      "metadata": {
        "id": "5FUUf4l8loyl",
        "colab_type": "text"
      },
      "source": [
        "And we can plot the results with the data points themselves as circles and a local regression model as a line."
      ]
    },
    {
      "cell_type": "code",
      "metadata": {
        "id": "Ep8FzX-sloym",
        "colab_type": "code",
        "outputId": "9f6067a7-6378-4231-dab5-3b3524787e9f",
        "colab": {}
      },
      "source": [
        "plot_series_lowess(time_series, 'C1')\n",
        "\n",
        "decorate(xlabel='Year',\n",
        "         ylabel='Fraction saying yes',\n",
        "         xlim=[1970, 2020],\n",
        "         title='Are same-sex sexual relations always wrong?')"
      ],
      "execution_count": 0,
      "outputs": [
        {
          "output_type": "display_data",
          "data": {
            "image/png": "[encoded data removed]",
            "text/plain": [
              "<Figure size 432x288 with 1 Axes>"
            ]
          },
          "metadata": {
            "tags": [],
            "needs_background": "light"
          }
        }
      ]
    },
    {
      "cell_type": "markdown",
      "metadata": {
        "id": "Rd22aR9Jloyr",
        "colab_type": "text"
      },
      "source": [
        "Again, you should add some text here to interpret the results you get for your variable."
      ]
    },
    {
      "cell_type": "markdown",
      "metadata": {
        "id": "Ws8h7uRZloys",
        "colab_type": "text"
      },
      "source": [
        "## Time series by group\n",
        "\n",
        "So far, we have grouped by `polviews3` and computed the mean of the variable of interest in each group.\n",
        "\n",
        "Then we grouped by `year` and computed the mean for each year.\n",
        "\n",
        "Now we'll use `pivot_table` to compute the mean in each group for each year."
      ]
    },
    {
      "cell_type": "code",
      "metadata": {
        "id": "Ehjhpj3floys",
        "colab_type": "code",
        "colab": {}
      },
      "source": [
        "table = gss.pivot_table(values='recoded', \n",
        "                        index='year', \n",
        "                        columns='polviews3', \n",
        "                        aggfunc='mean')"
      ],
      "execution_count": 0,
      "outputs": []
    },
    {
      "cell_type": "markdown",
      "metadata": {
        "id": "bHUxRSFvloyv",
        "colab_type": "text"
      },
      "source": [
        "The result is a table that has years running down the rows and political alignment running across the columns.\n",
        "\n",
        "Each entry in the table is the mean of the variable of interest for a given group in a given year."
      ]
    },
    {
      "cell_type": "code",
      "metadata": {
        "id": "NXvcah1Ployv",
        "colab_type": "code",
        "outputId": "1e9d569a-4518-426d-b9fb-1c98fcda6a23",
        "colab": {}
      },
      "source": [
        "table.head()"
      ],
      "execution_count": 0,
      "outputs": [
        {
          "output_type": "execute_result",
          "data": {
            "text/html": [
              "<div>\n",
              "<style scoped>\n",
              "    .dataframe tbody tr th:only-of-type {\n",
              "        vertical-align: middle;\n",
              "    }\n",
              "\n",
              "    .dataframe tbody tr th {\n",
              "        vertical-align: top;\n",
              "    }\n",
              "\n",
              "    .dataframe thead th {\n",
              "        text-align: right;\n",
              "    }\n",
              "</style>\n",
              "<table border=\"1\" class=\"dataframe\">\n",
              "  <thead>\n",
              "    <tr style=\"text-align: right;\">\n",
              "      <th>polviews3</th>\n",
              "      <th>Conservative</th>\n",
              "      <th>Liberal</th>\n",
              "      <th>Moderate</th>\n",
              "    </tr>\n",
              "    <tr>\n",
              "      <th>year</th>\n",
              "      <th></th>\n",
              "      <th></th>\n",
              "      <th></th>\n",
              "    </tr>\n",
              "  </thead>\n",
              "  <tbody>\n",
              "    <tr>\n",
              "      <th>1974</th>\n",
              "      <td>0.825758</td>\n",
              "      <td>0.584577</td>\n",
              "      <td>0.790837</td>\n",
              "    </tr>\n",
              "    <tr>\n",
              "      <th>1976</th>\n",
              "      <td>0.775000</td>\n",
              "      <td>0.489848</td>\n",
              "      <td>0.716698</td>\n",
              "    </tr>\n",
              "    <tr>\n",
              "      <th>1977</th>\n",
              "      <td>0.823666</td>\n",
              "      <td>0.564165</td>\n",
              "      <td>0.769772</td>\n",
              "    </tr>\n",
              "    <tr>\n",
              "      <th>1980</th>\n",
              "      <td>0.834906</td>\n",
              "      <td>0.539130</td>\n",
              "      <td>0.740171</td>\n",
              "    </tr>\n",
              "    <tr>\n",
              "      <th>1982</th>\n",
              "      <td>0.801126</td>\n",
              "      <td>0.599198</td>\n",
              "      <td>0.811820</td>\n",
              "    </tr>\n",
              "  </tbody>\n",
              "</table>\n",
              "</div>"
            ],
            "text/plain": [
              "polviews3  Conservative   Liberal  Moderate\n",
              "year                                       \n",
              "1974           0.825758  0.584577  0.790837\n",
              "1976           0.775000  0.489848  0.716698\n",
              "1977           0.823666  0.564165  0.769772\n",
              "1980           0.834906  0.539130  0.740171\n",
              "1982           0.801126  0.599198  0.811820"
            ]
          },
          "metadata": {
            "tags": []
          },
          "execution_count": 42
        }
      ]
    },
    {
      "cell_type": "markdown",
      "metadata": {
        "id": "cqAbxRSxloyy",
        "colab_type": "text"
      },
      "source": [
        "## Plotting the results"
      ]
    },
    {
      "cell_type": "markdown",
      "metadata": {
        "id": "023g-exxloyz",
        "colab_type": "text"
      },
      "source": [
        "Now we can use `plot_columns_lowess` to see the results."
      ]
    },
    {
      "cell_type": "code",
      "metadata": {
        "id": "87aGpcLrloy0",
        "colab_type": "code",
        "colab": {}
      },
      "source": [
        "columns = ['Conservative', 'Moderate', 'Liberal']"
      ],
      "execution_count": 0,
      "outputs": []
    },
    {
      "cell_type": "code",
      "metadata": {
        "id": "HVUFSJ7_loy2",
        "colab_type": "code",
        "outputId": "af09e279-a435-4c29-9fcb-09988c85da53",
        "colab": {}
      },
      "source": [
        "plot_columns_lowess(table, columns, color_map)\n",
        "\n",
        "decorate(xlabel='Year',\n",
        "         ylabel='Fraction saying yes',\n",
        "         xlim=[1970, 2020],\n",
        "         title='Are same-sex sexual relations always wrong?')\n",
        "\n",
        "plt.legend();"
      ],
      "execution_count": 0,
      "outputs": [
        {
          "output_type": "display_data",
          "data": {
            "image/png": "[encoded data removed]",
            "text/plain": [
              "<Figure size 432x288 with 1 Axes>"
            ]
          },
          "metadata": {
            "tags": [],
            "needs_background": "light"
          }
        }
      ]
    },
    {
      "cell_type": "markdown",
      "metadata": {
        "id": "M7jyeeSTloy5",
        "colab_type": "text"
      },
      "source": [
        "You should write a few sentences here to interpret the results."
      ]
    },
    {
      "cell_type": "markdown",
      "metadata": {
        "id": "QxKOUO3uloy7",
        "colab_type": "text"
      },
      "source": [
        "## Resampling\n",
        "\n",
        "The figures we have generated so far in this notebook are based on a single resampling of the GSS data.  Some of the features we see in these figures might be due to random sampling rather than actual changes in the world.\n",
        "\n",
        "By generating the same figures with different resampled datasets, we can get a sense of how much variation there is due to random sampling.\n",
        "\n",
        "To make that easier, the following function contains the code from the previous analysis all in one place.\n",
        "\n",
        "You will probably have to update this function with any changes you made in my code."
      ]
    },
    {
      "cell_type": "code",
      "metadata": {
        "id": "w2aUEyMkloy7",
        "colab_type": "code",
        "colab": {}
      },
      "source": [
        "def plot_by_polviews(gss):\n",
        "    \"\"\"Plot mean response by polviews and year.\n",
        "    \n",
        "    gss: DataFrame\n",
        "    \"\"\"\n",
        "    gss['polviews3'] = gss['polviews'].replace(d_polviews)\n",
        "    gss['recoded'] = gss['homosex'].replace(d_recode)\n",
        "    \n",
        "    table = gss.pivot_table(values='recoded', \n",
        "                        index='year', \n",
        "                        columns='polviews3', \n",
        "                        aggfunc='mean')\n",
        "\n",
        "    plot_columns_lowess(table, columns, color_map)\n",
        "\n",
        "    decorate(xlabel='Year',\n",
        "             ylabel='Fraction saying yes',\n",
        "             xlim=[1970, 2020],\n",
        "             title='Are same-sex relations always wrong?')"
      ],
      "execution_count": 0,
      "outputs": []
    },
    {
      "cell_type": "markdown",
      "metadata": {
        "id": "YAWLCSKrloy9",
        "colab_type": "text"
      },
      "source": [
        "Now we can loop through the three resampled datasets in the HDF5 file and generate a figure for each one."
      ]
    },
    {
      "cell_type": "code",
      "metadata": {
        "id": "27rwnCzQloy_",
        "colab_type": "code",
        "outputId": "a0f49e4e-ddc5-4eb4-b4e5-2f396ca78daf",
        "colab": {}
      },
      "source": [
        "for key in ['gss0', 'gss1', 'gss2']:\n",
        "    df = pd.read_hdf('gss_eda.3.hdf5', key)\n",
        "\n",
        "    plt.figure()\n",
        "    plot_by_polviews(df)"
      ],
      "execution_count": 0,
      "outputs": [
        {
          "output_type": "display_data",
          "data": {
            "image/png": "[encoded data removed]",
            "text/plain": [
              "<Figure size 432x288 with 1 Axes>"
            ]
          },
          "metadata": {
            "tags": [],
            "needs_background": "light"
          }
        },
        {
          "output_type": "display_data",
          "data": {
            "image/png": "[encoded data removed]",
            "text/plain": [
              "<Figure size 432x288 with 1 Axes>"
            ]
          },
          "metadata": {
            "tags": [],
            "needs_background": "light"
          }
        },
        {
          "output_type": "display_data",
          "data": {
            "image/png": "[encoded data removed]",
            "text/plain": [
              "<Figure size 432x288 with 1 Axes>"
            ]
          },
          "metadata": {
            "tags": [],
            "needs_background": "light"
          }
        }
      ]
    },
    {
      "cell_type": "markdown",
      "metadata": {
        "id": "SaWfm0TOlozC",
        "colab_type": "text"
      },
      "source": [
        "You should review your interpretation in the previous section to see how it holds up to resampling.  If you see an effect that is consistent in all three figures, it is less likely to be an artifact of random sampling.\n",
        "\n",
        "If it varies from one resampling to the next, you should probably not take it too seriously."
      ]
    },
    {
      "cell_type": "markdown",
      "metadata": {
        "id": "BoE2GxaglozC",
        "colab_type": "text"
      },
      "source": [
        "## Publishing your report\n",
        "\n",
        "If you would like to publish your results as a report, here's how:\n",
        "\n",
        "0) Make sure you have saved your modified version of this notebook with an appropriate file name.\n",
        "\n",
        "1) Write your report by filling in the template below.\n",
        "\n",
        "2) Move your filled-in template to the top of the notebook.\n",
        "\n",
        "3) Hide or delete the cells a reader does not need to see.\n",
        "\n",
        "4) If you are running on Colab, use the Share button in the upper right to get a link you can share.\n",
        "\n",
        "5) Share the link with anyone who might be interested in your report.\n",
        "\n",
        "If you would like your report to be included in my collection, and possibly published on my blog, you can [use this form to submit it](https://forms.gle/ak3srpQM5qsMwRbA8).\n",
        "\n",
        "As an example, I wrote up [the results from this notebook in a blog article](https://www.allendowney.com/blog/2019/12/03/political-alignment-and-beliefs-about-homosexuality/)."
      ]
    },
    {
      "cell_type": "markdown",
      "metadata": {
        "id": "Yv2nF33xlozD",
        "colab_type": "text"
      },
      "source": [
        "(This is the report template: Fill in the information below, then delete everything in parentheses.)\n",
        "\n",
        "## Headline that summarizes your results\n",
        "\n",
        "By (Put your name here)\n",
        "\n",
        "(Today's date)\n",
        "\n",
        "(Write a sentence or two that summarizes what you found.  Maybe include a few numbers, rounded off to about 2 significant digits.)\n",
        "\n",
        "(Explain where the variable you chose to explore, what years it covers, and the number of respondents)\n",
        "\n",
        "(Explain the methodology)\n",
        "\n",
        "(Present 1-2 figures that show your results)\n",
        "\n",
        "(Interpret the figures for the reader)\n",
        "\n",
        "(Having seen these results, what other questions are raised?)\n",
        "\n",
        "(Include the following text, which attributes the source of this material)\n",
        "\n",
        "This is a modified version of a notebook by Allen Downey, [available here](https://github.com/AllenDowney/PoliticalAlignmentCaseStudy) under the [MIT License](https://en.wikipedia.org/wiki/MIT_License).\n",
        "\n",
        "(If you agree to make your modified version available under the MIT license, you should include the following text.)\n",
        "\n",
        "This modified version is also under the [MIT License](https://en.wikipedia.org/wiki/MIT_License)."
      ]
    },
    {
      "cell_type": "code",
      "metadata": {
        "id": "ZNJv2yeFlozF",
        "colab_type": "code",
        "colab": {}
      },
      "source": [
        ""
      ],
      "execution_count": 0,
      "outputs": []
    }
  ]
}
