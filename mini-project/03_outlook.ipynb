{
 "cells": [
  {
   "cell_type": "markdown",
   "metadata": {
    "colab_type": "text",
    "id": "tfeuMAhiBsCF"
   },
   "source": [
    "# Political Alignment Case Study\n",
    "\n",
    "Allen Downey\n",
    "\n",
    "[MIT License](https://en.wikipedia.org/wiki/MIT_License)"
   ]
  },
  {
   "cell_type": "markdown",
   "metadata": {
    "colab_type": "text",
    "id": "uZaVpJ3zBsCZ"
   },
   "source": [
    "### Introduction\n",
    "\n",
    "This is the third in a series of notebooks that make up a case study in exploratory data analysis.\n",
    "\n",
    "In this notebook, we explore the relationship between political alignment and three variables that reflect \"outlook\", specifically, beliefs about whether other people are generally t, helpful, and trustworthy.\n",
    "\n",
    "1. We use the Pandas function [`groupby`](https://pandas.pydata.org/pandas-docs/stable/reference/api/pandas.DataFrame.groupby.html) to compare the average response between groups and plot the average as a function of time.\n",
    "\n",
    "2. We use the Pandas function [`pivot table`](https://pandas.pydata.org/pandas-docs/stable/reference/api/pandas.pivot_table.html) to compute the average response within each group as a function of time.\n",
    "\n",
    "3. And we use resampling to see whether the features we see in the figures might be due to randomness, or whether they are likely to reflect actual changes in the works.\n",
    "\n",
    "I'll explore responses to the question about trustness; as an exercise, you will explore responses to questions about helpfulness and trustworthiness."
   ]
  },
  {
   "cell_type": "markdown",
   "metadata": {
    "colab_type": "text",
    "id": "rtIcTNMLBsCi"
   },
   "source": [
    "### Setup\n",
    "\n",
    "If everything we need is installed, the following cell should run without error."
   ]
  },
  {
   "cell_type": "code",
   "execution_count": null,
   "metadata": {
    "colab": {},
    "colab_type": "code",
    "id": "t6EDLVxHBsCo"
   },
   "outputs": [],
   "source": [
    "import pandas as pd\n",
    "import numpy as np\n",
    "import matplotlib.pyplot as plt\n",
    "import seaborn as sns"
   ]
  },
  {
   "cell_type": "markdown",
   "metadata": {
    "colab_type": "text",
    "id": "YA0p39Q3BsC5"
   },
   "source": [
    "The following cells define functions from previous notebooks we will use again."
   ]
  },
  {
   "cell_type": "code",
   "execution_count": null,
   "metadata": {
    "colab": {},
    "colab_type": "code",
    "id": "1ncTaKkRBsC9"
   },
   "outputs": [],
   "source": [
    "def values(series):\n",
    "    \"\"\"Count the values and sort.\n",
    "    \n",
    "    series: pd.Series\n",
    "    \n",
    "    returns: series mapping from values to frequencies\n",
    "    \"\"\"\n",
    "    return series.value_counts().sort_index()"
   ]
  },
  {
   "cell_type": "code",
   "execution_count": null,
   "metadata": {
    "colab": {},
    "colab_type": "code",
    "id": "vaxdX6_hBsDF"
   },
   "outputs": [],
   "source": [
    "def decorate(**options):\n",
    "    \"\"\"Decorate the current axes.\n",
    "    Call decorate with keyword arguments like\n",
    "    decorate(title='Title',\n",
    "             xlabel='x',\n",
    "             ylabel='y')\n",
    "    The keyword arguments can be any of the axis properties\n",
    "    https://matplotlib.org/api/axes_api.html\n",
    "    \"\"\"\n",
    "    plt.gca().set(**options)\n",
    "    plt.tight_layout()"
   ]
  },
  {
   "cell_type": "code",
   "execution_count": null,
   "metadata": {
    "colab": {},
    "colab_type": "code",
    "id": "EjnhfaCBBsDM"
   },
   "outputs": [],
   "source": [
    "from statsmodels.nonparametric.smoothers_lowess import lowess\n",
    "\n",
    "def make_lowess(series):\n",
    "    \"\"\"Use LOWESS to compute a smooth line.\n",
    "    \n",
    "    series: pd.Series\n",
    "    \n",
    "    returns: pd.Series\n",
    "    \"\"\"\n",
    "    y = series.values\n",
    "    x = series.index.values\n",
    "\n",
    "    smooth = lowess(y, x)\n",
    "    index, data = np.transpose(smooth)\n",
    "\n",
    "    return pd.Series(data, index=index) "
   ]
  },
  {
   "cell_type": "code",
   "execution_count": null,
   "metadata": {
    "colab": {},
    "colab_type": "code",
    "id": "72oaCVtdBsDT"
   },
   "outputs": [],
   "source": [
    "def plot_series_lowess(series, color):\n",
    "    \"\"\"Plots a series of data points and a smooth line.\n",
    "    \n",
    "    series: pd.Series\n",
    "    color: string or tuple\n",
    "    \"\"\"\n",
    "    series.plot(linewidth=0, marker='o', color=color, alpha=0.5)\n",
    "    smooth = make_lowess(series)\n",
    "    smooth.plot(label='_', color=color)"
   ]
  },
  {
   "cell_type": "code",
   "execution_count": null,
   "metadata": {
    "colab": {},
    "colab_type": "code",
    "id": "GQe3tPVRBsDX"
   },
   "outputs": [],
   "source": [
    "def plot_columns_lowess(table, columns, colors):\n",
    "    \"\"\"Plot the columns in a DataFrame.\n",
    "    \n",
    "    table: DataFrame with a cross tabulation\n",
    "    columns: list of column names, in the desired order\n",
    "    colors: mapping from column names to colors\n",
    "    \"\"\"\n",
    "    for col in columns:\n",
    "        series = table[col]\n",
    "        plot_series_lowess(series, colors[col])"
   ]
  },
  {
   "cell_type": "markdown",
   "metadata": {
    "colab_type": "text",
    "id": "yH8ni94-BsDd"
   },
   "source": [
    "### Loading the data\n",
    "\n",
    "In the first notebook, we downloaded GSS data, loaded and cleaned it, resampled it to correct for stratified sampling, and then saved the data in an HDF5 file, which is much faster to load.  In this and the following notebooks, we'll download the HDF5 file and load it.\n",
    "\n",
    "The following cell downloads the file."
   ]
  },
  {
   "cell_type": "code",
   "execution_count": 7,
   "metadata": {
    "colab": {
     "base_uri": "https://localhost:8080/",
     "height": 295
    },
    "colab_type": "code",
    "executionInfo": {
     "elapsed": 1820,
     "status": "ok",
     "timestamp": 1582467147798,
     "user": {
      "displayName": "Maeve Stites",
      "photoUrl": "https://lh3.googleusercontent.com/a-/AAuE7mCTpLCx642SdWwDWVYliC35_qT41YEhU8YAKFfj=s64",
      "userId": "04581142099517383196"
     },
     "user_tz": 300
    },
    "id": "tUK2DW_EBsDf",
    "outputId": "c1720f78-c9b4-4e8a-e315-fb5b112d51aa"
   },
   "outputs": [
    {
     "name": "stdout",
     "output_type": "stream",
     "text": [
      "--2020-02-24 02:12:22--  https://github.com/AllenDowney/PoliticalAlignmentCaseStudy/raw/master/gss_eda.3.hdf5\n",
      "Resolving github.com (github.com)... 192.30.253.113\n",
      "Connecting to github.com (github.com)|192.30.253.113|:443... connected.\n",
      "HTTP request sent, awaiting response... 302 Found\n",
      "Location: https://raw.githubusercontent.com/AllenDowney/PoliticalAlignmentCaseStudy/master/gss_eda.3.hdf5 [following]\n",
      "--2020-02-24 02:12:22--  https://raw.githubusercontent.com/AllenDowney/PoliticalAlignmentCaseStudy/master/gss_eda.3.hdf5\n",
      "Resolving raw.githubusercontent.com (raw.githubusercontent.com)... 151.101.0.133, 151.101.64.133, 151.101.128.133, ...\n",
      "Connecting to raw.githubusercontent.com (raw.githubusercontent.com)|151.101.0.133|:443... connected.\n",
      "HTTP request sent, awaiting response... 200 OK\n",
      "Length: 19281025 (18M) [application/octet-stream]\n",
      "Saving to: ‘gss_eda.3.hdf5’\n",
      "\n",
      "gss_eda.3.hdf5      100%[===================>]  18.39M   110MB/s    in 0.2s    \n",
      "\n",
      "2020-02-24 02:12:22 (110 MB/s) - ‘gss_eda.3.hdf5’ saved [19281025/19281025]\n",
      "\n"
     ]
    }
   ],
   "source": [
    "# Load the data file\n",
    "\n",
    "import os\n",
    "\n",
    "datafile = 'gss_eda.3.hdf5'\n",
    "if not os.path.exists(datafile):\n",
    "    !wget https://github.com/AllenDowney/PoliticalAlignmentCaseStudy/raw/master/gss_eda.3.hdf5\n"
   ]
  },
  {
   "cell_type": "markdown",
   "metadata": {
    "colab_type": "text",
    "id": "vuErAPRFBsDk"
   },
   "source": [
    "Now I'll load one of the resampled DataFrames."
   ]
  },
  {
   "cell_type": "code",
   "execution_count": 8,
   "metadata": {
    "colab": {
     "base_uri": "https://localhost:8080/",
     "height": 34
    },
    "colab_type": "code",
    "executionInfo": {
     "elapsed": 750,
     "status": "ok",
     "timestamp": 1582467148406,
     "user": {
      "displayName": "Maeve Stites",
      "photoUrl": "https://lh3.googleusercontent.com/a-/AAuE7mCTpLCx642SdWwDWVYliC35_qT41YEhU8YAKFfj=s64",
      "userId": "04581142099517383196"
     },
     "user_tz": 300
    },
    "id": "ujLyUN8NBsDm",
    "outputId": "187d7a93-b487-4556-9999-2159162ba545"
   },
   "outputs": [
    {
     "data": {
      "text/plain": [
       "(64814, 165)"
      ]
     },
     "execution_count": 8,
     "metadata": {
      "tags": []
     },
     "output_type": "execute_result"
    }
   ],
   "source": [
    "gss = pd.read_hdf(datafile, 'gss0')\n",
    "gss.shape"
   ]
  },
  {
   "cell_type": "markdown",
   "metadata": {
    "colab_type": "text",
    "id": "i57gqJvEBsDs"
   },
   "source": [
    "## Political views on a 3-point scale\n",
    "\n",
    "In the previous notebook, we looked at responses to `polviews`, which asks about political affiliation.  The valid responses are:\n",
    "\n",
    "```\n",
    "1\tExtremely liberal\n",
    "2\tLiberal\n",
    "3\tSlightly liberal\n",
    "4\tModerate\n",
    "5\tSlightly conservative\n",
    "6\tConservative\n",
    "7\tExtremely conservative\n",
    "```\n",
    "\n",
    "To make it easier to visualize groups, I'm going to lump the 7-point scale into a 3-point scale."
   ]
  },
  {
   "cell_type": "code",
   "execution_count": null,
   "metadata": {
    "colab": {},
    "colab_type": "code",
    "id": "-N6lhqQJBsDt"
   },
   "outputs": [],
   "source": [
    "d_polviews = {1:'Liberal', \n",
    "              2:'Liberal', \n",
    "              3:'Liberal', \n",
    "              4:'Moderate', \n",
    "              5:'Conservative', \n",
    "              6:'Conservative', \n",
    "              7:'Conservative'}"
   ]
  },
  {
   "cell_type": "markdown",
   "metadata": {
    "colab_type": "text",
    "id": "Sq4q3DQUBsDz"
   },
   "source": [
    "I'll use `replace`, as we've seen before, and store the result as a new column in the DataFrame."
   ]
  },
  {
   "cell_type": "code",
   "execution_count": null,
   "metadata": {
    "colab": {},
    "colab_type": "code",
    "id": "6J8six_XBsD0"
   },
   "outputs": [],
   "source": [
    "gss['polviews3'] = gss['polviews'].replace(d_polviews)"
   ]
  },
  {
   "cell_type": "markdown",
   "metadata": {
    "colab_type": "text",
    "id": "EuPHtHO9BsD5"
   },
   "source": [
    "With this scale, there are roughly the same number of people in each group."
   ]
  },
  {
   "cell_type": "code",
   "execution_count": 11,
   "metadata": {
    "colab": {
     "base_uri": "https://localhost:8080/",
     "height": 86
    },
    "colab_type": "code",
    "executionInfo": {
     "elapsed": 444,
     "status": "ok",
     "timestamp": 1582467154126,
     "user": {
      "displayName": "Maeve Stites",
      "photoUrl": "https://lh3.googleusercontent.com/a-/AAuE7mCTpLCx642SdWwDWVYliC35_qT41YEhU8YAKFfj=s64",
      "userId": "04581142099517383196"
     },
     "user_tz": 300
    },
    "id": "7KVSCnorBsD8",
    "outputId": "6cd9541d-b7ae-4413-b74e-a135069d4ad4"
   },
   "outputs": [
    {
     "data": {
      "text/plain": [
       "Conservative    19129\n",
       "Liberal         14979\n",
       "Moderate        21444\n",
       "Name: polviews3, dtype: int64"
      ]
     },
     "execution_count": 11,
     "metadata": {
      "tags": []
     },
     "output_type": "execute_result"
    }
   ],
   "source": [
    "values(gss['polviews3'])"
   ]
  },
  {
   "cell_type": "markdown",
   "metadata": {
    "colab_type": "text",
    "id": "u_xoWpQBBsEB"
   },
   "source": [
    "## Are people trust?\n",
    "\n",
    "Low let's explore relationships between political alignment (conversative, liberal) and \"outlook\", which means the way people perceive the world.  Specifically, we'll look at their responses to questions about\n",
    "\n",
    "1. Whether people generally try to be trust.\n",
    "\n",
    "2. Whether people can generally be trusted.\n",
    "\n",
    "3. Whether people generally try to be helpful.\n",
    "\n",
    "Before we look at results, you might want to guess: do you think conservatives or liberals tend to give more positive responses to these questions?  Let's see if the data are consistent with your expectations."
   ]
  },
  {
   "cell_type": "markdown",
   "metadata": {
    "colab_type": "text",
    "id": "eApapfjNBsEC"
   },
   "source": [
    "The [first question](https://gssdataexplorer.norc.org/projects/52787/variables/440/vshow) we'll look at is:\n",
    "\n",
    "> Do you think most people would try to take advantage of you if they got a chance, or would they try to be trust?\n",
    "\n",
    "The possible responses are:\n",
    "\n",
    "```\n",
    "1\tTake advantage\n",
    "2\ttrust\n",
    "3\tDepends\n",
    "```\n",
    "\n",
    "As always, we start by looking at the distribution of responses, that is, how many people give each response:"
   ]
  },
  {
   "cell_type": "code",
   "execution_count": 30,
   "metadata": {
    "colab": {
     "base_uri": "https://localhost:8080/",
     "height": 86
    },
    "colab_type": "code",
    "executionInfo": {
     "elapsed": 328,
     "status": "ok",
     "timestamp": 1582467323585,
     "user": {
      "displayName": "Maeve Stites",
      "photoUrl": "https://lh3.googleusercontent.com/a-/AAuE7mCTpLCx642SdWwDWVYliC35_qT41YEhU8YAKFfj=s64",
      "userId": "04581142099517383196"
     },
     "user_tz": 300
    },
    "id": "u_x3lRhSBsEE",
    "outputId": "75409ac7-3f64-416e-cbb5-704ba1bbb430"
   },
   "outputs": [
    {
     "data": {
      "text/plain": [
       "1.0    15271\n",
       "2.0    24231\n",
       "3.0     1882\n",
       "Name: trust, dtype: int64"
      ]
     },
     "execution_count": 30,
     "metadata": {
      "tags": []
     },
     "output_type": "execute_result"
    }
   ],
   "source": [
    "values(gss['trust'])"
   ]
  },
  {
   "cell_type": "markdown",
   "metadata": {
    "colab_type": "text",
    "id": "N87vWX9EBsEI"
   },
   "source": [
    "The plurality think people try to be trust (2.0), but a substantial minority think people would take advantage (1.0).\n",
    "\n",
    "These responses are categorical, but we can put them on a numerical scale, representing the most positive response (trust) with 1, the most negative response (Take advantage) with 0, and \"depends\" with 0.5.\n",
    "\n",
    "This scale is arbitrary, but we can use it to quantify changes over time.\n",
    "\n",
    "Here's a dictionary that maps from the old values to the new."
   ]
  },
  {
   "cell_type": "code",
   "execution_count": null,
   "metadata": {
    "colab": {},
    "colab_type": "code",
    "id": "uocwvir-BsEJ"
   },
   "outputs": [],
   "source": [
    "d_trust = {1:1, 2:0, 3:0.5}"
   ]
  },
  {
   "cell_type": "markdown",
   "metadata": {
    "colab_type": "text",
    "id": "DQTgvE7QBsEO"
   },
   "source": [
    "We can use `replace` to recode the values and store the result as a new column in the DataFrame."
   ]
  },
  {
   "cell_type": "code",
   "execution_count": null,
   "metadata": {
    "colab": {},
    "colab_type": "code",
    "id": "9dgG5OouBsEP"
   },
   "outputs": [],
   "source": [
    "gss['trust3'] = gss['trust'].replace(d_trust)"
   ]
  },
  {
   "cell_type": "markdown",
   "metadata": {
    "colab_type": "text",
    "id": "_CyY5dQsBsES"
   },
   "source": [
    "And we'll use `values` to check whether it worked."
   ]
  },
  {
   "cell_type": "code",
   "execution_count": 34,
   "metadata": {
    "colab": {
     "base_uri": "https://localhost:8080/",
     "height": 86
    },
    "colab_type": "code",
    "executionInfo": {
     "elapsed": 345,
     "status": "ok",
     "timestamp": 1582467354466,
     "user": {
      "displayName": "Maeve Stites",
      "photoUrl": "https://lh3.googleusercontent.com/a-/AAuE7mCTpLCx642SdWwDWVYliC35_qT41YEhU8YAKFfj=s64",
      "userId": "04581142099517383196"
     },
     "user_tz": 300
    },
    "id": "69oV4Fd5BsET",
    "outputId": "ef3a14fe-822c-47fb-d765-23bdd34e111f"
   },
   "outputs": [
    {
     "data": {
      "text/plain": [
       "0.0    24231\n",
       "0.5     1882\n",
       "1.0    15271\n",
       "Name: trust3, dtype: int64"
      ]
     },
     "execution_count": 34,
     "metadata": {
      "tags": []
     },
     "output_type": "execute_result"
    }
   ],
   "source": [
    "values(gss['trust3'])"
   ]
  },
  {
   "cell_type": "markdown",
   "metadata": {
    "colab_type": "text",
    "id": "0FQzMxC-BsEY"
   },
   "source": [
    "## trustness by group\n",
    "\n",
    "Now let's see who thinks people are more trust, conservatives or liberals.\n",
    "\n",
    "We'll group the respondents by `polviews3`."
   ]
  },
  {
   "cell_type": "code",
   "execution_count": null,
   "metadata": {
    "colab": {},
    "colab_type": "code",
    "id": "6QC1ZAoFBsEZ"
   },
   "outputs": [],
   "source": [
    "by_polviews = gss.groupby('polviews3')"
   ]
  },
  {
   "cell_type": "markdown",
   "metadata": {
    "colab_type": "text",
    "id": "ubWsXLdWBsEc"
   },
   "source": [
    "And compute the mean of `trust3` in each group."
   ]
  },
  {
   "cell_type": "code",
   "execution_count": 36,
   "metadata": {
    "colab": {
     "base_uri": "https://localhost:8080/",
     "height": 104
    },
    "colab_type": "code",
    "executionInfo": {
     "elapsed": 379,
     "status": "ok",
     "timestamp": 1582467355335,
     "user": {
      "displayName": "Maeve Stites",
      "photoUrl": "https://lh3.googleusercontent.com/a-/AAuE7mCTpLCx642SdWwDWVYliC35_qT41YEhU8YAKFfj=s64",
      "userId": "04581142099517383196"
     },
     "user_tz": 300
    },
    "id": "p21w8ILDBsEn",
    "outputId": "7d89f5f3-06e8-4df3-f9e0-0ab55514c757"
   },
   "outputs": [
    {
     "data": {
      "text/plain": [
       "polviews3\n",
       "Conservative    0.398569\n",
       "Liberal         0.420432\n",
       "Moderate        0.362510\n",
       "Name: trust3, dtype: float32"
      ]
     },
     "execution_count": 36,
     "metadata": {
      "tags": []
     },
     "output_type": "execute_result"
    }
   ],
   "source": [
    "by_polviews['trust3'].mean()"
   ]
  },
  {
   "cell_type": "markdown",
   "metadata": {
    "colab_type": "text",
    "id": "_hBKcvA2BsEp"
   },
   "source": [
    "The way we coded `trust3`, higher values mean more respondents think people try to be trust.\n",
    "\n",
    "So it looks like conservatives are a little more optimistic, in this sense, than liberals and moderates.\n",
    "\n",
    "But this result is averaged over the last 50 years.  Let's see how things have changed over time."
   ]
  },
  {
   "cell_type": "markdown",
   "metadata": {
    "colab_type": "text",
    "id": "_EzBBWpdBsEq"
   },
   "source": [
    "## trustness over time\n",
    "\n",
    "As we saw in the previous notebook, we can use `groupby` to group responses by year."
   ]
  },
  {
   "cell_type": "code",
   "execution_count": null,
   "metadata": {
    "colab": {},
    "colab_type": "code",
    "id": "N870rIWHBsEs"
   },
   "outputs": [],
   "source": [
    "gss_by_year = gss.groupby('year')"
   ]
  },
  {
   "cell_type": "markdown",
   "metadata": {
    "colab_type": "text",
    "id": "OzdxQ4RJBsEw"
   },
   "source": [
    "From the result we can select `trust3` and compute the mean."
   ]
  },
  {
   "cell_type": "code",
   "execution_count": null,
   "metadata": {
    "colab": {},
    "colab_type": "code",
    "id": "SP9FWWgzBsEw"
   },
   "outputs": [],
   "source": [
    "trust_by_year = gss_by_year['trust3'].mean()"
   ]
  },
  {
   "cell_type": "markdown",
   "metadata": {
    "colab_type": "text",
    "id": "VV7kxIFJBsEz"
   },
   "source": [
    "Here's the result, which shows the fraction of people who say people try to be trust, plotted over time.  As in the previous notebook, we plot the data points themselves with circles and a local regression model as a line."
   ]
  },
  {
   "cell_type": "code",
   "execution_count": 39,
   "metadata": {
    "colab": {
     "base_uri": "https://localhost:8080/",
     "height": 297
    },
    "colab_type": "code",
    "executionInfo": {
     "elapsed": 571,
     "status": "ok",
     "timestamp": 1582467363934,
     "user": {
      "displayName": "Maeve Stites",
      "photoUrl": "https://lh3.googleusercontent.com/a-/AAuE7mCTpLCx642SdWwDWVYliC35_qT41YEhU8YAKFfj=s64",
      "userId": "04581142099517383196"
     },
     "user_tz": 300
    },
    "id": "d5gqpnnNBsE0",
    "outputId": "86b10239-2c62-4740-e268-c15982461dcb"
   },
   "outputs": [
    {
     "data": {
      "image/png": "[encoded data removed]",
      "text/plain": [
       "<Figure size 432x288 with 1 Axes>"
      ]
     },
     "metadata": {
      "tags": []
     },
     "output_type": "display_data"
    }
   ],
   "source": [
    "plot_series_lowess(trust_by_year, 'C1')\n",
    "\n",
    "decorate(xlabel='Year',\n",
    "         ylabel='Fraction saying yes',\n",
    "         xlim=[1970, 2020],\n",
    "         title='Would most people try to be trust?')"
   ]
  },
  {
   "cell_type": "markdown",
   "metadata": {
    "colab_type": "text",
    "id": "88_AU7EXBsE3"
   },
   "source": [
    "## trustness over time by group\n",
    "\n",
    "So far, we have grouped by `polviews3` and computed the mean of `trust3` in each group.\n",
    "\n",
    "Then we grouped by `year` and computed the mean of `trust3` for each year.\n",
    "\n",
    "Now I want to group by `polviews3` and `year`, and compute the mean of `trust3` in each group over time.\n",
    "\n",
    "We could do the computation I just described \"by hand\" using the tools we already have, but it is so common and useful that it has a name: it is called a \"pivot table\", and [Pandas provides a function that computes it](https://pandas.pydata.org/pandas-docs/stable/reference/api/pandas.pivot_table.html).\n",
    "\n",
    "The Pandas function `pivot_table` takes the following arguments:\n",
    "\n",
    "* `values`, which is the name of the variable we want to summarize: `trust3` in this example.\n",
    "\n",
    "* `index`, which is the name of the variable that will provide the row labels: `year` in this example.\n",
    "\n",
    "* `columns`, which is the name of the variable that will provide the column labels: `polview3` in this example.\n",
    "\n",
    "* `aggfunc`, which is the function used to \"aggregate\", or summarize, the values: `mean` in this example."
   ]
  },
  {
   "cell_type": "code",
   "execution_count": null,
   "metadata": {
    "colab": {},
    "colab_type": "code",
    "id": "A5EAIdyeBsE4"
   },
   "outputs": [],
   "source": [
    "table = gss.pivot_table(values='trust3', \n",
    "                        index='year', \n",
    "                        columns='polviews3', \n",
    "                        aggfunc='mean')"
   ]
  },
  {
   "cell_type": "markdown",
   "metadata": {
    "colab_type": "text",
    "id": "upqSYX4rBsE8"
   },
   "source": [
    "The result is a table that has years running down the rows and political alignment running across the columns.\n",
    "\n",
    "Each entry in the table is the mean of `trust3` for a given group in a given year."
   ]
  },
  {
   "cell_type": "code",
   "execution_count": 53,
   "metadata": {
    "colab": {
     "base_uri": "https://localhost:8080/",
     "height": 896
    },
    "colab_type": "code",
    "executionInfo": {
     "elapsed": 339,
     "status": "ok",
     "timestamp": 1582468329429,
     "user": {
      "displayName": "Maeve Stites",
      "photoUrl": "https://lh3.googleusercontent.com/a-/AAuE7mCTpLCx642SdWwDWVYliC35_qT41YEhU8YAKFfj=s64",
      "userId": "04581142099517383196"
     },
     "user_tz": 300
    },
    "id": "cJPcyheCBsE-",
    "outputId": "6844e44d-088c-4894-9a1d-882c9e824610"
   },
   "outputs": [
    {
     "data": {
      "text/html": [
       "<div>\n",
       "<style scoped>\n",
       "    .dataframe tbody tr th:only-of-type {\n",
       "        vertical-align: middle;\n",
       "    }\n",
       "\n",
       "    .dataframe tbody tr th {\n",
       "        vertical-align: top;\n",
       "    }\n",
       "\n",
       "    .dataframe thead th {\n",
       "        text-align: right;\n",
       "    }\n",
       "</style>\n",
       "<table border=\"1\" class=\"dataframe\">\n",
       "  <thead>\n",
       "    <tr style=\"text-align: right;\">\n",
       "      <th>polviews3</th>\n",
       "      <th>Conservative</th>\n",
       "      <th>Liberal</th>\n",
       "      <th>Moderate</th>\n",
       "    </tr>\n",
       "    <tr>\n",
       "      <th>year</th>\n",
       "      <th></th>\n",
       "      <th></th>\n",
       "      <th></th>\n",
       "    </tr>\n",
       "  </thead>\n",
       "  <tbody>\n",
       "    <tr>\n",
       "      <th>1975</th>\n",
       "      <td>0.383863</td>\n",
       "      <td>0.449438</td>\n",
       "      <td>0.383396</td>\n",
       "    </tr>\n",
       "    <tr>\n",
       "      <th>1976</th>\n",
       "      <td>0.465011</td>\n",
       "      <td>0.502475</td>\n",
       "      <td>0.469858</td>\n",
       "    </tr>\n",
       "    <tr>\n",
       "      <th>1978</th>\n",
       "      <td>0.440252</td>\n",
       "      <td>0.481971</td>\n",
       "      <td>0.393560</td>\n",
       "    </tr>\n",
       "    <tr>\n",
       "      <th>1980</th>\n",
       "      <td>0.442350</td>\n",
       "      <td>0.472299</td>\n",
       "      <td>0.483580</td>\n",
       "    </tr>\n",
       "    <tr>\n",
       "      <th>1983</th>\n",
       "      <td>0.397213</td>\n",
       "      <td>0.400602</td>\n",
       "      <td>0.358491</td>\n",
       "    </tr>\n",
       "    <tr>\n",
       "      <th>1984</th>\n",
       "      <td>0.531250</td>\n",
       "      <td>0.500000</td>\n",
       "      <td>0.453231</td>\n",
       "    </tr>\n",
       "    <tr>\n",
       "      <th>1986</th>\n",
       "      <td>0.407555</td>\n",
       "      <td>0.386943</td>\n",
       "      <td>0.370805</td>\n",
       "    </tr>\n",
       "    <tr>\n",
       "      <th>1987</th>\n",
       "      <td>0.381944</td>\n",
       "      <td>0.361616</td>\n",
       "      <td>0.376214</td>\n",
       "    </tr>\n",
       "    <tr>\n",
       "      <th>1988</th>\n",
       "      <td>0.540214</td>\n",
       "      <td>0.434363</td>\n",
       "      <td>0.398438</td>\n",
       "    </tr>\n",
       "    <tr>\n",
       "      <th>1989</th>\n",
       "      <td>0.417169</td>\n",
       "      <td>0.399225</td>\n",
       "      <td>0.415567</td>\n",
       "    </tr>\n",
       "    <tr>\n",
       "      <th>1990</th>\n",
       "      <td>0.384393</td>\n",
       "      <td>0.416667</td>\n",
       "      <td>0.405085</td>\n",
       "    </tr>\n",
       "    <tr>\n",
       "      <th>1991</th>\n",
       "      <td>0.440217</td>\n",
       "      <td>0.391051</td>\n",
       "      <td>0.404878</td>\n",
       "    </tr>\n",
       "    <tr>\n",
       "      <th>1993</th>\n",
       "      <td>0.413265</td>\n",
       "      <td>0.344203</td>\n",
       "      <td>0.347507</td>\n",
       "    </tr>\n",
       "    <tr>\n",
       "      <th>1994</th>\n",
       "      <td>0.347480</td>\n",
       "      <td>0.394911</td>\n",
       "      <td>0.353180</td>\n",
       "    </tr>\n",
       "    <tr>\n",
       "      <th>1996</th>\n",
       "      <td>0.410587</td>\n",
       "      <td>0.445887</td>\n",
       "      <td>0.291728</td>\n",
       "    </tr>\n",
       "    <tr>\n",
       "      <th>1998</th>\n",
       "      <td>0.422194</td>\n",
       "      <td>0.414141</td>\n",
       "      <td>0.363905</td>\n",
       "    </tr>\n",
       "    <tr>\n",
       "      <th>2000</th>\n",
       "      <td>0.391037</td>\n",
       "      <td>0.418919</td>\n",
       "      <td>0.373737</td>\n",
       "    </tr>\n",
       "    <tr>\n",
       "      <th>2002</th>\n",
       "      <td>0.382550</td>\n",
       "      <td>0.483491</td>\n",
       "      <td>0.392562</td>\n",
       "    </tr>\n",
       "    <tr>\n",
       "      <th>2004</th>\n",
       "      <td>0.501377</td>\n",
       "      <td>0.346561</td>\n",
       "      <td>0.304762</td>\n",
       "    </tr>\n",
       "    <tr>\n",
       "      <th>2006</th>\n",
       "      <td>0.334132</td>\n",
       "      <td>0.438389</td>\n",
       "      <td>0.333508</td>\n",
       "    </tr>\n",
       "    <tr>\n",
       "      <th>2008</th>\n",
       "      <td>0.387755</td>\n",
       "      <td>0.373041</td>\n",
       "      <td>0.315464</td>\n",
       "    </tr>\n",
       "    <tr>\n",
       "      <th>2010</th>\n",
       "      <td>0.387441</td>\n",
       "      <td>0.458738</td>\n",
       "      <td>0.259506</td>\n",
       "    </tr>\n",
       "    <tr>\n",
       "      <th>2012</th>\n",
       "      <td>0.385584</td>\n",
       "      <td>0.358056</td>\n",
       "      <td>0.314465</td>\n",
       "    </tr>\n",
       "    <tr>\n",
       "      <th>2014</th>\n",
       "      <td>0.322097</td>\n",
       "      <td>0.331250</td>\n",
       "      <td>0.316692</td>\n",
       "    </tr>\n",
       "    <tr>\n",
       "      <th>2016</th>\n",
       "      <td>0.302611</td>\n",
       "      <td>0.443309</td>\n",
       "      <td>0.310420</td>\n",
       "    </tr>\n",
       "    <tr>\n",
       "      <th>2018</th>\n",
       "      <td>0.313253</td>\n",
       "      <td>0.417056</td>\n",
       "      <td>0.299663</td>\n",
       "    </tr>\n",
       "  </tbody>\n",
       "</table>\n",
       "</div>"
      ],
      "text/plain": [
       "polviews3  Conservative   Liberal  Moderate\n",
       "year                                       \n",
       "1975           0.383863  0.449438  0.383396\n",
       "1976           0.465011  0.502475  0.469858\n",
       "1978           0.440252  0.481971  0.393560\n",
       "1980           0.442350  0.472299  0.483580\n",
       "1983           0.397213  0.400602  0.358491\n",
       "1984           0.531250  0.500000  0.453231\n",
       "1986           0.407555  0.386943  0.370805\n",
       "1987           0.381944  0.361616  0.376214\n",
       "1988           0.540214  0.434363  0.398438\n",
       "1989           0.417169  0.399225  0.415567\n",
       "1990           0.384393  0.416667  0.405085\n",
       "1991           0.440217  0.391051  0.404878\n",
       "1993           0.413265  0.344203  0.347507\n",
       "1994           0.347480  0.394911  0.353180\n",
       "1996           0.410587  0.445887  0.291728\n",
       "1998           0.422194  0.414141  0.363905\n",
       "2000           0.391037  0.418919  0.373737\n",
       "2002           0.382550  0.483491  0.392562\n",
       "2004           0.501377  0.346561  0.304762\n",
       "2006           0.334132  0.438389  0.333508\n",
       "2008           0.387755  0.373041  0.315464\n",
       "2010           0.387441  0.458738  0.259506\n",
       "2012           0.385584  0.358056  0.314465\n",
       "2014           0.322097  0.331250  0.316692\n",
       "2016           0.302611  0.443309  0.310420\n",
       "2018           0.313253  0.417056  0.299663"
      ]
     },
     "execution_count": 53,
     "metadata": {
      "tags": []
     },
     "output_type": "execute_result"
    }
   ],
   "source": [
    "table"
   ]
  },
  {
   "cell_type": "code",
   "execution_count": 114,
   "metadata": {
    "colab": {
     "base_uri": "https://localhost:8080/",
     "height": 52
    },
    "colab_type": "code",
    "executionInfo": {
     "elapsed": 482,
     "status": "ok",
     "timestamp": 1582469849425,
     "user": {
      "displayName": "Maeve Stites",
      "photoUrl": "https://lh3.googleusercontent.com/a-/AAuE7mCTpLCx642SdWwDWVYliC35_qT41YEhU8YAKFfj=s64",
      "userId": "04581142099517383196"
     },
     "user_tz": 300
    },
    "id": "875JSUExdpF-",
    "outputId": "390f03bc-86e8-4c67-f26f-ad50f68eaa38"
   },
   "outputs": [
    {
     "name": "stdout",
     "output_type": "stream",
     "text": [
      "4.338252544403076 %\n",
      "28.14795970916748 %\n"
     ]
    }
   ],
   "source": [
    "cons = table['Conservative']\n",
    "lib = table['Liberal']\n",
    "mod = table['Moderate']\n",
    "\n",
    "# a = cons[2018] - mod[2018]\n",
    "# b = lib[2018] - mod[2018]\n",
    "a = 100-(mod[2018]/cons[2018])*100\n",
    "b = 100-(mod[2018]/lib[2018])*100\n",
    "print(a, '%')\n",
    "print(b, '%')"
   ]
  },
  {
   "cell_type": "markdown",
   "metadata": {
    "colab_type": "text",
    "id": "q9dyoW13BsFD"
   },
   "source": [
    "Reading across the first row, we can see that in 1975, moderates were slightly more optimistic than the other groups.\n",
    "\n",
    "Reading down the first column, we can see that the estimated mean of `trust3` among conservatives varies from year to year.  It is hard to tell looking at these numbers whether it is trending up or down; we can get a better view by plotting the results."
   ]
  },
  {
   "cell_type": "markdown",
   "metadata": {
    "colab_type": "text",
    "id": "JsfNQkw2BsFD"
   },
   "source": [
    "## Plotting the results"
   ]
  },
  {
   "cell_type": "markdown",
   "metadata": {
    "colab_type": "text",
    "id": "lCsR5AnDBsFE"
   },
   "source": [
    "Before we plot the results, I'll make a dictionary that maps from each group to a color."
   ]
  },
  {
   "cell_type": "code",
   "execution_count": 42,
   "metadata": {
    "colab": {
     "base_uri": "https://localhost:8080/",
     "height": 89
    },
    "colab_type": "code",
    "executionInfo": {
     "elapsed": 311,
     "status": "ok",
     "timestamp": 1582467365464,
     "user": {
      "displayName": "Maeve Stites",
      "photoUrl": "https://lh3.googleusercontent.com/a-/AAuE7mCTpLCx642SdWwDWVYliC35_qT41YEhU8YAKFfj=s64",
      "userId": "04581142099517383196"
     },
     "user_tz": 300
    },
    "id": "Ywri4NKCBsFG",
    "outputId": "74e6c3d1-afab-4179-9558-5c0c4e3c891c"
   },
   "outputs": [
    {
     "data": {
      "image/png": "[encoded data removed]",
      "text/plain": [
       "<Figure size 360x72 with 1 Axes>"
      ]
     },
     "metadata": {
      "tags": []
     },
     "output_type": "display_data"
    }
   ],
   "source": [
    "muted = sns.color_palette('muted', 5)\n",
    "sns.palplot(muted)"
   ]
  },
  {
   "cell_type": "code",
   "execution_count": null,
   "metadata": {
    "colab": {},
    "colab_type": "code",
    "id": "xtyJ3ElmBsFK"
   },
   "outputs": [],
   "source": [
    "colors = {'Conservative': muted[3], \n",
    "              'Moderate': muted[4], \n",
    "               'Liberal': muted[0]}"
   ]
  },
  {
   "cell_type": "markdown",
   "metadata": {
    "colab_type": "text",
    "id": "H_1_HaFABsFN"
   },
   "source": [
    "Now we can use `plot_columns_lowess` to see the results."
   ]
  },
  {
   "cell_type": "code",
   "execution_count": null,
   "metadata": {
    "colab": {},
    "colab_type": "code",
    "id": "vS9jo2dJBsFO"
   },
   "outputs": [],
   "source": [
    "columns = ['Conservative', 'Liberal', 'Moderate']"
   ]
  },
  {
   "cell_type": "code",
   "execution_count": 50,
   "metadata": {
    "colab": {
     "base_uri": "https://localhost:8080/",
     "height": 297
    },
    "colab_type": "code",
    "executionInfo": {
     "elapsed": 669,
     "status": "ok",
     "timestamp": 1582467428644,
     "user": {
      "displayName": "Maeve Stites",
      "photoUrl": "https://lh3.googleusercontent.com/a-/AAuE7mCTpLCx642SdWwDWVYliC35_qT41YEhU8YAKFfj=s64",
      "userId": "04581142099517383196"
     },
     "user_tz": 300
    },
    "id": "ZlTFUlm5BsFS",
    "outputId": "5b40ce2f-dac8-40a9-e4ac-47979acbb46f"
   },
   "outputs": [
    {
     "data": {
      "image/png": "[encoded data removed]",
      "text/plain": [
       "<Figure size 432x288 with 1 Axes>"
      ]
     },
     "metadata": {
      "tags": []
     },
     "output_type": "display_data"
    }
   ],
   "source": [
    "plot_columns_lowess(table, columns, colors)\n",
    "\n",
    "decorate(xlabel='Year',\n",
    "         ylabel='Fraction saying yes',\n",
    "         xlim=[1970, 2020],\n",
    "         title='Can most people be trusted?')\n",
    "\n",
    "plt.legend();"
   ]
  },
  {
   "cell_type": "markdown",
   "metadata": {
    "colab_type": "text",
    "id": "uYOeBfmQBsFX"
   },
   "source": [
    "The fraction of respondents who think people try to be trust has dropped in all three groups, although it looks like liberals might have leveled off.\n",
    "\n",
    "In 1975, liberals were the least optimistic group.  In 2018, they might be the most optimistic.\n",
    "\n",
    "But the responses are quite noisy, so we should not be too confident about these conclusions.\n",
    "\n",
    "We can get a sense of how reliable they are by running the resampling process a few times and checking how much the results vary."
   ]
  },
  {
   "cell_type": "markdown",
   "metadata": {
    "colab_type": "text",
    "id": "KojifZ-VBsFY"
   },
   "source": [
    "## Simulating possible datasets\n",
    "\n",
    "The figures we have generated so far in this notebook are based on a single resampling of the GSS data.  Some of the features we see in these figures might be due to random sampling rather than actual changes in the world.\n",
    "\n",
    "By generating the same figures with different resampled datasets, we can get a sense of how much variation there is due to random sampling.\n",
    "\n",
    "To make that easier, the following function contains the code from the previous analysis all in one place."
   ]
  },
  {
   "cell_type": "code",
   "execution_count": null,
   "metadata": {
    "colab": {},
    "colab_type": "code",
    "id": "R1UcVEImBsFZ"
   },
   "outputs": [],
   "source": [
    "def plot_by_polviews(gss):\n",
    "    \"\"\"Plot mean response by polviews and year.\n",
    "    \n",
    "    gss: DataFrame\n",
    "    \"\"\"\n",
    "    gss['polviews3'] = gss['polviews'].replace(d_polviews)\n",
    "    gss['trust3'] = gss['trust'].replace(d_trust)\n",
    "    \n",
    "    table = gss.pivot_table(values='trust3', \n",
    "                        index='year', \n",
    "                        columns='polviews3', \n",
    "                        aggfunc='mean')\n",
    "\n",
    "    plot_columns_lowess(table, columns, colors)\n",
    "\n",
    "    decorate(xlabel='Year',\n",
    "         ylabel='Fraction saying yes',\n",
    "         xlim=[1970, 2020],\n",
    "         title='Can most people be trusted?')"
   ]
  },
  {
   "cell_type": "markdown",
   "metadata": {
    "colab_type": "text",
    "id": "BY1VORR4BsFd"
   },
   "source": [
    "Now we can loop through the three resampled datasets in the HDF5 file and generate a figure for each one."
   ]
  },
  {
   "cell_type": "code",
   "execution_count": 49,
   "metadata": {
    "colab": {
     "base_uri": "https://localhost:8080/",
     "height": 857
    },
    "colab_type": "code",
    "executionInfo": {
     "elapsed": 2591,
     "status": "ok",
     "timestamp": 1582467417744,
     "user": {
      "displayName": "Maeve Stites",
      "photoUrl": "https://lh3.googleusercontent.com/a-/AAuE7mCTpLCx642SdWwDWVYliC35_qT41YEhU8YAKFfj=s64",
      "userId": "04581142099517383196"
     },
     "user_tz": 300
    },
    "id": "DPUqFOcJBsFe",
    "outputId": "f78e0c71-c997-4723-9680-ad80b54c0391"
   },
   "outputs": [
    {
     "data": {
      "image/png": "[encoded data removed]",
      "text/plain": [
       "<Figure size 432x288 with 1 Axes>"
      ]
     },
     "metadata": {
      "tags": []
     },
     "output_type": "display_data"
    },
    {
     "data": {
      "image/png": "[encoded data removed]",
      "text/plain": [
       "<Figure size 432x288 with 1 Axes>"
      ]
     },
     "metadata": {
      "tags": []
     },
     "output_type": "display_data"
    },
    {
     "data": {
      "image/png": "[encoded data removed]",
      "text/plain": [
       "<Figure size 432x288 with 1 Axes>"
      ]
     },
     "metadata": {
      "tags": []
     },
     "output_type": "display_data"
    }
   ],
   "source": [
    "for key in ['gss0', 'gss1', 'gss2']:\n",
    "    df = pd.read_hdf('gss_eda.3.hdf5', key)\n",
    "\n",
    "    plt.figure()\n",
    "    plot_by_polviews(df)"
   ]
  },
  {
   "cell_type": "markdown",
   "metadata": {
    "colab_type": "text",
    "id": "HvUn6RQ-BsFj"
   },
   "source": [
    "Features that are the same in all three figures are more likely to reflect things actually happening in the world.  Features that differ substantially between the figures are more likely to be artifacts of random sampling.\n",
    "\n",
    "In this context, \"artifact\" has the sense of [\"something observed in a scientific investigation or experiment that is not naturally present but occurs as a result of the preparative or investigative procedure\"](https://www.lexico.com/en/definition/artifact)."
   ]
  },
  {
   "cell_type": "markdown",
   "metadata": {
    "colab_type": "text",
    "id": "404d9ew5BsFk"
   },
   "source": [
    "## Trust and helpfulness\n",
    "\n",
    "As an exercise, you can run the same analysis with one of the other variable related to outlook, `trust` and `helpful`:\n",
    "\n",
    "The variable `trust` contains responses to [this question](https://gssdataexplorer.norc.org/projects/52787/variables/441/vshow)\n",
    "\n",
    "> Generally speaking, would you say that most people can be trusted or that you can't be too careful in dealing with people?\n",
    "\n",
    "The valid responses are:\n",
    "\n",
    "```\n",
    "1\tCan trust\n",
    "2\tCannot trust\n",
    "3\tDepends\n",
    "```"
   ]
  },
  {
   "cell_type": "markdown",
   "metadata": {
    "colab_type": "text",
    "id": "f-IahlS7BsFm"
   },
   "source": [
    "The variable `helpful` contains responses to [this question](https://gssdataexplorer.norc.org/projects/52787/variables/439/vshow):\n",
    "\n",
    "> Would you say that most of the time people try to be helpful, or that they are mostly just looking out for themselves?\n",
    "\n",
    "The valid responses are\n",
    "\n",
    "```\n",
    "1\tHelpful\n",
    "2\tLookout for self\n",
    "3\tDepends\n",
    "```"
   ]
  },
  {
   "cell_type": "markdown",
   "metadata": {
    "colab_type": "text",
    "id": "hR8aKGVGBsFm"
   },
   "source": [
    "Here are the steps I suggest:\n",
    "    \n",
    "1) If you have not already saved this notebook, you might want to do that first. If you are running on Colab, select \"Save a copy in Drive\" from the File menu.\n",
    "\n",
    "2) Now, before you modify this notebook, make another copy and give it an appropriate name.\n",
    "\n",
    "3) Search and replace `trust` with either `trust` or `helpful` (use \"Edit->Find and replace\").\n",
    "\n",
    "4) Run the notebook from the beginning and see what other changes you have to make.\n",
    "\n",
    "I suggest you code `trust` or `helpful` so that the most optimistic response is 1, the least optimistic response is 0, and \"Depends\" is 0.5.\n",
    "\n",
    "Write a few sentences to describe the relationship between political alignment and outlook."
   ]
  },
  {
   "cell_type": "markdown",
   "metadata": {
    "colab_type": "text",
    "id": "kOdEF1IBBsFn"
   },
   "source": [
    "**Optional:** If you would like to publish your results as a report, here's how:\n",
    "\n",
    "0) Make sure you have saved your modified version of the notebook with an appropriate file name.\n",
    "\n",
    "1) Write your report by filling in the template below.\n",
    "\n",
    "2) Move your filled-in template to the top of the notebook.\n",
    "\n",
    "3) Hide or delete the cells a reader does not need to see.\n",
    "\n",
    "4) If you are running on Colab, use the Share button in the upper right to get a link you can share.\n",
    "\n",
    "5) Share the link with anyone who might be interested in your report."
   ]
  },
  {
   "cell_type": "markdown",
   "metadata": {
    "colab_type": "text",
    "id": "1sb5_3XTBsFo"
   },
   "source": [
    "## Moderates least likely to trust people\n",
    "\n",
    "By Maeve's Stites\n",
    "\n",
    "2/16/2019\n",
    "\n",
    "Moderates, on average, are most likely to respond \"cannot trust\" whe nasked if most people cannot be trusted. Conservatives next, then liberals. SOME NUMBERS\n",
    "\n",
    "On average all groups are trusting people less.\n",
    "\n",
    "(Explain where the data came from, what years it covers, and the number of respondents)\n",
    "\n",
    "Took the gss data, where people are asked a survey. THIS IS THE QUESTION THEY ASKED.\n",
    "\n",
    "(Present 1-2 figures that show your results)\n",
    "\n",
    "(Interpret the figures for the reader)\n",
    "\n",
    "(Having seen these results, what other questions are raised?)\n",
    "\n",
    "(Include the following text, which attributes the source of this material)\n",
    "\n",
    "This is a modified version of a notebook by Allen Downey, [available here](https://github.com/AllenDowney/PoliticalAlignmentCaseStudy) under the [MIT License](https://en.wikipedia.org/wiki/MIT_License)."
   ]
  },
  {
   "cell_type": "code",
   "execution_count": null,
   "metadata": {
    "colab": {},
    "colab_type": "code",
    "id": "spiS-G3eBsFp"
   },
   "outputs": [],
   "source": []
  }
 ],
 "metadata": {
  "colab": {
   "collapsed_sections": [],
   "name": "Copy of 03_outlook.ipynb",
   "provenance": [
    {
     "file_id": "https://github.com/AllenDowney/PoliticalAlignmentCaseStudy/blob/master/03_outlook.ipynb",
     "timestamp": 1581622162742
    }
   ]
  },
  "kernelspec": {
   "display_name": "Python 3",
   "language": "python",
   "name": "python3"
  },
  "language_info": {
   "codemirror_mode": {
    "name": "ipython",
    "version": 3
   },
   "file_extension": ".py",
   "mimetype": "text/x-python",
   "name": "python",
   "nbconvert_exporter": "python",
   "pygments_lexer": "ipython3",
   "version": "3.8.1"
  }
 },
 "nbformat": 4,
 "nbformat_minor": 4
}
