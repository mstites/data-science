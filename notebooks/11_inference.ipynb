{
 "cells": [
  {
   "cell_type": "markdown",
   "metadata": {
    "colab_type": "text",
    "id": "f9Y4QulJeElz"
   },
   "source": [
    "# Inference\n",
    "\n",
    "Elements of Data Science\n",
    "\n",
    "by [Allen Downey](https://allendowney.com)\n",
    "\n",
    "[MIT License](https://opensource.org/licenses/MIT)\n",
    "\n",
    "### Goals\n",
    "\n",
    "This notebook introduces \"statistical inference\", which is the process of using a sample to make inferences about a population.  This [figure from Wikipedia](https://en.wikipedia.org/wiki/Statistical_inference) illustrates the idea:\n",
    "\n",
    "<img src=\"https://upload.wikimedia.org/wikipedia/commons/b/bf/Simple_random_sampling.PNG\" width=\"400\">\n",
    "\n",
    "On the left, the \"population\" is the group we are interested in.  Sometimes it is a group of people, but in general it can be any kind of group.\n",
    "\n",
    "If we can observe the entire group, we might not need statistical inference.  If not, sometimes we can observe a \"sample\" (or subset) of the population and use those observations to make claims about the population.\n",
    "\n",
    "If you have studied statistics before, you might have encountered some of these ideas before: hypothesis testing, p-values, estimation, standard error, and confidence intervals.\n",
    "\n",
    "In this notebook we'll approach these topics using computation and simulation, as opposed to mathematical analysis.  I hope this approach makes the ideas clearer.\n",
    "\n",
    "If you have not seen these ideas before, don't worry.  That might even be better.\n",
    "\n",
    "We'll look at three examples:\n",
    "\n",
    "* Testing whether a coin is \"fair\".\n",
    "\n",
    "* Testing whether first babies are more like to be born early (or late).\n",
    "\n",
    "* Estimating the average height of men in the U.S., and quantifying the precision of the estimate."
   ]
  },
  {
   "cell_type": "markdown",
   "metadata": {
    "colab_type": "text",
    "id": "ChW5nRMTeEl3"
   },
   "source": [
    "## The Euro problem\n",
    "\n",
    "In *Information Theory, Inference, and Learning Algorithms*, David MacKay writes, \"A statistical statement appeared in *The Guardian* on Friday January 4, 2002:\n",
    "\n",
    "> When spun on edge 250 times, a Belgian one-euro coin came\n",
    "up heads 140 times and tails 110. ‘It looks very suspicious\n",
    "to me’, said Barry Blight, a statistics lecturer at the London\n",
    "School of Economics. ‘If the coin were unbiased the chance of\n",
    "getting a result as extreme as that would be less than 7%’.*\n",
    "\n",
    "But do these data give evidence that the coin is biased rather than fair?\"\n",
    "\n",
    "Before we answer MacKay's question, let's unpack what Dr. Blight said:\n",
    "\n",
    "\"If the coin were unbiased the chance of getting a result as extreme as that would be less than 7%\".\n",
    "\n",
    "To see where that comes from, I'll simulate the result of spinning an \"unbiased\" coin, meaning that the probability of heads is 50%.\n",
    "\n",
    "Here's an example with 10 spins:"
   ]
  },
  {
   "cell_type": "code",
   "execution_count": 1,
   "metadata": {
    "colab": {},
    "colab_type": "code",
    "id": "f1N6hRINeEl6"
   },
   "outputs": [
    {
     "data": {
      "text/plain": [
       "array([ True,  True, False, False,  True, False,  True, False,  True,\n",
       "       False])"
      ]
     },
     "execution_count": 1,
     "metadata": {},
     "output_type": "execute_result"
    }
   ],
   "source": [
    "import numpy as np\n",
    "\n",
    "spins = np.random.random(10) < 0.5\n",
    "spins"
   ]
  },
  {
   "cell_type": "markdown",
   "metadata": {
    "colab_type": "text",
    "id": "ei5kraZyeEmE"
   },
   "source": [
    "`np.random.random` returns numbers between 0 and 1, uniformly distributed.  So the probability of being less than 0.5 is 50%.  \n",
    "\n",
    "The sum of the array is the number of `True` elements, that is, the number of heads:"
   ]
  },
  {
   "cell_type": "code",
   "execution_count": 2,
   "metadata": {
    "colab": {},
    "colab_type": "code",
    "id": "71yHyg95eEmG"
   },
   "outputs": [
    {
     "data": {
      "text/plain": [
       "5"
      ]
     },
     "execution_count": 2,
     "metadata": {},
     "output_type": "execute_result"
    }
   ],
   "source": [
    "np.sum(spins)"
   ]
  },
  {
   "cell_type": "markdown",
   "metadata": {
    "colab_type": "text",
    "id": "JayGse_weEmN"
   },
   "source": [
    "We can wrap that in a function that simulates `n` spins with probability `p`. "
   ]
  },
  {
   "cell_type": "code",
   "execution_count": 3,
   "metadata": {
    "colab": {},
    "colab_type": "code",
    "id": "2j1qVB3keEmO"
   },
   "outputs": [],
   "source": [
    "def spin(n, p):\n",
    "    return np.sum(np.random.random(n) < p)"
   ]
  },
  {
   "cell_type": "markdown",
   "metadata": {
    "colab_type": "text",
    "id": "dSJK4ASpeEmV"
   },
   "source": [
    "Here's an example with the actual sample size (250) and hypothetical probability (50%)."
   ]
  },
  {
   "cell_type": "code",
   "execution_count": 4,
   "metadata": {
    "colab": {},
    "colab_type": "code",
    "id": "ruymX8__eEmW"
   },
   "outputs": [],
   "source": [
    "heads, tails = 140, 110\n",
    "sample_size = heads + tails"
   ]
  },
  {
   "cell_type": "code",
   "execution_count": 5,
   "metadata": {
    "colab": {},
    "colab_type": "code",
    "id": "wMGxpbrteEmc"
   },
   "outputs": [
    {
     "data": {
      "text/plain": [
       "147"
      ]
     },
     "execution_count": 5,
     "metadata": {},
     "output_type": "execute_result"
    }
   ],
   "source": [
    "hypo_prob = 0.5\n",
    "spin(sample_size, hypo_prob)"
   ]
  },
  {
   "cell_type": "markdown",
   "metadata": {
    "colab_type": "text",
    "id": "CjESfrW3eEmg"
   },
   "source": [
    "Since we are generating random numbers, we expect to see different values if we run the experiment more than once.\n",
    "\n",
    "Here's a loop that runs `spin` 10 times."
   ]
  },
  {
   "cell_type": "code",
   "execution_count": 6,
   "metadata": {
    "colab": {},
    "colab_type": "code",
    "id": "okSg97_qeEmi"
   },
   "outputs": [
    {
     "name": "stdout",
     "output_type": "stream",
     "text": [
      "123\n",
      "127\n",
      "126\n",
      "131\n",
      "118\n",
      "121\n",
      "121\n",
      "123\n",
      "121\n",
      "117\n"
     ]
    }
   ],
   "source": [
    "n = 250\n",
    "p = 0.5\n",
    "\n",
    "for i in range(10):\n",
    "    print(spin(n, p))"
   ]
  },
  {
   "cell_type": "markdown",
   "metadata": {
    "colab_type": "text",
    "id": "-c-9GyiyeEmn"
   },
   "source": [
    "As expected, the results vary from one run to the next.\n",
    "\n",
    "Now let's run the simulated experiment 10000 times and store the results in a NumPy array."
   ]
  },
  {
   "cell_type": "code",
   "execution_count": 7,
   "metadata": {
    "colab": {},
    "colab_type": "code",
    "id": "5ye31F4SeEmp"
   },
   "outputs": [],
   "source": [
    "outcomes = np.empty(1000)\n",
    "\n",
    "for i in range(len(outcomes)):\n",
    "    outcomes[i] = spin(n, p)"
   ]
  },
  {
   "cell_type": "markdown",
   "metadata": {
    "colab_type": "text",
    "id": "zouEcKl2eEmu"
   },
   "source": [
    "`np.empty` creates an empty array with the given length.  Each time through the loop, we run `spin` and assign the result to an element of `outcomes`.\n",
    "\n",
    "The result is an array of 10000 integers, each representing the number of heads in a simulated experiment.  \n",
    "\n",
    "The mean of `outcomes` is about 125:"
   ]
  },
  {
   "cell_type": "code",
   "execution_count": 8,
   "metadata": {
    "colab": {},
    "colab_type": "code",
    "id": "IXZIAW77eEmx"
   },
   "outputs": [
    {
     "data": {
      "text/plain": [
       "124.883"
      ]
     },
     "execution_count": 8,
     "metadata": {},
     "output_type": "execute_result"
    }
   ],
   "source": [
    "np.mean(outcomes)"
   ]
  },
  {
   "cell_type": "markdown",
   "metadata": {
    "colab_type": "text",
    "id": "-bDGWUGbeEm6"
   },
   "source": [
    "Which makes sense.  On average, the expected number of heads is the product of the hypothetical probability and the sample size:"
   ]
  },
  {
   "cell_type": "code",
   "execution_count": 9,
   "metadata": {
    "colab": {},
    "colab_type": "code",
    "id": "DNaAk5nueEm7"
   },
   "outputs": [
    {
     "data": {
      "text/plain": [
       "125.0"
      ]
     },
     "execution_count": 9,
     "metadata": {},
     "output_type": "execute_result"
    }
   ],
   "source": [
    "expected = hypo_prob * sample_size\n",
    "expected"
   ]
  },
  {
   "cell_type": "markdown",
   "metadata": {
    "colab_type": "text",
    "id": "VM0g_UizeEnA"
   },
   "source": [
    "Now let's see how much the values in `outcomes` differ from the expected value:"
   ]
  },
  {
   "cell_type": "code",
   "execution_count": 10,
   "metadata": {
    "colab": {},
    "colab_type": "code",
    "id": "-tJnHvi0eEnB"
   },
   "outputs": [],
   "source": [
    "diffs = outcomes - expected"
   ]
  },
  {
   "cell_type": "markdown",
   "metadata": {
    "colab_type": "text",
    "id": "OKoJZnMAeEnG"
   },
   "source": [
    "`diffs` is an array that contains the deviation of each experiment from the expected value, 125.\n",
    "\n",
    "Here's the mean of the absolute deviations:"
   ]
  },
  {
   "cell_type": "code",
   "execution_count": 11,
   "metadata": {
    "colab": {},
    "colab_type": "code",
    "id": "i8Nqytg7eEnH"
   },
   "outputs": [
    {
     "data": {
      "text/plain": [
       "6.245"
      ]
     },
     "execution_count": 11,
     "metadata": {},
     "output_type": "execute_result"
    }
   ],
   "source": [
    "np.mean(abs(diffs))"
   ]
  },
  {
   "cell_type": "markdown",
   "metadata": {
    "colab_type": "text",
    "id": "7eMrJEAdeEnL"
   },
   "source": [
    "So a typical experiment deviates from the mean by about 6.\n",
    "\n",
    "To see the whole distribution of deviations, we can plot a histogram.\n",
    "The following function uses Matplotlib to plot a histogram and adjust some of the settings."
   ]
  },
  {
   "cell_type": "code",
   "execution_count": 12,
   "metadata": {
    "colab": {},
    "colab_type": "code",
    "id": "xtB35OnQeEnN"
   },
   "outputs": [],
   "source": [
    "import matplotlib.pyplot as plt\n",
    "\n",
    "def plot_hist(values):\n",
    "    xs, ys, patches = plt.hist(values,\n",
    "                               density=True,\n",
    "                               histtype='step',\n",
    "                               linewidth=2,\n",
    "                               alpha=0.5)\n",
    "    \n",
    "    \n",
    "    plt.ylabel('Density')\n",
    "    plt.tight_layout()\n",
    "    return patches[0]"
   ]
  },
  {
   "cell_type": "markdown",
   "metadata": {
    "colab_type": "text",
    "id": "aZkboSqkeEnR"
   },
   "source": [
    "Here's what the distribution of deviations looks like:"
   ]
  },
  {
   "cell_type": "code",
   "execution_count": 13,
   "metadata": {
    "colab": {},
    "colab_type": "code",
    "id": "LmYHDkxieEnS"
   },
   "outputs": [
    {
     "data": {
      "image/png": "[encoded data removed]",
      "text/plain": [
       "<Figure size 432x288 with 1 Axes>"
      ]
     },
     "metadata": {
      "needs_background": "light"
     },
     "output_type": "display_data"
    }
   ],
   "source": [
    "plot_hist(diffs)\n",
    "\n",
    "plt.title('Sampling distribution (n=250)')\n",
    "plt.xlabel('Deviation from expected number of heads');"
   ]
  },
  {
   "cell_type": "markdown",
   "metadata": {
    "colab_type": "text",
    "id": "40qiL7kEeEnW"
   },
   "source": [
    "This is the \"sampling distribution\" of deviations.  It shows how much variation we should expect between experiments with this sample size (n = 250)."
   ]
  },
  {
   "cell_type": "markdown",
   "metadata": {
    "colab_type": "text",
    "id": "E-DRbdLVeEnX"
   },
   "source": [
    "## P-values\n",
    "\n",
    "Getting get back to the Euro example, Dr. Bright reported:\n",
    "\n",
    "\"If the coin were unbiased the chance of getting a result as extreme as that would be less than 7%\".\n",
    "\n",
    "The article doesn't say so explicitly, but this is a \"p-value\".  To understand what that means, let's count how many times, in 10000 attempts, the outcome is \"as extreme as\" the observed outcome, 140 heads.\n",
    "\n",
    "The observed deviation is the difference between the observed and expected number of heads:"
   ]
  },
  {
   "cell_type": "code",
   "execution_count": 14,
   "metadata": {
    "colab": {},
    "colab_type": "code",
    "id": "Cck79cDHeEnY"
   },
   "outputs": [
    {
     "data": {
      "text/plain": [
       "15.0"
      ]
     },
     "execution_count": 14,
     "metadata": {},
     "output_type": "execute_result"
    }
   ],
   "source": [
    "observed_diff = heads - expected\n",
    "observed_diff"
   ]
  },
  {
   "cell_type": "markdown",
   "metadata": {
    "colab_type": "text",
    "id": "egTofSGZeEnd"
   },
   "source": [
    "Let's see how many times the simulated `diffs` exceed the observed deviation:"
   ]
  },
  {
   "cell_type": "code",
   "execution_count": 15,
   "metadata": {
    "colab": {},
    "colab_type": "code",
    "id": "G8x8K7HWeEne"
   },
   "outputs": [
    {
     "data": {
      "text/plain": [
       "0.023"
      ]
     },
     "execution_count": 15,
     "metadata": {},
     "output_type": "execute_result"
    }
   ],
   "source": [
    "np.mean(diffs >= observed_diff)"
   ]
  },
  {
   "cell_type": "markdown",
   "metadata": {
    "colab_type": "text",
    "id": "t4A0PmV7eEng"
   },
   "source": [
    "It's around 3%.  But Dr. Blight said 7%.  Where did that come from?\n",
    "\n",
    "So far, we only counted the cases where the outcome is *more* heads than expected.  We might also want to count the cases where the outcome is *fewer* than expected.\n",
    "\n",
    "Here's the probability of falling below the expected number by 15 or more."
   ]
  },
  {
   "cell_type": "code",
   "execution_count": 16,
   "metadata": {
    "colab": {},
    "colab_type": "code",
    "id": "VZtVzQuYeEnh"
   },
   "outputs": [
    {
     "data": {
      "text/plain": [
       "0.031"
      ]
     },
     "execution_count": 16,
     "metadata": {},
     "output_type": "execute_result"
    }
   ],
   "source": [
    "np.mean(diffs <= -observed_diff)"
   ]
  },
  {
   "cell_type": "markdown",
   "metadata": {
    "colab_type": "text",
    "id": "kTrI6O87eEnm"
   },
   "source": [
    "To get the total probability of a result \"as extreme as that\", we can use the absolute value of the simulated differences:"
   ]
  },
  {
   "cell_type": "code",
   "execution_count": 17,
   "metadata": {
    "colab": {},
    "colab_type": "code",
    "id": "LL50YLV5eEnn"
   },
   "outputs": [
    {
     "data": {
      "text/plain": [
       "0.054"
      ]
     },
     "execution_count": 17,
     "metadata": {},
     "output_type": "execute_result"
    }
   ],
   "source": [
    "np.mean(abs(diffs) >= observed_diff)"
   ]
  },
  {
   "cell_type": "markdown",
   "metadata": {
    "colab_type": "text",
    "id": "EI5WhC2YeEnq"
   },
   "source": [
    "So that's consistent with what Dr. Blight reported.\n",
    "\n",
    "To show what that looks like graphically, I'll use the following function, which fills in the histogram between `low` and `high`."
   ]
  },
  {
   "cell_type": "code",
   "execution_count": 18,
   "metadata": {
    "colab": {},
    "colab_type": "code",
    "id": "1JHCoZ3WeEns"
   },
   "outputs": [],
   "source": [
    "def fill_hist(low, high, patch):\n",
    "    fill = plt.axvspan(low, high, \n",
    "                       clip_path=patch,\n",
    "                       alpha=0.5, \n",
    "                       color='C0')"
   ]
  },
  {
   "cell_type": "markdown",
   "metadata": {
    "colab_type": "text",
    "id": "BnbvP4cJeEnu"
   },
   "source": [
    "The following plot shows the sampling distribution of `diffs` with two regions shaded.  These regions represent the probability that an unbiased coin yields a deviation from the expected as extreme as 15."
   ]
  },
  {
   "cell_type": "code",
   "execution_count": 19,
   "metadata": {
    "colab": {},
    "colab_type": "code",
    "id": "SSKZ7mo-eEnv"
   },
   "outputs": [
    {
     "data": {
      "image/png": "[encoded data removed]",
      "text/plain": [
       "<Figure size 432x288 with 1 Axes>"
      ]
     },
     "metadata": {
      "needs_background": "light"
     },
     "output_type": "display_data"
    }
   ],
   "source": [
    "patch = plot_hist(diffs)\n",
    "\n",
    "# fill the right tail of the hist\n",
    "low = observed_diff\n",
    "high = diffs.max()\n",
    "fill_hist(low, high, patch)\n",
    "\n",
    "# fill the left tail of the hist\n",
    "low = diffs.min()\n",
    "high = -observed_diff\n",
    "fill_hist(low, high, patch)\n",
    "\n",
    "plt.title('Sampling distribution (n=250)')\n",
    "plt.xlabel('Deviation from expected number of heads')\n",
    "plt.ylabel('Density');"
   ]
  },
  {
   "cell_type": "markdown",
   "metadata": {
    "colab_type": "text",
    "id": "4vhUwKp2eEnz"
   },
   "source": [
    "These results show that there is a non-negligible chance of getting a result as extreme as 140 heads, even if the coin is actually fair.\n",
    "\n",
    "So even if the results are \"suspicious\" they don't provide compelling evidence that the coin is biased."
   ]
  },
  {
   "cell_type": "markdown",
   "metadata": {
    "colab_type": "text",
    "id": "QsnTTJpEeEn1"
   },
   "source": [
    "**Exercise:** There are a few ways to make \"crooked\" dice, that is, dice that are more likely to land on one side than the others.  Suppose you run a casino and you suspect that a patron is using a die that comes up 3 more often than it should.  \n",
    "\n",
    "You confiscate the die, roll it 300 times, and 63 times it comes up 3.  Does that support your suspicions?\n",
    "\n",
    "- To answer this question, use `spin` to simulate the experiment, assuming that the die is fair.\n",
    "\n",
    "- Use a for loop to run `spin` 1000 times and store the results in a NumPy array.\n",
    "\n",
    "- What is the mean of the results from the simulated experiments?\n",
    "\n",
    "- What is the expected number of 3s if the die is fair?\n",
    "\n",
    "- Use `plot_hist` to plot the results.  The histogram you plot approximates the sampling distribution."
   ]
  },
  {
   "cell_type": "code",
   "execution_count": 36,
   "metadata": {
    "colab": {},
    "colab_type": "code",
    "id": "AaEoux6OeEn2"
   },
   "outputs": [
    {
     "data": {
      "text/plain": [
       "47"
      ]
     },
     "execution_count": 36,
     "metadata": {},
     "output_type": "execute_result"
    }
   ],
   "source": [
    "threes, other = 63, 237\n",
    "samples = threes + other\n",
    "prob = 1/6\n",
    "spin(samples, prob)"
   ]
  },
  {
   "cell_type": "code",
   "execution_count": 37,
   "metadata": {
    "colab": {},
    "colab_type": "code",
    "id": "2M9PZH42eEn4"
   },
   "outputs": [],
   "source": [
    "outcomes = np.empty(1000)\n",
    "for i in range(len(outcomes)):\n",
    "    outcomes[i] = spin(samples, prob)"
   ]
  },
  {
   "cell_type": "code",
   "execution_count": 38,
   "metadata": {
    "colab": {},
    "colab_type": "code",
    "id": "mu3mXgAdeEn9"
   },
   "outputs": [
    {
     "data": {
      "text/plain": [
       "49.86"
      ]
     },
     "execution_count": 38,
     "metadata": {},
     "output_type": "execute_result"
    }
   ],
   "source": [
    "np.mean(outcomes)"
   ]
  },
  {
   "cell_type": "code",
   "execution_count": 39,
   "metadata": {
    "colab": {},
    "colab_type": "code",
    "id": "5rTkVqrBeEoA"
   },
   "outputs": [
    {
     "data": {
      "text/plain": [
       "50.0"
      ]
     },
     "execution_count": 39,
     "metadata": {},
     "output_type": "execute_result"
    }
   ],
   "source": [
    "expected = prob * samples\n",
    "expected"
   ]
  },
  {
   "cell_type": "code",
   "execution_count": 40,
   "metadata": {
    "colab": {},
    "colab_type": "code",
    "id": "wut34CpceEoD",
    "scrolled": true
   },
   "outputs": [
    {
     "data": {
      "text/plain": [
       "Text(20.875, 0.5, 'Density')"
      ]
     },
     "execution_count": 40,
     "metadata": {},
     "output_type": "execute_result"
    },
    {
     "data": {
      "image/png": "[encoded data removed]",
      "text/plain": [
       "<Figure size 432x288 with 1 Axes>"
      ]
     },
     "metadata": {
      "needs_background": "light"
     },
     "output_type": "display_data"
    }
   ],
   "source": [
    "plot_hist(outcomes)\n",
    "plt.title('Sampling Distribution (n=300)')\n",
    "plt.xlabel('Number of 3s')\n",
    "plt.ylabel('Density')"
   ]
  },
  {
   "cell_type": "markdown",
   "metadata": {
    "colab_type": "text",
    "id": "TF_crCgpeEoG"
   },
   "source": [
    "**Exercise:** Continuing the previous exercise, compute the probability of seeing a deviation from the expected value that is \"as extreme\" as the observed difference.\n",
    "\n",
    "For this context, what do you think is the best definition of \"as extreme\"?\n",
    "\n",
    "Plot the histogram of the random deviations again, and use `fill_hist` to fill the region of the histogram that corresponds to the p-value you computed. "
   ]
  },
  {
   "cell_type": "code",
   "execution_count": 57,
   "metadata": {
    "colab": {},
    "colab_type": "code",
    "id": "W90lOUJSeEoH"
   },
   "outputs": [],
   "source": [
    "observed_diffs = threes - expected\n",
    "diffs = outcomes - expected"
   ]
  },
  {
   "cell_type": "code",
   "execution_count": 59,
   "metadata": {
    "colab": {},
    "colab_type": "code",
    "id": "LxD5EzPteEoJ"
   },
   "outputs": [
    {
     "data": {
      "image/png": "[encoded data removed]",
      "text/plain": [
       "<Figure size 432x288 with 1 Axes>"
      ]
     },
     "metadata": {
      "needs_background": "light"
     },
     "output_type": "display_data"
    }
   ],
   "source": [
    "patch = plot_hist(diffs)\n",
    "\n",
    "low = observed_diffs\n",
    "high = diffs.max()\n",
    "fill_hist(low, high, patch)\n",
    "\n",
    "low = diffs.min()\n",
    "high = -observed_diff\n",
    "fill_hist(low, high, patch)"
   ]
  },
  {
   "cell_type": "markdown",
   "metadata": {
    "colab_type": "text",
    "id": "EH9VZy2teEoP"
   },
   "source": [
    "## Are first babies more likely to be late?\n",
    "\n",
    "The examples so far have been based on coins and dice, which are relatively simple.  In this section we'll look at an example that's based on real-world data.\n",
    "\n",
    "Here's the motivation for it: When my wife and I were expecting our first baby, we heard that first babies are more likely to be late.  We also hear that first babies are more likely to be early.  Neither claim was supported by evidence.\n",
    "\n",
    "Fortunately, I am a data scientist!  Also fortunately, the CDC runs the National Survey of Family Growth (NSFG), which \"gathers information on family life, marriage and divorce, pregnancy, infertility, use of contraception, and men’s and women’s health.\"\n",
    "\n",
    "I got the data from their web page, https://www.cdc.gov/nchs/nsfg/index.htm, and wrote some code to get it into a Pandas Dataframe:"
   ]
  },
  {
   "cell_type": "code",
   "execution_count": 60,
   "metadata": {
    "colab": {},
    "colab_type": "code",
    "id": "JUWqzzmweEoP"
   },
   "outputs": [
    {
     "name": "stdout",
     "output_type": "stream",
     "text": [
      "--2020-03-11 13:38:51--  https://github.com/AllenDowney/ElementsOfDataScience/raw/master/nsfg.hdf5\n",
      "Loaded CA certificate '/etc/ssl/certs/ca-certificates.crt'\n",
      "Resolving github.com (github.com)... 140.82.113.3\n",
      "Connecting to github.com (github.com)|140.82.113.3|:443... connected.\n",
      "HTTP request sent, awaiting response... 302 Found\n",
      "Location: https://raw.githubusercontent.com/AllenDowney/ElementsOfDataScience/master/nsfg.hdf5 [following]\n",
      "--2020-03-11 13:38:52--  https://raw.githubusercontent.com/AllenDowney/ElementsOfDataScience/master/nsfg.hdf5\n",
      "Resolving raw.githubusercontent.com (raw.githubusercontent.com)... 151.101.192.133, 151.101.0.133, 151.101.64.133, ...\n",
      "Connecting to raw.githubusercontent.com (raw.githubusercontent.com)|151.101.192.133|:443... connected.\n",
      "HTTP request sent, awaiting response... 200 OK\n",
      "Length: 909832 (889K) [application/octet-stream]\n",
      "Saving to: ‘nsfg.hdf5’\n",
      "\n",
      "nsfg.hdf5           100%[===================>] 888.51K  --.-KB/s    in 0.08s   \n",
      "\n",
      "2020-03-11 13:38:52 (10.4 MB/s) - ‘nsfg.hdf5’ saved [909832/909832]\n",
      "\n"
     ]
    }
   ],
   "source": [
    "import os\n",
    "\n",
    "if not os.path.exists('nsfg.hdf5'):\n",
    "    !wget https://github.com/AllenDowney/ElementsOfDataScience/raw/master/nsfg.hdf5"
   ]
  },
  {
   "cell_type": "code",
   "execution_count": 61,
   "metadata": {
    "colab": {},
    "colab_type": "code",
    "id": "CD4bk2eOeEoS"
   },
   "outputs": [
    {
     "data": {
      "text/plain": [
       "(9358, 11)"
      ]
     },
     "execution_count": 61,
     "metadata": {},
     "output_type": "execute_result"
    }
   ],
   "source": [
    "import pandas as pd\n",
    "\n",
    "nsfg = pd.read_hdf('nsfg.hdf5')\n",
    "nsfg.shape"
   ]
  },
  {
   "cell_type": "markdown",
   "metadata": {
    "colab_type": "text",
    "id": "WknfZpJ4eEoV"
   },
   "source": [
    "The `nsfg` DataFrame contains 9358 rows, one for each recorded pregnancy, and 11 columns, one of each of the variables I selected.\n",
    "\n",
    "Here are the first few lines."
   ]
  },
  {
   "cell_type": "code",
   "execution_count": 62,
   "metadata": {
    "colab": {},
    "colab_type": "code",
    "id": "9xuJdbEHeEoV"
   },
   "outputs": [
    {
     "data": {
      "text/html": [
       "<div>\n",
       "<style scoped>\n",
       "    .dataframe tbody tr th:only-of-type {\n",
       "        vertical-align: middle;\n",
       "    }\n",
       "\n",
       "    .dataframe tbody tr th {\n",
       "        vertical-align: top;\n",
       "    }\n",
       "\n",
       "    .dataframe thead th {\n",
       "        text-align: right;\n",
       "    }\n",
       "</style>\n",
       "<table border=\"1\" class=\"dataframe\">\n",
       "  <thead>\n",
       "    <tr style=\"text-align: right;\">\n",
       "      <th></th>\n",
       "      <th>caseid</th>\n",
       "      <th>outcome</th>\n",
       "      <th>birthwgt_lb1</th>\n",
       "      <th>birthwgt_oz1</th>\n",
       "      <th>prglngth</th>\n",
       "      <th>nbrnaliv</th>\n",
       "      <th>agecon</th>\n",
       "      <th>agepreg</th>\n",
       "      <th>birthord</th>\n",
       "      <th>hpagelb</th>\n",
       "      <th>wgt2013_2015</th>\n",
       "    </tr>\n",
       "  </thead>\n",
       "  <tbody>\n",
       "    <tr>\n",
       "      <th>0</th>\n",
       "      <td>60418</td>\n",
       "      <td>1</td>\n",
       "      <td>5.0</td>\n",
       "      <td>4.0</td>\n",
       "      <td>40</td>\n",
       "      <td>1.0</td>\n",
       "      <td>2000</td>\n",
       "      <td>2075.0</td>\n",
       "      <td>1.0</td>\n",
       "      <td>22.0</td>\n",
       "      <td>3554.964843</td>\n",
       "    </tr>\n",
       "    <tr>\n",
       "      <th>1</th>\n",
       "      <td>60418</td>\n",
       "      <td>1</td>\n",
       "      <td>4.0</td>\n",
       "      <td>12.0</td>\n",
       "      <td>36</td>\n",
       "      <td>1.0</td>\n",
       "      <td>2291</td>\n",
       "      <td>2358.0</td>\n",
       "      <td>2.0</td>\n",
       "      <td>25.0</td>\n",
       "      <td>3554.964843</td>\n",
       "    </tr>\n",
       "    <tr>\n",
       "      <th>2</th>\n",
       "      <td>60418</td>\n",
       "      <td>1</td>\n",
       "      <td>5.0</td>\n",
       "      <td>4.0</td>\n",
       "      <td>36</td>\n",
       "      <td>1.0</td>\n",
       "      <td>3241</td>\n",
       "      <td>3308.0</td>\n",
       "      <td>3.0</td>\n",
       "      <td>52.0</td>\n",
       "      <td>3554.964843</td>\n",
       "    </tr>\n",
       "    <tr>\n",
       "      <th>3</th>\n",
       "      <td>60419</td>\n",
       "      <td>6</td>\n",
       "      <td>NaN</td>\n",
       "      <td>NaN</td>\n",
       "      <td>33</td>\n",
       "      <td>NaN</td>\n",
       "      <td>3650</td>\n",
       "      <td>NaN</td>\n",
       "      <td>NaN</td>\n",
       "      <td>NaN</td>\n",
       "      <td>2484.535358</td>\n",
       "    </tr>\n",
       "    <tr>\n",
       "      <th>4</th>\n",
       "      <td>60420</td>\n",
       "      <td>1</td>\n",
       "      <td>8.0</td>\n",
       "      <td>13.0</td>\n",
       "      <td>41</td>\n",
       "      <td>1.0</td>\n",
       "      <td>2191</td>\n",
       "      <td>2266.0</td>\n",
       "      <td>1.0</td>\n",
       "      <td>24.0</td>\n",
       "      <td>2903.782914</td>\n",
       "    </tr>\n",
       "  </tbody>\n",
       "</table>\n",
       "</div>"
      ],
      "text/plain": [
       "   caseid  outcome  birthwgt_lb1  birthwgt_oz1  prglngth  nbrnaliv  agecon  \\\n",
       "0   60418        1           5.0           4.0        40       1.0    2000   \n",
       "1   60418        1           4.0          12.0        36       1.0    2291   \n",
       "2   60418        1           5.0           4.0        36       1.0    3241   \n",
       "3   60419        6           NaN           NaN        33       NaN    3650   \n",
       "4   60420        1           8.0          13.0        41       1.0    2191   \n",
       "\n",
       "   agepreg  birthord  hpagelb  wgt2013_2015  \n",
       "0   2075.0       1.0     22.0   3554.964843  \n",
       "1   2358.0       2.0     25.0   3554.964843  \n",
       "2   3308.0       3.0     52.0   3554.964843  \n",
       "3      NaN       NaN      NaN   2484.535358  \n",
       "4   2266.0       1.0     24.0   2903.782914  "
      ]
     },
     "execution_count": 62,
     "metadata": {},
     "output_type": "execute_result"
    }
   ],
   "source": [
    "nsfg.head()"
   ]
  },
  {
   "cell_type": "markdown",
   "metadata": {
    "colab_type": "text",
    "id": "USL2JFvSeEoY"
   },
   "source": [
    "The variables we need are `birthord`, which indicates birth order, and `prglength`, which is pregnancy length in weeks.\n",
    "\n",
    "I'll make two boolean Series, one for first babies and one for others."
   ]
  },
  {
   "cell_type": "code",
   "execution_count": 63,
   "metadata": {
    "colab": {},
    "colab_type": "code",
    "id": "1nHdjQjkeEoY"
   },
   "outputs": [
    {
     "data": {
      "text/plain": [
       "(3067, 3422)"
      ]
     },
     "execution_count": 63,
     "metadata": {},
     "output_type": "execute_result"
    }
   ],
   "source": [
    "firsts = (nsfg.birthord == 1)\n",
    "others = (nsfg.birthord > 1)\n",
    "\n",
    "np.sum(firsts), np.sum(others)"
   ]
  },
  {
   "cell_type": "markdown",
   "metadata": {
    "colab_type": "text",
    "id": "KoopTTU2eEok"
   },
   "source": [
    "We can use the boolean Series to select pregnancy lengths for the two groups and compute their means:"
   ]
  },
  {
   "cell_type": "code",
   "execution_count": 64,
   "metadata": {
    "colab": {},
    "colab_type": "code",
    "id": "8ZieWFqKeEol"
   },
   "outputs": [
    {
     "data": {
      "text/plain": [
       "(38.57124225627649, 38.36908240794857)"
      ]
     },
     "execution_count": 64,
     "metadata": {},
     "output_type": "execute_result"
    }
   ],
   "source": [
    "prglngth = nsfg['prglngth']\n",
    "\n",
    "mean_first = prglngth[firsts].mean() \n",
    "mean_other = prglngth[others].mean()\n",
    "\n",
    "mean_first, mean_other"
   ]
  },
  {
   "cell_type": "markdown",
   "metadata": {
    "colab_type": "text",
    "id": "FKhT1WjReEon"
   },
   "source": [
    "Here's the difference in means, in weeks."
   ]
  },
  {
   "cell_type": "code",
   "execution_count": 65,
   "metadata": {
    "colab": {},
    "colab_type": "code",
    "id": "jNeirjbGeEot",
    "scrolled": true
   },
   "outputs": [
    {
     "data": {
      "text/plain": [
       "0.20215984832792344"
      ]
     },
     "execution_count": 65,
     "metadata": {},
     "output_type": "execute_result"
    }
   ],
   "source": [
    "diff = mean_first - mean_other\n",
    "diff"
   ]
  },
  {
   "cell_type": "markdown",
   "metadata": {
    "colab_type": "text",
    "id": "UWNR3KnReEo2"
   },
   "source": [
    "Here it is converted to days:"
   ]
  },
  {
   "cell_type": "code",
   "execution_count": 66,
   "metadata": {
    "colab": {},
    "colab_type": "code",
    "id": "toI8EhiLeEo5",
    "scrolled": true
   },
   "outputs": [
    {
     "data": {
      "text/plain": [
       "1.415118938295464"
      ]
     },
     "execution_count": 66,
     "metadata": {},
     "output_type": "execute_result"
    }
   ],
   "source": [
    "diff * 7"
   ]
  },
  {
   "cell_type": "markdown",
   "metadata": {
    "colab_type": "text",
    "id": "3xdJaIAseEpB"
   },
   "source": [
    "It looks like first babies are born 1.4 days later than other babies, on average. "
   ]
  },
  {
   "cell_type": "markdown",
   "metadata": {
    "colab_type": "text",
    "id": "giXAlWZxeEpD"
   },
   "source": [
    "## Hypothesis testing\n",
    "\n",
    "The apparent difference between these groups is based on a random sample that is much smaller than the actual population.  So we can't be sure that the difference we see in the sample reflects a real difference in the population.  There are two other possibilities we should keep in mind:\n",
    "\n",
    "*  Systematic errors: The sample might be more likely to include some pregancies, and less likely to include others, in a way that causes an apparent difference in the sample, even if there is no such difference in the population.\n",
    "\n",
    "*  Sampling errors: Even if every pregnancy is equally likely to appear in the sample, it is still possible to see a difference in the sample that is not in the population, just because of random variation.\n",
    "\n",
    "We can never rule out the possibility of systematic errors, but we *can* test whether an apparent effect could be explained by random sampling.\n",
    "\n",
    "Here's how:\n",
    "\n",
    "1. First we choose a \"test statistic\" that measures the size of the effect; the test statistic in this example is the difference in mean pregnancy length.\n",
    "\n",
    "2. Next we define a model of the population under the assumption that there is actually no difference between the groups.  This assumption is called the \"null hypothesis\".\n",
    "\n",
    "3. Then we use the model to compute the distribution of the test statistic under the null hypothesis.\n",
    "\n",
    "We have already done step 1, but to make it easier to repeat, I'll wrap it in a function."
   ]
  },
  {
   "cell_type": "code",
   "execution_count": 67,
   "metadata": {
    "colab": {},
    "colab_type": "code",
    "id": "2cWHUPkheEpF"
   },
   "outputs": [],
   "source": [
    "def test_stat(group1, group2):\n",
    "    \"\"\"Difference in means.\n",
    "    \n",
    "    group1: sequence of values\n",
    "    group2: sequence of values\n",
    "    \n",
    "    returns: float difference in means\n",
    "    \"\"\"\n",
    "    diff = np.mean(group1) - np.mean(group2)\n",
    "    return diff"
   ]
  },
  {
   "cell_type": "markdown",
   "metadata": {
    "colab_type": "text",
    "id": "-Uxug3yKeEpM"
   },
   "source": [
    "`test_stat` takes two sequences and computes the difference in their means.\n",
    "\n",
    "Here's how we use it to compute the actual difference in the sample."
   ]
  },
  {
   "cell_type": "code",
   "execution_count": 68,
   "metadata": {
    "colab": {},
    "colab_type": "code",
    "id": "Cl2ysqUqeEpO"
   },
   "outputs": [
    {
     "data": {
      "text/plain": [
       "0.20215984832792344"
      ]
     },
     "execution_count": 68,
     "metadata": {},
     "output_type": "execute_result"
    }
   ],
   "source": [
    "group1 = prglngth[firsts]\n",
    "group2 = prglngth[others]\n",
    "\n",
    "actual_diff = test_stat(group1, group2)\n",
    "actual_diff"
   ]
  },
  {
   "cell_type": "markdown",
   "metadata": {
    "colab_type": "text",
    "id": "eqzGr7TQeEpS"
   },
   "source": [
    "Now we have to define the null hypothesis, which is a model of the world where there is no difference in pregnancy length between first babies and others.\n",
    "\n",
    "One way to do that is to put the two groups together and then divide them up again at random.  That way the distribution of pregnancy lengths is the same for both groups.\n",
    "\n",
    "I'll use `concatenate` to pool the groups. "
   ]
  },
  {
   "cell_type": "code",
   "execution_count": 69,
   "metadata": {
    "colab": {},
    "colab_type": "code",
    "id": "Gthh9u14eEpT"
   },
   "outputs": [
    {
     "data": {
      "text/plain": [
       "(3067, 3422)"
      ]
     },
     "execution_count": 69,
     "metadata": {},
     "output_type": "execute_result"
    }
   ],
   "source": [
    "len(group1), len(group2)"
   ]
  },
  {
   "cell_type": "code",
   "execution_count": 70,
   "metadata": {
    "colab": {},
    "colab_type": "code",
    "id": "H1oq34YfeEpX"
   },
   "outputs": [
    {
     "data": {
      "text/plain": [
       "(6489,)"
      ]
     },
     "execution_count": 70,
     "metadata": {},
     "output_type": "execute_result"
    }
   ],
   "source": [
    "pool = np.concatenate([group1, group2])\n",
    "pool.shape"
   ]
  },
  {
   "cell_type": "markdown",
   "metadata": {
    "colab_type": "text",
    "id": "G9b4pyjAeEpc"
   },
   "source": [
    "I'll use `shuffle` to reorder them."
   ]
  },
  {
   "cell_type": "code",
   "execution_count": 71,
   "metadata": {
    "colab": {},
    "colab_type": "code",
    "id": "naWyldSjeEpe"
   },
   "outputs": [],
   "source": [
    "np.random.shuffle(pool)"
   ]
  },
  {
   "cell_type": "markdown",
   "metadata": {
    "colab_type": "text",
    "id": "BtWujwWueEph"
   },
   "source": [
    "Then I'll use `split` to make two simulated groups, the same size as the originals."
   ]
  },
  {
   "cell_type": "code",
   "execution_count": 72,
   "metadata": {
    "colab": {},
    "colab_type": "code",
    "id": "PKg1Xf_NeEpj"
   },
   "outputs": [],
   "source": [
    "n = len(group1)\n",
    "sim_group1, sim_group2 = np.split(pool, [n])"
   ]
  },
  {
   "cell_type": "code",
   "execution_count": 73,
   "metadata": {
    "colab": {},
    "colab_type": "code",
    "id": "doSF3WYIeEpn"
   },
   "outputs": [
    {
     "data": {
      "text/plain": [
       "(3067, 3422)"
      ]
     },
     "execution_count": 73,
     "metadata": {},
     "output_type": "execute_result"
    }
   ],
   "source": [
    "len(sim_group1), len(sim_group2)"
   ]
  },
  {
   "cell_type": "markdown",
   "metadata": {
    "colab_type": "text",
    "id": "VMa2Pn0XeEps"
   },
   "source": [
    "Now we can compute the test statistic for the simulated data."
   ]
  },
  {
   "cell_type": "code",
   "execution_count": 74,
   "metadata": {
    "colab": {},
    "colab_type": "code",
    "id": "AxInmdW0eEpu"
   },
   "outputs": [
    {
     "data": {
      "text/plain": [
       "0.053154781857053024"
      ]
     },
     "execution_count": 74,
     "metadata": {},
     "output_type": "execute_result"
    }
   ],
   "source": [
    "test_stat(sim_group1, sim_group2)"
   ]
  },
  {
   "cell_type": "markdown",
   "metadata": {
    "colab_type": "text",
    "id": "xB3Q0nJ3eEpx"
   },
   "source": [
    "In the simulated data, the distribution of pregnancy lengths is the same for both groups, so the difference is usually close to 0.\n",
    "\n",
    "But because it is based on a random shuffle of the groups, we get a different value each time we run it.\n",
    "\n",
    "To see what the whole distribution looks like, we can run the simulation many times and store the results."
   ]
  },
  {
   "cell_type": "code",
   "execution_count": 75,
   "metadata": {
    "colab": {},
    "colab_type": "code",
    "id": "axvI_GGLeEpy"
   },
   "outputs": [],
   "source": [
    "diffs = np.empty(1000)\n",
    "\n",
    "for i in range(len(diffs)):\n",
    "    np.random.shuffle(pool)\n",
    "    sim_group1, sim_group2 = np.split(pool, [n])\n",
    "    diffs[i] = test_stat(sim_group1, sim_group2)"
   ]
  },
  {
   "cell_type": "markdown",
   "metadata": {
    "colab_type": "text",
    "id": "-_9SWGGXeEp3"
   },
   "source": [
    "The result is the \"sampling distribution of the test statistic under the null hypothesis\".\n",
    "\n",
    "The mean of this distribution should close to zero, because it is based on the assumption that there is actually no difference between the groups."
   ]
  },
  {
   "cell_type": "code",
   "execution_count": 76,
   "metadata": {
    "colab": {},
    "colab_type": "code",
    "id": "yXMjFkrgeEp5"
   },
   "outputs": [
    {
     "data": {
      "text/plain": [
       "-0.001087390286332564"
      ]
     },
     "execution_count": 76,
     "metadata": {},
     "output_type": "execute_result"
    }
   ],
   "source": [
    "np.mean(diffs)"
   ]
  },
  {
   "cell_type": "markdown",
   "metadata": {
    "colab_type": "text",
    "id": "evTjaM4UeEp9"
   },
   "source": [
    "And here's what the whole distribution looks like."
   ]
  },
  {
   "cell_type": "code",
   "execution_count": 77,
   "metadata": {
    "colab": {},
    "colab_type": "code",
    "id": "yKZRr6IneEp-"
   },
   "outputs": [
    {
     "data": {
      "image/png": "[encoded data removed]",
      "text/plain": [
       "<Figure size 432x288 with 1 Axes>"
      ]
     },
     "metadata": {
      "needs_background": "light"
     },
     "output_type": "display_data"
    }
   ],
   "source": [
    "plot_hist(diffs)\n",
    "\n",
    "plt.xlabel('Difference in mean (weeks)')\n",
    "plt.title('Distribution of test statistic under null hypothesis');"
   ]
  },
  {
   "cell_type": "markdown",
   "metadata": {
    "colab_type": "text",
    "id": "QPJjS1DteEqI"
   },
   "source": [
    "If there were actually no difference between the groups, we would expect to see a difference as big as 0.15 weeks by chance, at least occasionally.  But a difference as big as 0.2 would be rare.\n",
    "\n",
    "To quantify that surprise, we can estimate the probability that the test statistic, under the null hypothesis, exceeds the observed differences in the means.\n",
    "\n",
    "The result is a \"p-value\"."
   ]
  },
  {
   "cell_type": "code",
   "execution_count": 78,
   "metadata": {
    "colab": {},
    "colab_type": "code",
    "id": "O8TsG8VueEqJ"
   },
   "outputs": [
    {
     "data": {
      "text/plain": [
       "0.003"
      ]
     },
     "execution_count": 78,
     "metadata": {},
     "output_type": "execute_result"
    }
   ],
   "source": [
    "p_value = np.mean(diffs >= actual_diff)\n",
    "p_value"
   ]
  },
  {
   "cell_type": "markdown",
   "metadata": {
    "colab_type": "text",
    "id": "EPuHJNe5eEqN"
   },
   "source": [
    "In this example the result is 0, which is to say that in 1000 simulations of the null hypothesis, we never saw a difference as big as 0.2."
   ]
  },
  {
   "cell_type": "markdown",
   "metadata": {
    "colab_type": "text",
    "id": "uDcmekI8eEqN"
   },
   "source": [
    "## Interpreting p-values\n",
    "\n",
    "To interpret this result, remember that we started with three possible explanations for the observed difference between the groups:\n",
    "\n",
    "1. The observed difference might be \"real\"; that is, there might be an actual difference in pregnancy length between first babies and others.\n",
    "\n",
    "2. There might be no real difference between the groups, and the observed difference might be because of a systematic error in the sampling process or the data collection process.  For example, maybe reported pregnancy lengths are less accurate for first time mothers.\n",
    "\n",
    "3. There might be no real difference between the groups, and the observed difference might be due to random variation in the sampling process.\n",
    "\n",
    "By computing a p-value, we have established that it would be rare to see a difference as big as 0.2 due to sampling alone.  So we can conclude that the third explanation is unlikely.\n",
    "\n",
    "That makes it more likely that the difference is real, but we still can't rule out the second possibility."
   ]
  },
  {
   "cell_type": "markdown",
   "metadata": {
    "colab_type": "text",
    "id": "kYHOxwfLeEqP"
   },
   "source": [
    "**Exercise:** The test statistic we chose is the difference in means between the two groups.\n",
    "\n",
    "But suppose we would like to know whether first babies are more unpredictable than other babies.  In that case the test statistic we choose might be the standard deviation of pregnancy length, which is one way to quantify unpredictability.\n",
    "\n",
    "As an exercise:\n",
    "\n",
    "1. Write a version of `test_stat` that computes the difference in standard deviation between the groups.\n",
    "\n",
    "2. Write a loop that estimates the distribution of this test statistic under the null hypothesis.\n",
    "\n",
    "3. Compute a p-value."
   ]
  },
  {
   "cell_type": "code",
   "execution_count": 131,
   "metadata": {
    "colab": {},
    "colab_type": "code",
    "id": "z21bDf_ZeEqQ"
   },
   "outputs": [],
   "source": [
    "def test_stat(group1, group2):\n",
    "    \"\"\"Computes the difference in standard deviation between the groups.\n",
    "    \n",
    "    group1: sequence of values\n",
    "    group2: sequence of values\n",
    "    \n",
    "    returns: float difference in standard deviation\n",
    "    \"\"\"\n",
    "    diff = group1.std() - group2.std()\n",
    "    return diff"
   ]
  },
  {
   "cell_type": "markdown",
   "metadata": {},
   "source": [
    "Finding Standard Deviation Manually: \n",
    "1. Find the mean result, the expected\n",
    "2. Find the variance: Subtract the mean from each of the numbers, square the numbers, add them together, divide the sum of the squares my (n-1)\n",
    "4. Standard deviation = sqrt(variance)"
   ]
  },
  {
   "cell_type": "code",
   "execution_count": 132,
   "metadata": {},
   "outputs": [],
   "source": [
    "group1 = prglngth[firsts]\n",
    "group2 = prglngth[others]"
   ]
  },
  {
   "cell_type": "code",
   "execution_count": 133,
   "metadata": {},
   "outputs": [
    {
     "data": {
      "text/plain": [
       "2.7286013544072696"
      ]
     },
     "execution_count": 133,
     "metadata": {},
     "output_type": "execute_result"
    }
   ],
   "source": [
    "group1.std()"
   ]
  },
  {
   "cell_type": "code",
   "execution_count": 134,
   "metadata": {},
   "outputs": [
    {
     "data": {
      "text/plain": [
       "2.557314304298131"
      ]
     },
     "execution_count": 134,
     "metadata": {},
     "output_type": "execute_result"
    }
   ],
   "source": [
    "group2.std()"
   ]
  },
  {
   "cell_type": "code",
   "execution_count": 138,
   "metadata": {},
   "outputs": [
    {
     "data": {
      "text/plain": [
       "0.17128705010913858"
      ]
     },
     "execution_count": 138,
     "metadata": {},
     "output_type": "execute_result"
    }
   ],
   "source": [
    "std = test_stat(group1, group2)\n",
    "std"
   ]
  },
  {
   "cell_type": "code",
   "execution_count": 139,
   "metadata": {
    "colab": {},
    "colab_type": "code",
    "id": "BIhsReHEeEqc"
   },
   "outputs": [
    {
     "data": {
      "text/plain": [
       "(6489,)"
      ]
     },
     "execution_count": 139,
     "metadata": {},
     "output_type": "execute_result"
    }
   ],
   "source": [
    "pool = np.concatenate([group1, group2])\n",
    "pool.shape"
   ]
  },
  {
   "cell_type": "code",
   "execution_count": 140,
   "metadata": {
    "colab": {},
    "colab_type": "code",
    "id": "2xMC_ZOYeEqg"
   },
   "outputs": [],
   "source": [
    "diffs = np.empty(1000)\n",
    "for i in range(len(diffs)):\n",
    "    np.random.shuffle(pool)\n",
    "    sim_group1, sim_group2 = np.split(pool, [n])\n",
    "    diffs[i] = test_stat(sim_group1, sim_group2)"
   ]
  },
  {
   "cell_type": "code",
   "execution_count": 141,
   "metadata": {
    "colab": {},
    "colab_type": "code",
    "id": "JJrf1NF5eEqk"
   },
   "outputs": [
    {
     "data": {
      "text/plain": [
       "0.0004912676179112485"
      ]
     },
     "execution_count": 141,
     "metadata": {},
     "output_type": "execute_result"
    }
   ],
   "source": [
    "np.mean(diffs)"
   ]
  },
  {
   "cell_type": "code",
   "execution_count": 142,
   "metadata": {},
   "outputs": [
    {
     "data": {
      "image/png": "[encoded data removed]",
      "text/plain": [
       "<Figure size 432x288 with 1 Axes>"
      ]
     },
     "metadata": {
      "needs_background": "light"
     },
     "output_type": "display_data"
    }
   ],
   "source": [
    "plot_hist(diffs)\n",
    "\n",
    "plt.xlabel('Difference in Standard Deviation')\n",
    "plt.title('Distribution of test statistic under null hypothesis');"
   ]
  },
  {
   "cell_type": "code",
   "execution_count": 143,
   "metadata": {},
   "outputs": [
    {
     "data": {
      "text/plain": [
       "0.059"
      ]
     },
     "execution_count": 143,
     "metadata": {},
     "output_type": "execute_result"
    }
   ],
   "source": [
    "p_value = np.mean(diffs >= actual_diff)\n",
    "p_value"
   ]
  },
  {
   "cell_type": "markdown",
   "metadata": {},
   "source": [
    "Based on this information and data, it cannot be confidently concluded that first born babies are more unpredictable in pregnancy time than other babies. The p value of the standard variance under the null hypothesis is 5.9%, showing rather large variance. \n",
    "\n",
    "The difference in standard deviation between first born babies and other babies is not outside the realm of random sampling of the whole dataset."
   ]
  },
  {
   "cell_type": "markdown",
   "metadata": {
    "colab_type": "text",
    "id": "h8NqBUvKeEqp"
   },
   "source": [
    "## Estimation\n",
    "\n",
    "Suppose we want to estimate the average height of men in the U.S.\n",
    "\n",
    "We can use data from the [BRFSS](https://www.cdc.gov/brfss/index.html):\n",
    "\n",
    "\"The Behavioral Risk Factor Surveillance System (BRFSS) is the nation's premier system of health-related telephone surveys that collect state data about U.S. residents regarding their health-related risk behaviors, chronic health conditions, and use of preventive services.\""
   ]
  },
  {
   "cell_type": "code",
   "execution_count": null,
   "metadata": {
    "colab": {},
    "colab_type": "code",
    "id": "PnFkx9vyeEqq"
   },
   "outputs": [],
   "source": [
    "# Get the data file\n",
    "\n",
    "import os\n",
    "\n",
    "if not os.path.exists('brfss.hdf5'):\n",
    "    !wget https://github.com/AllenDowney/ElementsOfDataScience/raw/master/brfss.hdf5"
   ]
  },
  {
   "cell_type": "code",
   "execution_count": null,
   "metadata": {
    "colab": {},
    "colab_type": "code",
    "id": "R5_GffceeEqu"
   },
   "outputs": [],
   "source": [
    "import pandas as pd\n",
    "\n",
    "brfss = pd.read_hdf('brfss.hdf5', 'brfss')\n",
    "brfss.shape"
   ]
  },
  {
   "cell_type": "markdown",
   "metadata": {
    "colab_type": "text",
    "id": "LXjTl-eFeEqx"
   },
   "source": [
    "We can use `SEX` to select male respondents."
   ]
  },
  {
   "cell_type": "code",
   "execution_count": null,
   "metadata": {
    "colab": {},
    "colab_type": "code",
    "id": "d-IA-v51eEqy"
   },
   "outputs": [],
   "source": [
    "male = (brfss.SEX == 1)\n",
    "np.mean(male)"
   ]
  },
  {
   "cell_type": "markdown",
   "metadata": {
    "colab_type": "text",
    "id": "pStpcSJSeEq4"
   },
   "source": [
    "Then we select height data."
   ]
  },
  {
   "cell_type": "code",
   "execution_count": null,
   "metadata": {
    "colab": {},
    "colab_type": "code",
    "id": "JuQcCjHteEq6"
   },
   "outputs": [],
   "source": [
    "heights = brfss['HTM4']\n",
    "data = heights[male]"
   ]
  },
  {
   "cell_type": "markdown",
   "metadata": {
    "colab_type": "text",
    "id": "3wBrKCvxeEq-"
   },
   "source": [
    "We can use `isnan` to check for NaN values:"
   ]
  },
  {
   "cell_type": "code",
   "execution_count": null,
   "metadata": {
    "colab": {},
    "colab_type": "code",
    "id": "jg2VdZyVeEq-"
   },
   "outputs": [],
   "source": [
    "np.mean(np.isnan(data)) * 100"
   ]
  },
  {
   "cell_type": "markdown",
   "metadata": {
    "colab_type": "text",
    "id": "a_AuYcPDeErD"
   },
   "source": [
    "About 4% of the values are missing.\n",
    "\n",
    "Here are the mean and standard deviation, ignoring missing data."
   ]
  },
  {
   "cell_type": "code",
   "execution_count": null,
   "metadata": {
    "colab": {},
    "colab_type": "code",
    "id": "2SozcPsVeErE"
   },
   "outputs": [],
   "source": [
    "print('Mean male height in cm =', np.nanmean(data))\n",
    "print('Std male height in cm =', np.nanstd(data))"
   ]
  },
  {
   "cell_type": "markdown",
   "metadata": {
    "colab_type": "text",
    "id": "3OxsBH9qeErH"
   },
   "source": [
    "## Quantifying precision\n",
    "\n",
    "At this point we have an estimate of the average adult male height.  We'd like to know how accurate this estimate is, and how precise.  In the context of estimation, these words have a [technical distinction](https://en.wikipedia.org/wiki/Accuracy_and_precision):\n",
    "\n",
    ">Given a set of data points from repeated measurements of the same quantity, the set can be said to be precise if the values are close to each other, while the set can be said to be accurate if their average is close to the true value of the quantity being measured.\n",
    "\n",
    "Usually accuracy is what we really care about, but it's hard to measure accuracy unless you know the true value.  And if you know the true value, you don't have to estimate it.\n",
    "\n",
    "Quantifying precision is not as useful, but it is much easier.  Here's one way to do it:\n",
    "\n",
    "1.  Use the data you have to make a model of the population.\n",
    "\n",
    "2.  Use the model to simulate the data collection process.\n",
    "\n",
    "3.  Use the simulated data to compute an estimate.\n",
    "\n",
    "By repeating these steps, we can quantify the variability of the estimate due to random sampling."
   ]
  },
  {
   "cell_type": "markdown",
   "metadata": {
    "colab_type": "text",
    "id": "GwFUTqdheErI"
   },
   "source": [
    "To model the population, I'll use **resampling**; that is, I will treat the observed measurements as if they were taken from the entire population, and I will draw random samples from them.\n",
    "\n",
    "We can use `np.random.choice` to resample the data:"
   ]
  },
  {
   "cell_type": "code",
   "execution_count": null,
   "metadata": {
    "colab": {},
    "colab_type": "code",
    "id": "bNcYaRIheErJ"
   },
   "outputs": [],
   "source": [
    "size = len(data)\n",
    "sim_data = np.random.choice(data, size, replace=True)\n",
    "sim_data.shape"
   ]
  },
  {
   "cell_type": "markdown",
   "metadata": {
    "colab_type": "text",
    "id": "5wbjYIbHeErM"
   },
   "source": [
    "With `replace=True`, we sample with replacement, which means that some measurements might be chosen more than once, and some might not be chosen at all.\n",
    "\n",
    "(If we sample *without* replacement, the resampled data is always identical to the original, so that's no good.)"
   ]
  },
  {
   "cell_type": "markdown",
   "metadata": {
    "colab_type": "text",
    "id": "7IdCYgjPeErN"
   },
   "source": [
    "Now we can use `nanmean` to compute the mean of the simulated data, ignoring missing values."
   ]
  },
  {
   "cell_type": "code",
   "execution_count": null,
   "metadata": {
    "colab": {},
    "colab_type": "code",
    "id": "00AeWw52eErO"
   },
   "outputs": [],
   "source": [
    "np.nanmean(sim_data)"
   ]
  },
  {
   "cell_type": "markdown",
   "metadata": {
    "colab_type": "text",
    "id": "yEmELNIfeErR"
   },
   "source": [
    "If we repeat this process 1000 times, we can see how much the results vary."
   ]
  },
  {
   "cell_type": "code",
   "execution_count": null,
   "metadata": {
    "colab": {},
    "colab_type": "code",
    "id": "3qZgtIBXeErT"
   },
   "outputs": [],
   "source": [
    "outcomes = np.empty(1000)\n",
    "size = len(data)\n",
    "\n",
    "for i in range(len(outcomes)):\n",
    "    sim_data = np.random.choice(data, size, replace=True)\n",
    "    outcomes[i] = np.nanmean(sim_data)"
   ]
  },
  {
   "cell_type": "markdown",
   "metadata": {
    "colab_type": "text",
    "id": "bZIO2y1BeErX"
   },
   "source": [
    "The result is the \"sampling distribution\", which shows how much the results of the experiment would vary if we ran it many times.  Here's what it looks like:"
   ]
  },
  {
   "cell_type": "code",
   "execution_count": null,
   "metadata": {
    "colab": {},
    "colab_type": "code",
    "id": "LYt8k0TCeErY"
   },
   "outputs": [],
   "source": [
    "plot_hist(outcomes)\n",
    "plt.title('Sampling distribution of the mean')\n",
    "plt.xlabel('Mean adult male height, U.S.');"
   ]
  },
  {
   "cell_type": "markdown",
   "metadata": {
    "colab_type": "text",
    "id": "hP-Oy3HUeEra"
   },
   "source": [
    "The width of this distribution shows how much the results vary from one experiment to the next.\n",
    "\n",
    "We can quantify this variability by computing the standard deviation of the sampling distribution, which is called \"standard error\".\n"
   ]
  },
  {
   "cell_type": "code",
   "execution_count": null,
   "metadata": {
    "colab": {},
    "colab_type": "code",
    "id": "jdSoBfSTeErb"
   },
   "outputs": [],
   "source": [
    "std_err = np.std(outcomes)\n",
    "std_err"
   ]
  },
  {
   "cell_type": "markdown",
   "metadata": {
    "colab_type": "text",
    "id": "omT96SCNeErd"
   },
   "source": [
    "We can also summarize the sampling distribution with a \"confidence interval\", which is a range that contains a specified fraction, like 90%, of the values in `sampling_dist_mean`.\n",
    "\n",
    "The central 90% confidence interval is between the 5th and 95th percentiles of the sampling distribution."
   ]
  },
  {
   "cell_type": "code",
   "execution_count": null,
   "metadata": {
    "colab": {},
    "colab_type": "code",
    "id": "FwGG2HYZeErd"
   },
   "outputs": [],
   "source": [
    "ci_90 = np.percentile(outcomes, [5, 95])\n",
    "ci_90"
   ]
  },
  {
   "cell_type": "markdown",
   "metadata": {
    "colab_type": "text",
    "id": "qvhDompZeErh"
   },
   "source": [
    "The following function plots a histogram and shades the 90% confidence interval."
   ]
  },
  {
   "cell_type": "code",
   "execution_count": null,
   "metadata": {
    "colab": {},
    "colab_type": "code",
    "id": "h0MCqYCieErh"
   },
   "outputs": [],
   "source": [
    "def plot_sampling_dist(outcomes):\n",
    "    patch = plot_hist(outcomes)\n",
    "    low, high = np.percentile(outcomes, [5, 95])\n",
    "    fill_hist(low, high, patch)\n",
    "    print('Mean = ', np.mean(outcomes))\n",
    "    print('Std error = ', np.std(outcomes))\n",
    "    print('90% CI = ', (low, high))"
   ]
  },
  {
   "cell_type": "markdown",
   "metadata": {
    "colab_type": "text",
    "id": "ZakdR4FkeErj"
   },
   "source": [
    "Here's what it looks like for the sampling distribution of mean adult height:"
   ]
  },
  {
   "cell_type": "code",
   "execution_count": null,
   "metadata": {
    "colab": {},
    "colab_type": "code",
    "id": "502xtKNveErk"
   },
   "outputs": [],
   "source": [
    "plot_sampling_dist(outcomes)\n",
    "plt.xlabel('Mean adult male height, U.S. (%)');"
   ]
  },
  {
   "cell_type": "markdown",
   "metadata": {
    "colab_type": "text",
    "id": "tfRCMiXBeErl"
   },
   "source": [
    "For an experiment like this, we can compute the standard error analytically."
   ]
  },
  {
   "cell_type": "code",
   "execution_count": null,
   "metadata": {
    "colab": {},
    "colab_type": "code",
    "id": "7_7Hjio5eErm"
   },
   "outputs": [],
   "source": [
    "size = len(data)\n",
    "analytic_std_err = np.std(data) / np.sqrt(size)"
   ]
  },
  {
   "cell_type": "markdown",
   "metadata": {
    "colab_type": "text",
    "id": "7QYC3vYFeEro"
   },
   "source": [
    "The result is close to what we observed computationally."
   ]
  },
  {
   "cell_type": "code",
   "execution_count": null,
   "metadata": {
    "colab": {},
    "colab_type": "code",
    "id": "bYFwXrjeeErp"
   },
   "outputs": [],
   "source": [
    "analytic_std_err, std_err"
   ]
  },
  {
   "cell_type": "markdown",
   "metadata": {
    "colab_type": "text",
    "id": "wVmrswZXeErv"
   },
   "source": [
    "This result indicates that our estimate of the mean is *precise*; that is, if we ran this experiment many times, the results would fall in a narrow range.\n",
    "\n",
    "But this range reflects only variability due to random sampling.  If there are systematic errors in the sampling process, or in the measurement process, the result would not be *accurate*.\n",
    "\n",
    "Computing a standard error or confidence interval can be useful, but it only quantifies variability due to random sampling, not other sources of error."
   ]
  },
  {
   "cell_type": "markdown",
   "metadata": {
    "colab_type": "text",
    "id": "1e8isS_ueErw"
   },
   "source": [
    "**Exercise:** One nice thing about using resampling is that it is easy to compute the sampling distribution for other statistics.\n",
    "\n",
    "For example, suppose we want to estimate the coefficient of variation (standard deviation as a fraction of the mean) for adult male height.  Here's how we can compute it."
   ]
  },
  {
   "cell_type": "code",
   "execution_count": null,
   "metadata": {
    "colab": {},
    "colab_type": "code",
    "id": "jqSs6RjLeEry"
   },
   "outputs": [],
   "source": [
    "cv = np.nanstd(data) / np.nanmean(data)\n",
    "cv"
   ]
  },
  {
   "cell_type": "markdown",
   "metadata": {
    "colab_type": "text",
    "id": "fHrvPEPzeEr9"
   },
   "source": [
    "So the standard deviation is about 5% of the mean. \n",
    "\n",
    "Write a loop that uses resampling to estimate the sampling distribution of `cv`; store the results in an array named `outcomes`.\n",
    "\n",
    "Then use `plot_sampling_dist` to plot the sampling distribution of the coefficient of variation.\n",
    "\n",
    "What is the standard error of the estimated coefficient of variation?"
   ]
  },
  {
   "cell_type": "code",
   "execution_count": null,
   "metadata": {
    "colab": {},
    "colab_type": "code",
    "id": "ibvO_7DNeEr9"
   },
   "outputs": [],
   "source": [
    "# Solution goes here"
   ]
  },
  {
   "cell_type": "code",
   "execution_count": null,
   "metadata": {
    "colab": {},
    "colab_type": "code",
    "id": "2vKqRsh9eEr_",
    "scrolled": true
   },
   "outputs": [],
   "source": [
    "# Solution goes here"
   ]
  },
  {
   "cell_type": "markdown",
   "metadata": {
    "colab_type": "text",
    "id": "fmPAxYAeeEsB"
   },
   "source": [
    "## Summary\n",
    "\n",
    "This notebook presents computational methods for computing p-values, standard errors, and confidence intervals.  The two processes are similar, but they answer different questions.\n",
    "\n",
    "The following diagram outlines the hypothesis testing process:\n",
    "\n",
    "<img src=\"https://github.com/AllenDowney/ElementsOfDataScience/raw/master/figs/hypothesis_testing.png\" width=\"400\">\n"
   ]
  },
  {
   "cell_type": "markdown",
   "metadata": {
    "colab_type": "text",
    "id": "AXWGYfWOeEsC"
   },
   "source": [
    "Again, the key steps are\n",
    "\n",
    "1. Choose a test statistic that quantifies the observed effect.\n",
    "\n",
    "2. Define a model of the null hypothesis and use it to generate simulated data.\n",
    "\n",
    "3. Compute the distribution of the test statistic under the null hypothesis.\n",
    "\n",
    "4. Compute a p-value, which is probability, under the null hypothesis, of seeing an effect as extreme as what you saw."
   ]
  },
  {
   "cell_type": "markdown",
   "metadata": {
    "colab_type": "text",
    "id": "equy_zYTeEsC"
   },
   "source": [
    "The following figure shows the similar process for computing standard errors and confidence intervals.\n",
    "\n",
    "<img src=\"https://github.com/AllenDowney/ElementsOfDataScience/raw/master/figs/resampling.png\" width=\"400\">\n"
   ]
  },
  {
   "cell_type": "markdown",
   "metadata": {
    "colab_type": "text",
    "id": "unXXAvb-eEsD"
   },
   "source": [
    "The essential steps are:\n",
    "\n",
    "1. Choose a sample statistic that quantifies the thing you want to estimate.\n",
    "\n",
    "2. Use the data to make a model of the population, assuming that the estimate is accurate.\n",
    "\n",
    "3. Use the model to simulate the sampling process and generate simulated data.\n",
    "\n",
    "4. Compute the sampling distribution of the estimate.\n",
    "\n",
    "5. Use the sampling distribution to compute the standard error, confidence interval, or both.\n",
    "\n",
    "Finally, remember that both processes only account for variability due to random sampling.  They don't tell us anything about systematic errors in the sampling process, measurement error, or other sources of error."
   ]
  },
  {
   "cell_type": "code",
   "execution_count": null,
   "metadata": {
    "colab": {},
    "colab_type": "code",
    "id": "lh72v-aDeEsD"
   },
   "outputs": [],
   "source": []
  }
 ],
 "metadata": {
  "colab": {
   "name": "11_inference.ipynb",
   "provenance": []
  },
  "kernelspec": {
   "display_name": "Python 3",
   "language": "python",
   "name": "python3"
  },
  "language_info": {
   "codemirror_mode": {
    "name": "ipython",
    "version": 3
   },
   "file_extension": ".py",
   "mimetype": "text/x-python",
   "name": "python",
   "nbconvert_exporter": "python",
   "pygments_lexer": "ipython3",
   "version": "3.8.1"
  }
 },
 "nbformat": 4,
 "nbformat_minor": 4
}
