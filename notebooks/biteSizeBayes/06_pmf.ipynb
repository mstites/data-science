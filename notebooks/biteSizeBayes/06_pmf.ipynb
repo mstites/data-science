{
  "nbformat": 4,
  "nbformat_minor": 0,
  "metadata": {
    "kernelspec": {
      "display_name": "Python 3",
      "language": "python",
      "name": "python3"
    },
    "language_info": {
      "codemirror_mode": {
        "name": "ipython",
        "version": 3
      },
      "file_extension": ".py",
      "mimetype": "text/x-python",
      "name": "python",
      "nbconvert_exporter": "python",
      "pygments_lexer": "ipython3",
      "version": "3.7.6"
    },
    "colab": {
      "name": "06_pmf.ipynb",
      "provenance": []
    }
  },
  "cells": [
    {
      "cell_type": "markdown",
      "metadata": {
        "id": "026NI-ri7CpL",
        "colab_type": "text"
      },
      "source": [
        "# Bite Size Bayes\n",
        "\n",
        "Copyright 2020 Allen B. Downey\n",
        "\n",
        "License: [Attribution-NonCommercial-ShareAlike 4.0 International (CC BY-NC-SA 4.0)](https://creativecommons.org/licenses/by-nc-sa/4.0/)"
      ]
    },
    {
      "cell_type": "markdown",
      "metadata": {
        "id": "ZLmgydSV7CpN",
        "colab_type": "text"
      },
      "source": [
        "## Review\n",
        "\n",
        "[In the previous notebook](https://colab.research.google.com/github/AllenDowney/BiteSizeBayes/blob/master/05_test.ipynb) we used a Bayes table to interpret medical tests.\n",
        "\n",
        "In this notebook we'll solve an expanded version of the cookie problem with 101 Bowls.  It might seem like a silly problem, but it's not: the solution demonstrates a Bayesian way to estimate a proportion, and it applies to lots of real problems that don't involve cookies.\n",
        "\n",
        "Then I'll introduce an alternative to the Bayes table, a probability mass function (PMF), which is a useful way to represent and do computations with distributions.\n",
        "\n",
        "Here's the function, from the previous notebook, we'll use to make Bayes tables:"
      ]
    },
    {
      "cell_type": "code",
      "metadata": {
        "id": "10uY4Z0Y7CpP",
        "colab_type": "code",
        "colab": {}
      },
      "source": [
        "import pandas as pd\n",
        "\n",
        "def make_bayes_table(hypos, prior, likelihood):\n",
        "    \"\"\"Make a Bayes table.\n",
        "    \n",
        "    hypos: sequence of hypotheses\n",
        "    prior: prior probabilities\n",
        "    likelihood: sequence of likelihoods\n",
        "    \n",
        "    returns: DataFrame\n",
        "    \"\"\"\n",
        "    table = pd.DataFrame(index=hypos)\n",
        "    table['prior'] = prior\n",
        "    table['likelihood'] = likelihood\n",
        "    table['unnorm'] = table['prior'] * table['likelihood']\n",
        "    prob_data = table['unnorm'].sum()\n",
        "    table['posterior'] = table['unnorm'] / prob_data\n",
        "    return table"
      ],
      "execution_count": 0,
      "outputs": []
    },
    {
      "cell_type": "markdown",
      "metadata": {
        "id": "RPX8NY5Q7Cpc",
        "colab_type": "text"
      },
      "source": [
        "## 101 Bowls\n",
        "\n",
        "In [Notebook 4](https://colab.research.google.com/github/AllenDowney/BiteSizeBayes/blob/master/05_dice.ipynb), we saw that the Bayes table works with more than two hypotheses.  As an example, we solved a cookie problem with five bowls.\n",
        "\n",
        "Now we'll take it even farther and solve a cookie problem with 101 bowls:\n",
        "\n",
        "* Bowl 0 contains no vanilla cookies,\n",
        "\n",
        "* Bowl 1 contains 1% vanilla cookies,\n",
        "\n",
        "* Bowl 2 contains 2% vanilla cookies,\n",
        "\n",
        "and so on, up to\n",
        "\n",
        "* Bowl 99 contains 99% vanilla cookies, and\n",
        "\n",
        "* Bowl 100 contains all vanilla cookies.\n",
        "\n",
        "As in the previous problems, there are only two kinds of cookies, vanilla and chocolate.  So Bowl 0 is all chocolate cookies, Bowl 1 is 99% chocolate, and so on.\n",
        "\n",
        "Suppose we choose a bowl at random, choose a cookie at random, and it turns out to be vanilla.  What is the probability that the cookie came from Bowl $x$, for each value of $x$?\n",
        "\n",
        "To solve this problem, I'll use `np.arange` to represent 101 hypotheses, numbered from 0 to 100."
      ]
    },
    {
      "cell_type": "code",
      "metadata": {
        "id": "y5gBOLjL7Cpe",
        "colab_type": "code",
        "colab": {}
      },
      "source": [
        "import numpy as np\n",
        "\n",
        "xs = np.arange(101)"
      ],
      "execution_count": 0,
      "outputs": []
    },
    {
      "cell_type": "markdown",
      "metadata": {
        "id": "MMQImf6M7Cpm",
        "colab_type": "text"
      },
      "source": [
        "The prior probability for each bowl is $1/101$.  I could create a sequence with 101 identical values, but if all of the priors are equal, we only have to probide one value:"
      ]
    },
    {
      "cell_type": "code",
      "metadata": {
        "id": "2ikPRz_O7Cpo",
        "colab_type": "code",
        "colab": {}
      },
      "source": [
        "prior = 1/101"
      ],
      "execution_count": 0,
      "outputs": []
    },
    {
      "cell_type": "markdown",
      "metadata": {
        "id": "cExiWHKG7Cpu",
        "colab_type": "text"
      },
      "source": [
        "Because of the way I numbered the bowls, the probability of a vanilla cookie from Bowl $x$ is $x/100$.  So we can compute the likelihoods like this:"
      ]
    },
    {
      "cell_type": "code",
      "metadata": {
        "id": "p5JR42no7Cpw",
        "colab_type": "code",
        "colab": {}
      },
      "source": [
        "likelihood = xs/100"
      ],
      "execution_count": 0,
      "outputs": []
    },
    {
      "cell_type": "markdown",
      "metadata": {
        "id": "xWkFjQj-7Cp3",
        "colab_type": "text"
      },
      "source": [
        "And that's all we need; the Bayes table does the rest:"
      ]
    },
    {
      "cell_type": "code",
      "metadata": {
        "id": "0fZGdC-57Cp5",
        "colab_type": "code",
        "colab": {}
      },
      "source": [
        "table = make_bayes_table(xs, prior, likelihood)"
      ],
      "execution_count": 0,
      "outputs": []
    },
    {
      "cell_type": "markdown",
      "metadata": {
        "id": "lQ9WRfPQ7CqB",
        "colab_type": "text"
      },
      "source": [
        "Here's a feature we have not seen before: we can give the index of the Bayes table a name, which will appear when we display the table."
      ]
    },
    {
      "cell_type": "code",
      "metadata": {
        "id": "2ZArCC527CqD",
        "colab_type": "code",
        "colab": {}
      },
      "source": [
        "table.index.name = 'Bowl'"
      ],
      "execution_count": 0,
      "outputs": []
    },
    {
      "cell_type": "markdown",
      "metadata": {
        "id": "oL9vWDob7CqH",
        "colab_type": "text"
      },
      "source": [
        "Here are the first few rows:"
      ]
    },
    {
      "cell_type": "code",
      "metadata": {
        "id": "DgR27YoT7CqI",
        "colab_type": "code",
        "colab": {}
      },
      "source": [
        "table.head()"
      ],
      "execution_count": 0,
      "outputs": []
    },
    {
      "cell_type": "markdown",
      "metadata": {
        "id": "vbFKtQPD7CqO",
        "colab_type": "text"
      },
      "source": [
        "Because Bowl 0 contains no vanilla cookies, its likelihood is 0, so its posterior probability is 0.  That is, the cookie cannot have come from Bowl 0.\n",
        "\n",
        "Here are the last few rows of the table."
      ]
    },
    {
      "cell_type": "code",
      "metadata": {
        "id": "KXzGddOO7CqP",
        "colab_type": "code",
        "colab": {}
      },
      "source": [
        "table.tail()"
      ],
      "execution_count": 0,
      "outputs": []
    },
    {
      "cell_type": "markdown",
      "metadata": {
        "id": "MT-9fs7m7CqW",
        "colab_type": "text"
      },
      "source": [
        "The posterior probabilities are substantially higher for the high-numbered bowls.\n",
        "\n",
        "There is a pattern here that will be clearer if we plot the results."
      ]
    },
    {
      "cell_type": "code",
      "metadata": {
        "id": "dWuAVgX87CqX",
        "colab_type": "code",
        "colab": {}
      },
      "source": [
        "import matplotlib.pyplot as plt\n",
        "\n",
        "def plot_table(table):\n",
        "    \"\"\"Plot results from the 101 Bowls problem.\n",
        "    \n",
        "    table: DataFrame representing a Bayes table\n",
        "    \"\"\"\n",
        "    table['prior'].plot()\n",
        "    table['posterior'].plot()\n",
        "\n",
        "    plt.xlabel('Bowl #')\n",
        "    plt.ylabel('Probability')\n",
        "    plt.legend()"
      ],
      "execution_count": 0,
      "outputs": []
    },
    {
      "cell_type": "code",
      "metadata": {
        "id": "s3jQ4fnY7Cqc",
        "colab_type": "code",
        "colab": {}
      },
      "source": [
        "plot_table(table)\n",
        "plt.title('One cookie');"
      ],
      "execution_count": 0,
      "outputs": []
    },
    {
      "cell_type": "markdown",
      "metadata": {
        "id": "N7t3OqNU7Cqj",
        "colab_type": "text"
      },
      "source": [
        "The prior probabilities are uniform; that is, they are the same for every bowl.\n",
        "\n",
        "The posterior probabilities increase linearly; Bowl 0 is the least likely (actually impossible), and Bowl 100 is the most likely."
      ]
    },
    {
      "cell_type": "markdown",
      "metadata": {
        "id": "0OTtFruB7Cqk",
        "colab_type": "text"
      },
      "source": [
        "## Two cookies\n",
        "\n",
        "Suppose we put the first cookie back, stir the bowl thoroughly, and draw another cookie from the same bowl.  and suppose it turns out to be another vanilla cookie.\n",
        "\n",
        "Now what is the probability that we are drawing from Bowl $x$?\n",
        "\n",
        "To answer this question, we can use the posterior probabilities from the previous problem as prior probabilities for a new Bayes table, and then update with the new data."
      ]
    },
    {
      "cell_type": "code",
      "metadata": {
        "id": "dvN9gFFX7Cqm",
        "colab_type": "code",
        "colab": {}
      },
      "source": [
        "prior2 = table['posterior']\n",
        "likelihood2 = likelihood\n",
        "\n",
        "table2 = make_bayes_table(xs, prior2, likelihood2)\n",
        "plot_table(table2)\n",
        "plt.title('Two cookies');"
      ],
      "execution_count": 0,
      "outputs": []
    },
    {
      "cell_type": "markdown",
      "metadata": {
        "id": "snS_1Som7Cqs",
        "colab_type": "text"
      },
      "source": [
        "The blue line shows the posterior after one cookie, which is the prior before the second cookie.\n",
        "\n",
        "The orange line shows the posterior after two cookies, which curves upward.  Having see two vanilla cookies, the high-numbered bowls are more likely; the low-numbered bowls are less likely.\n",
        "\n",
        "I bet you can guess what's coming next."
      ]
    },
    {
      "cell_type": "markdown",
      "metadata": {
        "id": "IxJJ5dtS7Cqt",
        "colab_type": "text"
      },
      "source": [
        "## Three cookies\n",
        "\n",
        "Suppose we put the cookie back, stir, draw another cookie from the same bowl, and get a chocolate cookie.\n",
        "\n",
        "What do you think the posterior distribution looks like after these three cookies?\n",
        "\n",
        "Hint: what's the probability that the chocolate cookie came from Bowl 100?\n",
        "\n",
        "We'll use the posterior after two cookies as the prior for the third cookie:"
      ]
    },
    {
      "cell_type": "code",
      "metadata": {
        "id": "-y70RGV07Cq4",
        "colab_type": "code",
        "colab": {}
      },
      "source": [
        "prior3 = table2['posterior']"
      ],
      "execution_count": 0,
      "outputs": []
    },
    {
      "cell_type": "markdown",
      "metadata": {
        "id": "MsjXYHLi7Cq9",
        "colab_type": "text"
      },
      "source": [
        "Now, what about the likelihoods?  Remember that the probability of a vanilla cookie from Bowl $x$ is $x/100$.  So the probability of a chocolate cookie is $(1 - x/100)$, which we can compute like this."
      ]
    },
    {
      "cell_type": "code",
      "metadata": {
        "id": "eMfZW_vK7Cq-",
        "colab_type": "code",
        "colab": {}
      },
      "source": [
        "likelihood3 = 1 - xs/100"
      ],
      "execution_count": 0,
      "outputs": []
    },
    {
      "cell_type": "markdown",
      "metadata": {
        "id": "vCCINgMZ7CrC",
        "colab_type": "text"
      },
      "source": [
        "That's it.  Everything else is the same."
      ]
    },
    {
      "cell_type": "code",
      "metadata": {
        "id": "FaGb8j9B7CrD",
        "colab_type": "code",
        "colab": {}
      },
      "source": [
        "table3 = make_bayes_table(xs, prior3, likelihood3)"
      ],
      "execution_count": 0,
      "outputs": []
    },
    {
      "cell_type": "markdown",
      "metadata": {
        "id": "EbDmZiMP7CrJ",
        "colab_type": "text"
      },
      "source": [
        "And here are the results"
      ]
    },
    {
      "cell_type": "code",
      "metadata": {
        "id": "E_ecvmeT7CrJ",
        "colab_type": "code",
        "colab": {}
      },
      "source": [
        "plot_table(table3)\n",
        "plt.title('Three cookies');"
      ],
      "execution_count": 0,
      "outputs": []
    },
    {
      "cell_type": "markdown",
      "metadata": {
        "id": "D8dplBVP7CrN",
        "colab_type": "text"
      },
      "source": [
        "The blue line is the posterior after two cookies; the orange line is the posterior after three cookies.\n",
        "\n",
        "Because Bowl 100 contains no chocolate cookies, the posterior probability for Bowl 100 is 0.\n",
        "\n",
        "The posterior distribution has a peak near 60%.  We can use `idxmax` to find it: "
      ]
    },
    {
      "cell_type": "code",
      "metadata": {
        "id": "hPiHcTMv7CrO",
        "colab_type": "code",
        "colab": {}
      },
      "source": [
        "table3['posterior'].idxmax()"
      ],
      "execution_count": 0,
      "outputs": []
    },
    {
      "cell_type": "markdown",
      "metadata": {
        "id": "ImfM_mL07CrR",
        "colab_type": "text"
      },
      "source": [
        "The peak in the posterior distribution is at 67%.\n",
        "\n",
        "This value has a name; it is the **MAP**, which stands for \"Maximum Aposteori Probability\" (\"aposteori\" is Latin for posterior).\n",
        "\n",
        "In this example, the MAP is close to the proportion of vanilla cookies in the dataset: 2/3."
      ]
    },
    {
      "cell_type": "markdown",
      "metadata": {
        "id": "ipJ27vRk7CrR",
        "colab_type": "text"
      },
      "source": [
        "**Exercise:** Let's do a version of the dice problem where we roll the die more than once.  Here's the statement of the problem again:\n",
        "\n",
        "> Suppose you have a 4-sided, 6-sided, 8-sided, and 12-sided die.  You choose one at random, roll it and get a 1. What is the probability that the die you rolled is 4-sided?  What are the posterior probabilities for the other dice?\n",
        "\n",
        "And here's a solution using a Bayes table:"
      ]
    },
    {
      "cell_type": "code",
      "metadata": {
        "id": "MUqq3Msv7CrS",
        "colab_type": "code",
        "colab": {}
      },
      "source": [
        "hypos = ['H4', 'H6', 'H8', 'H12']\n",
        "prior = 1/4\n",
        "likelihood = 1/4, 1/6, 1/8, 1/12\n",
        "\n",
        "table = make_bayes_table(hypos, prior, likelihood)\n",
        "table"
      ],
      "execution_count": 0,
      "outputs": []
    },
    {
      "cell_type": "markdown",
      "metadata": {
        "id": "4lE1m_XS7CrX",
        "colab_type": "text"
      },
      "source": [
        "Now suppose you roll the same die again and get a 6.  What are the posterior probabilities after the second roll?\n",
        "\n",
        "Use `idxmax` to find the MAP."
      ]
    },
    {
      "cell_type": "code",
      "metadata": {
        "id": "FaPyctKa7CrZ",
        "colab_type": "code",
        "colab": {}
      },
      "source": [
        "# Solution goes here"
      ],
      "execution_count": 0,
      "outputs": []
    },
    {
      "cell_type": "code",
      "metadata": {
        "id": "LnKZFIwP7Cre",
        "colab_type": "code",
        "colab": {}
      },
      "source": [
        "# Solution goes here"
      ],
      "execution_count": 0,
      "outputs": []
    },
    {
      "cell_type": "markdown",
      "metadata": {
        "id": "BO2XjW4h7Crh",
        "colab_type": "text"
      },
      "source": [
        "## Probability Mass Functions\n",
        "\n",
        "When we do more than one update, we don't always want to keep the whole Bayes table.  In this section we'll replace the Bayes table with a more compact representation, a probability mass function, or PMF.\n",
        "\n",
        "A PMF is a set of possible outcomes and their corresponding probabilities.  There are many ways to represent a PMF; in this notebook I'll use a Pandas Series.\n",
        "\n",
        "Here's a function that takes a sequence of outcomes, `xs`, and a sequence of probabilities, `ps`, and returns a Pandas Series that represents a PMF."
      ]
    },
    {
      "cell_type": "code",
      "metadata": {
        "id": "ZV2UIfdA7Crj",
        "colab_type": "code",
        "colab": {}
      },
      "source": [
        "def make_pmf(xs, ps, **options):\n",
        "    \"\"\"Make a Series that represents a PMF.\n",
        "    \n",
        "    xs: sequence of values\n",
        "    ps: sequence of probabilities\n",
        "    options: keyword arguments passed to Series constructor\n",
        "    \n",
        "    returns: Pandas Series\n",
        "    \"\"\"\n",
        "    pmf = pd.Series(ps, index=xs, **options)\n",
        "    return pmf"
      ],
      "execution_count": 0,
      "outputs": []
    },
    {
      "cell_type": "markdown",
      "metadata": {
        "id": "s5U4YVla7Cro",
        "colab_type": "text"
      },
      "source": [
        "And here's a PMF that represents the prior from the 101 Bowls problem."
      ]
    },
    {
      "cell_type": "code",
      "metadata": {
        "id": "D7CFLhJW7Crp",
        "colab_type": "code",
        "colab": {}
      },
      "source": [
        "xs = np.arange(101)\n",
        "prior = 1/101\n",
        "\n",
        "pmf = make_pmf(xs, prior)\n",
        "pmf.head()"
      ],
      "execution_count": 0,
      "outputs": []
    },
    {
      "cell_type": "markdown",
      "metadata": {
        "id": "ZbagJaiA7Crt",
        "colab_type": "text"
      },
      "source": [
        "Now that we have a priod, we need to compute likelihoods.\n",
        "\n",
        "Here are the likelihoods for a vanilla cookie:"
      ]
    },
    {
      "cell_type": "code",
      "metadata": {
        "id": "cIKsCtcu7Cru",
        "colab_type": "code",
        "colab": {}
      },
      "source": [
        "likelihood_vanilla = xs / 100"
      ],
      "execution_count": 0,
      "outputs": []
    },
    {
      "cell_type": "markdown",
      "metadata": {
        "id": "yk8VMbt-7Crz",
        "colab_type": "text"
      },
      "source": [
        "And for a chocolate cookie."
      ]
    },
    {
      "cell_type": "code",
      "metadata": {
        "id": "HtZ35Vh67Cr0",
        "colab_type": "code",
        "colab": {}
      },
      "source": [
        "likelihood_chocolate = 1 - xs / 100"
      ],
      "execution_count": 0,
      "outputs": []
    },
    {
      "cell_type": "markdown",
      "metadata": {
        "id": "_Oa9diKm7Cr5",
        "colab_type": "text"
      },
      "source": [
        "To compute posterior probabilities, I'll use the following function, which takes a PMF and a sequence of likelihoods, and updates the PMF:"
      ]
    },
    {
      "cell_type": "code",
      "metadata": {
        "id": "HKbdAa3K7Cr5",
        "colab_type": "code",
        "colab": {}
      },
      "source": [
        "def bayes_update(pmf, likelihood):\n",
        "    \"\"\"Do a Bayesian update.\n",
        "    \n",
        "    pmf: Series that represents the prior\n",
        "    likelihood: sequence of likelihoods\n",
        "    \"\"\"\n",
        "    pmf *= likelihood\n",
        "    pmf /= pmf.sum()"
      ],
      "execution_count": 0,
      "outputs": []
    },
    {
      "cell_type": "markdown",
      "metadata": {
        "id": "fISsSG2i7Cr-",
        "colab_type": "text"
      },
      "source": [
        "The steps here are the same as in the Bayes table:\n",
        "\n",
        "1. Multiply the prior by the likelihoods.\n",
        "\n",
        "2. Add up the products to get the total probability of the data.\n",
        "\n",
        "3. Divide through to normalize the posteriors."
      ]
    },
    {
      "cell_type": "markdown",
      "metadata": {
        "id": "5gZc_tUv7Cr-",
        "colab_type": "text"
      },
      "source": [
        "Now we can do the update for a vanilla cookie."
      ]
    },
    {
      "cell_type": "code",
      "metadata": {
        "scrolled": true,
        "id": "HeMsF0V17Cr_",
        "colab_type": "code",
        "colab": {}
      },
      "source": [
        "bayes_update(pmf, likelihood_vanilla)"
      ],
      "execution_count": 0,
      "outputs": []
    },
    {
      "cell_type": "markdown",
      "metadata": {
        "id": "e2Zhaago7CsC",
        "colab_type": "text"
      },
      "source": [
        "Here's what the PMF looks like after the update."
      ]
    },
    {
      "cell_type": "code",
      "metadata": {
        "id": "bqK9hOAA7CsD",
        "colab_type": "code",
        "colab": {}
      },
      "source": [
        "pmf.plot()\n",
        "\n",
        "plt.xlabel('Bowl #')\n",
        "plt.ylabel('Probability')\n",
        "plt.title('One cookie');"
      ],
      "execution_count": 0,
      "outputs": []
    },
    {
      "cell_type": "markdown",
      "metadata": {
        "id": "T2imj1QW7CsH",
        "colab_type": "text"
      },
      "source": [
        "That's consistent with what we got with the Bayes table.\n",
        "\n",
        "The advantage of using a PMF is that it is easier to do multiple updates.  The following cell starts again with the uniform prior and does updates with two vanilla cookies and one chocolate cookie:"
      ]
    },
    {
      "cell_type": "code",
      "metadata": {
        "id": "Kvb0562Z7CsH",
        "colab_type": "code",
        "colab": {}
      },
      "source": [
        "data = 'VVC'\n",
        "\n",
        "pmf = make_pmf(xs, prior)\n",
        "\n",
        "for cookie in data:\n",
        "    if cookie == 'V':\n",
        "        bayes_update(pmf, likelihood_vanilla)\n",
        "    else:\n",
        "        bayes_update(pmf, likelihood_chocolate)"
      ],
      "execution_count": 0,
      "outputs": []
    },
    {
      "cell_type": "markdown",
      "metadata": {
        "id": "CgbT-xu97CsK",
        "colab_type": "text"
      },
      "source": [
        "Here's what the results look like:"
      ]
    },
    {
      "cell_type": "code",
      "metadata": {
        "id": "zPbeAKoS7CsL",
        "colab_type": "code",
        "colab": {}
      },
      "source": [
        "pmf.plot()\n",
        "\n",
        "plt.xlabel('Bowl #')\n",
        "plt.ylabel('Probability')\n",
        "plt.title('Three cookies');"
      ],
      "execution_count": 0,
      "outputs": []
    },
    {
      "cell_type": "markdown",
      "metadata": {
        "id": "93LvPWhl7CsO",
        "colab_type": "text"
      },
      "source": [
        "Again, that's consistent with what we got with the Bayes table.\n",
        "\n",
        "In the next section, I'll use a PMF and `bayes_update` to solve a dice problem."
      ]
    },
    {
      "cell_type": "markdown",
      "metadata": {
        "id": "I3SrXs9Q7CsP",
        "colab_type": "text"
      },
      "source": [
        "## The dice problem\n",
        "\n",
        "As an exercise, let's do one more version of the dice problem:\n",
        "\n",
        "> Suppose you have a 4-sided, 6-sided, 8-sided, 12-sided, and a **20-sided die**.  You choose one at random, roll it and **get a 7**. What is the probability that the die you rolled is 4-sided?  What are the posterior probabilities for the other dice?\n",
        "\n",
        "Notice that in this version I've added a 20-sided die and the outcome is 7, not 1.\n",
        "\n",
        "Here's a PMF that represents the prior:"
      ]
    },
    {
      "cell_type": "code",
      "metadata": {
        "id": "-UsqXoRz7CsQ",
        "colab_type": "code",
        "colab": {}
      },
      "source": [
        "sides = np.array([4, 6, 8, 12, 20])\n",
        "prior = 1/5\n",
        "\n",
        "pmf = make_pmf(sides, prior)\n",
        "pmf"
      ],
      "execution_count": 0,
      "outputs": []
    },
    {
      "cell_type": "markdown",
      "metadata": {
        "id": "AZ5GT3Km7CsU",
        "colab_type": "text"
      },
      "source": [
        "In this version, the hypotheses are integers rather than strings, so we can compute the likelihoods like this:"
      ]
    },
    {
      "cell_type": "code",
      "metadata": {
        "id": "7BTDjXF87CsV",
        "colab_type": "code",
        "colab": {}
      },
      "source": [
        "likelihood = 1 / sides"
      ],
      "execution_count": 0,
      "outputs": []
    },
    {
      "cell_type": "markdown",
      "metadata": {
        "id": "cMpZX9l97CsY",
        "colab_type": "text"
      },
      "source": [
        "But the outcome is 7, so any die with fewer than 7 sides has likelihood 0.\n",
        "\n",
        "We can adjust `likelihood` by making a Boolean Series:"
      ]
    },
    {
      "cell_type": "code",
      "metadata": {
        "id": "_7_KUFKT7Csa",
        "colab_type": "code",
        "colab": {}
      },
      "source": [
        "too_low = (sides < 7)"
      ],
      "execution_count": 0,
      "outputs": []
    },
    {
      "cell_type": "markdown",
      "metadata": {
        "id": "ksFlVD_17Csc",
        "colab_type": "text"
      },
      "source": [
        "And using it to set the corresponding elements of `likelihood` to 0."
      ]
    },
    {
      "cell_type": "code",
      "metadata": {
        "id": "3b6CCOQB7Csc",
        "colab_type": "code",
        "colab": {}
      },
      "source": [
        "likelihood[too_low] = 0\n",
        "likelihood"
      ],
      "execution_count": 0,
      "outputs": []
    },
    {
      "cell_type": "markdown",
      "metadata": {
        "id": "XJHq1UN27Csf",
        "colab_type": "text"
      },
      "source": [
        "Now we can do the update and display the results."
      ]
    },
    {
      "cell_type": "code",
      "metadata": {
        "id": "PiTUgKMr7Csf",
        "colab_type": "code",
        "colab": {}
      },
      "source": [
        "bayes_update(pmf, likelihood)\n",
        "pmf"
      ],
      "execution_count": 0,
      "outputs": []
    },
    {
      "cell_type": "markdown",
      "metadata": {
        "id": "FT7K8iIM7Csi",
        "colab_type": "text"
      },
      "source": [
        "The 4-sided and 6-sided dice have been eliminated.  Of the remaining dice, the 8-sided die is the most likely."
      ]
    },
    {
      "cell_type": "markdown",
      "metadata": {
        "id": "Vx5T06qx7Csi",
        "colab_type": "text"
      },
      "source": [
        "**Exercise:** Suppose you have the same set of 5 die.  You choose a die, roll it six times, and get 6, 7, 2, 5, 1, and 2 again.  Use `idxmax` to find the MAP.  What is the posterior probability of the MAP?"
      ]
    },
    {
      "cell_type": "code",
      "metadata": {
        "id": "emujO9pK7Csk",
        "colab_type": "code",
        "colab": {}
      },
      "source": [
        "# Solution goes here"
      ],
      "execution_count": 0,
      "outputs": []
    },
    {
      "cell_type": "code",
      "metadata": {
        "id": "scYmcx4d7Csn",
        "colab_type": "code",
        "colab": {}
      },
      "source": [
        "# Solution goes here"
      ],
      "execution_count": 0,
      "outputs": []
    },
    {
      "cell_type": "code",
      "metadata": {
        "id": "Z3L7iBCr7Csq",
        "colab_type": "code",
        "colab": {}
      },
      "source": [
        "# Solution goes here"
      ],
      "execution_count": 0,
      "outputs": []
    },
    {
      "cell_type": "code",
      "metadata": {
        "id": "_uIvb4hO7Css",
        "colab_type": "code",
        "colab": {}
      },
      "source": [
        "# Solution goes here"
      ],
      "execution_count": 0,
      "outputs": []
    },
    {
      "cell_type": "markdown",
      "metadata": {
        "id": "JVJMAp4A7Csw",
        "colab_type": "text"
      },
      "source": [
        "## Summary\n",
        "\n",
        "In this notebook, we extended the cookie problem with more bowls and the dice problem with more dice.\n",
        "\n",
        "I defined the MAP, which is the quantity in a posterior distribution with the highest probability.\n",
        "\n",
        "Although the cookie problem is not particularly realistic or useful, the method we used to solve it applies to many problems in the real world where we want to estimate a proportion.\n",
        "\n",
        "[In the next notebook](https://colab.research.google.com/github/AllenDowney/BiteSizeBayes/blob/master/07_euro.ipynb) we'll use the same method to take another step toward doing Bayesian statistics."
      ]
    },
    {
      "cell_type": "code",
      "metadata": {
        "id": "JsQtt-F97Csx",
        "colab_type": "code",
        "colab": {}
      },
      "source": [
        ""
      ],
      "execution_count": 0,
      "outputs": []
    }
  ]
}