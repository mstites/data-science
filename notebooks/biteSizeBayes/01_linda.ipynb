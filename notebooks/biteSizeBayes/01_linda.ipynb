{
  "nbformat": 4,
  "nbformat_minor": 0,
  "metadata": {
    "kernelspec": {
      "display_name": "Python 3",
      "language": "python",
      "name": "python3"
    },
    "language_info": {
      "codemirror_mode": {
        "name": "ipython",
        "version": 3
      },
      "file_extension": ".py",
      "mimetype": "text/x-python",
      "name": "python",
      "nbconvert_exporter": "python",
      "pygments_lexer": "ipython3",
      "version": "3.7.6"
    },
    "colab": {
      "name": "01_linda.ipynb",
      "provenance": []
    }
  },
  "cells": [
    {
      "cell_type": "markdown",
      "metadata": {
        "id": "IamD9MvuXnGz",
        "colab_type": "text"
      },
      "source": [
        "# Bite Size Bayes\n",
        "\n",
        "Copyright 2020 Allen B. Downey\n",
        "\n",
        "MIT License: https://opensource.org/licenses/MIT"
      ]
    },
    {
      "cell_type": "code",
      "metadata": {
        "id": "mdi6_LZ5XnG0",
        "colab_type": "code",
        "colab": {}
      },
      "source": [
        "# Load utils.py\n",
        "\n",
        "import os\n",
        "\n",
        "if not os.path.exists('utils.py'):\n",
        "    !wget https://github.com/AllenDowney/BiteSizeBayes/raw/master/utils.py"
      ],
      "execution_count": 0,
      "outputs": []
    },
    {
      "cell_type": "code",
      "metadata": {
        "id": "rNIUgx_8XnG7",
        "colab_type": "code",
        "colab": {}
      },
      "source": [
        "# Load the data file\n",
        "\n",
        "if not os.path.exists('gss_bayes.csv'):\n",
        "    !wget https://github.com/AllenDowney/BiteSizeBayes/raw/master/gss_bayes.csv"
      ],
      "execution_count": 0,
      "outputs": []
    },
    {
      "cell_type": "code",
      "metadata": {
        "id": "5YBfDsVhXnHD",
        "colab_type": "code",
        "colab": {}
      },
      "source": [
        "import pandas as pd\n",
        "import numpy as np\n",
        "\n",
        "from utils import values"
      ],
      "execution_count": 0,
      "outputs": []
    },
    {
      "cell_type": "markdown",
      "metadata": {
        "id": "9kJHDAwoXnHJ",
        "colab_type": "text"
      },
      "source": [
        "## Introduction\n",
        "\n",
        "This notebook takes a computational approach to understanding probability.  We'll use data from the General Social Survey to compute the probability of propositions like:\n",
        "\n",
        "* If I choose a random survey respondent, what is the probability they are female?\n",
        "\n",
        "* If I choose a random survey respondent, what is the probability they work in banking?\n",
        "\n",
        "From there, we will explore two related concepts:\n",
        "\n",
        "* Conjunction, which is the probability that two propositions are both true; for example, what is the probability of choosing a female banker?\n",
        "\n",
        "* Conditional probability, which is the probability that one proposition is true, given that another is true; for example, given than a respondent is female, what is the probability that she is a banker?\n",
        "\n",
        "I chose these examples because they are related to a famous experiment by Tversky and Kahneman, who posed the following question:\n",
        "\n",
        "> Linda is 31 years old, single, outspoken, and very bright. She majored in philosophy. As a student, she was deeply concerned with issues of discrimination and social justice, and also participated in anti-nuclear demonstrations.  Which is more probable?\n",
        "1. Linda is a bank teller.\n",
        "2. Linda is a bank teller and is active in the feminist movement.\n",
        "\n",
        "Many people choose the second answer, presumably because it seems more consistent with the description.  It seems unlikely that Linda would be *just* a bank teller; if she is a bank teller, it seems likely that she would also be a feminist.\n",
        "\n",
        "But the second answer cannot be \"more probable\", as the question asks.  Suppose we find 1000 people who fit Linda's description and 10 of them work as bank tellers.  How many of them are also feminists?  At most, all 10 of them are; in that case, the two options are *equally* likely.  More likely, only some of them are; in that case the second option is *less* likely.  But there can't be more than 10 out of 10, so the second option cannot be more likely.\n",
        "\n",
        "The error people make if they choose the second option is called the [conjunction fallacy](https://en.wikipedia.org/wiki/Conjunction_fallacy).   It's called a [fallacy](https://en.wikipedia.org/wiki/Fallacy) because it's a logical error and \"conjunction\" because \"bank teller AND feminist\" is a [logical conjunction](https://en.wikipedia.org/wiki/Logical_conjunction).\n",
        "\n",
        "If this example makes you uncomfortable, you are in good company.  The biologist [Stephen J. Gould wrote](https://sci-hub.tw/https://doi.org/10.1080/09332480.1989.10554932) :\n",
        "\n",
        "> I am particularly fond of this example because I know that the [second] statement is least probable, yet a little [homunculus](https://en.wikipedia.org/wiki/Homunculus_argument) in my head continues to jump up and down, shouting at me, \"but she can't just be a bank teller; read the description.\"\n",
        "\n",
        "If the little person in your head is still unhappy, maybe this notebook will help."
      ]
    },
    {
      "cell_type": "markdown",
      "metadata": {
        "id": "GmoNWVtsXnHJ",
        "colab_type": "text"
      },
      "source": [
        "## Probability\n",
        "\n",
        "At this point I should define probability, but that [turns out to be surprisingly difficult](https://en.wikipedia.org/wiki/Probability_interpretations).  To avoid getting bogged down before we get started, I'll start with a simple definition: a **probability** is a **fraction** of a dataset.\n",
        "\n",
        "For example, if we survey 1000 people, and 20 of them are bank tellers, the fraction that work as bank tellers is 0.02 or 2\\%.  If we choose a person from this population at random, the probability that they are a bank teller is 2\\%.  \n",
        "\n",
        "(By \"at random\" I mean that every person in the dataset has the same chance of being chosen, and by \"they\" I mean the [singular, gender-neutral pronoun](https://en.wikipedia.org/wiki/Singular_they), which is a correct and useful feature of English.)\n",
        "\n",
        "With this definition and an appropriate dataset, we can compute probabilities by counting.\n",
        "\n",
        "To demonstrate, I'll use a data set from the [General Social Survey](http://gss.norc.org/) or GSS.  The following cell reads the data."
      ]
    },
    {
      "cell_type": "code",
      "metadata": {
        "id": "UoxrFkEaXnHK",
        "colab_type": "code",
        "colab": {}
      },
      "source": [
        "gss = pd.read_csv('gss_bayes.csv', index_col=0)"
      ],
      "execution_count": 0,
      "outputs": []
    },
    {
      "cell_type": "markdown",
      "metadata": {
        "id": "m6P99mRrXnHO",
        "colab_type": "text"
      },
      "source": [
        "The results is a Pandas DataFrame with one row for each person surveyed and one column for each variable I selected.\n",
        "\n",
        "Here are the number of rows and columns:"
      ]
    },
    {
      "cell_type": "code",
      "metadata": {
        "id": "Qys2uX80XnHQ",
        "colab_type": "code",
        "colab": {}
      },
      "source": [
        "gss.shape"
      ],
      "execution_count": 0,
      "outputs": []
    },
    {
      "cell_type": "markdown",
      "metadata": {
        "id": "-uvSKe8xXnHV",
        "colab_type": "text"
      },
      "source": [
        "And here are the first few rows:"
      ]
    },
    {
      "cell_type": "code",
      "metadata": {
        "id": "po7EGjPOXnHW",
        "colab_type": "code",
        "colab": {}
      },
      "source": [
        "gss.head()"
      ],
      "execution_count": 0,
      "outputs": []
    },
    {
      "cell_type": "markdown",
      "metadata": {
        "id": "TPxK1R4wXnHZ",
        "colab_type": "text"
      },
      "source": [
        "The columns are\n",
        "\n",
        "* `caseid`: Respondent id (which is the index of the table).\n",
        "\n",
        "* `year`: Year when the respondent was surveyed.\n",
        "\n",
        "* `age`: Respondent's age when surveyed.\n",
        "\n",
        "* `sex`: Male or female.\n",
        "\n",
        "* `polviews`: Political views on a range from liberal to conservative.\n",
        "\n",
        "* `partyid`: Political party affiliation, Democrat, Independent, or Republican.\n",
        "\n",
        "* `indus10`: [Code](https://www.census.gov/cgi-bin/sssd/naics/naicsrch?chart=2007) for the industry the respondent works in.\n",
        "\n",
        "Let's look at these variables in more detail, starting with `indus10`."
      ]
    },
    {
      "cell_type": "markdown",
      "metadata": {
        "id": "tXYFYqdhXnHa",
        "colab_type": "text"
      },
      "source": [
        "## Banking\n",
        "\n",
        "The code for \"Banking and related activities\" is 6870, so we can select bankers like this:"
      ]
    },
    {
      "cell_type": "code",
      "metadata": {
        "id": "R-ZQOOUHXnHb",
        "colab_type": "code",
        "colab": {}
      },
      "source": [
        "banker = (gss['indus10'] == 6870)"
      ],
      "execution_count": 0,
      "outputs": []
    },
    {
      "cell_type": "markdown",
      "metadata": {
        "id": "eajHQLG-XnHe",
        "colab_type": "text"
      },
      "source": [
        "The result is a Boolean series, which is a Pandas Series that contains the values `True` and `False`.  Here are the first few entries:"
      ]
    },
    {
      "cell_type": "code",
      "metadata": {
        "id": "COV8jzmzXnHf",
        "colab_type": "code",
        "colab": {}
      },
      "source": [
        "banker.head()"
      ],
      "execution_count": 0,
      "outputs": []
    },
    {
      "cell_type": "markdown",
      "metadata": {
        "id": "yaD4mid1XnHj",
        "colab_type": "text"
      },
      "source": [
        "We can use `values` to see how many times each value appears."
      ]
    },
    {
      "cell_type": "code",
      "metadata": {
        "id": "-MXkFcZiXnHj",
        "colab_type": "code",
        "colab": {}
      },
      "source": [
        "values(banker)"
      ],
      "execution_count": 0,
      "outputs": []
    },
    {
      "cell_type": "markdown",
      "metadata": {
        "id": "Qu7ZCZiGXnHn",
        "colab_type": "text"
      },
      "source": [
        "In this dataset, there are 728 bankers.\n",
        "\n",
        "If we use the `sum` function on this Series, it treats `True` as 1 and `False` as 0, so the total is the number of bankers."
      ]
    },
    {
      "cell_type": "code",
      "metadata": {
        "id": "Ak1wYCYjXnHn",
        "colab_type": "code",
        "colab": {}
      },
      "source": [
        "banker.sum()"
      ],
      "execution_count": 0,
      "outputs": []
    },
    {
      "cell_type": "markdown",
      "metadata": {
        "id": "T3AaqngGXnHs",
        "colab_type": "text"
      },
      "source": [
        "To compute the *fraction* of bankers, we can divide by the number of people in the dataset:"
      ]
    },
    {
      "cell_type": "code",
      "metadata": {
        "id": "ehE1gkiEXnHs",
        "colab_type": "code",
        "colab": {}
      },
      "source": [
        "banker.sum() / banker.size"
      ],
      "execution_count": 0,
      "outputs": []
    },
    {
      "cell_type": "markdown",
      "metadata": {
        "id": "luwxuthKXnHx",
        "colab_type": "text"
      },
      "source": [
        "But we can also use the `mean` function, which computes the fraction of `True` values in the Series:"
      ]
    },
    {
      "cell_type": "code",
      "metadata": {
        "id": "qxJrsDitXnHy",
        "colab_type": "code",
        "colab": {}
      },
      "source": [
        "banker.mean()"
      ],
      "execution_count": 0,
      "outputs": []
    },
    {
      "cell_type": "markdown",
      "metadata": {
        "id": "jBLq4yPRXnH1",
        "colab_type": "text"
      },
      "source": [
        "About 1.5% of the respondents work in banking.\n",
        "\n",
        "That means if we choose a random person from the dataset, the probability they are a banker is about 1.5%."
      ]
    },
    {
      "cell_type": "markdown",
      "metadata": {
        "id": "XVhf4BcXXnH2",
        "colab_type": "text"
      },
      "source": [
        "**Exercise**: The values of the column `sex` are encoded like this:\n",
        "\n",
        "```\n",
        "1    Male\n",
        "2    Female\n",
        "```\n",
        "\n",
        "The following cell creates a Boolean series that is `True` for female respondents and `False` otherwise."
      ]
    },
    {
      "cell_type": "code",
      "metadata": {
        "id": "nDNJ0YqsXnH2",
        "colab_type": "code",
        "colab": {}
      },
      "source": [
        "female = (gss['sex'] == 2)"
      ],
      "execution_count": 0,
      "outputs": []
    },
    {
      "cell_type": "markdown",
      "metadata": {
        "id": "DlNBjekMXnH5",
        "colab_type": "text"
      },
      "source": [
        "* Use `values` to display the number of `True` and `False` values in `female`.\n",
        "\n",
        "* Use `sum` to count the number of female respondents.\n",
        "\n",
        "* Use `mean` to compute the fraction of female respondents."
      ]
    },
    {
      "cell_type": "code",
      "metadata": {
        "id": "Qhk0Jj75XnH5",
        "colab_type": "code",
        "colab": {}
      },
      "source": [
        "# Solution goes here"
      ],
      "execution_count": 0,
      "outputs": []
    },
    {
      "cell_type": "code",
      "metadata": {
        "id": "xKM9A2_mXnH9",
        "colab_type": "code",
        "colab": {}
      },
      "source": [
        "# Solution goes here"
      ],
      "execution_count": 0,
      "outputs": []
    },
    {
      "cell_type": "code",
      "metadata": {
        "id": "bCPeOl_PXnH_",
        "colab_type": "code",
        "colab": {}
      },
      "source": [
        "# Solution goes here"
      ],
      "execution_count": 0,
      "outputs": []
    },
    {
      "cell_type": "markdown",
      "metadata": {
        "id": "brGC7lVaXnID",
        "colab_type": "text"
      },
      "source": [
        "The fraction of women in this dataset is higher than in the adult U.S. population because [the GSS does not include people living in institutions](https://gss.norc.org/faq), including prisons and military housing, and those populations are more likely to be male."
      ]
    },
    {
      "cell_type": "markdown",
      "metadata": {
        "id": "1YuSXrjBXnIE",
        "colab_type": "text"
      },
      "source": [
        "**Exercise:** The designers of the General Social Survey chose to represent sex as a binary variable.  What alternatives might they have considered?  What are the advantages and disadvantages of their choice?\n",
        "\n",
        "For more on this topic, you might be interested in this article: Westbrook and Saperstein, [New categories are not enough: rethinking the measurement of sex and gender in social surveys](https://sci-hub.tw/10.1177/0891243215584758)"
      ]
    },
    {
      "cell_type": "markdown",
      "metadata": {
        "id": "knZQ794uXnIE",
        "colab_type": "text"
      },
      "source": [
        "## Political views\n",
        "\n",
        "The values of `polviews` are on a seven-point scale:\n",
        "\n",
        "```\n",
        "1\tExtremely liberal\n",
        "2\tLiberal\n",
        "3\tSlightly liberal\n",
        "4\tModerate\n",
        "5\tSlightly conservative\n",
        "6\tConservative\n",
        "7\tExtremely conservative\n",
        "```\n",
        "\n",
        "Here are the number of people who gave each response:"
      ]
    },
    {
      "cell_type": "code",
      "metadata": {
        "id": "PI4rxgQhXnIE",
        "colab_type": "code",
        "colab": {}
      },
      "source": [
        "values(gss['polviews'])"
      ],
      "execution_count": 0,
      "outputs": []
    },
    {
      "cell_type": "markdown",
      "metadata": {
        "id": "synp8xNjXnIH",
        "colab_type": "text"
      },
      "source": [
        "I'll define `liberal` to be `True` for anyone whose response is \"Extremely liberal\", \"Liberal\", or \"Slightly liberal\"."
      ]
    },
    {
      "cell_type": "code",
      "metadata": {
        "id": "TsbL4LZEXnII",
        "colab_type": "code",
        "colab": {}
      },
      "source": [
        "liberal = (gss['polviews'] < 4)"
      ],
      "execution_count": 0,
      "outputs": []
    },
    {
      "cell_type": "markdown",
      "metadata": {
        "id": "nl1v0RMTXnIK",
        "colab_type": "text"
      },
      "source": [
        "Here are the number of `True` and `False` values:"
      ]
    },
    {
      "cell_type": "code",
      "metadata": {
        "id": "u2B9SqumXnIK",
        "colab_type": "code",
        "colab": {}
      },
      "source": [
        "values(liberal)"
      ],
      "execution_count": 0,
      "outputs": []
    },
    {
      "cell_type": "markdown",
      "metadata": {
        "id": "Cx0pASi1XnIN",
        "colab_type": "text"
      },
      "source": [
        "And the fraction of respondents who are \"liberal\"."
      ]
    },
    {
      "cell_type": "code",
      "metadata": {
        "id": "t5TKyLkbXnIQ",
        "colab_type": "code",
        "colab": {}
      },
      "source": [
        "liberal.mean()"
      ],
      "execution_count": 0,
      "outputs": []
    },
    {
      "cell_type": "markdown",
      "metadata": {
        "id": "BuWTeOvLXnIS",
        "colab_type": "text"
      },
      "source": [
        "If we choose a random person in this dataset, the probability they are liberal is about 27%."
      ]
    },
    {
      "cell_type": "markdown",
      "metadata": {
        "id": "1T5eX4yAXnIT",
        "colab_type": "text"
      },
      "source": [
        "## The probability function\n",
        "\n",
        "To summarize what we have done so far:\n",
        "\n",
        "* To represent a logical proposition like \"this respondent is liberal\", we are using a Boolean series, which contains the values `True` and `False`.\n",
        "\n",
        "* To compute the probability that a proposition is true, we are using the `mean` function, which computes the fraction of `True` values in a series.\n",
        "\n",
        "To make this computation more explicit, I'll define a function that takes a Boolean series and returns a probability:"
      ]
    },
    {
      "cell_type": "code",
      "metadata": {
        "id": "0YM5k904XnIT",
        "colab_type": "code",
        "colab": {}
      },
      "source": [
        "def prob(A):\n",
        "    \"\"\"Computes the probability of a proposition, A.\n",
        "    \n",
        "    A: Boolean series\n",
        "    \n",
        "    returns: probability\n",
        "    \"\"\"\n",
        "    assert isinstance(A, pd.Series)\n",
        "    assert A.dtype == 'bool'\n",
        "    \n",
        "    return A.mean()"
      ],
      "execution_count": 0,
      "outputs": []
    },
    {
      "cell_type": "markdown",
      "metadata": {
        "id": "qbJUg4lQXnIW",
        "colab_type": "text"
      },
      "source": [
        "The `assert` statements check whether `A` is a Boolean series.  If not, they display an error message.\n",
        "\n",
        "Using this function to compute probabilities makes the code more readable.  Here are the probabilities for the propositions we have computed so far."
      ]
    },
    {
      "cell_type": "code",
      "metadata": {
        "id": "UXk0RcHkXnIX",
        "colab_type": "code",
        "colab": {}
      },
      "source": [
        "prob(banker)"
      ],
      "execution_count": 0,
      "outputs": []
    },
    {
      "cell_type": "code",
      "metadata": {
        "id": "BZCPsWrSXnIZ",
        "colab_type": "code",
        "colab": {}
      },
      "source": [
        "prob(female)"
      ],
      "execution_count": 0,
      "outputs": []
    },
    {
      "cell_type": "code",
      "metadata": {
        "id": "u_A9co_oXnIb",
        "colab_type": "code",
        "colab": {}
      },
      "source": [
        "prob(liberal)"
      ],
      "execution_count": 0,
      "outputs": []
    },
    {
      "cell_type": "markdown",
      "metadata": {
        "id": "R10ZGYPZXnId",
        "colab_type": "text"
      },
      "source": [
        "**Exercise**: The values of `partyid` are encoded like this:\n",
        "\n",
        "```\n",
        "0\tStrong democrat\n",
        "1\tNot str democrat\n",
        "2\tInd,near dem\n",
        "3\tIndependent\n",
        "4\tInd,near rep\n",
        "5\tNot str republican\n",
        "6\tStrong republican\n",
        "7\tOther party\n",
        "```\n",
        "\n",
        "I'll define `democrat` to include respondents who chose \"Strong democrat\" or \"Not str democrat\":"
      ]
    },
    {
      "cell_type": "code",
      "metadata": {
        "id": "RUt_FN_yXnIf",
        "colab_type": "code",
        "colab": {}
      },
      "source": [
        "democrat = (gss['partyid'] <= 1)"
      ],
      "execution_count": 0,
      "outputs": []
    },
    {
      "cell_type": "markdown",
      "metadata": {
        "id": "o7q2xoAAXnIg",
        "colab_type": "text"
      },
      "source": [
        "* Use `mean` to compute the fraction of Democrats in this dataset.\n",
        "\n",
        "* Use `prob` to compute the same fraction, which we will think of as a probability."
      ]
    },
    {
      "cell_type": "code",
      "metadata": {
        "id": "phmhlbwfXnIh",
        "colab_type": "code",
        "colab": {}
      },
      "source": [
        "# Solution goes here"
      ],
      "execution_count": 0,
      "outputs": []
    },
    {
      "cell_type": "code",
      "metadata": {
        "id": "1Px2OuSWXnIj",
        "colab_type": "code",
        "colab": {}
      },
      "source": [
        "# Solution goes here"
      ],
      "execution_count": 0,
      "outputs": []
    },
    {
      "cell_type": "markdown",
      "metadata": {
        "id": "QGTM5jGIXnIl",
        "colab_type": "text"
      },
      "source": [
        "## Conjunction\n",
        "\n",
        "Now that we have a definition of probability and a function that computes it, let's move on to conjunction.\n",
        "\n",
        "\"Conjunction\" is another name for the logical `and` operation.  If you have two propositions, `A` and `B`, the conjunction `A and B` is `True` if both `A` and `B` are `True`, and `False` otherwise.\n",
        "\n",
        "I'll demonstrate using two Boolean series constructed to enumerate every combination of `True` and `False`:"
      ]
    },
    {
      "cell_type": "code",
      "metadata": {
        "id": "r9ERRQkDXnIl",
        "colab_type": "code",
        "colab": {}
      },
      "source": [
        "A = pd.Series((True, True, False, False))\n",
        "A"
      ],
      "execution_count": 0,
      "outputs": []
    },
    {
      "cell_type": "code",
      "metadata": {
        "id": "qybb4bViXnIo",
        "colab_type": "code",
        "colab": {}
      },
      "source": [
        "B = pd.Series((True, False, True, False))\n",
        "B"
      ],
      "execution_count": 0,
      "outputs": []
    },
    {
      "cell_type": "markdown",
      "metadata": {
        "id": "elNmTmgdXnIq",
        "colab_type": "text"
      },
      "source": [
        "To compute the conjunction of `A` and `B`, we can use the `&` operator, like this:"
      ]
    },
    {
      "cell_type": "code",
      "metadata": {
        "id": "MSr2V4arXnIr",
        "colab_type": "code",
        "colab": {}
      },
      "source": [
        "A & B"
      ],
      "execution_count": 0,
      "outputs": []
    },
    {
      "cell_type": "markdown",
      "metadata": {
        "id": "pdxl6P8kXnIt",
        "colab_type": "text"
      },
      "source": [
        "The result is `True` only when `A` and `B` are `True`.\n",
        "\n",
        "To show this operation more clearly, I'll put the operands and the result in a DataFrame:"
      ]
    },
    {
      "cell_type": "code",
      "metadata": {
        "id": "3lFUTCwLXnIt",
        "colab_type": "code",
        "colab": {}
      },
      "source": [
        "table = pd.DataFrame()\n",
        "table['A'] = A\n",
        "table['B'] = B\n",
        "table['A & B'] = A & B\n",
        "table"
      ],
      "execution_count": 0,
      "outputs": []
    },
    {
      "cell_type": "markdown",
      "metadata": {
        "id": "DF_QUIcbXnIw",
        "colab_type": "text"
      },
      "source": [
        "This way of representing a logical operation is called a [truth table](https://en.wikipedia.org/wiki/Truth_table).\n",
        "\n",
        "In a previous section, we computed the probability that a random respondent is a banker:"
      ]
    },
    {
      "cell_type": "code",
      "metadata": {
        "id": "nCnYMt7GXnIw",
        "colab_type": "code",
        "colab": {}
      },
      "source": [
        "prob(banker)"
      ],
      "execution_count": 0,
      "outputs": []
    },
    {
      "cell_type": "markdown",
      "metadata": {
        "id": "2zZcw1k_XnIx",
        "colab_type": "text"
      },
      "source": [
        "And the probability that a respondent is a Democrat:"
      ]
    },
    {
      "cell_type": "code",
      "metadata": {
        "id": "NZLHGsvQXnIy",
        "colab_type": "code",
        "colab": {}
      },
      "source": [
        "prob(democrat)"
      ],
      "execution_count": 0,
      "outputs": []
    },
    {
      "cell_type": "markdown",
      "metadata": {
        "id": "VA1BqOVnXnI0",
        "colab_type": "text"
      },
      "source": [
        "Now we can compute the probability that a random respondent is a banker *and* a Democrat:"
      ]
    },
    {
      "cell_type": "code",
      "metadata": {
        "id": "s__GmblUXnI0",
        "colab_type": "code",
        "colab": {}
      },
      "source": [
        "prob(banker & democrat)"
      ],
      "execution_count": 0,
      "outputs": []
    },
    {
      "cell_type": "markdown",
      "metadata": {
        "id": "hncgzyReXnI1",
        "colab_type": "text"
      },
      "source": [
        "As we should expect, `prob(banker & democrat)` is less than `prob(banker)`, because not all bankers are Democrats."
      ]
    },
    {
      "cell_type": "markdown",
      "metadata": {
        "id": "7rzz1iUrXnI2",
        "colab_type": "text"
      },
      "source": [
        "**Exercise:** Use `prob` and the `&` operator to compute the following probabilities.\n",
        "\n",
        "* What is the probability that a random respondent is a banker and liberal?\n",
        "\n",
        "* What is the probability that a random respondent is female, a banker, and liberal?\n",
        "\n",
        "* What is the probability that a random respondent is female, a banker, and a liberal Democrat?\n",
        "\n",
        "Notice that as we add more conjunctions, the probabilities get smaller."
      ]
    },
    {
      "cell_type": "code",
      "metadata": {
        "id": "GCToxuooXnI2",
        "colab_type": "code",
        "colab": {}
      },
      "source": [
        "# Solution goes here"
      ],
      "execution_count": 0,
      "outputs": []
    },
    {
      "cell_type": "code",
      "metadata": {
        "id": "vmPnWlbKXnI4",
        "colab_type": "code",
        "colab": {}
      },
      "source": [
        "# Solution goes here"
      ],
      "execution_count": 0,
      "outputs": []
    },
    {
      "cell_type": "code",
      "metadata": {
        "id": "oJzeGFQGXnI6",
        "colab_type": "code",
        "colab": {}
      },
      "source": [
        "# Solution goes here"
      ],
      "execution_count": 0,
      "outputs": []
    },
    {
      "cell_type": "markdown",
      "metadata": {
        "id": "ehXyQI_fXnI7",
        "colab_type": "text"
      },
      "source": [
        "**Exercise:** We expect conjunction to be commutative; that is, `A & B` should be the same as `B & A`.\n",
        "\n",
        "To check, compute these two probabilies:\n",
        "\n",
        "* What is the probability that a random respondent is a banker and liberal?\n",
        "* What is the probability that a random respondent is liberal and a banker?"
      ]
    },
    {
      "cell_type": "code",
      "metadata": {
        "id": "cc6UnGDFXnI8",
        "colab_type": "code",
        "colab": {}
      },
      "source": [
        "prob(banker & liberal)"
      ],
      "execution_count": 0,
      "outputs": []
    },
    {
      "cell_type": "code",
      "metadata": {
        "id": "KsK62mXLXnI_",
        "colab_type": "code",
        "colab": {}
      },
      "source": [
        "prob(liberal & banker)"
      ],
      "execution_count": 0,
      "outputs": []
    },
    {
      "cell_type": "markdown",
      "metadata": {
        "id": "ewpg93IDXnJB",
        "colab_type": "text"
      },
      "source": [
        "If they are not the same, something has gone very wrong!"
      ]
    },
    {
      "cell_type": "markdown",
      "metadata": {
        "id": "gS-mfUaEXnJC",
        "colab_type": "text"
      },
      "source": [
        "## Conditional probability\n",
        "\n",
        "Conditional probability is a probability that depends on a condition, but that might not be the most helpful definition.  Here are some examples:\n",
        "\n",
        "* What is the probability that a respondent is a Democrat, given that they are liberal?\n",
        "\n",
        "* What is the probability that a respondent is female, given that they are a banker?\n",
        "\n",
        "* What is the probability that a respondent is liberal, given that they are female?\n",
        "\n",
        "Let's start with the first one, which we can interpret like this: \"Of all the respondents who are liberal, what fraction are Democrats?\"\n",
        "\n",
        "We can compute this probability in two steps:\n",
        "\n",
        "1. Select all respondents who are liberal.\n",
        "\n",
        "2. Compute the fraction of the selected respondents who are Democrats.\n",
        "\n",
        "To select liberal respondents, we can use the bracket operator, `[]`, like this:"
      ]
    },
    {
      "cell_type": "code",
      "metadata": {
        "id": "nr_BsgtLXnJC",
        "colab_type": "code",
        "colab": {}
      },
      "source": [
        "selected = democrat[liberal]"
      ],
      "execution_count": 0,
      "outputs": []
    },
    {
      "cell_type": "markdown",
      "metadata": {
        "id": "2djte3miXnJD",
        "colab_type": "text"
      },
      "source": [
        "The result is a Boolean series that contains a subset of the values in `democrat`.  Specifically, it contains only the values where `liberal` is `True`.\n",
        "\n",
        "To confirm that, let's check the length of the result:"
      ]
    },
    {
      "cell_type": "code",
      "metadata": {
        "id": "GPclcYg8XnJE",
        "colab_type": "code",
        "colab": {}
      },
      "source": [
        "len(selected)"
      ],
      "execution_count": 0,
      "outputs": []
    },
    {
      "cell_type": "markdown",
      "metadata": {
        "id": "rDkAagQAXnJF",
        "colab_type": "text"
      },
      "source": [
        "If things have gone according to plan, that should be the same as the number of `True` values in `liberal`:"
      ]
    },
    {
      "cell_type": "code",
      "metadata": {
        "id": "CHbg16dDXnJG",
        "colab_type": "code",
        "colab": {}
      },
      "source": [
        "liberal.sum()"
      ],
      "execution_count": 0,
      "outputs": []
    },
    {
      "cell_type": "markdown",
      "metadata": {
        "id": "oYsOEjBKXnJI",
        "colab_type": "text"
      },
      "source": [
        "Good.  \n",
        "\n",
        "`selected` contains the value of `democrat` for liberal respondents, so the mean of `selected` is the fraction of liberals who are Democrats:"
      ]
    },
    {
      "cell_type": "code",
      "metadata": {
        "id": "qUN2eR8sXnJJ",
        "colab_type": "code",
        "colab": {}
      },
      "source": [
        "selected.mean()"
      ],
      "execution_count": 0,
      "outputs": []
    },
    {
      "cell_type": "markdown",
      "metadata": {
        "id": "CjGGammHXnJK",
        "colab_type": "text"
      },
      "source": [
        "A little more than half of liberals are Democrats.  If the result is lower than you expected, keep in mind:\n",
        "\n",
        "1. We used a somewhat strict definition of \"Democrat\", excluding Independents who \"lean\" democratic.\n",
        "\n",
        "2. The dataset includes respondents as far back as 1974; in the early part of this interval, there was less alignment between political views and party affiliation, compared to the present."
      ]
    },
    {
      "cell_type": "markdown",
      "metadata": {
        "id": "aY9kZIoiXnJL",
        "colab_type": "text"
      },
      "source": [
        "Let's try the second example, \"What is the probability that a respondent is female, given that they are a banker?\"\n",
        "\n",
        "We can interpret that to mean, \"Of all respondents who are bankers, what fraction are female?\"\n",
        "\n",
        "Again, we'll use the bracket operator to select only the bankers:"
      ]
    },
    {
      "cell_type": "code",
      "metadata": {
        "id": "bK29fy6eXnJM",
        "colab_type": "code",
        "colab": {}
      },
      "source": [
        "selected = female[banker]\n",
        "len(selected)"
      ],
      "execution_count": 0,
      "outputs": []
    },
    {
      "cell_type": "markdown",
      "metadata": {
        "id": "_6g8ZDzSXnJO",
        "colab_type": "text"
      },
      "source": [
        "As we've seen, there are 728 bankers in the dataset.\n",
        "\n",
        "Now we can use `mean` to compute the conditional probability that a respondent is female, given that they are a banker:"
      ]
    },
    {
      "cell_type": "code",
      "metadata": {
        "id": "YA_l1KNVXnJO",
        "colab_type": "code",
        "colab": {}
      },
      "source": [
        "selected.mean()"
      ],
      "execution_count": 0,
      "outputs": []
    },
    {
      "cell_type": "markdown",
      "metadata": {
        "id": "25-BiFJ9XnJQ",
        "colab_type": "text"
      },
      "source": [
        "About 77% of the bankers in this dataset are female.\n",
        "\n",
        "We can get the same result using `prob`:"
      ]
    },
    {
      "cell_type": "code",
      "metadata": {
        "id": "AZAcAsL5XnJR",
        "colab_type": "code",
        "colab": {}
      },
      "source": [
        "prob(selected)"
      ],
      "execution_count": 0,
      "outputs": []
    },
    {
      "cell_type": "markdown",
      "metadata": {
        "id": "J0fsOhIjXnJS",
        "colab_type": "text"
      },
      "source": [
        "Remember that we defined `prob` to make the code easier to read.  We can do the same thing with conditional probability.\n",
        "\n",
        "I'll define `conditional` to take two Boolean series, `A` and `B`, and compute the conditional probability of `A` given `B`:"
      ]
    },
    {
      "cell_type": "code",
      "metadata": {
        "id": "aA4TLSQkXnJS",
        "colab_type": "code",
        "colab": {}
      },
      "source": [
        "def conditional(A, B):\n",
        "    \"\"\"Conditional probability of A given B.\n",
        "    \n",
        "    A: Boolean series\n",
        "    B: Boolean series\n",
        "    \n",
        "    returns: probability\n",
        "    \"\"\"\n",
        "    return prob(A[B])"
      ],
      "execution_count": 0,
      "outputs": []
    },
    {
      "cell_type": "markdown",
      "metadata": {
        "id": "FDQLBppXXnJU",
        "colab_type": "text"
      },
      "source": [
        "Now we can use it to compute the probability that a liberal is a Democrat:"
      ]
    },
    {
      "cell_type": "code",
      "metadata": {
        "id": "TQ2G55xxXnJV",
        "colab_type": "code",
        "colab": {}
      },
      "source": [
        "conditional(democrat, liberal)"
      ],
      "execution_count": 0,
      "outputs": []
    },
    {
      "cell_type": "markdown",
      "metadata": {
        "id": "Z_O1vl8kXnJX",
        "colab_type": "text"
      },
      "source": [
        "And the probability that a banker is female:"
      ]
    },
    {
      "cell_type": "code",
      "metadata": {
        "id": "bo9sdNcbXnJf",
        "colab_type": "code",
        "colab": {}
      },
      "source": [
        "conditional(female, banker)"
      ],
      "execution_count": 0,
      "outputs": []
    },
    {
      "cell_type": "markdown",
      "metadata": {
        "id": "BUbbsiV-XnJi",
        "colab_type": "text"
      },
      "source": [
        "The results are the same as what we computed above."
      ]
    },
    {
      "cell_type": "markdown",
      "metadata": {
        "id": "b0sWUeLTXnJi",
        "colab_type": "text"
      },
      "source": [
        "**Exercise:** Use `conditional` to compute the probability that a respondent is liberal given that they are female.\n",
        "\n",
        "Hint: The answer should be less than 30%.  If your answer is about 54%, you have made a mistake (see the next exercise).\n"
      ]
    },
    {
      "cell_type": "code",
      "metadata": {
        "id": "4EC8BcFfXnJi",
        "colab_type": "code",
        "colab": {}
      },
      "source": [
        "# Solution goes here"
      ],
      "execution_count": 0,
      "outputs": []
    },
    {
      "cell_type": "markdown",
      "metadata": {
        "id": "J0Jm-bz2XnJk",
        "colab_type": "text"
      },
      "source": [
        "**Exercise:**  In a previous exercise, we saw that conjunction is commutative; that is, `prob(A & B)` is always equal to `prob(B & A)`.\n",
        "\n",
        "But conditional probability is NOT commutative; that is, `conditional(A, B)` is not the same as `conditional(B, A)`.\n",
        "\n",
        "That should be clear if we look at an example.  Previously, we computed the probability a respondent is female, given that they are banker."
      ]
    },
    {
      "cell_type": "code",
      "metadata": {
        "id": "IpZ8Zk2QXnJl",
        "colab_type": "code",
        "colab": {}
      },
      "source": [
        "conditional(female, banker)"
      ],
      "execution_count": 0,
      "outputs": []
    },
    {
      "cell_type": "markdown",
      "metadata": {
        "id": "dxFisf1hXnJm",
        "colab_type": "text"
      },
      "source": [
        "The result shows that the majority of bankers are female.  That is not the same as the probability that a respondent is a banker, given that they are female:"
      ]
    },
    {
      "cell_type": "code",
      "metadata": {
        "id": "JorP3FCcXnJm",
        "colab_type": "code",
        "colab": {}
      },
      "source": [
        "conditional(banker, female)"
      ],
      "execution_count": 0,
      "outputs": []
    },
    {
      "cell_type": "markdown",
      "metadata": {
        "id": "OLhBgIn4XnJn",
        "colab_type": "text"
      },
      "source": [
        "Only about 2% of female respondents are bankers."
      ]
    },
    {
      "cell_type": "markdown",
      "metadata": {
        "id": "a7zlfqvXXnJn",
        "colab_type": "text"
      },
      "source": [
        "**Exercise:** Use `conditional` to compute the following probabilities:\n",
        "\n",
        "* What is the probability that a respondent is liberal, given that they are a Democrat?\n",
        "\n",
        "* What is the probability that a respondent is a Democrat, given that they are liberal?\n",
        "\n",
        "Think carefully about the order of the series you pass to `conditional`."
      ]
    },
    {
      "cell_type": "code",
      "metadata": {
        "id": "ADFOvu9wXnJn",
        "colab_type": "code",
        "colab": {}
      },
      "source": [
        "conditional(liberal, democrat)"
      ],
      "execution_count": 0,
      "outputs": []
    },
    {
      "cell_type": "code",
      "metadata": {
        "id": "-fstkW40XnJp",
        "colab_type": "code",
        "colab": {}
      },
      "source": [
        "conditional(democrat, liberal)"
      ],
      "execution_count": 0,
      "outputs": []
    },
    {
      "cell_type": "markdown",
      "metadata": {
        "id": "BomAkMNHXnJq",
        "colab_type": "text"
      },
      "source": [
        "## Conditions and conjunctions\n",
        "\n",
        "We can combine conditional probability and conjunction.  For example, here's the probability a respondent is female, given that they are a liberal Democrat."
      ]
    },
    {
      "cell_type": "code",
      "metadata": {
        "id": "wAM9k3qJXnJr",
        "colab_type": "code",
        "colab": {}
      },
      "source": [
        "conditional(female, liberal & democrat)"
      ],
      "execution_count": 0,
      "outputs": []
    },
    {
      "cell_type": "markdown",
      "metadata": {
        "id": "xwzTCbMWXnJs",
        "colab_type": "text"
      },
      "source": [
        "Almost 57% of liberal Democrats are female.\n",
        "\n",
        "And here's the probability they are a liberal female, given that they are a banker:"
      ]
    },
    {
      "cell_type": "code",
      "metadata": {
        "id": "18OCTSLSXnJs",
        "colab_type": "code",
        "colab": {}
      },
      "source": [
        "conditional(liberal & female, banker)"
      ],
      "execution_count": 0,
      "outputs": []
    },
    {
      "cell_type": "markdown",
      "metadata": {
        "id": "kvkoswrcXnJu",
        "colab_type": "text"
      },
      "source": [
        "About 17% of bankers are liberal women."
      ]
    },
    {
      "cell_type": "markdown",
      "metadata": {
        "id": "JiDdvfotXnJu",
        "colab_type": "text"
      },
      "source": [
        "**Exercise:** What fraction of female bankers are liberal Democrats?\n",
        "\n",
        "Hint: If your answer is less than 1%, you have it backwards.  Remember that conditional probability is not commutative."
      ]
    },
    {
      "cell_type": "code",
      "metadata": {
        "id": "-rSw-_NfXnJu",
        "colab_type": "code",
        "colab": {}
      },
      "source": [
        "# Solution goes here"
      ],
      "execution_count": 0,
      "outputs": []
    },
    {
      "cell_type": "markdown",
      "metadata": {
        "id": "-wO0z3h-XnJw",
        "colab_type": "text"
      },
      "source": [
        "## Summary\n",
        "\n",
        "At this point, you should understand the definition of probability, at least in the simple case where we have a finite dataset.  Later we will consider cases where the definition of probability is more controversial.\n",
        "\n",
        "And you should understand conjunction and conditional probability.  In the next notebook, we will explore the relationship between conjunction and conditional probability, and use it to derive Bayes's Theorem, which is the foundation of Bayesian statistics."
      ]
    },
    {
      "cell_type": "code",
      "metadata": {
        "id": "VSB6EuO4XnJw",
        "colab_type": "code",
        "colab": {}
      },
      "source": [
        ""
      ],
      "execution_count": 0,
      "outputs": []
    }
  ]
}