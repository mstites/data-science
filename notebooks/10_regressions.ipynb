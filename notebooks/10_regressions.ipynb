{
 "cells": [
  {
   "cell_type": "markdown",
   "metadata": {
    "colab_type": "text",
    "id": "0m7OEGj8Id4V"
   },
   "source": [
    "# Regression\n",
    "\n",
    "Elements of Data Science\n",
    "\n",
    "by [Allen Downey](https://allendowney.com)\n",
    "\n",
    "[MIT License](https://opensource.org/licenses/MIT)\n",
    "\n",
    "### Goals\n",
    "\n",
    "In the previous notebook we used simple regression to quantify the relationship between two variables.\n",
    "\n",
    "In this notebook we'll get farther into regression, including multiple regression and one of my all-time favorite tools, logistic regression.\n",
    "\n",
    "These tools will allow us to explore relationships among sets of variables.  As an example, we will use data from the GSS to explore the relationship between income, education, age, and sex.\n",
    "\n",
    "But first let's understand the limits of single regression."
   ]
  },
  {
   "cell_type": "code",
   "execution_count": 10,
   "metadata": {
    "colab": {
     "base_uri": "https://localhost:8080/",
     "height": 193
    },
    "colab_type": "code",
    "executionInfo": {
     "elapsed": 5444,
     "status": "ok",
     "timestamp": 1582777130063,
     "user": {
      "displayName": "Maeve Stites",
      "photoUrl": "https://lh3.googleusercontent.com/a-/AAuE7mCTpLCx642SdWwDWVYliC35_qT41YEhU8YAKFfj=s64",
      "userId": "04581142099517383196"
     },
     "user_tz": 300
    },
    "id": "Bf2aT8lyId4Y",
    "outputId": "a54770ba-d0aa-4ca1-8812-98400ce64005"
   },
   "outputs": [],
   "source": [
    "# If we're running on Colab, install empiricaldist\n",
    "# https://pypi.org/project/empiricaldist/\n",
    "\n",
    "import sys\n",
    "IN_COLAB = 'google.colab' in sys.modules\n",
    "\n",
    "if IN_COLAB:\n",
    "    !pip install empiricaldist"
   ]
  },
  {
   "cell_type": "markdown",
   "metadata": {
    "colab_type": "text",
    "id": "7MIt9SLPId4h"
   },
   "source": [
    "## Limits of single regression\n",
    "\n",
    "In a previous exercise, you made a scatter plot of vegetable consumption as a function of income, and plotted a line of best fit.\n",
    "\n",
    "Here's what it looks like:\n",
    "\n",
    "![](https://github.com/AllenDowney/ElementsOfDataScience/raw/master/figs/fig08-01.png)\n",
    "\n",
    "The slope of the line is 0.07, which means that the difference between the lowest and highest income brackets is about 0.49 servings per day.\n",
    "\n",
    "So that's not a very big difference.\n",
    "\n",
    "But it was an arbitrary choice to plot vegetables as a function of income.  We could have plotted it the other way around, like this.\n",
    "\n",
    "![](https://github.com/AllenDowney/ElementsOfDataScience/raw/master/figs/fig08-02.png)\n",
    "\n",
    "The slope of this line is about 0.2, which means that the difference between 0 and 10 servings per day is about 2 income levels, roughly from level 5 to level 7.\n",
    "\n",
    "And the difference between income levels 5 and 7 is about $30,000 per year, which is substantial.\n",
    "\n",
    "So if we use vegetable consumption to predict income, we see a big difference.  But when we used income to predict vegetable consumption, we saw a small difference.\n",
    "\n",
    "This example shows that regression is not symmetric; the regression of A onto B is not the same as the regression of B onto A.\n",
    "\n",
    "We can see that more clearly by putting the two figures side by side and plotting both regression lines on both figures.\n",
    "\n",
    "![](https://github.com/AllenDowney/ElementsOfDataScience/raw/master/figs/fig08-03.png)\n",
    "\n",
    "They are different because they are based on different assumptions.  \n",
    "\n",
    "* On the left, we treat income as a known quantity and vegetable consumption as random.\n",
    "\n",
    "* On the right, vegetable consumption is known and income is random.\n",
    "\n",
    "When you run a regression model, you make decisions about how to treat the data, and those decisions affect the results you get.\n",
    "\n",
    "This example is meant to demonstrate another point, which is that regression doesn't tell you much about causation.\n",
    "\n",
    "If you think people with lower income can't afford vegetables, you might look at the figure on the left and conclude that it doesn't make much difference.\n",
    "\n",
    "If you think better diet increases income, the figure on the right might make you think it does.\n",
    "\n",
    "But in general, regression can't tell you what causes what.  If you see a relationship between any two variables, A and B, the reason for the relationship might be that A causes B, B causes A, or there might be other factors that cause both A and B.\n",
    "\n",
    "Regression alone can't tell you which way it goes.\n",
    "\n",
    "However, we have tools for teasing apart relationships among multiple variables; one of the most important is multiple regression.\n",
    "\n",
    "SciPy doesn't do multiple regression, so we'll to switch to a new library, StatsModels.  Here's the import statement."
   ]
  },
  {
   "cell_type": "code",
   "execution_count": 17,
   "metadata": {
    "colab": {},
    "colab_type": "code",
    "id": "yfY1YTKFId4i"
   },
   "outputs": [],
   "source": [
    "import statsmodels.formula.api as smf"
   ]
  },
  {
   "cell_type": "markdown",
   "metadata": {
    "colab_type": "text",
    "id": "ZBr7rfWuId4o"
   },
   "source": [
    "For the first example, we'll load data from the Behavioral Risk Factor Surveillance Survey (BRFSS), which we saw in the previous notebook."
   ]
  },
  {
   "cell_type": "code",
   "execution_count": 18,
   "metadata": {
    "colab": {
     "base_uri": "https://localhost:8080/",
     "height": 315
    },
    "colab_type": "code",
    "executionInfo": {
     "elapsed": 7749,
     "status": "ok",
     "timestamp": 1582777133167,
     "user": {
      "displayName": "Maeve Stites",
      "photoUrl": "https://lh3.googleusercontent.com/a-/AAuE7mCTpLCx642SdWwDWVYliC35_qT41YEhU8YAKFfj=s64",
      "userId": "04581142099517383196"
     },
     "user_tz": 300
    },
    "id": "UuNLRRmRId4p",
    "outputId": "287e9cf5-45b7-4677-f54b-58f21669ef8b"
   },
   "outputs": [],
   "source": [
    "# Get the data file\n",
    "\n",
    "import os\n",
    "\n",
    "if not os.path.exists('brfss.hdf5'):\n",
    "    !wget https://github.com/AllenDowney/ElementsOfDataScience/raw/master/brfss.hdf5"
   ]
  },
  {
   "cell_type": "code",
   "execution_count": 20,
   "metadata": {
    "colab": {},
    "colab_type": "code",
    "id": "hCYzfJI5Id4u"
   },
   "outputs": [],
   "source": [
    "import pandas as pd\n",
    "\n",
    "brfss = pd.read_hdf('brfss.hdf5', 'brfss')"
   ]
  },
  {
   "cell_type": "markdown",
   "metadata": {
    "colab_type": "text",
    "id": "Pomp1P3uId4z"
   },
   "source": [
    "Now we can use StatsModels to fit a regression mode.  The name of the function is `ols`, which stands for \"ordinary least squares\", another name for regression."
   ]
  },
  {
   "cell_type": "code",
   "execution_count": 21,
   "metadata": {
    "colab": {},
    "colab_type": "code",
    "id": "uSSrUyVAId40"
   },
   "outputs": [],
   "source": [
    "results = smf.ols('INCOME2 ~ _VEGESU1', data=brfss).fit()"
   ]
  },
  {
   "cell_type": "markdown",
   "metadata": {
    "colab_type": "text",
    "id": "3k1Lzw7GId44"
   },
   "source": [
    "The first argument is a formula string that specifies that we want to regress income as a function of vegetable consumption.\n",
    "\n",
    "The second argument is the BRFSS DataFrame.  The names in the formula correspond to columns in the DataFrame.\n",
    "\n",
    "The result from `ols()` represents the model; then we run `fit()` to get the results."
   ]
  },
  {
   "cell_type": "code",
   "execution_count": 22,
   "metadata": {
    "colab": {
     "base_uri": "https://localhost:8080/",
     "height": 34
    },
    "colab_type": "code",
    "executionInfo": {
     "elapsed": 7161,
     "status": "ok",
     "timestamp": 1582777133556,
     "user": {
      "displayName": "Maeve Stites",
      "photoUrl": "https://lh3.googleusercontent.com/a-/AAuE7mCTpLCx642SdWwDWVYliC35_qT41YEhU8YAKFfj=s64",
      "userId": "04581142099517383196"
     },
     "user_tz": 300
    },
    "id": "8-8iYBmoId45",
    "outputId": "d4d17c14-3121-4c79-e9be-93cfd58ce7c8"
   },
   "outputs": [
    {
     "data": {
      "text/plain": [
       "statsmodels.regression.linear_model.RegressionResultsWrapper"
      ]
     },
     "execution_count": 22,
     "metadata": {},
     "output_type": "execute_result"
    }
   ],
   "source": [
    "type(results)"
   ]
  },
  {
   "cell_type": "markdown",
   "metadata": {
    "colab_type": "text",
    "id": "j0uL-GPRId49"
   },
   "source": [
    "Results is a `RegressionResultsWrapper`, which contains a lot of information, but the first thing we'll look at is the attribute `params`, which contains the estimated intercept and the slope associated with `_VEGESU1`."
   ]
  },
  {
   "cell_type": "code",
   "execution_count": 23,
   "metadata": {
    "colab": {
     "base_uri": "https://localhost:8080/",
     "height": 69
    },
    "colab_type": "code",
    "executionInfo": {
     "elapsed": 6770,
     "status": "ok",
     "timestamp": 1582777133556,
     "user": {
      "displayName": "Maeve Stites",
      "photoUrl": "https://lh3.googleusercontent.com/a-/AAuE7mCTpLCx642SdWwDWVYliC35_qT41YEhU8YAKFfj=s64",
      "userId": "04581142099517383196"
     },
     "user_tz": 300
    },
    "id": "ExtXsujYId4-",
    "outputId": "556e2e18-cf78-44ae-8c9a-ef565e69032c"
   },
   "outputs": [
    {
     "data": {
      "text/plain": [
       "Intercept    5.450700\n",
       "_VEGESU1     0.204935\n",
       "dtype: float64"
      ]
     },
     "execution_count": 23,
     "metadata": {},
     "output_type": "execute_result"
    }
   ],
   "source": [
    "results.params"
   ]
  },
  {
   "cell_type": "markdown",
   "metadata": {
    "colab_type": "text",
    "id": "HCOKp5PRId5C"
   },
   "source": [
    "And we get the same results we got from SciPy, so that's good!\n",
    "\n",
    "In the next section we'll move on to multiple regression.  But first, some exercises."
   ]
  },
  {
   "cell_type": "markdown",
   "metadata": {
    "colab_type": "text",
    "id": "uufIFKFbId5D"
   },
   "source": [
    "**Exercise:** In the BRFSS dataset, there is a strong relationship between vegetable consumption and income. The income of people who eat 8 servings of vegetables per day is double the income of people who eat none, on average.\n",
    "\n",
    "Which of the following conclusions can we draw from this data?\n",
    "\n",
    "A.  Eating a good diet leads to better health and higher income.\n",
    "\n",
    "B.  People with higher income can afford a better diet.\n",
    "\n",
    "C.  People with high income are more likely to be vegetarians."
   ]
  },
  {
   "cell_type": "code",
   "execution_count": 24,
   "metadata": {
    "colab": {},
    "colab_type": "code",
    "id": "hKuN2yVmId5F"
   },
   "outputs": [],
   "source": [
    "# You cannot make any of the following conclusions, no way to know casuations. Also more vegtables does not mean vegetarian."
   ]
  },
  {
   "cell_type": "markdown",
   "metadata": {
    "colab_type": "text",
    "id": "F0Cd5kxcId5J"
   },
   "source": [
    "**Exercise:** Let's run a regression using SciPy and StatsModels, and confirm we get the same results.\n",
    "\n",
    "- Compute the regression of `_VEGESU1` as a function of `INCOME2` using SciPy's `linregress()`.\n",
    "\n",
    "- Compute the regression of `_VEGESU1` as a function of `INCOME2` using StatsModels' `smf.ols()`."
   ]
  },
  {
   "cell_type": "code",
   "execution_count": 25,
   "metadata": {
    "colab": {
     "base_uri": "https://localhost:8080/",
     "height": 54
    },
    "colab_type": "code",
    "executionInfo": {
     "elapsed": 5723,
     "status": "ok",
     "timestamp": 1582777133557,
     "user": {
      "displayName": "Maeve Stites",
      "photoUrl": "https://lh3.googleusercontent.com/a-/AAuE7mCTpLCx642SdWwDWVYliC35_qT41YEhU8YAKFfj=s64",
      "userId": "04581142099517383196"
     },
     "user_tz": 300
    },
    "id": "B69cnIjrId5L",
    "outputId": "e651060d-a8f1-41ee-a517-7dcffc66d54b"
   },
   "outputs": [
    {
     "data": {
      "text/plain": [
       "LinregressResult(slope=0.0698804809210135, intercept=1.5287786243365251, rvalue=0.11967005884859927, pvalue=1.378503916775768e-238, stderr=0.0021109763563319714)"
      ]
     },
     "execution_count": 25,
     "metadata": {},
     "output_type": "execute_result"
    }
   ],
   "source": [
    "import scipy as sp\n",
    "data = brfss.dropna(subset=['INCOME2', '_VEGESU1'])\n",
    "inc_clean = data['INCOME2']\n",
    "veg_clean = data['_VEGESU1']\n",
    "sp.stats.linregress(inc_clean, veg_clean)"
   ]
  },
  {
   "cell_type": "code",
   "execution_count": 26,
   "metadata": {
    "colab": {
     "base_uri": "https://localhost:8080/",
     "height": 69
    },
    "colab_type": "code",
    "executionInfo": {
     "elapsed": 5530,
     "status": "ok",
     "timestamp": 1582777133558,
     "user": {
      "displayName": "Maeve Stites",
      "photoUrl": "https://lh3.googleusercontent.com/a-/AAuE7mCTpLCx642SdWwDWVYliC35_qT41YEhU8YAKFfj=s64",
      "userId": "04581142099517383196"
     },
     "user_tz": 300
    },
    "id": "ofo6b2bWId5O",
    "outputId": "4d023805-e343-44f3-8e55-5e51f0980e84"
   },
   "outputs": [
    {
     "data": {
      "text/plain": [
       "Intercept    1.528779\n",
       "INCOME2      0.069880\n",
       "dtype: float64"
      ]
     },
     "execution_count": 26,
     "metadata": {},
     "output_type": "execute_result"
    }
   ],
   "source": [
    "smf.ols('_VEGESU1 ~ INCOME2', data=data).fit().params"
   ]
  },
  {
   "cell_type": "markdown",
   "metadata": {
    "colab_type": "text",
    "id": "tkF3hjA0Id5S"
   },
   "source": [
    "## Multiple regression\n",
    "\n",
    "Now that we have StatsModels, getting from single to multiple regression is easy.\n",
    "\n",
    "As an example, we'll use data from the General Social Survey, which we saw in Notebook 7, and we'll explore variables that are related to income.\n",
    "\n",
    "First, let's load the GSS data."
   ]
  },
  {
   "cell_type": "code",
   "execution_count": 27,
   "metadata": {
    "colab": {
     "base_uri": "https://localhost:8080/",
     "height": 315
    },
    "colab_type": "code",
    "executionInfo": {
     "elapsed": 7208,
     "status": "ok",
     "timestamp": 1582777135658,
     "user": {
      "displayName": "Maeve Stites",
      "photoUrl": "https://lh3.googleusercontent.com/a-/AAuE7mCTpLCx642SdWwDWVYliC35_qT41YEhU8YAKFfj=s64",
      "userId": "04581142099517383196"
     },
     "user_tz": 300
    },
    "id": "3z-gkMfGId5S",
    "outputId": "1874098e-4d06-4db0-bf29-8d4de2d24766"
   },
   "outputs": [
    {
     "name": "stdout",
     "output_type": "stream",
     "text": [
      "--2020-03-02 13:52:36--  https://github.com/AllenDowney/ElementsOfDataScience/raw/master/gss.hdf5\n",
      "Loaded CA certificate '/etc/ssl/certs/ca-certificates.crt'\n",
      "Resolving github.com (github.com)... 140.82.113.4\n",
      "Connecting to github.com (github.com)|140.82.113.4|:443... connected.\n",
      "HTTP request sent, awaiting response... 302 Found\n",
      "Location: https://raw.githubusercontent.com/AllenDowney/ElementsOfDataScience/master/gss.hdf5 [following]\n",
      "--2020-03-02 13:52:37--  https://raw.githubusercontent.com/AllenDowney/ElementsOfDataScience/master/gss.hdf5\n",
      "Resolving raw.githubusercontent.com (raw.githubusercontent.com)... 151.101.64.133, 151.101.128.133, 151.101.192.133, ...\n",
      "Connecting to raw.githubusercontent.com (raw.githubusercontent.com)|151.101.64.133|:443... connected.\n",
      "HTTP request sent, awaiting response... 200 OK\n",
      "Length: 5506296 (5.3M) [application/octet-stream]\n",
      "Saving to: ‘gss.hdf5’\n",
      "\n",
      "gss.hdf5            100%[===================>]   5.25M  13.3MB/s    in 0.4s    \n",
      "\n",
      "2020-03-02 13:52:37 (13.3 MB/s) - ‘gss.hdf5’ saved [5506296/5506296]\n",
      "\n"
     ]
    }
   ],
   "source": [
    "# Get the data file\n",
    "\n",
    "import os\n",
    "\n",
    "if not os.path.exists('gss.hdf5'):\n",
    "    !wget https://github.com/AllenDowney/ElementsOfDataScience/raw/master/gss.hdf5"
   ]
  },
  {
   "cell_type": "code",
   "execution_count": 28,
   "metadata": {
    "colab": {},
    "colab_type": "code",
    "id": "FwDBxCgPId5W"
   },
   "outputs": [],
   "source": [
    "import pandas as pd\n",
    "\n",
    "gss = pd.read_hdf('gss.hdf5', 'gss')"
   ]
  },
  {
   "cell_type": "markdown",
   "metadata": {
    "colab_type": "text",
    "id": "-Xk2zBThId5Z"
   },
   "source": [
    "Then we run a regression of real income as a function of years of education.  The first argument of `ols()` is a formula that specifies the variables in the regression:"
   ]
  },
  {
   "cell_type": "code",
   "execution_count": 29,
   "metadata": {
    "colab": {
     "base_uri": "https://localhost:8080/",
     "height": 69
    },
    "colab_type": "code",
    "executionInfo": {
     "elapsed": 6613,
     "status": "ok",
     "timestamp": 1582777135659,
     "user": {
      "displayName": "Maeve Stites",
      "photoUrl": "https://lh3.googleusercontent.com/a-/AAuE7mCTpLCx642SdWwDWVYliC35_qT41YEhU8YAKFfj=s64",
      "userId": "04581142099517383196"
     },
     "user_tz": 300
    },
    "id": "Kp2B4xXVId5b",
    "outputId": "4cb0c830-b493-440d-e1cc-152f6e3d0155"
   },
   "outputs": [
    {
     "data": {
      "text/plain": [
       "Intercept   -11539.147837\n",
       "educ          3586.523659\n",
       "dtype: float64"
      ]
     },
     "execution_count": 29,
     "metadata": {},
     "output_type": "execute_result"
    }
   ],
   "source": [
    "results = smf.ols('realinc ~ educ', data=gss).fit()\n",
    "results.params"
   ]
  },
  {
   "cell_type": "markdown",
   "metadata": {
    "colab_type": "text",
    "id": "3hMSySrUId5e"
   },
   "source": [
    "On the left, \"real income\" is the variable we are trying to predict; on the right, \"education\" is the variable we are using to inform the predictions.\n",
    "\n",
    "And here are the results.  The estimated slope is almost 3600, which means that each additional year of education is associated with an additional $3600 of income.\n",
    "\n",
    "But income also depends on age, so it would be good to include that in the model, too.\n",
    "\n",
    "Here's how: "
   ]
  },
  {
   "cell_type": "code",
   "execution_count": 30,
   "metadata": {
    "colab": {
     "base_uri": "https://localhost:8080/",
     "height": 86
    },
    "colab_type": "code",
    "executionInfo": {
     "elapsed": 6333,
     "status": "ok",
     "timestamp": 1582777135798,
     "user": {
      "displayName": "Maeve Stites",
      "photoUrl": "https://lh3.googleusercontent.com/a-/AAuE7mCTpLCx642SdWwDWVYliC35_qT41YEhU8YAKFfj=s64",
      "userId": "04581142099517383196"
     },
     "user_tz": 300
    },
    "id": "LpnU_pCtId5e",
    "outputId": "7938a543-c04f-426b-84cb-9582e9c783eb"
   },
   "outputs": [
    {
     "data": {
      "text/plain": [
       "Intercept   -16117.275684\n",
       "educ          3655.166921\n",
       "age             83.731804\n",
       "dtype: float64"
      ]
     },
     "execution_count": 30,
     "metadata": {},
     "output_type": "execute_result"
    }
   ],
   "source": [
    "results = smf.ols('realinc ~ educ + age', data=gss).fit()\n",
    "results.params"
   ]
  },
  {
   "cell_type": "markdown",
   "metadata": {
    "colab_type": "text",
    "id": "abhaV6_SId5h"
   },
   "source": [
    "On the right side of the formula, you can list as many variables as you like, in this case, education and age.\n",
    "\n",
    "The `plus` sign indicates that we expect the contributions of the two variables to be additive, which is a common assumption for models like this.\n",
    "\n",
    "The estimated slope for education is a little higher than what we saw before, about $3650 per year.\n",
    "\n",
    "The estimated slope for `age` is only about $80 per year, which is surprisingly small.\n",
    "\n",
    "To see what's going on, let's look more closely at the relationship between income and age."
   ]
  },
  {
   "cell_type": "markdown",
   "metadata": {
    "colab_type": "text",
    "id": "oVXOBds7Id5h"
   },
   "source": [
    "## Groupby\n",
    "\n",
    "I'll use `groupby()`, which is a Pandas feature we have not seen before, to divide the DataFrame into age groups.  The result is a `GroupBy` object that contains one group for each value of `age`."
   ]
  },
  {
   "cell_type": "code",
   "execution_count": 31,
   "metadata": {
    "colab": {
     "base_uri": "https://localhost:8080/",
     "height": 34
    },
    "colab_type": "code",
    "executionInfo": {
     "elapsed": 5175,
     "status": "ok",
     "timestamp": 1582777135798,
     "user": {
      "displayName": "Maeve Stites",
      "photoUrl": "https://lh3.googleusercontent.com/a-/AAuE7mCTpLCx642SdWwDWVYliC35_qT41YEhU8YAKFfj=s64",
      "userId": "04581142099517383196"
     },
     "user_tz": 300
    },
    "id": "2e9NfvytId5j",
    "outputId": "8cccfbd1-3b5c-4073-c1b7-d09164824308"
   },
   "outputs": [
    {
     "data": {
      "text/plain": [
       "pandas.core.groupby.generic.DataFrameGroupBy"
      ]
     },
     "execution_count": 31,
     "metadata": {},
     "output_type": "execute_result"
    }
   ],
   "source": [
    "grouped = gss.groupby('age')\n",
    "type(grouped)"
   ]
  },
  {
   "cell_type": "markdown",
   "metadata": {
    "colab_type": "text",
    "id": "GW8K_C-DId5m"
   },
   "source": [
    "The `GroupBy` object behaves like a DataFrame in many ways.  You can use brackets to select a column, like `realinc` in this example, and then invoke a method like `mean()`."
   ]
  },
  {
   "cell_type": "code",
   "execution_count": 32,
   "metadata": {
    "colab": {},
    "colab_type": "code",
    "id": "rrZT8SZTId5n"
   },
   "outputs": [],
   "source": [
    "mean_income_by_age = grouped['realinc'].mean()"
   ]
  },
  {
   "cell_type": "markdown",
   "metadata": {
    "colab_type": "text",
    "id": "lBX-R4CQId5q"
   },
   "source": [
    "The result is a Pandas series that contains the mean income for each age group, which we can plot like this."
   ]
  },
  {
   "cell_type": "code",
   "execution_count": 33,
   "metadata": {
    "colab": {
     "base_uri": "https://localhost:8080/",
     "height": 295
    },
    "colab_type": "code",
    "executionInfo": {
     "elapsed": 3969,
     "status": "ok",
     "timestamp": 1582777135984,
     "user": {
      "displayName": "Maeve Stites",
      "photoUrl": "https://lh3.googleusercontent.com/a-/AAuE7mCTpLCx642SdWwDWVYliC35_qT41YEhU8YAKFfj=s64",
      "userId": "04581142099517383196"
     },
     "user_tz": 300
    },
    "id": "WgodzizRId5r",
    "outputId": "ab9b3878-025d-4b3f-9a72-bcf843c5e681"
   },
   "outputs": [
    {
     "data": {
      "image/png": "[encoded data removed]",
      "text/plain": [
       "<Figure size 432x288 with 1 Axes>"
      ]
     },
     "metadata": {
      "needs_background": "light"
     },
     "output_type": "display_data"
    }
   ],
   "source": [
    "import matplotlib.pyplot as plt\n",
    "\n",
    "plt.plot(mean_income_by_age, 'o', alpha=0.5)\n",
    "plt.xlabel('Age (years)')\n",
    "plt.ylabel('Income (1986 $)')\n",
    "plt.title('Average income, grouped by age');"
   ]
  },
  {
   "cell_type": "markdown",
   "metadata": {
    "colab_type": "text",
    "id": "7Cvm86fBId5u"
   },
   "source": [
    "Average income increases from age 20 to age 50, then starts to fall.  \n",
    "\n",
    "And that explains why the estimated slope is so small, because the relationship is non-linear.  Remember that correlation and single regression can't measure non-linear relationships.  \n",
    "\n",
    "But multiple regression can!  To describe a non-linear relationship, one option is to add a new variable that is a non-linear combination of other variables.\n",
    "\n",
    "As an example, I'll create a new variable called `age2` that equals `age` squared."
   ]
  },
  {
   "cell_type": "code",
   "execution_count": 34,
   "metadata": {
    "colab": {},
    "colab_type": "code",
    "id": "1CxEVw_GId5u"
   },
   "outputs": [],
   "source": [
    "gss['age2'] = gss['age']**2"
   ]
  },
  {
   "cell_type": "markdown",
   "metadata": {
    "colab_type": "text",
    "id": "dSSoxirzId5x"
   },
   "source": [
    "Now we can run a regression with both `age` and `age2` on the right side."
   ]
  },
  {
   "cell_type": "code",
   "execution_count": 35,
   "metadata": {
    "colab": {
     "base_uri": "https://localhost:8080/",
     "height": 104
    },
    "colab_type": "code",
    "executionInfo": {
     "elapsed": 347,
     "status": "ok",
     "timestamp": 1582777137511,
     "user": {
      "displayName": "Maeve Stites",
      "photoUrl": "https://lh3.googleusercontent.com/a-/AAuE7mCTpLCx642SdWwDWVYliC35_qT41YEhU8YAKFfj=s64",
      "userId": "04581142099517383196"
     },
     "user_tz": 300
    },
    "id": "x_oNB2j9Id5y",
    "outputId": "e6e4c774-d2b3-404c-cdac-b47097c2058b"
   },
   "outputs": [
    {
     "data": {
      "text/plain": [
       "Intercept   -48058.679679\n",
       "educ          3442.447178\n",
       "age           1748.232631\n",
       "age2           -17.437552\n",
       "dtype: float64"
      ]
     },
     "execution_count": 35,
     "metadata": {},
     "output_type": "execute_result"
    }
   ],
   "source": [
    "model = smf.ols('realinc ~ educ + age + age2', data=gss)\n",
    "results = model.fit()\n",
    "results.params"
   ]
  },
  {
   "cell_type": "markdown",
   "metadata": {
    "colab_type": "text",
    "id": "G4gWOC89Id51"
   },
   "source": [
    "The slope associated with age is substantial, about $1700 per year.  \n",
    "\n",
    "The slope associated with `age2` is about -$17, but that's harder to interpret.\n",
    "\n",
    "In the next section, we'll see methods to interpret multivariate models and visualize the results.  But first, let's practice multiple regression."
   ]
  },
  {
   "cell_type": "markdown",
   "metadata": {
    "colab_type": "text",
    "id": "haD9x14UId51"
   },
   "source": [
    "**Exercise:** To get a closer look at the relationship between income and education, let's use the variable `educ` to group the data, then plot mean income in each group.\n",
    "\n",
    "- Group `gss` by `educ`. Store the result in `grouped`.\n",
    "\n",
    "- From `grouped`, extract `realinc` and compute the mean.\n",
    "\n",
    "- Plot mean income in each education group as a scatter plot.\n",
    "\n",
    "What can you say about the relationship between education and income?  Does it look like a linear relationship?"
   ]
  },
  {
   "cell_type": "code",
   "execution_count": 36,
   "metadata": {
    "colab": {
     "base_uri": "https://localhost:8080/",
     "height": 312
    },
    "colab_type": "code",
    "executionInfo": {
     "elapsed": 506,
     "status": "ok",
     "timestamp": 1582777138290,
     "user": {
      "displayName": "Maeve Stites",
      "photoUrl": "https://lh3.googleusercontent.com/a-/AAuE7mCTpLCx642SdWwDWVYliC35_qT41YEhU8YAKFfj=s64",
      "userId": "04581142099517383196"
     },
     "user_tz": 300
    },
    "id": "AP-B5BnvId51",
    "outputId": "fa14b372-7e9a-42dd-cad8-f7c393adcef6"
   },
   "outputs": [
    {
     "data": {
      "text/plain": [
       "Text(0.5, 1.0, 'Average income, grouped by education')"
      ]
     },
     "execution_count": 36,
     "metadata": {},
     "output_type": "execute_result"
    },
    {
     "data": {
      "image/png": "[encoded data removed]",
      "text/plain": [
       "<Figure size 432x288 with 1 Axes>"
      ]
     },
     "metadata": {
      "needs_background": "light"
     },
     "output_type": "display_data"
    }
   ],
   "source": [
    "grouped = gss.groupby('educ')\n",
    "mean_income_by_educ = grouped['realinc'].mean()\n",
    "\n",
    "plt.plot(mean_income_by_educ, 'o', alpha=.5)\n",
    "plt.xlabel('Educ (years)')\n",
    "plt.ylabel('Income (1986 $)')\n",
    "plt.title('Average income, grouped by education')"
   ]
  },
  {
   "cell_type": "markdown",
   "metadata": {
    "colab_type": "text",
    "id": "UcL7u0PsId54"
   },
   "source": [
    "**Exercise:** The graph in the previous exercise suggests that the relationship between income and education is non-linear.  So let's try fitting a non-linear model.\n",
    "\n",
    "- Add a column named `educ2` to the `gss` DataFrame; it should contain the values from `educ` squared.  \n",
    "\n",
    "- Run a regression model that uses `educ`, `educ2`, `age`, and `age2` to predict `realinc`.\n"
   ]
  },
  {
   "cell_type": "code",
   "execution_count": 37,
   "metadata": {
    "colab": {
     "base_uri": "https://localhost:8080/",
     "height": 121
    },
    "colab_type": "code",
    "executionInfo": {
     "elapsed": 332,
     "status": "ok",
     "timestamp": 1582777164282,
     "user": {
      "displayName": "Maeve Stites",
      "photoUrl": "https://lh3.googleusercontent.com/a-/AAuE7mCTpLCx642SdWwDWVYliC35_qT41YEhU8YAKFfj=s64",
      "userId": "04581142099517383196"
     },
     "user_tz": 300
    },
    "id": "Z8qv2cF1Id55",
    "outputId": "8a465371-1ee8-4146-8286-47f29f4c0a2b"
   },
   "outputs": [
    {
     "data": {
      "text/plain": [
       "Intercept   -23241.884034\n",
       "educ          -528.309369\n",
       "educ2          159.966740\n",
       "age           1696.717149\n",
       "age2           -17.196984\n",
       "dtype: float64"
      ]
     },
     "execution_count": 37,
     "metadata": {},
     "output_type": "execute_result"
    }
   ],
   "source": [
    "gss['educ2'] = gss['educ']**2\n",
    "model = smf.ols('realinc ~ educ + educ2 + age + age2', data=gss)\n",
    "results = model.fit()\n",
    "results.params"
   ]
  },
  {
   "cell_type": "markdown",
   "metadata": {
    "colab_type": "text",
    "id": "MKQGqIdpId58"
   },
   "source": [
    "## Visualizing regression results\n",
    "\n",
    "In the previous section we ran a multiple regression model to characterize the relationships between income, age, and education.\n",
    "\n",
    "Because the model includes quadratic terms, the parameters are hard to interpret. For example, you might notice that the parameter for `educ` is negative, and that might be a surprise, because it suggests that higher education is associated with lower income.\n",
    "\n",
    "But the parameter for `educ2` is positive, and that makes a big difference.  In this section we'll see a way to interpret the model visually and validate it against data.\n",
    "\n",
    "Here's the model from the previous exercise."
   ]
  },
  {
   "cell_type": "code",
   "execution_count": 38,
   "metadata": {
    "colab": {
     "base_uri": "https://localhost:8080/",
     "height": 121
    },
    "colab_type": "code",
    "executionInfo": {
     "elapsed": 477,
     "status": "ok",
     "timestamp": 1582777166816,
     "user": {
      "displayName": "Maeve Stites",
      "photoUrl": "https://lh3.googleusercontent.com/a-/AAuE7mCTpLCx642SdWwDWVYliC35_qT41YEhU8YAKFfj=s64",
      "userId": "04581142099517383196"
     },
     "user_tz": 300
    },
    "id": "bWdKnG-OId59",
    "outputId": "07cfbe40-a887-4355-c12a-35241807bf9a"
   },
   "outputs": [
    {
     "data": {
      "text/plain": [
       "Intercept   -23241.884034\n",
       "educ          -528.309369\n",
       "educ2          159.966740\n",
       "age           1696.717149\n",
       "age2           -17.196984\n",
       "dtype: float64"
      ]
     },
     "execution_count": 38,
     "metadata": {},
     "output_type": "execute_result"
    }
   ],
   "source": [
    "gss['age2'] = gss['age']**2\n",
    "gss['educ2'] = gss['educ']**2\n",
    "\n",
    "model = smf.ols('realinc ~ educ + educ2 + age + age2', data=gss)\n",
    "results = model.fit()\n",
    "results.params"
   ]
  },
  {
   "cell_type": "markdown",
   "metadata": {
    "colab_type": "text",
    "id": "p4SaihacId6A"
   },
   "source": [
    "Sometimes we can understand a model by looking at its parameters, but often it is better to look at its predictions.\n",
    "\n",
    "The regression results provide a method called `predict()` that uses the model to generate predictions.\n",
    "\n",
    "It takes a DataFrame as a parameter and returns a Series with a prediction for each row in the DataFrame.\n",
    "\n",
    "To use it, I'll create a new DataFrame with `age` running from 18 to 89, and `age2` set to `age` squared."
   ]
  },
  {
   "cell_type": "code",
   "execution_count": 39,
   "metadata": {
    "colab": {},
    "colab_type": "code",
    "id": "CwOUYsEvId6B"
   },
   "outputs": [],
   "source": [
    "import numpy as np\n",
    "\n",
    "df = pd.DataFrame()\n",
    "df['age'] = np.linspace(18, 89)\n",
    "df['age2'] = df['age']**2"
   ]
  },
  {
   "cell_type": "markdown",
   "metadata": {
    "colab_type": "text",
    "id": "sokPeMSKId6D"
   },
   "source": [
    "Next, I'll pick a level for `educ`, like 12 years, which is the most common value.  When you assign a single value to a column in a DataFrame, Pandas makes a copy for each respondent."
   ]
  },
  {
   "cell_type": "code",
   "execution_count": 40,
   "metadata": {
    "colab": {},
    "colab_type": "code",
    "id": "7uKEgzVVId6E"
   },
   "outputs": [],
   "source": [
    "df['educ'] = 12\n",
    "df['educ2'] = df['educ']**2"
   ]
  },
  {
   "cell_type": "markdown",
   "metadata": {
    "colab_type": "text",
    "id": "0O6rdl8bId6G"
   },
   "source": [
    "Then we can use `results` to predict the average income for each age group, holding education constant."
   ]
  },
  {
   "cell_type": "code",
   "execution_count": 41,
   "metadata": {
    "colab": {},
    "colab_type": "code",
    "id": "h-EBJMy_Id6I"
   },
   "outputs": [],
   "source": [
    "pred12 = results.predict(df)"
   ]
  },
  {
   "cell_type": "markdown",
   "metadata": {
    "colab_type": "text",
    "id": "stzGKSlgId6J"
   },
   "source": [
    "The result from `predict()` is a Series with one prediction for each row.  So we can plot it with age on the `x` axis and the predicted income for each age group on the `y` axis.\n",
    "\n",
    "And we can plot the data for comparison."
   ]
  },
  {
   "cell_type": "code",
   "execution_count": 42,
   "metadata": {
    "colab": {
     "base_uri": "https://localhost:8080/",
     "height": 295
    },
    "colab_type": "code",
    "executionInfo": {
     "elapsed": 492,
     "status": "ok",
     "timestamp": 1582777169683,
     "user": {
      "displayName": "Maeve Stites",
      "photoUrl": "https://lh3.googleusercontent.com/a-/AAuE7mCTpLCx642SdWwDWVYliC35_qT41YEhU8YAKFfj=s64",
      "userId": "04581142099517383196"
     },
     "user_tz": 300
    },
    "id": "PJQyTv7SId6K",
    "outputId": "cf18c083-1e89-4634-fe66-378fedd19306"
   },
   "outputs": [
    {
     "data": {
      "image/png": "[encoded data removed]",
      "text/plain": [
       "<Figure size 432x288 with 1 Axes>"
      ]
     },
     "metadata": {
      "needs_background": "light"
     },
     "output_type": "display_data"
    }
   ],
   "source": [
    "plt.plot(mean_income_by_age, 'o', alpha=0.5)\n",
    "\n",
    "plt.plot(df['age'], pred12, label='High school', color='C4')\n",
    "\n",
    "plt.xlabel('Age (years)')\n",
    "plt.ylabel('Income (1986 $)')\n",
    "plt.title('Income versus age, grouped by education level')\n",
    "plt.legend();"
   ]
  },
  {
   "cell_type": "markdown",
   "metadata": {
    "colab_type": "text",
    "id": "SA2AN1S3Id6N"
   },
   "source": [
    "The blue dots show the average income in each age group.\n",
    "\n",
    "The orange line shows the predictions generated by the model, holding education constant.\n",
    "\n",
    "This plot shows the shape of the model, a downward-facing parabola.\n",
    "\n",
    "We can do the same thing with other levels of education, like 14 years, which is the nominal time to each an Associate's degree, and 16 years, which is the nominal time to earn a Bachelor's degree."
   ]
  },
  {
   "cell_type": "code",
   "execution_count": 43,
   "metadata": {
    "colab": {
     "base_uri": "https://localhost:8080/",
     "height": 295
    },
    "colab_type": "code",
    "executionInfo": {
     "elapsed": 567,
     "status": "ok",
     "timestamp": 1582777170574,
     "user": {
      "displayName": "Maeve Stites",
      "photoUrl": "https://lh3.googleusercontent.com/a-/AAuE7mCTpLCx642SdWwDWVYliC35_qT41YEhU8YAKFfj=s64",
      "userId": "04581142099517383196"
     },
     "user_tz": 300
    },
    "id": "UfqJsPgkId6N",
    "outputId": "4b707eb6-0c8f-4267-cfec-d96aed97a830"
   },
   "outputs": [
    {
     "data": {
      "image/png": "[encoded data removed]",
      "text/plain": [
       "<Figure size 432x288 with 1 Axes>"
      ]
     },
     "metadata": {
      "needs_background": "light"
     },
     "output_type": "display_data"
    }
   ],
   "source": [
    "plt.plot(mean_income_by_age, 'o', alpha=0.5)\n",
    "\n",
    "df['educ'] = 16\n",
    "df['educ2'] = df['educ']**2\n",
    "pred16 = results.predict(df)\n",
    "plt.plot(df['age'], pred16, label='Bachelor')\n",
    "\n",
    "df['educ'] = 14\n",
    "df['educ2'] = df['educ']**2\n",
    "pred14 = results.predict(df)\n",
    "plt.plot(df['age'], pred14, label='Associate')\n",
    "\n",
    "plt.plot(df['age'], pred12, label='High school', color='C4')\n",
    "\n",
    "plt.xlabel('Age (years)')\n",
    "plt.ylabel('Income (1986 $)')\n",
    "plt.title('Income versus age, grouped by education level')\n",
    "plt.legend();"
   ]
  },
  {
   "cell_type": "markdown",
   "metadata": {
    "colab_type": "text",
    "id": "okHrCfD7Id6P"
   },
   "source": [
    "The lines show mean income, as predicted by the model, as a function of age, for three levels of education.\n",
    "\n",
    "This visualization helps validate the model, since we can compare the predictions with the data.  And it helps us interpret the model since we can see the separate contributions of age and education.\n",
    "\n",
    "In the exercises, you'll have a chance to run a multiple regression, generate predictions, and visualize the results."
   ]
  },
  {
   "cell_type": "markdown",
   "metadata": {
    "colab_type": "text",
    "id": "Yb70Sp84Id6Q"
   },
   "source": [
    "**Exercise:** At this point, we have a model that predicts income using age, education, and sex.\n",
    "\n",
    "Let's see what it predicts for different levels of education, holding `age` constant.\n",
    "\n",
    "- Create an empty DataFrame named `df`.\n",
    "\n",
    "- Using `np.linspace()`, add a variable named `educ` to `df` with a range of values from `0` to `20`.\n",
    "\n",
    "- Add a variable named `age` with the constant value `30`.\n",
    "\n",
    "- Use `df` to generate predicted income as a function of education."
   ]
  },
  {
   "cell_type": "code",
   "execution_count": 44,
   "metadata": {
    "colab": {},
    "colab_type": "code",
    "id": "msnY0VA1Id6Q"
   },
   "outputs": [],
   "source": [
    "df = pd.DataFrame()\n",
    "df['educ'] = np.linspace(0, 20)\n",
    "df['age'] = 30\n",
    "df['age2'] = df['age']**2\n",
    "df['educ2'] = df['educ']**2\n",
    "pred = results.predict(df)"
   ]
  },
  {
   "cell_type": "code",
   "execution_count": 46,
   "metadata": {},
   "outputs": [
    {
     "data": {
      "text/html": [
       "<div>\n",
       "<style scoped>\n",
       "    .dataframe tbody tr th:only-of-type {\n",
       "        vertical-align: middle;\n",
       "    }\n",
       "\n",
       "    .dataframe tbody tr th {\n",
       "        vertical-align: top;\n",
       "    }\n",
       "\n",
       "    .dataframe thead th {\n",
       "        text-align: right;\n",
       "    }\n",
       "</style>\n",
       "<table border=\"1\" class=\"dataframe\">\n",
       "  <thead>\n",
       "    <tr style=\"text-align: right;\">\n",
       "      <th></th>\n",
       "      <th>educ</th>\n",
       "      <th>age</th>\n",
       "      <th>age2</th>\n",
       "      <th>educ2</th>\n",
       "    </tr>\n",
       "  </thead>\n",
       "  <tbody>\n",
       "    <tr>\n",
       "      <th>0</th>\n",
       "      <td>0.000000</td>\n",
       "      <td>30</td>\n",
       "      <td>900</td>\n",
       "      <td>0.000000</td>\n",
       "    </tr>\n",
       "    <tr>\n",
       "      <th>1</th>\n",
       "      <td>0.408163</td>\n",
       "      <td>30</td>\n",
       "      <td>900</td>\n",
       "      <td>0.166597</td>\n",
       "    </tr>\n",
       "    <tr>\n",
       "      <th>2</th>\n",
       "      <td>0.816327</td>\n",
       "      <td>30</td>\n",
       "      <td>900</td>\n",
       "      <td>0.666389</td>\n",
       "    </tr>\n",
       "    <tr>\n",
       "      <th>3</th>\n",
       "      <td>1.224490</td>\n",
       "      <td>30</td>\n",
       "      <td>900</td>\n",
       "      <td>1.499375</td>\n",
       "    </tr>\n",
       "    <tr>\n",
       "      <th>4</th>\n",
       "      <td>1.632653</td>\n",
       "      <td>30</td>\n",
       "      <td>900</td>\n",
       "      <td>2.665556</td>\n",
       "    </tr>\n",
       "    <tr>\n",
       "      <th>5</th>\n",
       "      <td>2.040816</td>\n",
       "      <td>30</td>\n",
       "      <td>900</td>\n",
       "      <td>4.164931</td>\n",
       "    </tr>\n",
       "    <tr>\n",
       "      <th>6</th>\n",
       "      <td>2.448980</td>\n",
       "      <td>30</td>\n",
       "      <td>900</td>\n",
       "      <td>5.997501</td>\n",
       "    </tr>\n",
       "    <tr>\n",
       "      <th>7</th>\n",
       "      <td>2.857143</td>\n",
       "      <td>30</td>\n",
       "      <td>900</td>\n",
       "      <td>8.163265</td>\n",
       "    </tr>\n",
       "    <tr>\n",
       "      <th>8</th>\n",
       "      <td>3.265306</td>\n",
       "      <td>30</td>\n",
       "      <td>900</td>\n",
       "      <td>10.662224</td>\n",
       "    </tr>\n",
       "    <tr>\n",
       "      <th>9</th>\n",
       "      <td>3.673469</td>\n",
       "      <td>30</td>\n",
       "      <td>900</td>\n",
       "      <td>13.494377</td>\n",
       "    </tr>\n",
       "    <tr>\n",
       "      <th>10</th>\n",
       "      <td>4.081633</td>\n",
       "      <td>30</td>\n",
       "      <td>900</td>\n",
       "      <td>16.659725</td>\n",
       "    </tr>\n",
       "    <tr>\n",
       "      <th>11</th>\n",
       "      <td>4.489796</td>\n",
       "      <td>30</td>\n",
       "      <td>900</td>\n",
       "      <td>20.158267</td>\n",
       "    </tr>\n",
       "    <tr>\n",
       "      <th>12</th>\n",
       "      <td>4.897959</td>\n",
       "      <td>30</td>\n",
       "      <td>900</td>\n",
       "      <td>23.990004</td>\n",
       "    </tr>\n",
       "    <tr>\n",
       "      <th>13</th>\n",
       "      <td>5.306122</td>\n",
       "      <td>30</td>\n",
       "      <td>900</td>\n",
       "      <td>28.154935</td>\n",
       "    </tr>\n",
       "    <tr>\n",
       "      <th>14</th>\n",
       "      <td>5.714286</td>\n",
       "      <td>30</td>\n",
       "      <td>900</td>\n",
       "      <td>32.653061</td>\n",
       "    </tr>\n",
       "    <tr>\n",
       "      <th>15</th>\n",
       "      <td>6.122449</td>\n",
       "      <td>30</td>\n",
       "      <td>900</td>\n",
       "      <td>37.484382</td>\n",
       "    </tr>\n",
       "    <tr>\n",
       "      <th>16</th>\n",
       "      <td>6.530612</td>\n",
       "      <td>30</td>\n",
       "      <td>900</td>\n",
       "      <td>42.648896</td>\n",
       "    </tr>\n",
       "    <tr>\n",
       "      <th>17</th>\n",
       "      <td>6.938776</td>\n",
       "      <td>30</td>\n",
       "      <td>900</td>\n",
       "      <td>48.146606</td>\n",
       "    </tr>\n",
       "    <tr>\n",
       "      <th>18</th>\n",
       "      <td>7.346939</td>\n",
       "      <td>30</td>\n",
       "      <td>900</td>\n",
       "      <td>53.977509</td>\n",
       "    </tr>\n",
       "    <tr>\n",
       "      <th>19</th>\n",
       "      <td>7.755102</td>\n",
       "      <td>30</td>\n",
       "      <td>900</td>\n",
       "      <td>60.141608</td>\n",
       "    </tr>\n",
       "    <tr>\n",
       "      <th>20</th>\n",
       "      <td>8.163265</td>\n",
       "      <td>30</td>\n",
       "      <td>900</td>\n",
       "      <td>66.638900</td>\n",
       "    </tr>\n",
       "    <tr>\n",
       "      <th>21</th>\n",
       "      <td>8.571429</td>\n",
       "      <td>30</td>\n",
       "      <td>900</td>\n",
       "      <td>73.469388</td>\n",
       "    </tr>\n",
       "    <tr>\n",
       "      <th>22</th>\n",
       "      <td>8.979592</td>\n",
       "      <td>30</td>\n",
       "      <td>900</td>\n",
       "      <td>80.633070</td>\n",
       "    </tr>\n",
       "    <tr>\n",
       "      <th>23</th>\n",
       "      <td>9.387755</td>\n",
       "      <td>30</td>\n",
       "      <td>900</td>\n",
       "      <td>88.129946</td>\n",
       "    </tr>\n",
       "    <tr>\n",
       "      <th>24</th>\n",
       "      <td>9.795918</td>\n",
       "      <td>30</td>\n",
       "      <td>900</td>\n",
       "      <td>95.960017</td>\n",
       "    </tr>\n",
       "    <tr>\n",
       "      <th>25</th>\n",
       "      <td>10.204082</td>\n",
       "      <td>30</td>\n",
       "      <td>900</td>\n",
       "      <td>104.123282</td>\n",
       "    </tr>\n",
       "    <tr>\n",
       "      <th>26</th>\n",
       "      <td>10.612245</td>\n",
       "      <td>30</td>\n",
       "      <td>900</td>\n",
       "      <td>112.619742</td>\n",
       "    </tr>\n",
       "    <tr>\n",
       "      <th>27</th>\n",
       "      <td>11.020408</td>\n",
       "      <td>30</td>\n",
       "      <td>900</td>\n",
       "      <td>121.449396</td>\n",
       "    </tr>\n",
       "    <tr>\n",
       "      <th>28</th>\n",
       "      <td>11.428571</td>\n",
       "      <td>30</td>\n",
       "      <td>900</td>\n",
       "      <td>130.612245</td>\n",
       "    </tr>\n",
       "    <tr>\n",
       "      <th>29</th>\n",
       "      <td>11.836735</td>\n",
       "      <td>30</td>\n",
       "      <td>900</td>\n",
       "      <td>140.108288</td>\n",
       "    </tr>\n",
       "    <tr>\n",
       "      <th>30</th>\n",
       "      <td>12.244898</td>\n",
       "      <td>30</td>\n",
       "      <td>900</td>\n",
       "      <td>149.937526</td>\n",
       "    </tr>\n",
       "    <tr>\n",
       "      <th>31</th>\n",
       "      <td>12.653061</td>\n",
       "      <td>30</td>\n",
       "      <td>900</td>\n",
       "      <td>160.099958</td>\n",
       "    </tr>\n",
       "    <tr>\n",
       "      <th>32</th>\n",
       "      <td>13.061224</td>\n",
       "      <td>30</td>\n",
       "      <td>900</td>\n",
       "      <td>170.595585</td>\n",
       "    </tr>\n",
       "    <tr>\n",
       "      <th>33</th>\n",
       "      <td>13.469388</td>\n",
       "      <td>30</td>\n",
       "      <td>900</td>\n",
       "      <td>181.424406</td>\n",
       "    </tr>\n",
       "    <tr>\n",
       "      <th>34</th>\n",
       "      <td>13.877551</td>\n",
       "      <td>30</td>\n",
       "      <td>900</td>\n",
       "      <td>192.586422</td>\n",
       "    </tr>\n",
       "    <tr>\n",
       "      <th>35</th>\n",
       "      <td>14.285714</td>\n",
       "      <td>30</td>\n",
       "      <td>900</td>\n",
       "      <td>204.081633</td>\n",
       "    </tr>\n",
       "    <tr>\n",
       "      <th>36</th>\n",
       "      <td>14.693878</td>\n",
       "      <td>30</td>\n",
       "      <td>900</td>\n",
       "      <td>215.910037</td>\n",
       "    </tr>\n",
       "    <tr>\n",
       "      <th>37</th>\n",
       "      <td>15.102041</td>\n",
       "      <td>30</td>\n",
       "      <td>900</td>\n",
       "      <td>228.071637</td>\n",
       "    </tr>\n",
       "    <tr>\n",
       "      <th>38</th>\n",
       "      <td>15.510204</td>\n",
       "      <td>30</td>\n",
       "      <td>900</td>\n",
       "      <td>240.566431</td>\n",
       "    </tr>\n",
       "    <tr>\n",
       "      <th>39</th>\n",
       "      <td>15.918367</td>\n",
       "      <td>30</td>\n",
       "      <td>900</td>\n",
       "      <td>253.394419</td>\n",
       "    </tr>\n",
       "    <tr>\n",
       "      <th>40</th>\n",
       "      <td>16.326531</td>\n",
       "      <td>30</td>\n",
       "      <td>900</td>\n",
       "      <td>266.555602</td>\n",
       "    </tr>\n",
       "    <tr>\n",
       "      <th>41</th>\n",
       "      <td>16.734694</td>\n",
       "      <td>30</td>\n",
       "      <td>900</td>\n",
       "      <td>280.049979</td>\n",
       "    </tr>\n",
       "    <tr>\n",
       "      <th>42</th>\n",
       "      <td>17.142857</td>\n",
       "      <td>30</td>\n",
       "      <td>900</td>\n",
       "      <td>293.877551</td>\n",
       "    </tr>\n",
       "    <tr>\n",
       "      <th>43</th>\n",
       "      <td>17.551020</td>\n",
       "      <td>30</td>\n",
       "      <td>900</td>\n",
       "      <td>308.038317</td>\n",
       "    </tr>\n",
       "    <tr>\n",
       "      <th>44</th>\n",
       "      <td>17.959184</td>\n",
       "      <td>30</td>\n",
       "      <td>900</td>\n",
       "      <td>322.532278</td>\n",
       "    </tr>\n",
       "    <tr>\n",
       "      <th>45</th>\n",
       "      <td>18.367347</td>\n",
       "      <td>30</td>\n",
       "      <td>900</td>\n",
       "      <td>337.359434</td>\n",
       "    </tr>\n",
       "    <tr>\n",
       "      <th>46</th>\n",
       "      <td>18.775510</td>\n",
       "      <td>30</td>\n",
       "      <td>900</td>\n",
       "      <td>352.519783</td>\n",
       "    </tr>\n",
       "    <tr>\n",
       "      <th>47</th>\n",
       "      <td>19.183673</td>\n",
       "      <td>30</td>\n",
       "      <td>900</td>\n",
       "      <td>368.013328</td>\n",
       "    </tr>\n",
       "    <tr>\n",
       "      <th>48</th>\n",
       "      <td>19.591837</td>\n",
       "      <td>30</td>\n",
       "      <td>900</td>\n",
       "      <td>383.840067</td>\n",
       "    </tr>\n",
       "    <tr>\n",
       "      <th>49</th>\n",
       "      <td>20.000000</td>\n",
       "      <td>30</td>\n",
       "      <td>900</td>\n",
       "      <td>400.000000</td>\n",
       "    </tr>\n",
       "  </tbody>\n",
       "</table>\n",
       "</div>"
      ],
      "text/plain": [
       "         educ  age  age2       educ2\n",
       "0    0.000000   30   900    0.000000\n",
       "1    0.408163   30   900    0.166597\n",
       "2    0.816327   30   900    0.666389\n",
       "3    1.224490   30   900    1.499375\n",
       "4    1.632653   30   900    2.665556\n",
       "5    2.040816   30   900    4.164931\n",
       "6    2.448980   30   900    5.997501\n",
       "7    2.857143   30   900    8.163265\n",
       "8    3.265306   30   900   10.662224\n",
       "9    3.673469   30   900   13.494377\n",
       "10   4.081633   30   900   16.659725\n",
       "11   4.489796   30   900   20.158267\n",
       "12   4.897959   30   900   23.990004\n",
       "13   5.306122   30   900   28.154935\n",
       "14   5.714286   30   900   32.653061\n",
       "15   6.122449   30   900   37.484382\n",
       "16   6.530612   30   900   42.648896\n",
       "17   6.938776   30   900   48.146606\n",
       "18   7.346939   30   900   53.977509\n",
       "19   7.755102   30   900   60.141608\n",
       "20   8.163265   30   900   66.638900\n",
       "21   8.571429   30   900   73.469388\n",
       "22   8.979592   30   900   80.633070\n",
       "23   9.387755   30   900   88.129946\n",
       "24   9.795918   30   900   95.960017\n",
       "25  10.204082   30   900  104.123282\n",
       "26  10.612245   30   900  112.619742\n",
       "27  11.020408   30   900  121.449396\n",
       "28  11.428571   30   900  130.612245\n",
       "29  11.836735   30   900  140.108288\n",
       "30  12.244898   30   900  149.937526\n",
       "31  12.653061   30   900  160.099958\n",
       "32  13.061224   30   900  170.595585\n",
       "33  13.469388   30   900  181.424406\n",
       "34  13.877551   30   900  192.586422\n",
       "35  14.285714   30   900  204.081633\n",
       "36  14.693878   30   900  215.910037\n",
       "37  15.102041   30   900  228.071637\n",
       "38  15.510204   30   900  240.566431\n",
       "39  15.918367   30   900  253.394419\n",
       "40  16.326531   30   900  266.555602\n",
       "41  16.734694   30   900  280.049979\n",
       "42  17.142857   30   900  293.877551\n",
       "43  17.551020   30   900  308.038317\n",
       "44  17.959184   30   900  322.532278\n",
       "45  18.367347   30   900  337.359434\n",
       "46  18.775510   30   900  352.519783\n",
       "47  19.183673   30   900  368.013328\n",
       "48  19.591837   30   900  383.840067\n",
       "49  20.000000   30   900  400.000000"
      ]
     },
     "execution_count": 46,
     "metadata": {},
     "output_type": "execute_result"
    }
   ],
   "source": [
    "df"
   ]
  },
  {
   "cell_type": "code",
   "execution_count": 45,
   "metadata": {
    "colab": {
     "base_uri": "https://localhost:8080/",
     "height": 903
    },
    "colab_type": "code",
    "executionInfo": {
     "elapsed": 307,
     "status": "ok",
     "timestamp": 1582777303230,
     "user": {
      "displayName": "Maeve Stites",
      "photoUrl": "https://lh3.googleusercontent.com/a-/AAuE7mCTpLCx642SdWwDWVYliC35_qT41YEhU8YAKFfj=s64",
      "userId": "04581142099517383196"
     },
     "user_tz": 300
    },
    "id": "og6HTyk7Id6S",
    "outputId": "287797dd-2be2-4e96-e2df-0e8644ab80e4"
   },
   "outputs": [
    {
     "data": {
      "text/plain": [
       "0     12182.344976\n",
       "1     11993.358518\n",
       "2     11857.672098\n",
       "3     11775.285717\n",
       "4     11746.199374\n",
       "5     11770.413069\n",
       "6     11847.926802\n",
       "7     11978.740574\n",
       "8     12162.854384\n",
       "9     12400.268232\n",
       "10    12690.982118\n",
       "11    13034.996043\n",
       "12    13432.310006\n",
       "13    13882.924007\n",
       "14    14386.838046\n",
       "15    14944.052124\n",
       "16    15554.566240\n",
       "17    16218.380394\n",
       "18    16935.494586\n",
       "19    17705.908817\n",
       "20    18529.623086\n",
       "21    19406.637393\n",
       "22    20336.951738\n",
       "23    21320.566122\n",
       "24    22357.480544\n",
       "25    23447.695004\n",
       "26    24591.209502\n",
       "27    25788.024039\n",
       "28    27038.138614\n",
       "29    28341.553227\n",
       "30    29698.267878\n",
       "31    31108.282568\n",
       "32    32571.597295\n",
       "33    34088.212062\n",
       "34    35658.126866\n",
       "35    37281.341709\n",
       "36    38957.856589\n",
       "37    40687.671509\n",
       "38    42470.786466\n",
       "39    44307.201462\n",
       "40    46196.916495\n",
       "41    48139.931567\n",
       "42    50136.246678\n",
       "43    52185.861826\n",
       "44    54288.777013\n",
       "45    56444.992238\n",
       "46    58654.507502\n",
       "47    60917.322803\n",
       "48    63233.438143\n",
       "49    65602.853521\n",
       "dtype: float64"
      ]
     },
     "execution_count": 45,
     "metadata": {},
     "output_type": "execute_result"
    }
   ],
   "source": [
    "pred"
   ]
  },
  {
   "cell_type": "markdown",
   "metadata": {
    "colab_type": "text",
    "id": "D7jhmD2nId6U"
   },
   "source": [
    "**Exercise:** Now let's visualize the results from the previous exercise!\n",
    "\n",
    "- Group the GSS data by `educ` and compute the mean income in each education group.\n",
    "\n",
    "- Plot mean income for each education group as a scatter plot.\n",
    "\n",
    "- Plot the predictions from the previous exercise.\n",
    "\n",
    "How do the predictions compare with the data?"
   ]
  },
  {
   "cell_type": "code",
   "execution_count": 50,
   "metadata": {
    "colab": {
     "base_uri": "https://localhost:8080/",
     "height": 295
    },
    "colab_type": "code",
    "executionInfo": {
     "elapsed": 498,
     "status": "ok",
     "timestamp": 1582777360823,
     "user": {
      "displayName": "Maeve Stites",
      "photoUrl": "https://lh3.googleusercontent.com/a-/AAuE7mCTpLCx642SdWwDWVYliC35_qT41YEhU8YAKFfj=s64",
      "userId": "04581142099517383196"
     },
     "user_tz": 300
    },
    "id": "_zJiO7QxId6V",
    "outputId": "fad47cda-96f2-4ba2-cdcf-b0be66cbe977"
   },
   "outputs": [
    {
     "data": {
      "image/png": "[encoded data removed]",
      "text/plain": [
       "<Figure size 432x288 with 1 Axes>"
      ]
     },
     "metadata": {
      "tags": []
     },
     "output_type": "display_data"
    }
   ],
   "source": [
    "plt.plot(mean_income_by_educt, 'o', alpha=0.5)\n",
    "\n",
    "plt.plot(df['educ'], pred, label='High school', color='C4')\n",
    "\n",
    "plt.xlabel('Age (years)')\n",
    "plt.ylabel('Income (1986 $)')\n",
    "plt.title('Income versus age, grouped by education level')\n",
    "plt.legend();"
   ]
  },
  {
   "cell_type": "markdown",
   "metadata": {
    "colab_type": "text",
    "id": "CqjNkLLd4hso"
   },
   "source": [
    "The predictions align very well with the data. With almost all the points on the line or right next to it."
   ]
  },
  {
   "cell_type": "markdown",
   "metadata": {
    "colab_type": "text",
    "id": "Y6m0rK7uId6X"
   },
   "source": [
    "**Optional Exercise:** Extend the previous exercise to include predictions for a few other age levels. "
   ]
  },
  {
   "cell_type": "markdown",
   "metadata": {
    "colab_type": "text",
    "id": "bWuXa8t4Id6X"
   },
   "source": [
    "## Logistic regression\n",
    "\n",
    "At last we have come to one of my favorite topics, logistic regression.\n",
    "\n",
    "To understand logistic regression, we have to start with categorical variables.\n",
    "\n",
    "Most of the variables we have used so far --- like income, age, and education --- are numerical.\n",
    "\n",
    "But variables like sex and race are categorical; that is, each respondent belongs to one of a specified set of categories.\n",
    "\n",
    "With StatsModels, it is easy to include a categorical variable as part of a regression model.\n",
    "\n",
    "Here's how.  In the formula string, the letter C indicates that `sex` is a categorical variable."
   ]
  },
  {
   "cell_type": "code",
   "execution_count": 51,
   "metadata": {
    "colab": {
     "base_uri": "https://localhost:8080/",
     "height": 139
    },
    "colab_type": "code",
    "executionInfo": {
     "elapsed": 664,
     "status": "ok",
     "timestamp": 1582777442122,
     "user": {
      "displayName": "Maeve Stites",
      "photoUrl": "https://lh3.googleusercontent.com/a-/AAuE7mCTpLCx642SdWwDWVYliC35_qT41YEhU8YAKFfj=s64",
      "userId": "04581142099517383196"
     },
     "user_tz": 300
    },
    "id": "v5sZ9-3TId6Y",
    "outputId": "191ab18b-186a-4058-bf40-6a970d5c6c58"
   },
   "outputs": [
    {
     "data": {
      "text/plain": [
       "Intercept     -22369.453641\n",
       "C(sex)[T.2]    -4156.113865\n",
       "educ            -310.247419\n",
       "educ2            150.514091\n",
       "age             1703.047502\n",
       "age2             -17.238711\n",
       "dtype: float64"
      ]
     },
     "execution_count": 51,
     "metadata": {
      "tags": []
     },
     "output_type": "execute_result"
    }
   ],
   "source": [
    "formula = 'realinc ~ educ + educ2 + age + age2 + C(sex)'\n",
    "results = smf.ols(formula, data=gss).fit()\n",
    "results.params"
   ]
  },
  {
   "cell_type": "markdown",
   "metadata": {
    "colab_type": "text",
    "id": "sgFGmaOnId6b"
   },
   "source": [
    "The regression treats the value `sex=1`, which is male, as the default, and reports the difference associated with the value `sex=2`, which is female.\n",
    "\n",
    "So this result indicates that income for women is about $4100 less than for men, after controlling for age and education.\n",
    "\n",
    "If a categorical variable has only two values, it's called a boolean variable.  For example, one of the questions in the General Social Survey asks \"Would you favor or oppose a law which would require a person to obtain a police permit before he or she could buy a gun?\"\n",
    "\n",
    "The column is called `gunlaw`, and here are the values.  '1' means yes and `2` means no, so most respondents are in favor.\n",
    "\n",
    "To explore the relationship between this variable and factors like age, sex, and education, we can use logistic regression.\n",
    "\n",
    "StatsModels provides logistic regression, but to use it, we have to recode the variable so `1` means `yes` and 0 means no.  We can do that by replacing `2` with `0`."
   ]
  },
  {
   "cell_type": "code",
   "execution_count": 52,
   "metadata": {
    "colab": {
     "base_uri": "https://localhost:8080/",
     "height": 69
    },
    "colab_type": "code",
    "executionInfo": {
     "elapsed": 349,
     "status": "ok",
     "timestamp": 1582777502288,
     "user": {
      "displayName": "Maeve Stites",
      "photoUrl": "https://lh3.googleusercontent.com/a-/AAuE7mCTpLCx642SdWwDWVYliC35_qT41YEhU8YAKFfj=s64",
      "userId": "04581142099517383196"
     },
     "user_tz": 300
    },
    "id": "2aYXREaAId6c",
    "outputId": "bf66852c-b840-4b1c-c60d-bdfb96f98fb7"
   },
   "outputs": [
    {
     "data": {
      "text/plain": [
       "1.0    30918\n",
       "2.0     9632\n",
       "Name: gunlaw, dtype: int64"
      ]
     },
     "execution_count": 52,
     "metadata": {
      "tags": []
     },
     "output_type": "execute_result"
    }
   ],
   "source": [
    "gss['gunlaw'].value_counts()"
   ]
  },
  {
   "cell_type": "code",
   "execution_count": null,
   "metadata": {
    "colab": {},
    "colab_type": "code",
    "id": "7NSc0gepId6o"
   },
   "outputs": [],
   "source": [
    "gss['gunlaw'].replace([2], [0], inplace=True)"
   ]
  },
  {
   "cell_type": "markdown",
   "metadata": {
    "colab_type": "text",
    "id": "SHwgYDpqId6s"
   },
   "source": [
    "The keyword argument `inplace=True` means that this function modifies the `gunlaw` column \"in place\"; that is, it modifies the column in the DataFrame rather than making a new Series.\n",
    "\n",
    "And we can check the results."
   ]
  },
  {
   "cell_type": "code",
   "execution_count": 54,
   "metadata": {
    "colab": {
     "base_uri": "https://localhost:8080/",
     "height": 69
    },
    "colab_type": "code",
    "executionInfo": {
     "elapsed": 351,
     "status": "ok",
     "timestamp": 1582777536176,
     "user": {
      "displayName": "Maeve Stites",
      "photoUrl": "https://lh3.googleusercontent.com/a-/AAuE7mCTpLCx642SdWwDWVYliC35_qT41YEhU8YAKFfj=s64",
      "userId": "04581142099517383196"
     },
     "user_tz": 300
    },
    "id": "zD9Tg5MPId6s",
    "outputId": "c870e2ed-039e-4c0a-ab27-e80d1ccd053e"
   },
   "outputs": [
    {
     "data": {
      "text/plain": [
       "1.0    30918\n",
       "0.0     9632\n",
       "Name: gunlaw, dtype: int64"
      ]
     },
     "execution_count": 54,
     "metadata": {
      "tags": []
     },
     "output_type": "execute_result"
    }
   ],
   "source": [
    "gss['gunlaw'].value_counts()"
   ]
  },
  {
   "cell_type": "markdown",
   "metadata": {
    "colab_type": "text",
    "id": "8eqFEoeEId6v"
   },
   "source": [
    "Now we can run the regression.  Instead of `ols()`, we use `logit()`, which is named for the logit function, which is related to logistic regression."
   ]
  },
  {
   "cell_type": "code",
   "execution_count": 1,
   "metadata": {
    "colab": {
     "base_uri": "https://localhost:8080/",
     "height": 69
    },
    "colab_type": "code",
    "executionInfo": {
     "elapsed": 817,
     "status": "ok",
     "timestamp": 1582777539761,
     "user": {
      "displayName": "Maeve Stites",
      "photoUrl": "https://lh3.googleusercontent.com/a-/AAuE7mCTpLCx642SdWwDWVYliC35_qT41YEhU8YAKFfj=s64",
      "userId": "04581142099517383196"
     },
     "user_tz": 300
    },
    "id": "mMFbdwImId6w",
    "outputId": "af89202f-75eb-44c3-d16d-3d5b14263fee"
   },
   "outputs": [
    {
     "ename": "NameError",
     "evalue": "name 'smf' is not defined",
     "output_type": "error",
     "traceback": [
      "\u001b[0;31m---------------------------------------------------------------------------\u001b[0m",
      "\u001b[0;31mNameError\u001b[0m                                 Traceback (most recent call last)",
      "\u001b[0;32m<ipython-input-1-4929b4dcd7c9>\u001b[0m in \u001b[0;36m<module>\u001b[0;34m\u001b[0m\n\u001b[1;32m      1\u001b[0m \u001b[0mformula\u001b[0m \u001b[0;34m=\u001b[0m \u001b[0;34m'gunlaw ~ age + age2 + educ + educ2 + C(sex)'\u001b[0m\u001b[0;34m\u001b[0m\u001b[0;34m\u001b[0m\u001b[0m\n\u001b[0;32m----> 2\u001b[0;31m \u001b[0mresults\u001b[0m \u001b[0;34m=\u001b[0m \u001b[0msmf\u001b[0m\u001b[0;34m.\u001b[0m\u001b[0mlogit\u001b[0m\u001b[0;34m(\u001b[0m\u001b[0mformula\u001b[0m\u001b[0;34m,\u001b[0m \u001b[0mdata\u001b[0m\u001b[0;34m=\u001b[0m\u001b[0mgss\u001b[0m\u001b[0;34m)\u001b[0m\u001b[0;34m.\u001b[0m\u001b[0mfit\u001b[0m\u001b[0;34m(\u001b[0m\u001b[0;34m)\u001b[0m\u001b[0;34m\u001b[0m\u001b[0;34m\u001b[0m\u001b[0m\n\u001b[0m\u001b[1;32m      3\u001b[0m \u001b[0mresults\u001b[0m\u001b[0;34m.\u001b[0m\u001b[0mtype\u001b[0m\u001b[0;34m(\u001b[0m\u001b[0;34m)\u001b[0m\u001b[0;34m\u001b[0m\u001b[0;34m\u001b[0m\u001b[0m\n",
      "\u001b[0;31mNameError\u001b[0m: name 'smf' is not defined"
     ]
    }
   ],
   "source": [
    "formula = 'gunlaw ~ age + age2 + educ + educ2 + C(sex)'\n",
    "results = smf.logit(formula, data=gss).fit()"
   ]
  },
  {
   "cell_type": "markdown",
   "metadata": {
    "colab_type": "text",
    "id": "SDAJbSmqId6y"
   },
   "source": [
    "Estimating the parameters for the logistic model is an iterative process, so the output contains information about the number of iterations.\n",
    "\n",
    "Other than that, everything is the same as what we have seen before.\n",
    "\n",
    "And here are the results.  "
   ]
  },
  {
   "cell_type": "code",
   "execution_count": 56,
   "metadata": {
    "colab": {
     "base_uri": "https://localhost:8080/",
     "height": 139
    },
    "colab_type": "code",
    "executionInfo": {
     "elapsed": 559,
     "status": "ok",
     "timestamp": 1582777549408,
     "user": {
      "displayName": "Maeve Stites",
      "photoUrl": "https://lh3.googleusercontent.com/a-/AAuE7mCTpLCx642SdWwDWVYliC35_qT41YEhU8YAKFfj=s64",
      "userId": "04581142099517383196"
     },
     "user_tz": 300
    },
    "id": "WZU3Z_5uId6y",
    "outputId": "76d30ea7-3a5b-4954-9c1e-b80f3314b187"
   },
   "outputs": [
    {
     "data": {
      "text/plain": [
       "Intercept      1.653862\n",
       "C(sex)[T.2]    0.757249\n",
       "age           -0.018849\n",
       "age2           0.000189\n",
       "educ          -0.124373\n",
       "educ2          0.006653\n",
       "dtype: float64"
      ]
     },
     "execution_count": 56,
     "metadata": {
      "tags": []
     },
     "output_type": "execute_result"
    }
   ],
   "source": [
    "results.params"
   ]
  },
  {
   "cell_type": "markdown",
   "metadata": {
    "colab_type": "text",
    "id": "ApJQWOKCId60"
   },
   "source": [
    "The parameters are in the form of \"log odds\", which you may or may not be familiar with.  I won't explain them in detail here, except to say that positive values are associated with things that make the outcome more likely; negative values make the outcome less likely.\n",
    "\n",
    "For example, the parameter associated with `sex=2` is 0.75, which indicates that women are more likely to support this form of gun control.  To see how much more likely, we can generate and predict distributions, as we did with linear regression.\n",
    "\n",
    "As an example, I'll generate predictions for different ages and sexes, with education held constant.\n",
    "\n",
    "First we need a DataFrame with `age` and `educ`."
   ]
  },
  {
   "cell_type": "code",
   "execution_count": 2,
   "metadata": {
    "colab": {},
    "colab_type": "code",
    "id": "ni1TnYa0Id60"
   },
   "outputs": [
    {
     "ename": "NameError",
     "evalue": "name 'pd' is not defined",
     "output_type": "error",
     "traceback": [
      "\u001b[0;31m---------------------------------------------------------------------------\u001b[0m",
      "\u001b[0;31mNameError\u001b[0m                                 Traceback (most recent call last)",
      "\u001b[0;32m<ipython-input-2-841b11412768>\u001b[0m in \u001b[0;36m<module>\u001b[0;34m\u001b[0m\n\u001b[0;32m----> 1\u001b[0;31m \u001b[0mdf\u001b[0m \u001b[0;34m=\u001b[0m \u001b[0mpd\u001b[0m\u001b[0;34m.\u001b[0m\u001b[0mDataFrame\u001b[0m\u001b[0;34m(\u001b[0m\u001b[0;34m)\u001b[0m\u001b[0;34m\u001b[0m\u001b[0;34m\u001b[0m\u001b[0m\n\u001b[0m\u001b[1;32m      2\u001b[0m \u001b[0mdf\u001b[0m\u001b[0;34m[\u001b[0m\u001b[0;34m'age'\u001b[0m\u001b[0;34m]\u001b[0m \u001b[0;34m=\u001b[0m \u001b[0mnp\u001b[0m\u001b[0;34m.\u001b[0m\u001b[0mlinspace\u001b[0m\u001b[0;34m(\u001b[0m\u001b[0;36m18\u001b[0m\u001b[0;34m,\u001b[0m \u001b[0;36m89\u001b[0m\u001b[0;34m)\u001b[0m\u001b[0;34m\u001b[0m\u001b[0;34m\u001b[0m\u001b[0m\n\u001b[1;32m      3\u001b[0m \u001b[0mdf\u001b[0m\u001b[0;34m[\u001b[0m\u001b[0;34m'educ'\u001b[0m\u001b[0;34m]\u001b[0m \u001b[0;34m=\u001b[0m \u001b[0;36m12\u001b[0m\u001b[0;34m\u001b[0m\u001b[0;34m\u001b[0m\u001b[0m\n",
      "\u001b[0;31mNameError\u001b[0m: name 'pd' is not defined"
     ]
    }
   ],
   "source": [
    "df = pd.DataFrame()\n",
    "df['age'] = np.linspace(18, 89)\n",
    "df['educ'] = 12"
   ]
  },
  {
   "cell_type": "code",
   "execution_count": null,
   "metadata": {},
   "outputs": [],
   "source": []
  },
  {
   "cell_type": "markdown",
   "metadata": {
    "colab_type": "text",
    "id": "wbn2o60iId62"
   },
   "source": [
    "Then we can compute `age2` and `educ2`."
   ]
  },
  {
   "cell_type": "code",
   "execution_count": null,
   "metadata": {
    "colab": {},
    "colab_type": "code",
    "id": "o-p5gFYmId62"
   },
   "outputs": [],
   "source": [
    "df['age2'] = df['age']**2\n",
    "df['educ2'] = df['educ']**2"
   ]
  },
  {
   "cell_type": "markdown",
   "metadata": {
    "colab_type": "text",
    "id": "_rpJ3h46Id64"
   },
   "source": [
    "We can generate predictions for men like this."
   ]
  },
  {
   "cell_type": "code",
   "execution_count": null,
   "metadata": {
    "colab": {},
    "colab_type": "code",
    "id": "Pko3YAWpId65"
   },
   "outputs": [],
   "source": [
    "df['sex'] = 1\n",
    "pred1 = results.predict(df)"
   ]
  },
  {
   "cell_type": "markdown",
   "metadata": {
    "colab_type": "text",
    "id": "AgZCupskId66"
   },
   "source": [
    "And for women like this."
   ]
  },
  {
   "cell_type": "code",
   "execution_count": null,
   "metadata": {
    "colab": {},
    "colab_type": "code",
    "id": "Fo3bbDt1Id67"
   },
   "outputs": [],
   "source": [
    "df['sex'] = 2\n",
    "pred2 = results.predict(df)"
   ]
  },
  {
   "cell_type": "markdown",
   "metadata": {
    "colab_type": "text",
    "id": "_yAagiNIId69"
   },
   "source": [
    "Now, to visualize the results, I start by plotting the data.  As we've done before, we'll divide the respondents into age groups and compute the mean in each group.  The mean of a binary variable is the fraction of people in favor.\n",
    "\n",
    "Then we can plot the predictions, for men and women, as a function of age."
   ]
  },
  {
   "cell_type": "code",
   "execution_count": 61,
   "metadata": {
    "colab": {
     "base_uri": "https://localhost:8080/",
     "height": 295
    },
    "colab_type": "code",
    "executionInfo": {
     "elapsed": 447,
     "status": "ok",
     "timestamp": 1582777573322,
     "user": {
      "displayName": "Maeve Stites",
      "photoUrl": "https://lh3.googleusercontent.com/a-/AAuE7mCTpLCx642SdWwDWVYliC35_qT41YEhU8YAKFfj=s64",
      "userId": "04581142099517383196"
     },
     "user_tz": 300
    },
    "id": "z00vwPkvId6-",
    "outputId": "5547425f-4e1e-432b-ded3-f521f8e1fc50"
   },
   "outputs": [
    {
     "data": {
      "image/png": "[encoded data removed]",
      "text/plain": [
       "<Figure size 432x288 with 1 Axes>"
      ]
     },
     "metadata": {
      "tags": []
     },
     "output_type": "display_data"
    }
   ],
   "source": [
    "grouped = gss.groupby('age')\n",
    "favor_by_age = grouped['gunlaw'].mean()\n",
    "plt.plot(favor_by_age, 'o', alpha=0.5)\n",
    "\n",
    "plt.plot(df['age'], pred2, label='Female')\n",
    "plt.plot(df['age'], pred1, label='Male')\n",
    "\n",
    "plt.xlabel('Age')\n",
    "plt.ylabel('Probability of favoring gun law')\n",
    "plt.title('Support for gun law versus age, grouped by sex')\n",
    "plt.legend();"
   ]
  },
  {
   "cell_type": "markdown",
   "metadata": {
    "colab_type": "text",
    "id": "0cAmYhb_Id7A"
   },
   "source": [
    "According to the model, people near age 50 are least likely to support gun control (at least as this questions was posed).\n",
    "\n",
    "And women are more likely to support it than men, by almost 15 percentage points.\n",
    "\n",
    "Logistic regression is a powerful tool for exploring relationships between a binary variable and the factors that predict it.\n",
    "\n",
    "In the exercises, you'll explore the factors that predict support for legalizing marijuana."
   ]
  },
  {
   "cell_type": "markdown",
   "metadata": {
    "colab_type": "text",
    "id": "mIkxYSjvId7A"
   },
   "source": [
    "**Exercise:** Let's use logistic regression to predict a binary variable.  Specifically, we'll use age, sex, and education level to predict support for legalizing cannabis (marijuana) in the U.S.\n",
    "\n",
    "In the GSS dataset, the variable `grass` records the answer to the question \"Do you think the use of marijuana should be made legal or not?\"\n",
    "\n",
    "1. First, use `replace` to recode the `grass` column so that `1` means yes and `0` means no.  Use `value_counts` to check.\n",
    "\n",
    "2. Next, use `smf.logit()` to predict `grass` using the variables `age`, `age2`, `educ`, and `educ2`, along with `sex` as a categorical variable.  Display the parameters.  Are men or women more likely to support legalization?\n",
    "\n",
    "3. To generate predictions, start with an empty DataFrame.  Add a column called `age` that contains a sequence of values from 18 to 89.  Add a column called `educ` and set it to 12 years.  Then compute a column, `age2`, which is the square of `age`, and a column, `educ2`, which is the square of `educ`. \n",
    "\n",
    "4. Use `predict` to generate predictions for men (`sex=1`) and women (`sex=2`).\n",
    "\n",
    "5. Generate a plot that shows (1) the average level of support for legalizing marijuana in each age group, (2) the level of support the model predicts for men as a function of age, and (3) the level of support predicted for women as a function of age. "
   ]
  },
  {
   "cell_type": "code",
   "execution_count": 64,
   "metadata": {
    "colab": {
     "base_uri": "https://localhost:8080/",
     "height": 69
    },
    "colab_type": "code",
    "executionInfo": {
     "elapsed": 320,
     "status": "ok",
     "timestamp": 1582777695276,
     "user": {
      "displayName": "Maeve Stites",
      "photoUrl": "https://lh3.googleusercontent.com/a-/AAuE7mCTpLCx642SdWwDWVYliC35_qT41YEhU8YAKFfj=s64",
      "userId": "04581142099517383196"
     },
     "user_tz": 300
    },
    "id": "az9EyvV-5vSQ",
    "outputId": "f475089e-0863-4707-c234-b48857b6246e"
   },
   "outputs": [
    {
     "data": {
      "text/plain": [
       "1.0    30918\n",
       "0.0     9632\n",
       "Name: gunlaw, dtype: int64"
      ]
     },
     "execution_count": 64,
     "metadata": {
      "tags": []
     },
     "output_type": "execute_result"
    }
   ],
   "source": [
    "gss['gunlaw'].value_counts()"
   ]
  },
  {
   "cell_type": "code",
   "execution_count": 65,
   "metadata": {
    "colab": {
     "base_uri": "https://localhost:8080/",
     "height": 69
    },
    "colab_type": "code",
    "executionInfo": {
     "elapsed": 318,
     "status": "ok",
     "timestamp": 1582777699113,
     "user": {
      "displayName": "Maeve Stites",
      "photoUrl": "https://lh3.googleusercontent.com/a-/AAuE7mCTpLCx642SdWwDWVYliC35_qT41YEhU8YAKFfj=s64",
      "userId": "04581142099517383196"
     },
     "user_tz": 300
    },
    "id": "LqdMSKy4Id7B",
    "outputId": "75f472f3-38c3-45fb-9eeb-d9a209e0f2ca"
   },
   "outputs": [
    {
     "data": {
      "text/plain": [
       "1.0    30918\n",
       "0.0     9632\n",
       "Name: gunlaw, dtype: int64"
      ]
     },
     "execution_count": 65,
     "metadata": {
      "tags": []
     },
     "output_type": "execute_result"
    }
   ],
   "source": [
    "gss['grass'].replace([2], [0], inplace=True)\n",
    "gss['gunlaw'].value_counts()"
   ]
  },
  {
   "cell_type": "code",
   "execution_count": 67,
   "metadata": {
    "colab": {
     "base_uri": "https://localhost:8080/",
     "height": 191
    },
    "colab_type": "code",
    "executionInfo": {
     "elapsed": 703,
     "status": "ok",
     "timestamp": 1582777767836,
     "user": {
      "displayName": "Maeve Stites",
      "photoUrl": "https://lh3.googleusercontent.com/a-/AAuE7mCTpLCx642SdWwDWVYliC35_qT41YEhU8YAKFfj=s64",
      "userId": "04581142099517383196"
     },
     "user_tz": 300
    },
    "id": "oN_aUvCAId7D",
    "outputId": "48a19b79-45a4-4267-a878-5c003eae091b"
   },
   "outputs": [
    {
     "name": "stdout",
     "output_type": "stream",
     "text": [
      "Optimization terminated successfully.\n",
      "         Current function value: 0.588510\n",
      "         Iterations 6\n"
     ]
    },
    {
     "data": {
      "text/plain": [
       "Intercept     -1.685223\n",
       "C(sex)[T.2]   -0.384611\n",
       "age           -0.034756\n",
       "age2           0.000192\n",
       "educ           0.221860\n",
       "educ2         -0.004163\n",
       "dtype: float64"
      ]
     },
     "execution_count": 67,
     "metadata": {
      "tags": []
     },
     "output_type": "execute_result"
    }
   ],
   "source": [
    "formula = 'grass ~ age + age2 + educ + educ2 + C(sex)'\n",
    "results = smf.logit(formula, data=gss).fit()\n",
    "results.params"
   ]
  },
  {
   "cell_type": "markdown",
   "metadata": {
    "colab_type": "text",
    "id": "1PV5UHW56Fgv"
   },
   "source": [
    "Women are less likely to support legalization than men."
   ]
  },
  {
   "cell_type": "code",
   "execution_count": null,
   "metadata": {
    "colab": {},
    "colab_type": "code",
    "id": "TGbx_D6_6E7w"
   },
   "outputs": [],
   "source": [
    "df = pd.DataFrame()\n",
    "df['age'] = np.linspace(18, 89)\n",
    "df['educ'] = 12\n",
    "df['age2'] = df['age']**2\n",
    "df['educ2'] = df['educ']**2"
   ]
  },
  {
   "cell_type": "code",
   "execution_count": null,
   "metadata": {
    "colab": {},
    "colab_type": "code",
    "id": "6UpeXmFOId7G"
   },
   "outputs": [],
   "source": [
    "df['sex'] = 1\n",
    "pred1 = results.predict(df)"
   ]
  },
  {
   "cell_type": "code",
   "execution_count": null,
   "metadata": {
    "colab": {},
    "colab_type": "code",
    "id": "lNXpY5iIId7H"
   },
   "outputs": [],
   "source": [
    "df['sex'] = 2\n",
    "pred2 = results.predict(df)"
   ]
  },
  {
   "cell_type": "code",
   "execution_count": 76,
   "metadata": {
    "colab": {
     "base_uri": "https://localhost:8080/",
     "height": 295
    },
    "colab_type": "code",
    "executionInfo": {
     "elapsed": 496,
     "status": "ok",
     "timestamp": 1582778011689,
     "user": {
      "displayName": "Maeve Stites",
      "photoUrl": "https://lh3.googleusercontent.com/a-/AAuE7mCTpLCx642SdWwDWVYliC35_qT41YEhU8YAKFfj=s64",
      "userId": "04581142099517383196"
     },
     "user_tz": 300
    },
    "id": "ccL2bZF4Id7J",
    "outputId": "1cdbe83c-7efd-4166-a30c-79b93fe4e3ee"
   },
   "outputs": [
    {
     "data": {
      "image/png": "[encoded data removed]",
      "text/plain": [
       "<Figure size 432x288 with 1 Axes>"
      ]
     },
     "metadata": {
      "tags": []
     },
     "output_type": "display_data"
    }
   ],
   "source": [
    "grouped = gss.groupby('age')\n",
    "favor_by_age = grouped['grass'].mean()\n",
    "plt.plot(favor_by_age, 'o', alpha=0.5)\n",
    "\n",
    "plt.plot(df['age'], pred2, label='Female')\n",
    "plt.plot(df['age'], pred1, label='Male')\n",
    "\n",
    "plt.xlabel('Age')\n",
    "plt.ylabel('Probability of favoring legalization')\n",
    "plt.title('Support for legilization of marijuana versus age, grouped by sex')\n",
    "plt.legend();"
   ]
  },
  {
   "cell_type": "markdown",
   "metadata": {
    "colab_type": "text",
    "id": "hXcJdMwJId7K"
   },
   "source": [
    "## Summary\n",
    "\n",
    "At this point, I'd like to summarize the topics we've covered so far, and make some connections that might clarify the big picture.\n",
    "\n",
    "A central theme of this course is \"exploratory data analysis\", which is a process and a set of techniques for working with data, especially in the early stages of a project, or when you are working with a new data set.\n",
    "\n",
    "The last four notebooks demonstrate the steps of this process:\n",
    "\n",
    "- Notebook 7 is about importing and cleaning the data, and checking for errors and other special conditions.  This might not be the most exciting part of the process, but if you skip these steps, it can come back to haunt you.  Time spent cleaning and validating data can save you from embarrassing, and sometimes expensive, errors.\n",
    "\n",
    "- Notebook 8 is about exploring variables one at a time, visualizing distributions using PMFs, CDFs, and KDE, and choosing appropriate summary statistics.\n",
    "\n",
    "- In Notebook 9 we explored relationships between variables two at a time, using scatter plots and other visualizations; and we quantified those relationships using correlation and simple regression.\n",
    "\n",
    "- Finally, in Notebook 10, we explored multivariate relationships using multiple regression and logistic regression.\n",
    "\n",
    "From Notebook 7, you might remember that we looked at the distribution of birth weights from the National Survey of Family Growth.\n",
    "\n",
    "If you only remember one thing, remember the 99 pound babies, and how much it can mess up your results if you don't validate the data.\n",
    "\n",
    "In Notebook 8 we looked at the distributions of age, income, and other variables from the General Social Survey.\n",
    "\n",
    "I recommended using CDFs as the best way to explore distributions.\n",
    "\n",
    "But when you present to audiences that are not familiar with CDFs, you can use PMFs if there are a small number of unique values, and KDE if there are a lot.\n",
    "\n",
    "In Notebook 9 we looked at heights and weights from the BRFSS, and developed several ways to visualize relationships between variables, including scatter plots, violin plots, and box plots like this one.\n",
    "\n",
    "We used the coefficient of correlation to quantify the strength of a relationship.  We also used simple regression to estimate slope, which is often what we care more about, not correlation.\n",
    "\n",
    "But remember that both of these methods only capture linear relationships; if the relationship is non-linear, they can be misleading.  Always look at a visualization, like a scatter plot, before computing correlation or simple regression.\n",
    "\n",
    "In Notebook 10 we used multiple regression to add control variables and to describe non-linear relationships.  And finally we used logistic regression to explain and predict binary variables.\n",
    "\n",
    "We moved through a lot of material quickly, but if you practice and apply these methods to other questions and other dataset, you will learn more as you go.\n",
    "\n",
    "Also, I am happy to report that you now have the prerequisites you need to appreciate [this xkcd cartoon](https://xkcd.com/2048/).\n",
    "\n",
    "<img src=\"https://imgs.xkcd.com/comics/curve_fitting_2x.png\" width=\"400\">"
   ]
  },
  {
   "cell_type": "code",
   "execution_count": null,
   "metadata": {
    "colab": {},
    "colab_type": "code",
    "id": "zbc7_KtDId7L"
   },
   "outputs": [],
   "source": []
  }
 ],
 "metadata": {
  "colab": {
   "collapsed_sections": [],
   "machine_shape": "hm",
   "name": "Copy of 10_regression.ipynb",
   "provenance": [
    {
     "file_id": "https://github.com/AllenDowney/ElementsOfDataScience/blob/master/10_regression.ipynb",
     "timestamp": 1582597011778
    }
   ]
  },
  "kernelspec": {
   "display_name": "Python 3",
   "language": "python",
   "name": "python3"
  },
  "language_info": {
   "codemirror_mode": {
    "name": "ipython",
    "version": 3
   },
   "file_extension": ".py",
   "mimetype": "text/x-python",
   "name": "python",
   "nbconvert_exporter": "python",
   "pygments_lexer": "ipython3",
   "version": "3.8.1"
  }
 },
 "nbformat": 4,
 "nbformat_minor": 4
}
